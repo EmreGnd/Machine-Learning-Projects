{
 "cells": [
  {
   "cell_type": "markdown",
   "metadata": {
    "id": "jx3Ut_rjMuHR"
   },
   "source": [
    "___\n",
    "\n",
    "<p style=\"text-align: center;\"><img src=\"https://docs.google.com/uc?id=1lY0Uj5R04yMY3-ZppPWxqCr5pvBLYPnV\" class=\"img-fluid\" alt=\"CLRSWY\"></p>\n",
    "\n",
    "___"
   ]
  },
  {
   "cell_type": "markdown",
   "metadata": {
    "id": "-24P_wByMuHX"
   },
   "source": [
    "# WELCOME!"
   ]
  },
  {
   "cell_type": "markdown",
   "metadata": {
    "id": "Ow9AD-4vMuHX"
   },
   "source": [
    "Welcome to \"***Fraud Detection Project***\". This is the last project of the Capstone Series.\n",
    "\n",
    "One of the challenges in this project is the absence of domain knowledge. So without knowing what the column names are, you will only be interested in their values. The other one is the class frequencies of the target variable are quite imbalanced.\n",
    "\n",
    "You will implement ***Logistic Regression, Random Forest, XGBoost,and Neural Network*** algorithms and ***Unbalanced Data Techniques*** . Also visualize performances of the models using ***Seaborn, Matplotlib*** and ***Yellowbrick*** in a variety of ways.\n",
    "\n",
    "Data drift and model drirft are key consepts about ML and MLOPS, you can monitor and check your data and models with plenty of ways and tools. ***Deepchecks*** is one of them and the leading tool for testing and for validating your machine learning models and data, and it enables doing so with minimal effort. In this project, you will apply ***Data Integrity, Train-Test Validation, and Model Evaluation*** checks.\n",
    "Deepchecks Intruduction : https://youtu.be/7ELdizoi6BU\n",
    "\n",
    "At the end of the project, you will have the opportunity to deploy your model by ***Streamlit API***.\n",
    "\n",
    "Before diving into the project, please take a look at the Determines and Tasks.\n",
    "\n",
    "- ***NOTE:*** *This tutorial assumes that you already know the basics of coding in Python and are familiar with model deployement (Streamlit) as well as the theory behind algorithms*\n",
    "\n"
   ]
  },
  {
   "cell_type": "markdown",
   "metadata": {
    "id": "dqbMkIZ-MuHY"
   },
   "source": [
    "---\n",
    "---\n"
   ]
  },
  {
   "cell_type": "markdown",
   "metadata": {
    "id": "spCFDhO7MuHY"
   },
   "source": [
    "# #Determines\n",
    "The datasets contains transactions made by credit cards in September 2013 by european cardholders. This dataset presents transactions that occurred in two days, where it has **492 frauds** out of **284,807** transactions. The dataset is **highly unbalanced**, the positive class (frauds) account for 0.172% of all transactions.\n",
    "\n",
    "**Feature Information:**\n",
    "\n",
    "**Time**: This feature is contains the seconds elapsed between each transaction and the first transaction in the dataset. \n",
    "\n",
    "**Amount**:  This feature is the transaction Amount, can be used for example-dependant cost-senstive learning. \n",
    "\n",
    "**Class**: This feature is the target variable and it takes value 1 in case of fraud and 0 otherwise.\n",
    "\n",
    "---\n",
    "\n",
    "The aim of this project is to predict whether a credit card transaction is fraudulent. Of course, this is not easy to do.\n",
    "First of all, you need to analyze and recognize your data well in order to draw your roadmap and choose the correct arguments you will use. Accordingly, you can examine the frequency distributions of variables. You can observe variable correlations and want to explore multicollinearity. You can display the distribution of the target variable's classes over other variables. \n",
    "Also, it is useful to take missing values and outliers.\n",
    "\n",
    "After these procedures, you can move on to the model building stage by doing the basic data pre-processing you are familiar with. \n",
    "\n",
    "Start with Logistic Regression and evaluate model performance. You will apply the Unbalanced Data Techniques used to increase the performance. Next, observe their effects.\n",
    "\n",
    "Then, you will use four different algorithms in the model building phase. \n",
    "\n",
    "In the final step, you will deploy your model using ***Streamlit API***. \n",
    "\n",
    "**Optional**: You can Dockerize your project and deploy on cloud."
   ]
  },
  {
   "cell_type": "markdown",
   "metadata": {
    "id": "YOl6z9mXMuHY"
   },
   "source": [
    "---\n",
    "---\n"
   ]
  },
  {
   "cell_type": "markdown",
   "metadata": {
    "id": "1o6X3hLLMuHZ"
   },
   "source": [
    "# #Tasks\n",
    "\n",
    "#### 1. Exploratory Data Analysis & Data Cleaning\n",
    "\n",
    "- Import Modules, Load Data & Data Review\n",
    "- Apply data integrity checks\n",
    "- Exploratory Data Analysis\n",
    "- Data Cleaning\n",
    "    \n",
    "#### 2. Data Preprocessing\n",
    "\n",
    "- Train - Test Split\n",
    "- Train - Test Split Validation Checks\n",
    "- Scaling\n",
    "\n",
    "#### 3. Model Building\n",
    "\n",
    "- Logistic Regression \n",
    "- Random Forest Classifier\n",
    "- XGBoost Classifier\n",
    "- Neural Network\n",
    "- \n",
    "\n",
    "#### 4. Model Deployement\n",
    "\n",
    "- Save and Export the Best Model\n",
    "- Save and Export Variables\n",
    "\n",
    "\n"
   ]
  },
  {
   "cell_type": "markdown",
   "metadata": {
    "id": "9sDSWJywMuHZ"
   },
   "source": [
    "---\n",
    "---\n"
   ]
  },
  {
   "cell_type": "markdown",
   "metadata": {
    "id": "fbFMU3AdMuHZ"
   },
   "source": [
    "## 1. Exploratory Data Analysis & Data Cleaning"
   ]
  },
  {
   "cell_type": "markdown",
   "metadata": {
    "id": "5nmI08_GMuHZ"
   },
   "source": [
    "### Import Modules, Load Data & Data Review"
   ]
  },
  {
   "cell_type": "code",
   "execution_count": 4,
   "metadata": {
    "colab": {
     "base_uri": "https://localhost:8080/"
    },
    "executionInfo": {
     "elapsed": 5945,
     "status": "ok",
     "timestamp": 1668187231775,
     "user": {
      "displayName": "Ahmet Gültekin",
      "userId": "03706301285824263679"
     },
     "user_tz": -180
    },
    "id": "yKZtJybfMuHa",
    "outputId": "88c5e3eb-4b90-41ee-b6fd-9e3b64b4e1d4"
   },
   "outputs": [
    {
     "name": "stdout",
     "output_type": "stream",
     "text": [
      "Looking in indexes: https://pypi.org/simple, https://us-python.pkg.dev/colab-wheels/public/simple/\n",
      "Requirement already satisfied: colorama in /usr/local/lib/python3.7/dist-packages (0.4.6)\n",
      "Looking in indexes: https://pypi.org/simple, https://us-python.pkg.dev/colab-wheels/public/simple/\n",
      "Requirement already satisfied: squarify in /usr/local/lib/python3.7/dist-packages (0.4.3)\n"
     ]
    }
   ],
   "source": [
    "# !pip install missingno\n",
    "# !pip install pyforest\n",
    "# !pip install cufflinks\n",
    "# !pip install termcolor\n",
    "# !pip install wordcloud\n",
    "# !pip install squarify\n",
    "# !pip install pyclustertend\n",
    "# !pip install yellowbrick --user\n",
    "# !pip install matplotlib==3.3.3\n",
    "# !pip install colorama #(for colab)\n",
    "# !pip install squarify\n",
    "# from termcolor import colored"
   ]
  },
  {
   "cell_type": "code",
   "execution_count": 1,
   "metadata": {
    "colab": {
     "base_uri": "https://localhost:8080/",
     "height": 17
    },
    "executionInfo": {
     "elapsed": 2333,
     "status": "ok",
     "timestamp": 1668187208517,
     "user": {
      "displayName": "Ahmet Gültekin",
      "userId": "03706301285824263679"
     },
     "user_tz": -180
    },
    "id": "pWLSkxHeYKJx",
    "outputId": "4e7bb0a4-5f5f-4e84-88c5-82ecbaa413aa"
   },
   "outputs": [
    {
     "data": {
      "text/html": [
       "        <script type=\"text/javascript\">\n",
       "        window.PlotlyConfig = {MathJaxConfig: 'local'};\n",
       "        if (window.MathJax) {MathJax.Hub.Config({SVG: {font: \"STIX-Web\"}});}\n",
       "        if (typeof require !== 'undefined') {\n",
       "        require.undef(\"plotly\");\n",
       "        requirejs.config({\n",
       "            paths: {\n",
       "                'plotly': ['https://cdn.plot.ly/plotly-2.8.3.min']\n",
       "            }\n",
       "        });\n",
       "        require(['plotly'], function(Plotly) {\n",
       "            window._Plotly = Plotly;\n",
       "        });\n",
       "        }\n",
       "        </script>\n",
       "        "
      ]
     },
     "metadata": {},
     "output_type": "display_data"
    }
   ],
   "source": [
    "import numpy as np\n",
    "import pandas as pd\n",
    "import seaborn as sns\n",
    "import matplotlib.pyplot as plt\n",
    "import scipy.stats as stats\n",
    "import matplotlib.pyplot as plt\n",
    "%matplotlib inline\n",
    "import statsmodels.api as sm\n",
    "import statsmodels.formula.api as smf\n",
    "import missingno as msno\n",
    "\n",
    "from sklearn.compose import make_column_transformer\n",
    "\n",
    "# Scaling\n",
    "from sklearn.preprocessing import scale\n",
    "from sklearn.preprocessing import StandardScaler\n",
    "from sklearn.preprocessing import PolynomialFeatures\n",
    "from sklearn.preprocessing import OneHotEncoder\n",
    "from sklearn.preprocessing import PowerTransformer\n",
    "from sklearn.preprocessing import MinMaxScaler\n",
    "from sklearn.preprocessing import RobustScaler\n",
    "\n",
    "# Importing plotly and cufflinks in offline mode\n",
    "import cufflinks as cf\n",
    "import plotly.offline\n",
    "cf.go_offline()\n",
    "cf.set_config_file(offline=False, world_readable=True)\n",
    "\n",
    "# Ignore Warnings\n",
    "import warnings\n",
    "warnings.filterwarnings(\"ignore\")\n",
    "warnings.warn(\"this will not show\")\n",
    "\n",
    "# Figure&Display options\n",
    "plt.rcParams[\"figure.figsize\"] = (10,6)\n",
    "pd.set_option('max_colwidth',200)\n",
    "pd.set_option('display.max_rows', 1000)\n",
    "pd.set_option('display.max_columns', 200)\n",
    "pd.set_option('display.float_format', lambda x: '%.3f' % x)\n",
    "\n",
    "import ipywidgets\n",
    "from ipywidgets import interact\n",
    "\n",
    "# White grid plots for dark mode users\n",
    "sns.set_style(\"whitegrid\")"
   ]
  },
  {
   "cell_type": "code",
   "execution_count": 3,
   "metadata": {
    "colab": {
     "base_uri": "https://localhost:8080/"
    },
    "executionInfo": {
     "elapsed": 48175,
     "status": "ok",
     "timestamp": 1668187096080,
     "user": {
      "displayName": "Ahmet Gültekin",
      "userId": "03706301285824263679"
     },
     "user_tz": -180
    },
    "id": "XrONbWB4YuA0",
    "outputId": "66769238-aa5b-4803-dbf5-f43f4f6d7244"
   },
   "outputs": [
    {
     "name": "stdout",
     "output_type": "stream",
     "text": [
      "Mounted at /content/drive\n"
     ]
    }
   ],
   "source": [
    "from google.colab import drive\n",
    "drive.mount('/content/drive')"
   ]
  },
  {
   "cell_type": "code",
   "execution_count": 2,
   "metadata": {
    "colab": {
     "base_uri": "https://localhost:8080/",
     "height": 270
    },
    "executionInfo": {
     "elapsed": 2826,
     "status": "ok",
     "timestamp": 1668187212105,
     "user": {
      "displayName": "Ahmet Gültekin",
      "userId": "03706301285824263679"
     },
     "user_tz": -180
    },
    "id": "6jTmOjIoYKHd",
    "outputId": "f705d20f-4b4b-4d9f-d0f2-607402028504"
   },
   "outputs": [
    {
     "data": {
      "text/html": [
       "\n",
       "  <div id=\"df-efdc55e2-a27e-4013-8142-c8bd1a6931b4\">\n",
       "    <div class=\"colab-df-container\">\n",
       "      <div>\n",
       "<style scoped>\n",
       "    .dataframe tbody tr th:only-of-type {\n",
       "        vertical-align: middle;\n",
       "    }\n",
       "\n",
       "    .dataframe tbody tr th {\n",
       "        vertical-align: top;\n",
       "    }\n",
       "\n",
       "    .dataframe thead th {\n",
       "        text-align: right;\n",
       "    }\n",
       "</style>\n",
       "<table border=\"1\" class=\"dataframe\">\n",
       "  <thead>\n",
       "    <tr style=\"text-align: right;\">\n",
       "      <th></th>\n",
       "      <th>Time</th>\n",
       "      <th>V1</th>\n",
       "      <th>V2</th>\n",
       "      <th>V3</th>\n",
       "      <th>V4</th>\n",
       "      <th>V5</th>\n",
       "      <th>V6</th>\n",
       "      <th>V7</th>\n",
       "      <th>V8</th>\n",
       "      <th>V9</th>\n",
       "      <th>V10</th>\n",
       "      <th>V11</th>\n",
       "      <th>V12</th>\n",
       "      <th>V13</th>\n",
       "      <th>V14</th>\n",
       "      <th>V15</th>\n",
       "      <th>V16</th>\n",
       "      <th>V17</th>\n",
       "      <th>V18</th>\n",
       "      <th>V19</th>\n",
       "      <th>V20</th>\n",
       "      <th>V21</th>\n",
       "      <th>V22</th>\n",
       "      <th>V23</th>\n",
       "      <th>V24</th>\n",
       "      <th>V25</th>\n",
       "      <th>V26</th>\n",
       "      <th>V27</th>\n",
       "      <th>V28</th>\n",
       "      <th>Amount</th>\n",
       "      <th>Class</th>\n",
       "    </tr>\n",
       "  </thead>\n",
       "  <tbody>\n",
       "    <tr>\n",
       "      <th>0</th>\n",
       "      <td>0.000</td>\n",
       "      <td>-1.360</td>\n",
       "      <td>-0.073</td>\n",
       "      <td>2.536</td>\n",
       "      <td>1.378</td>\n",
       "      <td>-0.338</td>\n",
       "      <td>0.462</td>\n",
       "      <td>0.240</td>\n",
       "      <td>0.099</td>\n",
       "      <td>0.364</td>\n",
       "      <td>0.091</td>\n",
       "      <td>-0.552</td>\n",
       "      <td>-0.618</td>\n",
       "      <td>-0.991</td>\n",
       "      <td>-0.311</td>\n",
       "      <td>1.468</td>\n",
       "      <td>-0.470</td>\n",
       "      <td>0.208</td>\n",
       "      <td>0.026</td>\n",
       "      <td>0.404</td>\n",
       "      <td>0.251</td>\n",
       "      <td>-0.018</td>\n",
       "      <td>0.278</td>\n",
       "      <td>-0.110</td>\n",
       "      <td>0.067</td>\n",
       "      <td>0.129</td>\n",
       "      <td>-0.189</td>\n",
       "      <td>0.134</td>\n",
       "      <td>-0.021</td>\n",
       "      <td>149.620</td>\n",
       "      <td>0</td>\n",
       "    </tr>\n",
       "    <tr>\n",
       "      <th>1</th>\n",
       "      <td>0.000</td>\n",
       "      <td>1.192</td>\n",
       "      <td>0.266</td>\n",
       "      <td>0.166</td>\n",
       "      <td>0.448</td>\n",
       "      <td>0.060</td>\n",
       "      <td>-0.082</td>\n",
       "      <td>-0.079</td>\n",
       "      <td>0.085</td>\n",
       "      <td>-0.255</td>\n",
       "      <td>-0.167</td>\n",
       "      <td>1.613</td>\n",
       "      <td>1.065</td>\n",
       "      <td>0.489</td>\n",
       "      <td>-0.144</td>\n",
       "      <td>0.636</td>\n",
       "      <td>0.464</td>\n",
       "      <td>-0.115</td>\n",
       "      <td>-0.183</td>\n",
       "      <td>-0.146</td>\n",
       "      <td>-0.069</td>\n",
       "      <td>-0.226</td>\n",
       "      <td>-0.639</td>\n",
       "      <td>0.101</td>\n",
       "      <td>-0.340</td>\n",
       "      <td>0.167</td>\n",
       "      <td>0.126</td>\n",
       "      <td>-0.009</td>\n",
       "      <td>0.015</td>\n",
       "      <td>2.690</td>\n",
       "      <td>0</td>\n",
       "    </tr>\n",
       "    <tr>\n",
       "      <th>2</th>\n",
       "      <td>1.000</td>\n",
       "      <td>-1.358</td>\n",
       "      <td>-1.340</td>\n",
       "      <td>1.773</td>\n",
       "      <td>0.380</td>\n",
       "      <td>-0.503</td>\n",
       "      <td>1.800</td>\n",
       "      <td>0.791</td>\n",
       "      <td>0.248</td>\n",
       "      <td>-1.515</td>\n",
       "      <td>0.208</td>\n",
       "      <td>0.625</td>\n",
       "      <td>0.066</td>\n",
       "      <td>0.717</td>\n",
       "      <td>-0.166</td>\n",
       "      <td>2.346</td>\n",
       "      <td>-2.890</td>\n",
       "      <td>1.110</td>\n",
       "      <td>-0.121</td>\n",
       "      <td>-2.262</td>\n",
       "      <td>0.525</td>\n",
       "      <td>0.248</td>\n",
       "      <td>0.772</td>\n",
       "      <td>0.909</td>\n",
       "      <td>-0.689</td>\n",
       "      <td>-0.328</td>\n",
       "      <td>-0.139</td>\n",
       "      <td>-0.055</td>\n",
       "      <td>-0.060</td>\n",
       "      <td>378.660</td>\n",
       "      <td>0</td>\n",
       "    </tr>\n",
       "    <tr>\n",
       "      <th>3</th>\n",
       "      <td>1.000</td>\n",
       "      <td>-0.966</td>\n",
       "      <td>-0.185</td>\n",
       "      <td>1.793</td>\n",
       "      <td>-0.863</td>\n",
       "      <td>-0.010</td>\n",
       "      <td>1.247</td>\n",
       "      <td>0.238</td>\n",
       "      <td>0.377</td>\n",
       "      <td>-1.387</td>\n",
       "      <td>-0.055</td>\n",
       "      <td>-0.226</td>\n",
       "      <td>0.178</td>\n",
       "      <td>0.508</td>\n",
       "      <td>-0.288</td>\n",
       "      <td>-0.631</td>\n",
       "      <td>-1.060</td>\n",
       "      <td>-0.684</td>\n",
       "      <td>1.966</td>\n",
       "      <td>-1.233</td>\n",
       "      <td>-0.208</td>\n",
       "      <td>-0.108</td>\n",
       "      <td>0.005</td>\n",
       "      <td>-0.190</td>\n",
       "      <td>-1.176</td>\n",
       "      <td>0.647</td>\n",
       "      <td>-0.222</td>\n",
       "      <td>0.063</td>\n",
       "      <td>0.061</td>\n",
       "      <td>123.500</td>\n",
       "      <td>0</td>\n",
       "    </tr>\n",
       "    <tr>\n",
       "      <th>4</th>\n",
       "      <td>2.000</td>\n",
       "      <td>-1.158</td>\n",
       "      <td>0.878</td>\n",
       "      <td>1.549</td>\n",
       "      <td>0.403</td>\n",
       "      <td>-0.407</td>\n",
       "      <td>0.096</td>\n",
       "      <td>0.593</td>\n",
       "      <td>-0.271</td>\n",
       "      <td>0.818</td>\n",
       "      <td>0.753</td>\n",
       "      <td>-0.823</td>\n",
       "      <td>0.538</td>\n",
       "      <td>1.346</td>\n",
       "      <td>-1.120</td>\n",
       "      <td>0.175</td>\n",
       "      <td>-0.451</td>\n",
       "      <td>-0.237</td>\n",
       "      <td>-0.038</td>\n",
       "      <td>0.803</td>\n",
       "      <td>0.409</td>\n",
       "      <td>-0.009</td>\n",
       "      <td>0.798</td>\n",
       "      <td>-0.137</td>\n",
       "      <td>0.141</td>\n",
       "      <td>-0.206</td>\n",
       "      <td>0.502</td>\n",
       "      <td>0.219</td>\n",
       "      <td>0.215</td>\n",
       "      <td>69.990</td>\n",
       "      <td>0</td>\n",
       "    </tr>\n",
       "  </tbody>\n",
       "</table>\n",
       "</div>\n",
       "      <button class=\"colab-df-convert\" onclick=\"convertToInteractive('df-efdc55e2-a27e-4013-8142-c8bd1a6931b4')\"\n",
       "              title=\"Convert this dataframe to an interactive table.\"\n",
       "              style=\"display:none;\">\n",
       "        \n",
       "  <svg xmlns=\"http://www.w3.org/2000/svg\" height=\"24px\"viewBox=\"0 0 24 24\"\n",
       "       width=\"24px\">\n",
       "    <path d=\"M0 0h24v24H0V0z\" fill=\"none\"/>\n",
       "    <path d=\"M18.56 5.44l.94 2.06.94-2.06 2.06-.94-2.06-.94-.94-2.06-.94 2.06-2.06.94zm-11 1L8.5 8.5l.94-2.06 2.06-.94-2.06-.94L8.5 2.5l-.94 2.06-2.06.94zm10 10l.94 2.06.94-2.06 2.06-.94-2.06-.94-.94-2.06-.94 2.06-2.06.94z\"/><path d=\"M17.41 7.96l-1.37-1.37c-.4-.4-.92-.59-1.43-.59-.52 0-1.04.2-1.43.59L10.3 9.45l-7.72 7.72c-.78.78-.78 2.05 0 2.83L4 21.41c.39.39.9.59 1.41.59.51 0 1.02-.2 1.41-.59l7.78-7.78 2.81-2.81c.8-.78.8-2.07 0-2.86zM5.41 20L4 18.59l7.72-7.72 1.47 1.35L5.41 20z\"/>\n",
       "  </svg>\n",
       "      </button>\n",
       "      \n",
       "  <style>\n",
       "    .colab-df-container {\n",
       "      display:flex;\n",
       "      flex-wrap:wrap;\n",
       "      gap: 12px;\n",
       "    }\n",
       "\n",
       "    .colab-df-convert {\n",
       "      background-color: #E8F0FE;\n",
       "      border: none;\n",
       "      border-radius: 50%;\n",
       "      cursor: pointer;\n",
       "      display: none;\n",
       "      fill: #1967D2;\n",
       "      height: 32px;\n",
       "      padding: 0 0 0 0;\n",
       "      width: 32px;\n",
       "    }\n",
       "\n",
       "    .colab-df-convert:hover {\n",
       "      background-color: #E2EBFA;\n",
       "      box-shadow: 0px 1px 2px rgba(60, 64, 67, 0.3), 0px 1px 3px 1px rgba(60, 64, 67, 0.15);\n",
       "      fill: #174EA6;\n",
       "    }\n",
       "\n",
       "    [theme=dark] .colab-df-convert {\n",
       "      background-color: #3B4455;\n",
       "      fill: #D2E3FC;\n",
       "    }\n",
       "\n",
       "    [theme=dark] .colab-df-convert:hover {\n",
       "      background-color: #434B5C;\n",
       "      box-shadow: 0px 1px 3px 1px rgba(0, 0, 0, 0.15);\n",
       "      filter: drop-shadow(0px 1px 2px rgba(0, 0, 0, 0.3));\n",
       "      fill: #FFFFFF;\n",
       "    }\n",
       "  </style>\n",
       "\n",
       "      <script>\n",
       "        const buttonEl =\n",
       "          document.querySelector('#df-efdc55e2-a27e-4013-8142-c8bd1a6931b4 button.colab-df-convert');\n",
       "        buttonEl.style.display =\n",
       "          google.colab.kernel.accessAllowed ? 'block' : 'none';\n",
       "\n",
       "        async function convertToInteractive(key) {\n",
       "          const element = document.querySelector('#df-efdc55e2-a27e-4013-8142-c8bd1a6931b4');\n",
       "          const dataTable =\n",
       "            await google.colab.kernel.invokeFunction('convertToInteractive',\n",
       "                                                     [key], {});\n",
       "          if (!dataTable) return;\n",
       "\n",
       "          const docLinkHtml = 'Like what you see? Visit the ' +\n",
       "            '<a target=\"_blank\" href=https://colab.research.google.com/notebooks/data_table.ipynb>data table notebook</a>'\n",
       "            + ' to learn more about interactive tables.';\n",
       "          element.innerHTML = '';\n",
       "          dataTable['output_type'] = 'display_data';\n",
       "          await google.colab.output.renderOutput(dataTable, element);\n",
       "          const docLink = document.createElement('div');\n",
       "          docLink.innerHTML = docLinkHtml;\n",
       "          element.appendChild(docLink);\n",
       "        }\n",
       "      </script>\n",
       "    </div>\n",
       "  </div>\n",
       "  "
      ],
      "text/plain": [
       "   Time     V1     V2    V3     V4     V5     V6     V7     V8     V9    V10  \\\n",
       "0 0.000 -1.360 -0.073 2.536  1.378 -0.338  0.462  0.240  0.099  0.364  0.091   \n",
       "1 0.000  1.192  0.266 0.166  0.448  0.060 -0.082 -0.079  0.085 -0.255 -0.167   \n",
       "2 1.000 -1.358 -1.340 1.773  0.380 -0.503  1.800  0.791  0.248 -1.515  0.208   \n",
       "3 1.000 -0.966 -0.185 1.793 -0.863 -0.010  1.247  0.238  0.377 -1.387 -0.055   \n",
       "4 2.000 -1.158  0.878 1.549  0.403 -0.407  0.096  0.593 -0.271  0.818  0.753   \n",
       "\n",
       "     V11    V12    V13    V14    V15    V16    V17    V18    V19    V20  \\\n",
       "0 -0.552 -0.618 -0.991 -0.311  1.468 -0.470  0.208  0.026  0.404  0.251   \n",
       "1  1.613  1.065  0.489 -0.144  0.636  0.464 -0.115 -0.183 -0.146 -0.069   \n",
       "2  0.625  0.066  0.717 -0.166  2.346 -2.890  1.110 -0.121 -2.262  0.525   \n",
       "3 -0.226  0.178  0.508 -0.288 -0.631 -1.060 -0.684  1.966 -1.233 -0.208   \n",
       "4 -0.823  0.538  1.346 -1.120  0.175 -0.451 -0.237 -0.038  0.803  0.409   \n",
       "\n",
       "     V21    V22    V23    V24    V25    V26    V27    V28  Amount  Class  \n",
       "0 -0.018  0.278 -0.110  0.067  0.129 -0.189  0.134 -0.021 149.620      0  \n",
       "1 -0.226 -0.639  0.101 -0.340  0.167  0.126 -0.009  0.015   2.690      0  \n",
       "2  0.248  0.772  0.909 -0.689 -0.328 -0.139 -0.055 -0.060 378.660      0  \n",
       "3 -0.108  0.005 -0.190 -1.176  0.647 -0.222  0.063  0.061 123.500      0  \n",
       "4 -0.009  0.798 -0.137  0.141 -0.206  0.502  0.219  0.215  69.990      0  "
      ]
     },
     "execution_count": 2,
     "metadata": {},
     "output_type": "execute_result"
    }
   ],
   "source": [
    "df = pd.read_csv(\"/content/drive/MyDrive/Notebooks/Capstone_Projects/Capstone_3_Fraud_Detection/creditcard.csv\")\n",
    "df1 = df.copy()\n",
    "df.head()"
   ]
  },
  {
   "cell_type": "code",
   "execution_count": 2,
   "metadata": {
    "executionInfo": {
     "elapsed": 3,
     "status": "ok",
     "timestamp": 1668187213588,
     "user": {
      "displayName": "Ahmet Gültekin",
      "userId": "03706301285824263679"
     },
     "user_tz": -180
    },
    "id": "BH5U5-A3YKCw"
   },
   "outputs": [],
   "source": []
  },
  {
   "cell_type": "code",
   "execution_count": 2,
   "metadata": {
    "executionInfo": {
     "elapsed": 3,
     "status": "ok",
     "timestamp": 1668187214427,
     "user": {
      "displayName": "Ahmet Gültekin",
      "userId": "03706301285824263679"
     },
     "user_tz": -180
    },
    "id": "WIy7hPWxYKAT"
   },
   "outputs": [],
   "source": []
  },
  {
   "cell_type": "markdown",
   "metadata": {
    "id": "-iy4dwCdp4BJ"
   },
   "source": [
    "## Apply Data Integrity Checks\n",
    "* link: https://docs.deepchecks.com/stable/user-guide/tabular/auto_quickstarts/plot_quick_data_integrity.html"
   ]
  },
  {
   "cell_type": "code",
   "execution_count": 3,
   "metadata": {
    "executionInfo": {
     "elapsed": 4381,
     "status": "ok",
     "timestamp": 1668187219409,
     "user": {
      "displayName": "Ahmet Gültekin",
      "userId": "03706301285824263679"
     },
     "user_tz": -180
    },
    "id": "BuHZl_AlqF30"
   },
   "outputs": [],
   "source": [
    "import sys\n",
    "!{sys.executable} -m pip install deepchecks -U --quiet"
   ]
  },
  {
   "cell_type": "code",
   "execution_count": 5,
   "metadata": {
    "executionInfo": {
     "elapsed": 2390,
     "status": "ok",
     "timestamp": 1668187265991,
     "user": {
      "displayName": "Ahmet Gültekin",
      "userId": "03706301285824263679"
     },
     "user_tz": -180
    },
    "id": "7b8vZ4D1ccBt"
   },
   "outputs": [],
   "source": [
    "from deepchecks.tabular.checks import IsSingleValue, DataDuplicates"
   ]
  },
  {
   "cell_type": "code",
   "execution_count": 6,
   "metadata": {
    "executionInfo": {
     "elapsed": 4,
     "status": "ok",
     "timestamp": 1668187265992,
     "user": {
      "displayName": "Ahmet Gültekin",
      "userId": "03706301285824263679"
     },
     "user_tz": -180
    },
    "id": "OGjK_pXLZpWu"
   },
   "outputs": [],
   "source": [
    "from deepchecks.tabular.suites import data_integrity"
   ]
  },
  {
   "cell_type": "code",
   "execution_count": 7,
   "metadata": {
    "colab": {
     "base_uri": "https://localhost:8080/",
     "height": 578,
     "resources": {
      "http://localhost:8080/jupyterlab-plotly.js": {
       "data": "CjwhRE9DVFlQRSBodG1sPgo8aHRtbCBsYW5nPWVuPgogIDxtZXRhIGNoYXJzZXQ9dXRmLTg+CiAgPG1ldGEgbmFtZT12aWV3cG9ydCBjb250ZW50PSJpbml0aWFsLXNjYWxlPTEsIG1pbmltdW0tc2NhbGU9MSwgd2lkdGg9ZGV2aWNlLXdpZHRoIj4KICA8dGl0bGU+RXJyb3IgNDA0IChOb3QgRm91bmQpISExPC90aXRsZT4KICA8c3R5bGU+CiAgICAqe21hcmdpbjowO3BhZGRpbmc6MH1odG1sLGNvZGV7Zm9udDoxNXB4LzIycHggYXJpYWwsc2Fucy1zZXJpZn1odG1se2JhY2tncm91bmQ6I2ZmZjtjb2xvcjojMjIyO3BhZGRpbmc6MTVweH1ib2R5e21hcmdpbjo3JSBhdXRvIDA7bWF4LXdpZHRoOjM5MHB4O21pbi1oZWlnaHQ6MTgwcHg7cGFkZGluZzozMHB4IDAgMTVweH0qID4gYm9keXtiYWNrZ3JvdW5kOnVybCgvL3d3dy5nb29nbGUuY29tL2ltYWdlcy9lcnJvcnMvcm9ib3QucG5nKSAxMDAlIDVweCBuby1yZXBlYXQ7cGFkZGluZy1yaWdodDoyMDVweH1we21hcmdpbjoxMXB4IDAgMjJweDtvdmVyZmxvdzpoaWRkZW59aW5ze2NvbG9yOiM3Nzc7dGV4dC1kZWNvcmF0aW9uOm5vbmV9YSBpbWd7Ym9yZGVyOjB9QG1lZGlhIHNjcmVlbiBhbmQgKG1heC13aWR0aDo3NzJweCl7Ym9keXtiYWNrZ3JvdW5kOm5vbmU7bWFyZ2luLXRvcDowO21heC13aWR0aDpub25lO3BhZGRpbmctcmlnaHQ6MH19I2xvZ297YmFja2dyb3VuZDp1cmwoLy93d3cuZ29vZ2xlLmNvbS9pbWFnZXMvbG9nb3MvZXJyb3JwYWdlL2Vycm9yX2xvZ28tMTUweDU0LnBuZykgbm8tcmVwZWF0O21hcmdpbi1sZWZ0Oi01cHh9QG1lZGlhIG9ubHkgc2NyZWVuIGFuZCAobWluLXJlc29sdXRpb246MTkyZHBpKXsjbG9nb3tiYWNrZ3JvdW5kOnVybCgvL3d3dy5nb29nbGUuY29tL2ltYWdlcy9sb2dvcy9lcnJvcnBhZ2UvZXJyb3JfbG9nby0xNTB4NTQtMngucG5nKSBuby1yZXBlYXQgMCUgMCUvMTAwJSAxMDAlOy1tb3otYm9yZGVyLWltYWdlOnVybCgvL3d3dy5nb29nbGUuY29tL2ltYWdlcy9sb2dvcy9lcnJvcnBhZ2UvZXJyb3JfbG9nby0xNTB4NTQtMngucG5nKSAwfX1AbWVkaWEgb25seSBzY3JlZW4gYW5kICgtd2Via2l0LW1pbi1kZXZpY2UtcGl4ZWwtcmF0aW86Mil7I2xvZ297YmFja2dyb3VuZDp1cmwoLy93d3cuZ29vZ2xlLmNvbS9pbWFnZXMvbG9nb3MvZXJyb3JwYWdlL2Vycm9yX2xvZ28tMTUweDU0LTJ4LnBuZykgbm8tcmVwZWF0Oy13ZWJraXQtYmFja2dyb3VuZC1zaXplOjEwMCUgMTAwJX19I2xvZ297ZGlzcGxheTppbmxpbmUtYmxvY2s7aGVpZ2h0OjU0cHg7d2lkdGg6MTUwcHh9CiAgPC9zdHlsZT4KICA8YSBocmVmPS8vd3d3Lmdvb2dsZS5jb20vPjxzcGFuIGlkPWxvZ28gYXJpYS1sYWJlbD1Hb29nbGU+PC9zcGFuPjwvYT4KICA8cD48Yj40MDQuPC9iPiA8aW5zPlRoYXTigJlzIGFuIGVycm9yLjwvaW5zPgogIDxwPiAgPGlucz5UaGF04oCZcyBhbGwgd2Uga25vdy48L2lucz4K",
       "headers": [
        [
         "content-length",
         "1449"
        ],
        [
         "content-type",
         "text/html; charset=utf-8"
        ]
       ],
       "ok": false,
       "status": 404,
       "status_text": ""
      }
     }
    },
    "executionInfo": {
     "elapsed": 16926,
     "status": "ok",
     "timestamp": 1668187285136,
     "user": {
      "displayName": "Ahmet Gültekin",
      "userId": "03706301285824263679"
     },
     "user_tz": -180
    },
    "id": "-968pAQUZpST",
    "outputId": "68d53621-d3bc-4855-ca12-edb4b8b80615"
   },
   "outputs": [
    {
     "name": "stderr",
     "output_type": "stream",
     "text": [
      "deepchecks - WARNING - Received a \"pandas.DataFrame\" instance. It is recommended to pass a \"deepchecks.tabular.Dataset\" instance by initializing it with the data and metadata, for example by doing \"Dataset(dataframe, label=label, cat_features=cat_features)\"\n",
      "WARNING:deepchecks:Received a \"pandas.DataFrame\" instance. It is recommended to pass a \"deepchecks.tabular.Dataset\" instance by initializing it with the data and metadata, for example by doing \"Dataset(dataframe, label=label, cat_features=cat_features)\"\n",
      "deepchecks - WARNING - It is recommended to initialize Dataset with categorical features by doing \"Dataset(df, cat_features=categorical_list)\". No categorical features were passed, therefore heuristically inferring categorical features in the data. 1 categorical features were inferred.: Class\n",
      "WARNING:deepchecks:It is recommended to initialize Dataset with categorical features by doing \"Dataset(df, cat_features=categorical_list)\". No categorical features were passed, therefore heuristically inferring categorical features in the data. 1 categorical features were inferred.: Class\n"
     ]
    },
    {
     "data": {
      "text/html": [
       "\n",
       "    <style>\n",
       "        progress {\n",
       "            -webkit-appearance: none;\n",
       "            border: none;\n",
       "            border-radius: 3px;\n",
       "            width: 300px;\n",
       "            height: 20px;\n",
       "            vertical-align: middle;\n",
       "            margin-right: 10px;\n",
       "            background-color: aliceblue;\n",
       "        }\n",
       "        progress::-webkit-progress-bar {\n",
       "            border-radius: 3px;\n",
       "            background-color: aliceblue;\n",
       "        }\n",
       "        progress::-webkit-progress-value {\n",
       "            background-color: #9d60fb;\n",
       "        }\n",
       "        progress::-moz-progress-bar {\n",
       "            background-color: #9d60fb;\n",
       "        }\n",
       "    </style>\n",
       "    "
      ]
     },
     "metadata": {},
     "output_type": "display_data"
    },
    {
     "data": {
      "text/html": []
     },
     "metadata": {},
     "output_type": "display_data"
    },
    {
     "data": {
      "text/html": [
       "<!--\n",
       "    ~ ----------------------------------------------------------------------------\n",
       "    ~ Copyright (C) 2021-2022 Deepchecks (https://www.deepchecks.com)\n",
       "    ~\n",
       "    ~ This file is part of Deepchecks.\n",
       "    ~ Deepchecks is distributed under the terms of the GNU Affero General\n",
       "    ~ Public License (version 3 or later).\n",
       "    ~ You should have received a copy of the GNU Affero General Public License\n",
       "    ~ along with Deepchecks.  If not, see <http://www.gnu.org/licenses/>.\n",
       "    ~ ----------------------------------------------------------------------------\n",
       "    ~\n",
       "-->\n",
       "<!DOCTYPE html>\n",
       "<html lang=\"en\">\n",
       "<head>\n",
       "    <meta charset=\"UTF-8\">\n",
       "    <title>Data Integrity Suite</title>\n",
       "    <link rel=\"icon\" type=\"image/x-icon\" href=\"https://deepchecks.com/wp-content/themes/deepchecks/assets/favicons/favicon.ico\">\n",
       "    <style>\n",
       "        body {\n",
       "            font-family: -apple-system, BlinkMacSystemFont, 'Segoe UI', Helvetica, Arial, sans-serif, 'Apple Color Emoji', 'Segoe UI Emoji', 'Segoe UI Symbol';\n",
       "            font-size: 1rem;\n",
       "            line-height: 1.5;\n",
       "            color: #212529;\n",
       "            text-align: left;\n",
       "            max-width: 1200px;\n",
       "            margin: auto;\n",
       "            background-color: white;\n",
       "        }\n",
       "\n",
       "        div.nbinput.container div.prompt *,\n",
       "        div.nboutput.container div.prompt *,\n",
       "        div.nbinput.container div.input_area pre,\n",
       "        div.nboutput.container div.output_area pre,\n",
       "        div.nbinput.container div.input_area .highlight,\n",
       "        div.nboutput.container div.output_area .highlight {\n",
       "            border: none;\n",
       "            padding: 0;\n",
       "            margin: 0;\n",
       "            box-shadow: none;\n",
       "        }\n",
       "\n",
       "        div.nbinput.container > div[class*=highlight],\n",
       "        div.nboutput.container > div[class*=highlight] {\n",
       "            margin: 0;\n",
       "        }\n",
       "\n",
       "        div.nbinput.container div.prompt *,\n",
       "        div.nboutput.container div.prompt * {\n",
       "            background: none;\n",
       "        }\n",
       "\n",
       "        div.nboutput.container div.output_area .highlight,\n",
       "        div.nboutput.container div.output_area pre {\n",
       "            background: unset;\n",
       "        }\n",
       "\n",
       "        div.nboutput.container div.output_area div.highlight {\n",
       "            color: unset;  /* override Pygments text color */\n",
       "        }\n",
       "\n",
       "        /* avoid gaps between output lines */\n",
       "        div.nboutput.container div[class*=highlight] pre {\n",
       "            line-height: normal;\n",
       "        }\n",
       "\n",
       "        /* input/output containers */\n",
       "        div.nbinput.container,\n",
       "        div.nboutput.container {\n",
       "            display: -webkit-flex;\n",
       "            display: flex;\n",
       "            align-items: flex-start;\n",
       "            margin: 0;\n",
       "            width: 100%;\n",
       "        }\n",
       "        @media (max-width: 540px) {\n",
       "            div.nbinput.container,\n",
       "            div.nboutput.container {\n",
       "                flex-direction: column;\n",
       "            }\n",
       "        }\n",
       "\n",
       "        /* input container */\n",
       "        div.nbinput.container {\n",
       "            padding-top: 5px;\n",
       "        }\n",
       "\n",
       "        /* last container */\n",
       "        div.nblast.container {\n",
       "            padding-bottom: 5px;\n",
       "        }\n",
       "\n",
       "        /* input prompt */\n",
       "        div.nbinput.container div.prompt pre {\n",
       "            color: #307FC1;\n",
       "        }\n",
       "\n",
       "        /* output prompt */\n",
       "        div.nboutput.container div.prompt pre {\n",
       "            color: #BF5B3D;\n",
       "        }\n",
       "\n",
       "        /* all prompts */\n",
       "        div.nbinput.container div.prompt,\n",
       "        div.nboutput.container div.prompt {\n",
       "            width: 4.5ex;\n",
       "            padding-top: 5px;\n",
       "            position: relative;\n",
       "            user-select: none;\n",
       "        }\n",
       "\n",
       "        div.nbinput.container div.prompt > div,\n",
       "        div.nboutput.container div.prompt > div {\n",
       "            position: absolute;\n",
       "            right: 0;\n",
       "            margin-right: 0.3ex;\n",
       "        }\n",
       "\n",
       "        @media (max-width: 540px) {\n",
       "            div.nbinput.container div.prompt,\n",
       "            div.nboutput.container div.prompt {\n",
       "                width: unset;\n",
       "                text-align: left;\n",
       "                padding: 0.4em;\n",
       "            }\n",
       "            div.nboutput.container div.prompt.empty {\n",
       "                padding: 0;\n",
       "            }\n",
       "\n",
       "            div.nbinput.container div.prompt > div,\n",
       "            div.nboutput.container div.prompt > div {\n",
       "                position: unset;\n",
       "            }\n",
       "        }\n",
       "\n",
       "        /* disable scrollbars on prompts */\n",
       "        div.nbinput.container div.prompt pre,\n",
       "        div.nboutput.container div.prompt pre {\n",
       "            overflow: hidden;\n",
       "        }\n",
       "\n",
       "        /* input/output area */\n",
       "        div.nbinput.container div.input_area,\n",
       "        div.nboutput.container div.output_area {\n",
       "            -webkit-flex: 1;\n",
       "            flex: 1;\n",
       "            overflow: auto;\n",
       "        }\n",
       "        @media (max-width: 540px) {\n",
       "            div.nbinput.container div.input_area,\n",
       "            div.nboutput.container div.output_area {\n",
       "                width: 100%;\n",
       "            }\n",
       "        }\n",
       "\n",
       "        /* input area */\n",
       "        div.nbinput.container div.input_area {\n",
       "            border: 1px solid #e0e0e0;\n",
       "            border-radius: 2px;\n",
       "            /*background: #f5f5f5;*/\n",
       "        }\n",
       "\n",
       "        /* override MathJax center alignment in output cells */\n",
       "        div.nboutput.container div[class*=MathJax] {\n",
       "            text-align: left !important;\n",
       "        }\n",
       "\n",
       "        /* override sphinx.ext.imgmath center alignment in output cells */\n",
       "        div.nboutput.container div.math p {\n",
       "            text-align: left;\n",
       "        }\n",
       "\n",
       "        /* standard error */\n",
       "        div.nboutput.container div.output_area.stderr {\n",
       "            background: #fdd;\n",
       "        }\n",
       "\n",
       "        /* ANSI colors */\n",
       "        .ansi-black-fg { color: #3E424D; }\n",
       "        .ansi-black-bg { background-color: #3E424D; }\n",
       "        .ansi-black-intense-fg { color: #282C36; }\n",
       "        .ansi-black-intense-bg { background-color: #282C36; }\n",
       "        .ansi-red-fg { color: #E75C58; }\n",
       "        .ansi-red-bg { background-color: #E75C58; }\n",
       "        .ansi-red-intense-fg { color: #B22B31; }\n",
       "        .ansi-red-intense-bg { background-color: #B22B31; }\n",
       "        .ansi-green-fg { color: #00A250; }\n",
       "        .ansi-green-bg { background-color: #00A250; }\n",
       "        .ansi-green-intense-fg { color: #007427; }\n",
       "        .ansi-green-intense-bg { background-color: #007427; }\n",
       "        .ansi-yellow-fg { color: #DDB62B; }\n",
       "        .ansi-yellow-bg { background-color: #DDB62B; }\n",
       "        .ansi-yellow-intense-fg { color: #B27D12; }\n",
       "        .ansi-yellow-intense-bg { background-color: #B27D12; }\n",
       "        .ansi-blue-fg { color: #208FFB; }\n",
       "        .ansi-blue-bg { background-color: #208FFB; }\n",
       "        .ansi-blue-intense-fg { color: #0065CA; }\n",
       "        .ansi-blue-intense-bg { background-color: #0065CA; }\n",
       "        .ansi-magenta-fg { color: #D160C4; }\n",
       "        .ansi-magenta-bg { background-color: #D160C4; }\n",
       "        .ansi-magenta-intense-fg { color: #A03196; }\n",
       "        .ansi-magenta-intense-bg { background-color: #A03196; }\n",
       "        .ansi-cyan-fg { color: #60C6C8; }\n",
       "        .ansi-cyan-bg { background-color: #60C6C8; }\n",
       "        .ansi-cyan-intense-fg { color: #258F8F; }\n",
       "        .ansi-cyan-intense-bg { background-color: #258F8F; }\n",
       "        .ansi-white-fg { color: #C5C1B4; }\n",
       "        .ansi-white-bg { background-color: #C5C1B4; }\n",
       "        .ansi-white-intense-fg { color: #A1A6B2; }\n",
       "        .ansi-white-intense-bg { background-color: #A1A6B2; }\n",
       "\n",
       "        .ansi-default-inverse-fg { color: #FFFFFF; }\n",
       "        .ansi-default-inverse-bg { background-color: #000000; }\n",
       "\n",
       "        .ansi-bold { font-weight: bold; }\n",
       "        .ansi-underline { text-decoration: underline; }\n",
       "\n",
       "\n",
       "        div.nbinput.container div.input_area div[class*=highlight] > pre,\n",
       "        div.nboutput.container div.output_area div[class*=highlight] > pre,\n",
       "        div.nboutput.container div.output_area div[class*=highlight].math,\n",
       "        div.nboutput.container div.output_area.rendered_html,\n",
       "        div.nboutput.container div.output_area > div.output_javascript,\n",
       "        div.nboutput.container div.output_area:not(.rendered_html) > img{\n",
       "            padding: 5px;\n",
       "            margin: 0;\n",
       "        }\n",
       "\n",
       "        /* fix copybtn overflow problem in chromium (needed for 'sphinx_copybutton') */\n",
       "        div.nbinput.container div.input_area > div[class^='highlight'],\n",
       "        div.nboutput.container div.output_area > div[class^='highlight']{\n",
       "            overflow-y: hidden;\n",
       "        }\n",
       "\n",
       "        /* hide copybtn icon on prompts (needed for 'sphinx_copybutton') */\n",
       "        .prompt .copybtn {\n",
       "            display: none;\n",
       "        }\n",
       "\n",
       "        /* Some additional styling taken form the Jupyter notebook CSS */\n",
       "        div.rendered_html table {\n",
       "        border: none;\n",
       "        border-collapse: collapse;\n",
       "        border-spacing: 0;\n",
       "        color: black;\n",
       "        font-size: 12px;\n",
       "        table-layout: fixed;\n",
       "        }\n",
       "        div.rendered_html thead {\n",
       "        border-bottom: 1px solid black;\n",
       "        vertical-align: bottom;\n",
       "        }\n",
       "        div.rendered_html tr,\n",
       "        div.rendered_html th,\n",
       "        div.rendered_html td {\n",
       "        text-align: right;\n",
       "        vertical-align: middle;\n",
       "        padding: 0.5em 0.5em;\n",
       "        line-height: normal;\n",
       "        white-space: normal;\n",
       "        max-width: none;\n",
       "        border: none;\n",
       "        }\n",
       "        div.rendered_html th {\n",
       "        font-weight: bold;\n",
       "        }\n",
       "        div.rendered_html tbody tr:nth-child(odd) {\n",
       "        background: #f5f5f5;\n",
       "        }\n",
       "        div.rendered_html tbody tr:hover {\n",
       "        background: rgba(66, 165, 245, 0.2);\n",
       "        }\n",
       "    </style>\n",
       "</head>\n",
       "<body>\n",
       "    \n",
       "<script\n",
       "    src=\"https://cdnjs.cloudflare.com/ajax/libs/require.js/2.3.6/require.min.js\"\n",
       "    integrity=\"sha512-c3Nl8+7g4LMSTdrm621y7kf9v3SDPnhxLNhcjFJbKECVnmZHTdo+IRO05sNLTH/D3vA6u1X32ehoLC7WFVdheg==\"\n",
       "    crossorigin=\"anonymous\"\n",
       "    referrerpolicy=\"no-referrer\">\n",
       "</script>\n",
       "<script src=\"https://unpkg.com/@jupyter-widgets/html-manager@^0.20.1/dist/embed-amd.js\" crossorigin=\"anonymous\"></script>\n",
       "    \n",
       "\n",
       "<script type=\"application/vnd.jupyter.widget-state+json\">\n",
       "{\"version_major\": 2, \"version_minor\": 0, \"state\": {\"3553953b79d64b65a9fdd7a62bb8d85a\": {\"model_name\": \"AccordionModel\", \"model_module\": \"@jupyter-widgets/controls\", \"model_module_version\": \"1.5.0\", \"state\": {\"_dom_classes\": [], \"_titles\": {\"0\": \"Data Integrity Suite\"}, \"children\": [\"IPY_MODEL_2382b76c72f347bea8618cd7fd41d47c\"], \"layout\": \"IPY_MODEL_4a5459248cd349608494c0a096b750a1\"}}, \"2382b76c72f347bea8618cd7fd41d47c\": {\"model_name\": \"VBoxModel\", \"model_module\": \"@jupyter-widgets/controls\", \"model_module_version\": \"1.5.0\", \"state\": {\"_dom_classes\": [], \"children\": [\"IPY_MODEL_f63182c984624560a16daf191be70545\", \"IPY_MODEL_4ad7ebfaf00145a1b865bf45d0722b9b\", \"IPY_MODEL_784deea9173f4078afee261fd8d4ce4b\", \"IPY_MODEL_1a15dbd160c0496a94cdfc1af1cfd7c9\", \"IPY_MODEL_db88894e9bdf40b986acc515242d6c83\"], \"layout\": \"IPY_MODEL_4f440140530d495aa8901da850762bfe\"}}, \"f63182c984624560a16daf191be70545\": {\"model_name\": \"HTMLModel\", \"model_module\": \"@jupyter-widgets/controls\", \"model_module_version\": \"1.5.0\", \"state\": {\"_dom_classes\": [], \"layout\": \"IPY_MODEL_ed1d2fc590e54a839d4fff6f01b0a297\", \"style\": \"IPY_MODEL_95cb684bbf02443f8c7d734ca1d4b6a8\", \"value\": \"\\n            <h1>Data Integrity Suite</h1>\\n            <p>\\n                The suite is composed of various checks such as: Data Duplicates, Mixed Data Types, String Length Out Of Bounds, etc...<br>\\n                Each check may contain conditions (which will result in pass / fail / warning / error\\n                , represented by \\n<span style=\\\"color: green;display:inline-block\\\">\\u2713</span> /\\n<span style=\\\"color: red;display:inline-block\\\">\\u2716</span> /\\n<span style=\\\"color: orange;font-weight:bold;display:inline-block\\\">!</span> /\\n<span style=\\\"color: firebrick;font-weight:bold;display:inline-block\\\">\\u2048</span>\\n) as well as other outputs such as plots or tables.<br>\\n                Suites, checks and conditions can all be modified. Read more about\\n                <a href=https://docs.deepchecks.com/en/stable/examples/guides/create_a_custom_suite.html?utm_source=display_output&utm_medium=referral&utm_campaign=suite_link target=\\\"_blank\\\">custom suites</a>.\\n            </p>\\n\\n\"}}, \"ed1d2fc590e54a839d4fff6f01b0a297\": {\"model_name\": \"LayoutModel\", \"model_module\": \"@jupyter-widgets/base\", \"model_module_version\": \"1.2.0\", \"state\": {}}, \"95cb684bbf02443f8c7d734ca1d4b6a8\": {\"model_name\": \"DescriptionStyleModel\", \"model_module\": \"@jupyter-widgets/controls\", \"model_module_version\": \"1.5.0\", \"state\": {}}, \"4ad7ebfaf00145a1b865bf45d0722b9b\": {\"model_name\": \"VBoxModel\", \"model_module\": \"@jupyter-widgets/controls\", \"model_module_version\": \"1.5.0\", \"state\": {\"_dom_classes\": [], \"children\": [\"IPY_MODEL_1c9d2ec1a52f46c1b5732ee1f5c6d1d3\", \"IPY_MODEL_53840a963e8243dcb499cbfdb09b813e\"], \"layout\": \"IPY_MODEL_4e55d262db9f4d9c843dcbc5d8ce2992\"}}, \"1c9d2ec1a52f46c1b5732ee1f5c6d1d3\": {\"model_name\": \"HTMLModel\", \"model_module\": \"@jupyter-widgets/controls\", \"model_module_version\": \"1.5.0\", \"state\": {\"_dom_classes\": [], \"layout\": \"IPY_MODEL_1b2510fdedf747e5b1b0f4b1dd55f9c6\", \"style\": \"IPY_MODEL_1f899ed7cb9e414b905ee756c97c7b53\"}}, \"1b2510fdedf747e5b1b0f4b1dd55f9c6\": {\"model_name\": \"LayoutModel\", \"model_module\": \"@jupyter-widgets/base\", \"model_module_version\": \"1.2.0\", \"state\": {}}, \"1f899ed7cb9e414b905ee756c97c7b53\": {\"model_name\": \"DescriptionStyleModel\", \"model_module\": \"@jupyter-widgets/controls\", \"model_module_version\": \"1.5.0\", \"state\": {}}, \"53840a963e8243dcb499cbfdb09b813e\": {\"model_name\": \"AccordionModel\", \"model_module\": \"@jupyter-widgets/controls\", \"model_module_version\": \"1.5.0\", \"state\": {\"_dom_classes\": [\"rendered_html\", \"jp-RenderedHTMLCommon\", \"jp-RenderedHTML\", \"jp-OutputArea-output\"], \"_titles\": {\"0\": \"Didn't Pass\"}, \"children\": [\"IPY_MODEL_344b5b486a7f4d788ac159040033a17f\"], \"layout\": \"IPY_MODEL_1c39970c1fbe4cd6965a93d04b83f7c3\", \"selected_index\": null}}, \"344b5b486a7f4d788ac159040033a17f\": {\"model_name\": \"HTMLModel\", \"model_module\": \"@jupyter-widgets/controls\", \"model_module_version\": \"1.5.0\", \"state\": {\"_dom_classes\": [], \"layout\": \"IPY_MODEL_cf9859df5b374a608b7f2d64bcc447cc\", \"style\": \"IPY_MODEL_f0b6847f66b04f7ca4867599dab24216\", \"value\": \"<p>No outputs to show.</p>\"}}, \"cf9859df5b374a608b7f2d64bcc447cc\": {\"model_name\": \"LayoutModel\", \"model_module\": \"@jupyter-widgets/base\", \"model_module_version\": \"1.2.0\", \"state\": {}}, \"f0b6847f66b04f7ca4867599dab24216\": {\"model_name\": \"DescriptionStyleModel\", \"model_module\": \"@jupyter-widgets/controls\", \"model_module_version\": \"1.5.0\", \"state\": {}}, \"1c39970c1fbe4cd6965a93d04b83f7c3\": {\"model_name\": \"LayoutModel\", \"model_module\": \"@jupyter-widgets/base\", \"model_module_version\": \"1.2.0\", \"state\": {}}, \"4e55d262db9f4d9c843dcbc5d8ce2992\": {\"model_name\": \"LayoutModel\", \"model_module\": \"@jupyter-widgets/base\", \"model_module_version\": \"1.2.0\", \"state\": {}}, \"784deea9173f4078afee261fd8d4ce4b\": {\"model_name\": \"VBoxModel\", \"model_module\": \"@jupyter-widgets/controls\", \"model_module_version\": \"1.5.0\", \"state\": {\"_dom_classes\": [], \"children\": [\"IPY_MODEL_7fc65d4096b941b9bc9b5114ab766cf6\", \"IPY_MODEL_210abd171dbe44379fbe0d67a148796d\"], \"layout\": \"IPY_MODEL_0c929b4d798649f096d191e2ae54224a\"}}, \"7fc65d4096b941b9bc9b5114ab766cf6\": {\"model_name\": \"HTMLModel\", \"model_module\": \"@jupyter-widgets/controls\", \"model_module_version\": \"1.5.0\", \"state\": {\"_dom_classes\": [], \"layout\": \"IPY_MODEL_95f4772863ea4d1496109eff8e7cafc5\", \"style\": \"IPY_MODEL_8df30d390cea44b2b6c7043d538c054a\", \"value\": \"<span id=\\\"summary_None-section-6I1FW\\\"></span>\"}}, \"95f4772863ea4d1496109eff8e7cafc5\": {\"model_name\": \"LayoutModel\", \"model_module\": \"@jupyter-widgets/base\", \"model_module_version\": \"1.2.0\", \"state\": {}}, \"8df30d390cea44b2b6c7043d538c054a\": {\"model_name\": \"DescriptionStyleModel\", \"model_module\": \"@jupyter-widgets/controls\", \"model_module_version\": \"1.5.0\", \"state\": {}}, \"210abd171dbe44379fbe0d67a148796d\": {\"model_name\": \"AccordionModel\", \"model_module\": \"@jupyter-widgets/controls\", \"model_module_version\": \"1.5.0\", \"state\": {\"_dom_classes\": [\"rendered_html\", \"jp-RenderedHTMLCommon\", \"jp-RenderedHTML\", \"jp-OutputArea-output\"], \"_titles\": {\"0\": \"Passed\"}, \"children\": [\"IPY_MODEL_00e34e448df44f33b97b8fa42a510cbf\"], \"layout\": \"IPY_MODEL_8b51ba6762a247369d19370e8723be2e\", \"selected_index\": null}}, \"00e34e448df44f33b97b8fa42a510cbf\": {\"model_name\": \"VBoxModel\", \"model_module\": \"@jupyter-widgets/controls\", \"model_module_version\": \"1.5.0\", \"state\": {\"_dom_classes\": [], \"children\": [\"IPY_MODEL_9ca450ea7f804d93a6531a32f76588e9\", \"IPY_MODEL_fd45170e086643b7b8f96da4a789edb8\", \"IPY_MODEL_e52e420e7d284fe792e78388ab16e698\", \"IPY_MODEL_12e0413dc72c4bc89e1a5131da72f0b5\", \"IPY_MODEL_0964bcd99a1546f9ba814a042d5c001c\", \"IPY_MODEL_12e0413dc72c4bc89e1a5131da72f0b5\", \"IPY_MODEL_64e5a1c792984f2ea80dd91706801416\", \"IPY_MODEL_12e0413dc72c4bc89e1a5131da72f0b5\", \"IPY_MODEL_648474dbe2204888a6e123eecc2a1ae6\", \"IPY_MODEL_12e0413dc72c4bc89e1a5131da72f0b5\", \"IPY_MODEL_f426d6ceb62d415d9bcabe27cb9498a9\", \"IPY_MODEL_12e0413dc72c4bc89e1a5131da72f0b5\", \"IPY_MODEL_65999baffc884b2f9a41e2b39c78e416\", \"IPY_MODEL_12e0413dc72c4bc89e1a5131da72f0b5\", \"IPY_MODEL_df8c23ba9b4340ee845847f59878fe2b\", \"IPY_MODEL_12e0413dc72c4bc89e1a5131da72f0b5\", \"IPY_MODEL_9380083703624ff4956f97a008d2e49f\"], \"layout\": \"IPY_MODEL_0f1ff033f8c44c1193b8b5234621ecc6\"}}, \"9ca450ea7f804d93a6531a32f76588e9\": {\"model_name\": \"HTMLModel\", \"model_module\": \"@jupyter-widgets/controls\", \"model_module_version\": \"1.5.0\", \"state\": {\"_dom_classes\": [], \"layout\": \"IPY_MODEL_2c0e9d6f73824000ae951061269ae10c\", \"style\": \"IPY_MODEL_ea2fcd618b8049d89826bbed2c4a5854\", \"value\": \"<style type=\\\"text/css\\\">\\n#T_d6a6d_ table {\\n  text-align: left;\\n  white-space: pre-wrap;\\n}\\n#T_d6a6d_ thead {\\n  text-align: left;\\n  white-space: pre-wrap;\\n}\\n#T_d6a6d_ tbody {\\n  text-align: left;\\n  white-space: pre-wrap;\\n}\\n#T_d6a6d_ th {\\n  text-align: left;\\n  white-space: pre-wrap;\\n}\\n#T_d6a6d_ td {\\n  text-align: left;\\n  white-space: pre-wrap;\\n}\\n</style>\\n<table id=\\\"T_d6a6d_\\\">\\n  <thead>\\n    <tr>\\n      <th class=\\\"col_heading level0 col0\\\" >Status</th>\\n      <th class=\\\"col_heading level0 col1\\\" >Check</th>\\n      <th class=\\\"col_heading level0 col2\\\" >Condition</th>\\n      <th class=\\\"col_heading level0 col3\\\" >More Info</th>\\n    </tr>\\n  </thead>\\n  <tbody>\\n    <tr>\\n      <td id=\\\"T_d6a6d_row0_col0\\\" class=\\\"data row0 col0\\\" ><div style=\\\"color: green;text-align: center\\\">\\u2713</div></td>\\n      <td id=\\\"T_d6a6d_row0_col1\\\" class=\\\"data row0 col1\\\" ><a href=\\\"#SingleValueinColumn_None-section-6I1FW\\\">Single Value in Column</a></td>\\n      <td id=\\\"T_d6a6d_row0_col2\\\" class=\\\"data row0 col2\\\" >Does not contain only a single value</td>\\n      <td id=\\\"T_d6a6d_row0_col3\\\" class=\\\"data row0 col3\\\" >Passed for 31 relevant columns</td>\\n    </tr>\\n    <tr>\\n      <td id=\\\"T_d6a6d_row1_col0\\\" class=\\\"data row1 col0\\\" ><div style=\\\"color: green;text-align: center\\\">\\u2713</div></td>\\n      <td id=\\\"T_d6a6d_row1_col1\\\" class=\\\"data row1 col1\\\" ><a href=\\\"#SpecialCharacters_None-section-6I1FW\\\">Special Characters</a></td>\\n      <td id=\\\"T_d6a6d_row1_col2\\\" class=\\\"data row1 col2\\\" >Ratio of samples containing solely special character is less or equal to 0.1%</td>\\n      <td id=\\\"T_d6a6d_row1_col3\\\" class=\\\"data row1 col3\\\" >Passed for 31 relevant columns</td>\\n    </tr>\\n    <tr>\\n      <td id=\\\"T_d6a6d_row2_col0\\\" class=\\\"data row2 col0\\\" ><div style=\\\"color: green;text-align: center\\\">\\u2713</div></td>\\n      <td id=\\\"T_d6a6d_row2_col1\\\" class=\\\"data row2 col1\\\" ><a href=\\\"#MixedNulls_None-section-6I1FW\\\">Mixed Nulls</a></td>\\n      <td id=\\\"T_d6a6d_row2_col2\\\" class=\\\"data row2 col2\\\" >Number of different null types is less or equal to 1</td>\\n      <td id=\\\"T_d6a6d_row2_col3\\\" class=\\\"data row2 col3\\\" >Passed for 31 relevant columns</td>\\n    </tr>\\n    <tr>\\n      <td id=\\\"T_d6a6d_row3_col0\\\" class=\\\"data row3 col0\\\" ><div style=\\\"color: green;text-align: center\\\">\\u2713</div></td>\\n      <td id=\\\"T_d6a6d_row3_col1\\\" class=\\\"data row3 col1\\\" ><a href=\\\"#MixedDataTypes_None-section-6I1FW\\\">Mixed Data Types</a></td>\\n      <td id=\\\"T_d6a6d_row3_col2\\\" class=\\\"data row3 col2\\\" >Rare data types in column are either more than 10% or less than 1% of the data</td>\\n      <td id=\\\"T_d6a6d_row3_col3\\\" class=\\\"data row3 col3\\\" >31 columns passed: found 0 columns with negligible types mix, and 31 columns without any types mix</td>\\n    </tr>\\n    <tr>\\n      <td id=\\\"T_d6a6d_row4_col0\\\" class=\\\"data row4 col0\\\" ><div style=\\\"color: green;text-align: center\\\">\\u2713</div></td>\\n      <td id=\\\"T_d6a6d_row4_col1\\\" class=\\\"data row4 col1\\\" ><a href=\\\"#StringMismatch_None-section-6I1FW\\\">String Mismatch</a></td>\\n      <td id=\\\"T_d6a6d_row4_col2\\\" class=\\\"data row4 col2\\\" >No string variants</td>\\n      <td id=\\\"T_d6a6d_row4_col3\\\" class=\\\"data row4 col3\\\" >No relevant columns to check were found</td>\\n    </tr>\\n    <tr>\\n      <td id=\\\"T_d6a6d_row5_col0\\\" class=\\\"data row5 col0\\\" ><div style=\\\"color: green;text-align: center\\\">\\u2713</div></td>\\n      <td id=\\\"T_d6a6d_row5_col1\\\" class=\\\"data row5 col1\\\" ><a href=\\\"#DataDuplicates_None-section-6I1FW\\\">Data Duplicates</a></td>\\n      <td id=\\\"T_d6a6d_row5_col2\\\" class=\\\"data row5 col2\\\" >Duplicate data ratio is less or equal to 0%</td>\\n      <td id=\\\"T_d6a6d_row5_col3\\\" class=\\\"data row5 col3\\\" >Found 0% duplicate data</td>\\n    </tr>\\n    <tr>\\n      <td id=\\\"T_d6a6d_row6_col0\\\" class=\\\"data row6 col0\\\" ><div style=\\\"color: green;text-align: center\\\">\\u2713</div></td>\\n      <td id=\\\"T_d6a6d_row6_col1\\\" class=\\\"data row6 col1\\\" ><a href=\\\"#StringLengthOutOfBounds_None-section-6I1FW\\\">String Length Out Of Bounds</a></td>\\n      <td id=\\\"T_d6a6d_row6_col2\\\" class=\\\"data row6 col2\\\" >Ratio of string length outliers is less or equal to 0%</td>\\n      <td id=\\\"T_d6a6d_row6_col3\\\" class=\\\"data row6 col3\\\" >No relevant columns to check were found</td>\\n    </tr>\\n    <tr>\\n      <td id=\\\"T_d6a6d_row7_col0\\\" class=\\\"data row7 col0\\\" ><div style=\\\"color: green;text-align: center\\\">\\u2713</div></td>\\n      <td id=\\\"T_d6a6d_row7_col1\\\" class=\\\"data row7 col1\\\" ><a href=\\\"#Feature-FeatureCorrelation_None-section-6I1FW\\\">Feature-Feature Correlation</a></td>\\n      <td id=\\\"T_d6a6d_row7_col2\\\" class=\\\"data row7 col2\\\" >Not more than 0 pairs are correlated above 0.9</td>\\n      <td id=\\\"T_d6a6d_row7_col3\\\" class=\\\"data row7 col3\\\" >All correlations are less than 0.9 except pairs []</td>\\n    </tr>\\n  </tbody>\\n</table>\\n\"}}, \"2c0e9d6f73824000ae951061269ae10c\": {\"model_name\": \"LayoutModel\", \"model_module\": \"@jupyter-widgets/base\", \"model_module_version\": \"1.2.0\", \"state\": {}}, \"ea2fcd618b8049d89826bbed2c4a5854\": {\"model_name\": \"DescriptionStyleModel\", \"model_module\": \"@jupyter-widgets/controls\", \"model_module_version\": \"1.5.0\", \"state\": {}}, \"fd45170e086643b7b8f96da4a789edb8\": {\"model_name\": \"HTMLModel\", \"model_module\": \"@jupyter-widgets/controls\", \"model_module_version\": \"1.5.0\", \"state\": {\"_dom_classes\": [], \"layout\": \"IPY_MODEL_8b350a686ca04a6b860e77f6b0660e34\", \"style\": \"IPY_MODEL_054b4fc230a44df880092293793cf7bb\", \"value\": \"<hr style=\\\"background-color: #eee;border: 0 none;color: #eee;height: 4px;\\\">\"}}, \"8b350a686ca04a6b860e77f6b0660e34\": {\"model_name\": \"LayoutModel\", \"model_module\": \"@jupyter-widgets/base\", \"model_module_version\": \"1.2.0\", \"state\": {}}, \"054b4fc230a44df880092293793cf7bb\": {\"model_name\": \"DescriptionStyleModel\", \"model_module\": \"@jupyter-widgets/controls\", \"model_module_version\": \"1.5.0\", \"state\": {}}, \"e52e420e7d284fe792e78388ab16e698\": {\"model_name\": \"VBoxModel\", \"model_module\": \"@jupyter-widgets/controls\", \"model_module_version\": \"1.5.0\", \"state\": {\"_dom_classes\": [\"rendered_html\", \"jp-RenderedHTMLCommon\", \"jp-RenderedHTML\", \"jp-OutputArea-output\"], \"children\": [\"IPY_MODEL_bb44dc69c6b54bb18f0f746073250507\", \"IPY_MODEL_57265a01dec046bcaeef675f789ba983\", \"IPY_MODEL_ef1a2759095f4b9baa435425dd453626\", \"IPY_MODEL_3c0b6fa10008470fad80b22ea55bdcbe\"], \"layout\": \"IPY_MODEL_e02e95f000f94d10b72bd0c1596c0e77\"}}, \"bb44dc69c6b54bb18f0f746073250507\": {\"model_name\": \"HTMLModel\", \"model_module\": \"@jupyter-widgets/controls\", \"model_module_version\": \"1.5.0\", \"state\": {\"_dom_classes\": [], \"layout\": \"IPY_MODEL_d975dbe5051e419ea5d28a8d7c881a90\", \"style\": \"IPY_MODEL_93e6e6e64e3348c880289ae971fb42af\", \"value\": \"<h4 id=\\\"SingleValueinColumn_None-section-6I1FW\\\"><b>Single Value in Column</b></h4>\"}}, \"d975dbe5051e419ea5d28a8d7c881a90\": {\"model_name\": \"LayoutModel\", \"model_module\": \"@jupyter-widgets/base\", \"model_module_version\": \"1.2.0\", \"state\": {}}, \"93e6e6e64e3348c880289ae971fb42af\": {\"model_name\": \"DescriptionStyleModel\", \"model_module\": \"@jupyter-widgets/controls\", \"model_module_version\": \"1.5.0\", \"state\": {}}, \"57265a01dec046bcaeef675f789ba983\": {\"model_name\": \"HTMLModel\", \"model_module\": \"@jupyter-widgets/controls\", \"model_module_version\": \"1.5.0\", \"state\": {\"_dom_classes\": [], \"layout\": \"IPY_MODEL_48f30a34b6424a39ab1efe1d34195637\", \"style\": \"IPY_MODEL_cd1ac199388446599ef5565a9bf5bb6e\", \"value\": \"<p>Check if there are columns which have only a single unique value in all rows. <a href=\\\"https://docs.deepchecks.com/0.9/checks_gallery/tabular/data_integrity/plot_is_single_value.html?utm_source=display_output&utm_medium=referral&utm_campaign=check_link\\\" target=\\\"_blank\\\">Read More...</a></p>\"}}, \"48f30a34b6424a39ab1efe1d34195637\": {\"model_name\": \"LayoutModel\", \"model_module\": \"@jupyter-widgets/base\", \"model_module_version\": \"1.2.0\", \"state\": {}}, \"cd1ac199388446599ef5565a9bf5bb6e\": {\"model_name\": \"DescriptionStyleModel\", \"model_module\": \"@jupyter-widgets/controls\", \"model_module_version\": \"1.5.0\", \"state\": {}}, \"ef1a2759095f4b9baa435425dd453626\": {\"model_name\": \"HTMLModel\", \"model_module\": \"@jupyter-widgets/controls\", \"model_module_version\": \"1.5.0\", \"state\": {\"_dom_classes\": [], \"layout\": \"IPY_MODEL_11b7379b777a412189add76b84ec318b\", \"style\": \"IPY_MODEL_8dac3c538d0b4d59a82bbdfbc4f9b0fa\", \"value\": \"<h5><b>Conditions Summary</b></h5><style type=\\\"text/css\\\">\\n#T_26fc6_ table {\\n  text-align: left;\\n  white-space: pre-wrap;\\n}\\n#T_26fc6_ thead {\\n  text-align: left;\\n  white-space: pre-wrap;\\n}\\n#T_26fc6_ tbody {\\n  text-align: left;\\n  white-space: pre-wrap;\\n}\\n#T_26fc6_ th {\\n  text-align: left;\\n  white-space: pre-wrap;\\n}\\n#T_26fc6_ td {\\n  text-align: left;\\n  white-space: pre-wrap;\\n}\\n</style>\\n<table id=\\\"T_26fc6_\\\">\\n  <thead>\\n    <tr>\\n      <th class=\\\"col_heading level0 col0\\\" >Status</th>\\n      <th class=\\\"col_heading level0 col1\\\" >Condition</th>\\n      <th class=\\\"col_heading level0 col2\\\" >More Info</th>\\n    </tr>\\n  </thead>\\n  <tbody>\\n    <tr>\\n      <td id=\\\"T_26fc6_row0_col0\\\" class=\\\"data row0 col0\\\" ><div style=\\\"color: green;text-align: center\\\">\\u2713</div></td>\\n      <td id=\\\"T_26fc6_row0_col1\\\" class=\\\"data row0 col1\\\" >Does not contain only a single value</td>\\n      <td id=\\\"T_26fc6_row0_col2\\\" class=\\\"data row0 col2\\\" >Passed for 31 relevant columns</td>\\n    </tr>\\n  </tbody>\\n</table>\\n\"}}, \"11b7379b777a412189add76b84ec318b\": {\"model_name\": \"LayoutModel\", \"model_module\": \"@jupyter-widgets/base\", \"model_module_version\": \"1.2.0\", \"state\": {}}, \"8dac3c538d0b4d59a82bbdfbc4f9b0fa\": {\"model_name\": \"DescriptionStyleModel\", \"model_module\": \"@jupyter-widgets/controls\", \"model_module_version\": \"1.5.0\", \"state\": {}}, \"3c0b6fa10008470fad80b22ea55bdcbe\": {\"model_name\": \"VBoxModel\", \"model_module\": \"@jupyter-widgets/controls\", \"model_module_version\": \"1.5.0\", \"state\": {\"_dom_classes\": [], \"children\": [\"IPY_MODEL_909a84906afa4e7f9aa7580c0bf2d100\", \"IPY_MODEL_8388d88628a443d2b9ad4ecc8725df0a\", \"IPY_MODEL_15c1c830451d4af3b7754ac165e8d4a0\"], \"layout\": \"IPY_MODEL_35497ed80859410ab6c6fb470e7b0ff7\"}}, \"909a84906afa4e7f9aa7580c0bf2d100\": {\"model_name\": \"HTMLModel\", \"model_module\": \"@jupyter-widgets/controls\", \"model_module_version\": \"1.5.0\", \"state\": {\"_dom_classes\": [], \"layout\": \"IPY_MODEL_42ff18856ad1419a983384e98a27e4d5\", \"style\": \"IPY_MODEL_a40cdd9ec6da41f18430a41d69712432\", \"value\": \"<h5><b>Additional Outputs</b></h5>\"}}, \"42ff18856ad1419a983384e98a27e4d5\": {\"model_name\": \"LayoutModel\", \"model_module\": \"@jupyter-widgets/base\", \"model_module_version\": \"1.2.0\", \"state\": {}}, \"a40cdd9ec6da41f18430a41d69712432\": {\"model_name\": \"DescriptionStyleModel\", \"model_module\": \"@jupyter-widgets/controls\", \"model_module_version\": \"1.5.0\", \"state\": {}}, \"8388d88628a443d2b9ad4ecc8725df0a\": {\"model_name\": \"HTMLModel\", \"model_module\": \"@jupyter-widgets/controls\", \"model_module_version\": \"1.5.0\", \"state\": {\"_dom_classes\": [], \"layout\": \"IPY_MODEL_10b3daad23e04b3493a364f2182630da\", \"style\": \"IPY_MODEL_0da3c2897824418da927a50b164c10c0\", \"value\": \"<div><p style=\\\"font-size:0.9em;line-height:1;\\\"><i>Note - data sampling: Data is sampled from the original dataset, running on 5000 samples out of 284807. Sample size can be controlled with the \\\"n_samples\\\" parameter.</i></p></div>\"}}, \"10b3daad23e04b3493a364f2182630da\": {\"model_name\": \"LayoutModel\", \"model_module\": \"@jupyter-widgets/base\", \"model_module_version\": \"1.2.0\", \"state\": {}}, \"0da3c2897824418da927a50b164c10c0\": {\"model_name\": \"DescriptionStyleModel\", \"model_module\": \"@jupyter-widgets/controls\", \"model_module_version\": \"1.5.0\", \"state\": {}}, \"15c1c830451d4af3b7754ac165e8d4a0\": {\"model_name\": \"HTMLModel\", \"model_module\": \"@jupyter-widgets/controls\", \"model_module_version\": \"1.5.0\", \"state\": {\"_dom_classes\": [], \"layout\": \"IPY_MODEL_9bebe399cc2f47038562b7822a6cea59\", \"style\": \"IPY_MODEL_077422de416840d9b90d0dd0eb299868\", \"value\": \"<br><a href=\\\"#summary_None-section-6I1FW\\\" style=\\\"font-size: 14px;\\\">Go to top</a>\"}}, \"9bebe399cc2f47038562b7822a6cea59\": {\"model_name\": \"LayoutModel\", \"model_module\": \"@jupyter-widgets/base\", \"model_module_version\": \"1.2.0\", \"state\": {}}, \"077422de416840d9b90d0dd0eb299868\": {\"model_name\": \"DescriptionStyleModel\", \"model_module\": \"@jupyter-widgets/controls\", \"model_module_version\": \"1.5.0\", \"state\": {}}, \"35497ed80859410ab6c6fb470e7b0ff7\": {\"model_name\": \"LayoutModel\", \"model_module\": \"@jupyter-widgets/base\", \"model_module_version\": \"1.2.0\", \"state\": {}}, \"e02e95f000f94d10b72bd0c1596c0e77\": {\"model_name\": \"LayoutModel\", \"model_module\": \"@jupyter-widgets/base\", \"model_module_version\": \"1.2.0\", \"state\": {}}, \"12e0413dc72c4bc89e1a5131da72f0b5\": {\"model_name\": \"HTMLModel\", \"model_module\": \"@jupyter-widgets/controls\", \"model_module_version\": \"1.5.0\", \"state\": {\"_dom_classes\": [], \"layout\": \"IPY_MODEL_e2e04f6479244b8fb18a9a8aeb73b18e\", \"style\": \"IPY_MODEL_a27372125fa541e39e550850f10c172f\", \"value\": \"<hr style=\\\"background-color: #eee;border: 0 none;color: #eee;height: 4px;\\\">\"}}, \"e2e04f6479244b8fb18a9a8aeb73b18e\": {\"model_name\": \"LayoutModel\", \"model_module\": \"@jupyter-widgets/base\", \"model_module_version\": \"1.2.0\", \"state\": {}}, \"a27372125fa541e39e550850f10c172f\": {\"model_name\": \"DescriptionStyleModel\", \"model_module\": \"@jupyter-widgets/controls\", \"model_module_version\": \"1.5.0\", \"state\": {}}, \"0964bcd99a1546f9ba814a042d5c001c\": {\"model_name\": \"VBoxModel\", \"model_module\": \"@jupyter-widgets/controls\", \"model_module_version\": \"1.5.0\", \"state\": {\"_dom_classes\": [\"rendered_html\", \"jp-RenderedHTMLCommon\", \"jp-RenderedHTML\", \"jp-OutputArea-output\"], \"children\": [\"IPY_MODEL_1c10edfb41894d938ddd7272e8a3b5a0\", \"IPY_MODEL_60c7486ee624404c9756d77fb82e3202\", \"IPY_MODEL_a78cb70947ec4016a2773b7c2451b447\", \"IPY_MODEL_c28d72abb6e8485a947e6eb31ecba42c\"], \"layout\": \"IPY_MODEL_d38de232265a48249b656820875477f4\"}}, \"1c10edfb41894d938ddd7272e8a3b5a0\": {\"model_name\": \"HTMLModel\", \"model_module\": \"@jupyter-widgets/controls\", \"model_module_version\": \"1.5.0\", \"state\": {\"_dom_classes\": [], \"layout\": \"IPY_MODEL_5759c7b1bb4c46b9be2085a2b42059b9\", \"style\": \"IPY_MODEL_7b2bda6900654e5b8ea645d7d9396bb9\", \"value\": \"<h4 id=\\\"SpecialCharacters_None-section-6I1FW\\\"><b>Special Characters</b></h4>\"}}, \"5759c7b1bb4c46b9be2085a2b42059b9\": {\"model_name\": \"LayoutModel\", \"model_module\": \"@jupyter-widgets/base\", \"model_module_version\": \"1.2.0\", \"state\": {}}, \"7b2bda6900654e5b8ea645d7d9396bb9\": {\"model_name\": \"DescriptionStyleModel\", \"model_module\": \"@jupyter-widgets/controls\", \"model_module_version\": \"1.5.0\", \"state\": {}}, \"60c7486ee624404c9756d77fb82e3202\": {\"model_name\": \"HTMLModel\", \"model_module\": \"@jupyter-widgets/controls\", \"model_module_version\": \"1.5.0\", \"state\": {\"_dom_classes\": [], \"layout\": \"IPY_MODEL_f82198bc77a645d298164e28601677e6\", \"style\": \"IPY_MODEL_7b70fbcdd15743619413653c90a0707c\", \"value\": \"<p>Search in column[s] for values that contains only special characters. <a href=\\\"https://docs.deepchecks.com/0.9/checks_gallery/tabular/data_integrity/plot_special_chars.html?utm_source=display_output&utm_medium=referral&utm_campaign=check_link\\\" target=\\\"_blank\\\">Read More...</a></p>\"}}, \"f82198bc77a645d298164e28601677e6\": {\"model_name\": \"LayoutModel\", \"model_module\": \"@jupyter-widgets/base\", \"model_module_version\": \"1.2.0\", \"state\": {}}, \"7b70fbcdd15743619413653c90a0707c\": {\"model_name\": \"DescriptionStyleModel\", \"model_module\": \"@jupyter-widgets/controls\", \"model_module_version\": \"1.5.0\", \"state\": {}}, \"a78cb70947ec4016a2773b7c2451b447\": {\"model_name\": \"HTMLModel\", \"model_module\": \"@jupyter-widgets/controls\", \"model_module_version\": \"1.5.0\", \"state\": {\"_dom_classes\": [], \"layout\": \"IPY_MODEL_2ebbe83559de48de88d31e33725378bd\", \"style\": \"IPY_MODEL_254dc4ea82ee4b6dae4fcb3dd5f4d89b\", \"value\": \"<h5><b>Conditions Summary</b></h5><style type=\\\"text/css\\\">\\n#T_34008_ table {\\n  text-align: left;\\n  white-space: pre-wrap;\\n}\\n#T_34008_ thead {\\n  text-align: left;\\n  white-space: pre-wrap;\\n}\\n#T_34008_ tbody {\\n  text-align: left;\\n  white-space: pre-wrap;\\n}\\n#T_34008_ th {\\n  text-align: left;\\n  white-space: pre-wrap;\\n}\\n#T_34008_ td {\\n  text-align: left;\\n  white-space: pre-wrap;\\n}\\n</style>\\n<table id=\\\"T_34008_\\\">\\n  <thead>\\n    <tr>\\n      <th class=\\\"col_heading level0 col0\\\" >Status</th>\\n      <th class=\\\"col_heading level0 col1\\\" >Condition</th>\\n      <th class=\\\"col_heading level0 col2\\\" >More Info</th>\\n    </tr>\\n  </thead>\\n  <tbody>\\n    <tr>\\n      <td id=\\\"T_34008_row0_col0\\\" class=\\\"data row0 col0\\\" ><div style=\\\"color: green;text-align: center\\\">\\u2713</div></td>\\n      <td id=\\\"T_34008_row0_col1\\\" class=\\\"data row0 col1\\\" >Ratio of samples containing solely special character is less or equal to 0.1%</td>\\n      <td id=\\\"T_34008_row0_col2\\\" class=\\\"data row0 col2\\\" >Passed for 31 relevant columns</td>\\n    </tr>\\n  </tbody>\\n</table>\\n\"}}, \"2ebbe83559de48de88d31e33725378bd\": {\"model_name\": \"LayoutModel\", \"model_module\": \"@jupyter-widgets/base\", \"model_module_version\": \"1.2.0\", \"state\": {}}, \"254dc4ea82ee4b6dae4fcb3dd5f4d89b\": {\"model_name\": \"DescriptionStyleModel\", \"model_module\": \"@jupyter-widgets/controls\", \"model_module_version\": \"1.5.0\", \"state\": {}}, \"c28d72abb6e8485a947e6eb31ecba42c\": {\"model_name\": \"VBoxModel\", \"model_module\": \"@jupyter-widgets/controls\", \"model_module_version\": \"1.5.0\", \"state\": {\"_dom_classes\": [], \"children\": [\"IPY_MODEL_78a616ca250040908c8afc266c9aa200\", \"IPY_MODEL_18635216d30d4ff49f3b25fb966acabc\", \"IPY_MODEL_f4b87aaeb2e54799a75c98299d70f7ec\"], \"layout\": \"IPY_MODEL_5b77c8972df645db9e3b705dae5095e8\"}}, \"78a616ca250040908c8afc266c9aa200\": {\"model_name\": \"HTMLModel\", \"model_module\": \"@jupyter-widgets/controls\", \"model_module_version\": \"1.5.0\", \"state\": {\"_dom_classes\": [], \"layout\": \"IPY_MODEL_06b6e7e53e884705bcea21b5e892d47a\", \"style\": \"IPY_MODEL_53f7bf723964457e9edfa53c0564cc0d\", \"value\": \"<h5><b>Additional Outputs</b></h5>\"}}, \"06b6e7e53e884705bcea21b5e892d47a\": {\"model_name\": \"LayoutModel\", \"model_module\": \"@jupyter-widgets/base\", \"model_module_version\": \"1.2.0\", \"state\": {}}, \"53f7bf723964457e9edfa53c0564cc0d\": {\"model_name\": \"DescriptionStyleModel\", \"model_module\": \"@jupyter-widgets/controls\", \"model_module_version\": \"1.5.0\", \"state\": {}}, \"18635216d30d4ff49f3b25fb966acabc\": {\"model_name\": \"HTMLModel\", \"model_module\": \"@jupyter-widgets/controls\", \"model_module_version\": \"1.5.0\", \"state\": {\"_dom_classes\": [], \"layout\": \"IPY_MODEL_21b68abca465459eba0abf4eeef85717\", \"style\": \"IPY_MODEL_358b0d2127d54e1eb53645777b374510\", \"value\": \"<div><p style=\\\"font-size:0.9em;line-height:1;\\\"><i>Note - data sampling: Data is sampled from the original dataset, running on 5000 samples out of 284807. Sample size can be controlled with the \\\"n_samples\\\" parameter.</i></p></div>\"}}, \"21b68abca465459eba0abf4eeef85717\": {\"model_name\": \"LayoutModel\", \"model_module\": \"@jupyter-widgets/base\", \"model_module_version\": \"1.2.0\", \"state\": {}}, \"358b0d2127d54e1eb53645777b374510\": {\"model_name\": \"DescriptionStyleModel\", \"model_module\": \"@jupyter-widgets/controls\", \"model_module_version\": \"1.5.0\", \"state\": {}}, \"f4b87aaeb2e54799a75c98299d70f7ec\": {\"model_name\": \"HTMLModel\", \"model_module\": \"@jupyter-widgets/controls\", \"model_module_version\": \"1.5.0\", \"state\": {\"_dom_classes\": [], \"layout\": \"IPY_MODEL_cdeba8325eec46c0b896e973498afd46\", \"style\": \"IPY_MODEL_789999ed7bc844228a5d9a634bed72ca\", \"value\": \"<br><a href=\\\"#summary_None-section-6I1FW\\\" style=\\\"font-size: 14px;\\\">Go to top</a>\"}}, \"cdeba8325eec46c0b896e973498afd46\": {\"model_name\": \"LayoutModel\", \"model_module\": \"@jupyter-widgets/base\", \"model_module_version\": \"1.2.0\", \"state\": {}}, \"789999ed7bc844228a5d9a634bed72ca\": {\"model_name\": \"DescriptionStyleModel\", \"model_module\": \"@jupyter-widgets/controls\", \"model_module_version\": \"1.5.0\", \"state\": {}}, \"5b77c8972df645db9e3b705dae5095e8\": {\"model_name\": \"LayoutModel\", \"model_module\": \"@jupyter-widgets/base\", \"model_module_version\": \"1.2.0\", \"state\": {}}, \"d38de232265a48249b656820875477f4\": {\"model_name\": \"LayoutModel\", \"model_module\": \"@jupyter-widgets/base\", \"model_module_version\": \"1.2.0\", \"state\": {}}, \"64e5a1c792984f2ea80dd91706801416\": {\"model_name\": \"VBoxModel\", \"model_module\": \"@jupyter-widgets/controls\", \"model_module_version\": \"1.5.0\", \"state\": {\"_dom_classes\": [\"rendered_html\", \"jp-RenderedHTMLCommon\", \"jp-RenderedHTML\", \"jp-OutputArea-output\"], \"children\": [\"IPY_MODEL_d19625a23f794e8db983025306a06b81\", \"IPY_MODEL_82c538b9812944cdb6d703d24c8cc9fd\", \"IPY_MODEL_6664e7925bc1446b827e817c9981912a\", \"IPY_MODEL_94199c96e0f24437b7bd7cd8567e7b61\"], \"layout\": \"IPY_MODEL_faeaeaebf32a4f8784c6895fcfec4003\"}}, \"d19625a23f794e8db983025306a06b81\": {\"model_name\": \"HTMLModel\", \"model_module\": \"@jupyter-widgets/controls\", \"model_module_version\": \"1.5.0\", \"state\": {\"_dom_classes\": [], \"layout\": \"IPY_MODEL_1daa446f79f843aaa1425e73edd92b79\", \"style\": \"IPY_MODEL_e6e59af9564640caba46ba13aa311626\", \"value\": \"<h4 id=\\\"MixedNulls_None-section-6I1FW\\\"><b>Mixed Nulls</b></h4>\"}}, \"1daa446f79f843aaa1425e73edd92b79\": {\"model_name\": \"LayoutModel\", \"model_module\": \"@jupyter-widgets/base\", \"model_module_version\": \"1.2.0\", \"state\": {}}, \"e6e59af9564640caba46ba13aa311626\": {\"model_name\": \"DescriptionStyleModel\", \"model_module\": \"@jupyter-widgets/controls\", \"model_module_version\": \"1.5.0\", \"state\": {}}, \"82c538b9812944cdb6d703d24c8cc9fd\": {\"model_name\": \"HTMLModel\", \"model_module\": \"@jupyter-widgets/controls\", \"model_module_version\": \"1.5.0\", \"state\": {\"_dom_classes\": [], \"layout\": \"IPY_MODEL_0f923b759ed54969932393b0b70be1c0\", \"style\": \"IPY_MODEL_b9e4e8993608459ebd045783f1e2bd1a\", \"value\": \"<p>Search for various types of null values, including string representations of null. <a href=\\\"https://docs.deepchecks.com/0.9/checks_gallery/tabular/data_integrity/plot_mixed_nulls.html?utm_source=display_output&utm_medium=referral&utm_campaign=check_link\\\" target=\\\"_blank\\\">Read More...</a></p>\"}}, \"0f923b759ed54969932393b0b70be1c0\": {\"model_name\": \"LayoutModel\", \"model_module\": \"@jupyter-widgets/base\", \"model_module_version\": \"1.2.0\", \"state\": {}}, \"b9e4e8993608459ebd045783f1e2bd1a\": {\"model_name\": \"DescriptionStyleModel\", \"model_module\": \"@jupyter-widgets/controls\", \"model_module_version\": \"1.5.0\", \"state\": {}}, \"6664e7925bc1446b827e817c9981912a\": {\"model_name\": \"HTMLModel\", \"model_module\": \"@jupyter-widgets/controls\", \"model_module_version\": \"1.5.0\", \"state\": {\"_dom_classes\": [], \"layout\": \"IPY_MODEL_1765fd5667d243b29fc9c929d58ce0ab\", \"style\": \"IPY_MODEL_1f97a1d5cc054b05bdd358d1a81cd677\", \"value\": \"<h5><b>Conditions Summary</b></h5><style type=\\\"text/css\\\">\\n#T_cfd65_ table {\\n  text-align: left;\\n  white-space: pre-wrap;\\n}\\n#T_cfd65_ thead {\\n  text-align: left;\\n  white-space: pre-wrap;\\n}\\n#T_cfd65_ tbody {\\n  text-align: left;\\n  white-space: pre-wrap;\\n}\\n#T_cfd65_ th {\\n  text-align: left;\\n  white-space: pre-wrap;\\n}\\n#T_cfd65_ td {\\n  text-align: left;\\n  white-space: pre-wrap;\\n}\\n</style>\\n<table id=\\\"T_cfd65_\\\">\\n  <thead>\\n    <tr>\\n      <th class=\\\"col_heading level0 col0\\\" >Status</th>\\n      <th class=\\\"col_heading level0 col1\\\" >Condition</th>\\n      <th class=\\\"col_heading level0 col2\\\" >More Info</th>\\n    </tr>\\n  </thead>\\n  <tbody>\\n    <tr>\\n      <td id=\\\"T_cfd65_row0_col0\\\" class=\\\"data row0 col0\\\" ><div style=\\\"color: green;text-align: center\\\">\\u2713</div></td>\\n      <td id=\\\"T_cfd65_row0_col1\\\" class=\\\"data row0 col1\\\" >Number of different null types is less or equal to 1</td>\\n      <td id=\\\"T_cfd65_row0_col2\\\" class=\\\"data row0 col2\\\" >Passed for 31 relevant columns</td>\\n    </tr>\\n  </tbody>\\n</table>\\n\"}}, \"1765fd5667d243b29fc9c929d58ce0ab\": {\"model_name\": \"LayoutModel\", \"model_module\": \"@jupyter-widgets/base\", \"model_module_version\": \"1.2.0\", \"state\": {}}, \"1f97a1d5cc054b05bdd358d1a81cd677\": {\"model_name\": \"DescriptionStyleModel\", \"model_module\": \"@jupyter-widgets/controls\", \"model_module_version\": \"1.5.0\", \"state\": {}}, \"94199c96e0f24437b7bd7cd8567e7b61\": {\"model_name\": \"VBoxModel\", \"model_module\": \"@jupyter-widgets/controls\", \"model_module_version\": \"1.5.0\", \"state\": {\"_dom_classes\": [], \"children\": [\"IPY_MODEL_1b05fa8f82c246daaa56ca99e3a9160f\", \"IPY_MODEL_1b78926ee66f45199bf415f6af6c2385\", \"IPY_MODEL_e00144ff65334c4c8c6513a3d6f6001a\"], \"layout\": \"IPY_MODEL_37849100f0af4012aed3b275573f85f0\"}}, \"1b05fa8f82c246daaa56ca99e3a9160f\": {\"model_name\": \"HTMLModel\", \"model_module\": \"@jupyter-widgets/controls\", \"model_module_version\": \"1.5.0\", \"state\": {\"_dom_classes\": [], \"layout\": \"IPY_MODEL_a6af4052056d41ab9c92a75660433980\", \"style\": \"IPY_MODEL_eb8271402bdb419996feb2765d9cd144\", \"value\": \"<h5><b>Additional Outputs</b></h5>\"}}, \"a6af4052056d41ab9c92a75660433980\": {\"model_name\": \"LayoutModel\", \"model_module\": \"@jupyter-widgets/base\", \"model_module_version\": \"1.2.0\", \"state\": {}}, \"eb8271402bdb419996feb2765d9cd144\": {\"model_name\": \"DescriptionStyleModel\", \"model_module\": \"@jupyter-widgets/controls\", \"model_module_version\": \"1.5.0\", \"state\": {}}, \"1b78926ee66f45199bf415f6af6c2385\": {\"model_name\": \"HTMLModel\", \"model_module\": \"@jupyter-widgets/controls\", \"model_module_version\": \"1.5.0\", \"state\": {\"_dom_classes\": [], \"layout\": \"IPY_MODEL_5725378fe65a44ac965bf93ae76704ad\", \"style\": \"IPY_MODEL_1981b5a21bf54c03adb3668b563954dd\", \"value\": \"<div><p style=\\\"font-size:0.9em;line-height:1;\\\"><i>Note - data sampling: Data is sampled from the original dataset, running on 5000 samples out of 284807. Sample size can be controlled with the \\\"n_samples\\\" parameter.</i></p></div>\"}}, \"5725378fe65a44ac965bf93ae76704ad\": {\"model_name\": \"LayoutModel\", \"model_module\": \"@jupyter-widgets/base\", \"model_module_version\": \"1.2.0\", \"state\": {}}, \"1981b5a21bf54c03adb3668b563954dd\": {\"model_name\": \"DescriptionStyleModel\", \"model_module\": \"@jupyter-widgets/controls\", \"model_module_version\": \"1.5.0\", \"state\": {}}, \"e00144ff65334c4c8c6513a3d6f6001a\": {\"model_name\": \"HTMLModel\", \"model_module\": \"@jupyter-widgets/controls\", \"model_module_version\": \"1.5.0\", \"state\": {\"_dom_classes\": [], \"layout\": \"IPY_MODEL_982540a0a08b49c9a3348e56be130e82\", \"style\": \"IPY_MODEL_fb491198af38434c83a68106f10cd2b5\", \"value\": \"<br><a href=\\\"#summary_None-section-6I1FW\\\" style=\\\"font-size: 14px;\\\">Go to top</a>\"}}, \"982540a0a08b49c9a3348e56be130e82\": {\"model_name\": \"LayoutModel\", \"model_module\": \"@jupyter-widgets/base\", \"model_module_version\": \"1.2.0\", \"state\": {}}, \"fb491198af38434c83a68106f10cd2b5\": {\"model_name\": \"DescriptionStyleModel\", \"model_module\": \"@jupyter-widgets/controls\", \"model_module_version\": \"1.5.0\", \"state\": {}}, \"37849100f0af4012aed3b275573f85f0\": {\"model_name\": \"LayoutModel\", \"model_module\": \"@jupyter-widgets/base\", \"model_module_version\": \"1.2.0\", \"state\": {}}, \"faeaeaebf32a4f8784c6895fcfec4003\": {\"model_name\": \"LayoutModel\", \"model_module\": \"@jupyter-widgets/base\", \"model_module_version\": \"1.2.0\", \"state\": {}}, \"648474dbe2204888a6e123eecc2a1ae6\": {\"model_name\": \"VBoxModel\", \"model_module\": \"@jupyter-widgets/controls\", \"model_module_version\": \"1.5.0\", \"state\": {\"_dom_classes\": [\"rendered_html\", \"jp-RenderedHTMLCommon\", \"jp-RenderedHTML\", \"jp-OutputArea-output\"], \"children\": [\"IPY_MODEL_7737dcaf24a44e1090811a3dea5e0de2\", \"IPY_MODEL_2c3910fd922f474fa27fa858669355c4\", \"IPY_MODEL_4003c713c548468688f85b643843ae2a\", \"IPY_MODEL_1e517ac824054814adf4f926bf696161\"], \"layout\": \"IPY_MODEL_3b53f9ab6fcd4a1486426ecbdeb9f75d\"}}, \"7737dcaf24a44e1090811a3dea5e0de2\": {\"model_name\": \"HTMLModel\", \"model_module\": \"@jupyter-widgets/controls\", \"model_module_version\": \"1.5.0\", \"state\": {\"_dom_classes\": [], \"layout\": \"IPY_MODEL_8ef715e3115d4fb7a372877072ea38ac\", \"style\": \"IPY_MODEL_d535ae4236534a868cd81120d1f0eba4\", \"value\": \"<h4 id=\\\"MixedDataTypes_None-section-6I1FW\\\"><b>Mixed Data Types</b></h4>\"}}, \"8ef715e3115d4fb7a372877072ea38ac\": {\"model_name\": \"LayoutModel\", \"model_module\": \"@jupyter-widgets/base\", \"model_module_version\": \"1.2.0\", \"state\": {}}, \"d535ae4236534a868cd81120d1f0eba4\": {\"model_name\": \"DescriptionStyleModel\", \"model_module\": \"@jupyter-widgets/controls\", \"model_module_version\": \"1.5.0\", \"state\": {}}, \"2c3910fd922f474fa27fa858669355c4\": {\"model_name\": \"HTMLModel\", \"model_module\": \"@jupyter-widgets/controls\", \"model_module_version\": \"1.5.0\", \"state\": {\"_dom_classes\": [], \"layout\": \"IPY_MODEL_60e0f30d7e914c52b606ee790eb5ddaa\", \"style\": \"IPY_MODEL_6edb03bf18f641309773995a8c47c285\", \"value\": \"<p>Detect columns which contain a mix of numerical and string values. <a href=\\\"https://docs.deepchecks.com/0.9/checks_gallery/tabular/data_integrity/plot_mixed_data_types.html?utm_source=display_output&utm_medium=referral&utm_campaign=check_link\\\" target=\\\"_blank\\\">Read More...</a></p>\"}}, \"60e0f30d7e914c52b606ee790eb5ddaa\": {\"model_name\": \"LayoutModel\", \"model_module\": \"@jupyter-widgets/base\", \"model_module_version\": \"1.2.0\", \"state\": {}}, \"6edb03bf18f641309773995a8c47c285\": {\"model_name\": \"DescriptionStyleModel\", \"model_module\": \"@jupyter-widgets/controls\", \"model_module_version\": \"1.5.0\", \"state\": {}}, \"4003c713c548468688f85b643843ae2a\": {\"model_name\": \"HTMLModel\", \"model_module\": \"@jupyter-widgets/controls\", \"model_module_version\": \"1.5.0\", \"state\": {\"_dom_classes\": [], \"layout\": \"IPY_MODEL_6a02886d8eb34bd79f0a01bb2663a746\", \"style\": \"IPY_MODEL_5678a95b89024a5ba6f442e8b43ecf75\", \"value\": \"<h5><b>Conditions Summary</b></h5><style type=\\\"text/css\\\">\\n#T_69d7a_ table {\\n  text-align: left;\\n  white-space: pre-wrap;\\n}\\n#T_69d7a_ thead {\\n  text-align: left;\\n  white-space: pre-wrap;\\n}\\n#T_69d7a_ tbody {\\n  text-align: left;\\n  white-space: pre-wrap;\\n}\\n#T_69d7a_ th {\\n  text-align: left;\\n  white-space: pre-wrap;\\n}\\n#T_69d7a_ td {\\n  text-align: left;\\n  white-space: pre-wrap;\\n}\\n</style>\\n<table id=\\\"T_69d7a_\\\">\\n  <thead>\\n    <tr>\\n      <th class=\\\"col_heading level0 col0\\\" >Status</th>\\n      <th class=\\\"col_heading level0 col1\\\" >Condition</th>\\n      <th class=\\\"col_heading level0 col2\\\" >More Info</th>\\n    </tr>\\n  </thead>\\n  <tbody>\\n    <tr>\\n      <td id=\\\"T_69d7a_row0_col0\\\" class=\\\"data row0 col0\\\" ><div style=\\\"color: green;text-align: center\\\">\\u2713</div></td>\\n      <td id=\\\"T_69d7a_row0_col1\\\" class=\\\"data row0 col1\\\" >Rare data types in column are either more than 10% or less than 1% of the data</td>\\n      <td id=\\\"T_69d7a_row0_col2\\\" class=\\\"data row0 col2\\\" >31 columns passed: found 0 columns with negligible types mix, and 31 columns without any types mix</td>\\n    </tr>\\n  </tbody>\\n</table>\\n\"}}, \"6a02886d8eb34bd79f0a01bb2663a746\": {\"model_name\": \"LayoutModel\", \"model_module\": \"@jupyter-widgets/base\", \"model_module_version\": \"1.2.0\", \"state\": {}}, \"5678a95b89024a5ba6f442e8b43ecf75\": {\"model_name\": \"DescriptionStyleModel\", \"model_module\": \"@jupyter-widgets/controls\", \"model_module_version\": \"1.5.0\", \"state\": {}}, \"1e517ac824054814adf4f926bf696161\": {\"model_name\": \"VBoxModel\", \"model_module\": \"@jupyter-widgets/controls\", \"model_module_version\": \"1.5.0\", \"state\": {\"_dom_classes\": [], \"children\": [\"IPY_MODEL_4de27bc0c4634edd879cf051bdec6294\", \"IPY_MODEL_59735b6fee2048d3820d79fdf2a6ebd0\", \"IPY_MODEL_1e491e5cd2cc478d84b0c2ec72153da0\"], \"layout\": \"IPY_MODEL_2ac01f1dc774449d9911c8cbe039353b\"}}, \"4de27bc0c4634edd879cf051bdec6294\": {\"model_name\": \"HTMLModel\", \"model_module\": \"@jupyter-widgets/controls\", \"model_module_version\": \"1.5.0\", \"state\": {\"_dom_classes\": [], \"layout\": \"IPY_MODEL_2fe9e04533134866ba1f5c7ce46c4b54\", \"style\": \"IPY_MODEL_b502735939a14027ba97ed17fcee8566\", \"value\": \"<h5><b>Additional Outputs</b></h5>\"}}, \"2fe9e04533134866ba1f5c7ce46c4b54\": {\"model_name\": \"LayoutModel\", \"model_module\": \"@jupyter-widgets/base\", \"model_module_version\": \"1.2.0\", \"state\": {}}, \"b502735939a14027ba97ed17fcee8566\": {\"model_name\": \"DescriptionStyleModel\", \"model_module\": \"@jupyter-widgets/controls\", \"model_module_version\": \"1.5.0\", \"state\": {}}, \"59735b6fee2048d3820d79fdf2a6ebd0\": {\"model_name\": \"HTMLModel\", \"model_module\": \"@jupyter-widgets/controls\", \"model_module_version\": \"1.5.0\", \"state\": {\"_dom_classes\": [], \"layout\": \"IPY_MODEL_15d3c11372244653af6087547c8622ed\", \"style\": \"IPY_MODEL_6f2de5656e5c47b09c47b1af28f83df3\", \"value\": \"<div><p style=\\\"font-size:0.9em;line-height:1;\\\"><i>Note - data sampling: Data is sampled from the original dataset, running on 5000 samples out of 284807. Sample size can be controlled with the \\\"n_samples\\\" parameter.</i></p></div>\"}}, \"15d3c11372244653af6087547c8622ed\": {\"model_name\": \"LayoutModel\", \"model_module\": \"@jupyter-widgets/base\", \"model_module_version\": \"1.2.0\", \"state\": {}}, \"6f2de5656e5c47b09c47b1af28f83df3\": {\"model_name\": \"DescriptionStyleModel\", \"model_module\": \"@jupyter-widgets/controls\", \"model_module_version\": \"1.5.0\", \"state\": {}}, \"1e491e5cd2cc478d84b0c2ec72153da0\": {\"model_name\": \"HTMLModel\", \"model_module\": \"@jupyter-widgets/controls\", \"model_module_version\": \"1.5.0\", \"state\": {\"_dom_classes\": [], \"layout\": \"IPY_MODEL_4646be3f785b46789150400abfbce94f\", \"style\": \"IPY_MODEL_6cc7bf576f5f4fd5b5078ca6b682685d\", \"value\": \"<br><a href=\\\"#summary_None-section-6I1FW\\\" style=\\\"font-size: 14px;\\\">Go to top</a>\"}}, \"4646be3f785b46789150400abfbce94f\": {\"model_name\": \"LayoutModel\", \"model_module\": \"@jupyter-widgets/base\", \"model_module_version\": \"1.2.0\", \"state\": {}}, \"6cc7bf576f5f4fd5b5078ca6b682685d\": {\"model_name\": \"DescriptionStyleModel\", \"model_module\": \"@jupyter-widgets/controls\", \"model_module_version\": \"1.5.0\", \"state\": {}}, \"2ac01f1dc774449d9911c8cbe039353b\": {\"model_name\": \"LayoutModel\", \"model_module\": \"@jupyter-widgets/base\", \"model_module_version\": \"1.2.0\", \"state\": {}}, \"3b53f9ab6fcd4a1486426ecbdeb9f75d\": {\"model_name\": \"LayoutModel\", \"model_module\": \"@jupyter-widgets/base\", \"model_module_version\": \"1.2.0\", \"state\": {}}, \"f426d6ceb62d415d9bcabe27cb9498a9\": {\"model_name\": \"VBoxModel\", \"model_module\": \"@jupyter-widgets/controls\", \"model_module_version\": \"1.5.0\", \"state\": {\"_dom_classes\": [\"rendered_html\", \"jp-RenderedHTMLCommon\", \"jp-RenderedHTML\", \"jp-OutputArea-output\"], \"children\": [\"IPY_MODEL_f758bb19eed24bc48b3d5a29ab9579ee\", \"IPY_MODEL_122c9ac9b3a6438a83e070ddc5a44d56\", \"IPY_MODEL_b99f61ee0c3b4beeaecd2a6035b6aeaf\", \"IPY_MODEL_f699189157814a4ba31e9d00fc57f2ad\"], \"layout\": \"IPY_MODEL_3127b07371fb46b2a12de52bf147b11e\"}}, \"f758bb19eed24bc48b3d5a29ab9579ee\": {\"model_name\": \"HTMLModel\", \"model_module\": \"@jupyter-widgets/controls\", \"model_module_version\": \"1.5.0\", \"state\": {\"_dom_classes\": [], \"layout\": \"IPY_MODEL_69658ae917bf42f9a5b804698bc1a9a5\", \"style\": \"IPY_MODEL_da9b8db7d1634f08baa32e2e228a2b9e\", \"value\": \"<h4 id=\\\"StringMismatch_None-section-6I1FW\\\"><b>String Mismatch</b></h4>\"}}, \"69658ae917bf42f9a5b804698bc1a9a5\": {\"model_name\": \"LayoutModel\", \"model_module\": \"@jupyter-widgets/base\", \"model_module_version\": \"1.2.0\", \"state\": {}}, \"da9b8db7d1634f08baa32e2e228a2b9e\": {\"model_name\": \"DescriptionStyleModel\", \"model_module\": \"@jupyter-widgets/controls\", \"model_module_version\": \"1.5.0\", \"state\": {}}, \"122c9ac9b3a6438a83e070ddc5a44d56\": {\"model_name\": \"HTMLModel\", \"model_module\": \"@jupyter-widgets/controls\", \"model_module_version\": \"1.5.0\", \"state\": {\"_dom_classes\": [], \"layout\": \"IPY_MODEL_1ba89285e51e4c828254a210969a64d2\", \"style\": \"IPY_MODEL_6dd9579f16b945569ed6160ac0bc8626\", \"value\": \"<p>Detect different variants of string categories (e.g. \\\"mislabeled\\\" vs \\\"mis-labeled\\\") in a categorical column. <a href=\\\"https://docs.deepchecks.com/0.9/checks_gallery/tabular/data_integrity/plot_string_mismatch.html?utm_source=display_output&utm_medium=referral&utm_campaign=check_link\\\" target=\\\"_blank\\\">Read More...</a></p>\"}}, \"1ba89285e51e4c828254a210969a64d2\": {\"model_name\": \"LayoutModel\", \"model_module\": \"@jupyter-widgets/base\", \"model_module_version\": \"1.2.0\", \"state\": {}}, \"6dd9579f16b945569ed6160ac0bc8626\": {\"model_name\": \"DescriptionStyleModel\", \"model_module\": \"@jupyter-widgets/controls\", \"model_module_version\": \"1.5.0\", \"state\": {}}, \"b99f61ee0c3b4beeaecd2a6035b6aeaf\": {\"model_name\": \"HTMLModel\", \"model_module\": \"@jupyter-widgets/controls\", \"model_module_version\": \"1.5.0\", \"state\": {\"_dom_classes\": [], \"layout\": \"IPY_MODEL_76a39cefe17e4152ab12d8356ee8cf6d\", \"style\": \"IPY_MODEL_30394720ad0845f6b0af92f86205f1b6\", \"value\": \"<h5><b>Conditions Summary</b></h5><style type=\\\"text/css\\\">\\n#T_fe5da_ table {\\n  text-align: left;\\n  white-space: pre-wrap;\\n}\\n#T_fe5da_ thead {\\n  text-align: left;\\n  white-space: pre-wrap;\\n}\\n#T_fe5da_ tbody {\\n  text-align: left;\\n  white-space: pre-wrap;\\n}\\n#T_fe5da_ th {\\n  text-align: left;\\n  white-space: pre-wrap;\\n}\\n#T_fe5da_ td {\\n  text-align: left;\\n  white-space: pre-wrap;\\n}\\n</style>\\n<table id=\\\"T_fe5da_\\\">\\n  <thead>\\n    <tr>\\n      <th class=\\\"col_heading level0 col0\\\" >Status</th>\\n      <th class=\\\"col_heading level0 col1\\\" >Condition</th>\\n      <th class=\\\"col_heading level0 col2\\\" >More Info</th>\\n    </tr>\\n  </thead>\\n  <tbody>\\n    <tr>\\n      <td id=\\\"T_fe5da_row0_col0\\\" class=\\\"data row0 col0\\\" ><div style=\\\"color: green;text-align: center\\\">\\u2713</div></td>\\n      <td id=\\\"T_fe5da_row0_col1\\\" class=\\\"data row0 col1\\\" >No string variants</td>\\n      <td id=\\\"T_fe5da_row0_col2\\\" class=\\\"data row0 col2\\\" >No relevant columns to check were found</td>\\n    </tr>\\n  </tbody>\\n</table>\\n\"}}, \"76a39cefe17e4152ab12d8356ee8cf6d\": {\"model_name\": \"LayoutModel\", \"model_module\": \"@jupyter-widgets/base\", \"model_module_version\": \"1.2.0\", \"state\": {}}, \"30394720ad0845f6b0af92f86205f1b6\": {\"model_name\": \"DescriptionStyleModel\", \"model_module\": \"@jupyter-widgets/controls\", \"model_module_version\": \"1.5.0\", \"state\": {}}, \"f699189157814a4ba31e9d00fc57f2ad\": {\"model_name\": \"VBoxModel\", \"model_module\": \"@jupyter-widgets/controls\", \"model_module_version\": \"1.5.0\", \"state\": {\"_dom_classes\": [], \"children\": [\"IPY_MODEL_a1aedc6ea2e84946920c3ab30c2da81c\", \"IPY_MODEL_e4980b5f1d794c008de00eee25004644\", \"IPY_MODEL_8081954e911e4d128f85cb270d0212ce\"], \"layout\": \"IPY_MODEL_1ee4127876914807abc47f23d7117211\"}}, \"a1aedc6ea2e84946920c3ab30c2da81c\": {\"model_name\": \"HTMLModel\", \"model_module\": \"@jupyter-widgets/controls\", \"model_module_version\": \"1.5.0\", \"state\": {\"_dom_classes\": [], \"layout\": \"IPY_MODEL_ec629ff372f54b9c9a3fb81ddc4ae0c3\", \"style\": \"IPY_MODEL_e0f706f8501243e392bc3d3d726728c9\", \"value\": \"<h5><b>Additional Outputs</b></h5>\"}}, \"ec629ff372f54b9c9a3fb81ddc4ae0c3\": {\"model_name\": \"LayoutModel\", \"model_module\": \"@jupyter-widgets/base\", \"model_module_version\": \"1.2.0\", \"state\": {}}, \"e0f706f8501243e392bc3d3d726728c9\": {\"model_name\": \"DescriptionStyleModel\", \"model_module\": \"@jupyter-widgets/controls\", \"model_module_version\": \"1.5.0\", \"state\": {}}, \"e4980b5f1d794c008de00eee25004644\": {\"model_name\": \"HTMLModel\", \"model_module\": \"@jupyter-widgets/controls\", \"model_module_version\": \"1.5.0\", \"state\": {\"_dom_classes\": [], \"layout\": \"IPY_MODEL_6136366d767b499fac0a95fda1b307b4\", \"style\": \"IPY_MODEL_aa5824d1b09045058f0f3d3c99c81f57\", \"value\": \"<div><p style=\\\"font-size:0.9em;line-height:1;\\\"><i>Note - data sampling: Data is sampled from the original dataset, running on 5000 samples out of 284807. Sample size can be controlled with the \\\"n_samples\\\" parameter.</i></p></div>\"}}, \"6136366d767b499fac0a95fda1b307b4\": {\"model_name\": \"LayoutModel\", \"model_module\": \"@jupyter-widgets/base\", \"model_module_version\": \"1.2.0\", \"state\": {}}, \"aa5824d1b09045058f0f3d3c99c81f57\": {\"model_name\": \"DescriptionStyleModel\", \"model_module\": \"@jupyter-widgets/controls\", \"model_module_version\": \"1.5.0\", \"state\": {}}, \"8081954e911e4d128f85cb270d0212ce\": {\"model_name\": \"HTMLModel\", \"model_module\": \"@jupyter-widgets/controls\", \"model_module_version\": \"1.5.0\", \"state\": {\"_dom_classes\": [], \"layout\": \"IPY_MODEL_9699ce6b663d4eec95988b0a7960c9c5\", \"style\": \"IPY_MODEL_8138f283dc384f329d8d6f2947abadb5\", \"value\": \"<br><a href=\\\"#summary_None-section-6I1FW\\\" style=\\\"font-size: 14px;\\\">Go to top</a>\"}}, \"9699ce6b663d4eec95988b0a7960c9c5\": {\"model_name\": \"LayoutModel\", \"model_module\": \"@jupyter-widgets/base\", \"model_module_version\": \"1.2.0\", \"state\": {}}, \"8138f283dc384f329d8d6f2947abadb5\": {\"model_name\": \"DescriptionStyleModel\", \"model_module\": \"@jupyter-widgets/controls\", \"model_module_version\": \"1.5.0\", \"state\": {}}, \"1ee4127876914807abc47f23d7117211\": {\"model_name\": \"LayoutModel\", \"model_module\": \"@jupyter-widgets/base\", \"model_module_version\": \"1.2.0\", \"state\": {}}, \"3127b07371fb46b2a12de52bf147b11e\": {\"model_name\": \"LayoutModel\", \"model_module\": \"@jupyter-widgets/base\", \"model_module_version\": \"1.2.0\", \"state\": {}}, \"65999baffc884b2f9a41e2b39c78e416\": {\"model_name\": \"VBoxModel\", \"model_module\": \"@jupyter-widgets/controls\", \"model_module_version\": \"1.5.0\", \"state\": {\"_dom_classes\": [\"rendered_html\", \"jp-RenderedHTMLCommon\", \"jp-RenderedHTML\", \"jp-OutputArea-output\"], \"children\": [\"IPY_MODEL_1790574bc73d41b29b0aa9151febf361\", \"IPY_MODEL_165a3cb03c6b447ea61c8119605120fc\", \"IPY_MODEL_6973a68e90fd4206bfa1316384c0b12f\", \"IPY_MODEL_225a7f850a3b4d69b3785592e7dbe753\"], \"layout\": \"IPY_MODEL_a52b66a8eda948c6ad363035c9c3666a\"}}, \"1790574bc73d41b29b0aa9151febf361\": {\"model_name\": \"HTMLModel\", \"model_module\": \"@jupyter-widgets/controls\", \"model_module_version\": \"1.5.0\", \"state\": {\"_dom_classes\": [], \"layout\": \"IPY_MODEL_3f13e9abbd6443dcae21b9f092b3f13f\", \"style\": \"IPY_MODEL_0b112db7cf464432abbc0b7d0e642777\", \"value\": \"<h4 id=\\\"DataDuplicates_None-section-6I1FW\\\"><b>Data Duplicates</b></h4>\"}}, \"3f13e9abbd6443dcae21b9f092b3f13f\": {\"model_name\": \"LayoutModel\", \"model_module\": \"@jupyter-widgets/base\", \"model_module_version\": \"1.2.0\", \"state\": {}}, \"0b112db7cf464432abbc0b7d0e642777\": {\"model_name\": \"DescriptionStyleModel\", \"model_module\": \"@jupyter-widgets/controls\", \"model_module_version\": \"1.5.0\", \"state\": {}}, \"165a3cb03c6b447ea61c8119605120fc\": {\"model_name\": \"HTMLModel\", \"model_module\": \"@jupyter-widgets/controls\", \"model_module_version\": \"1.5.0\", \"state\": {\"_dom_classes\": [], \"layout\": \"IPY_MODEL_63642d1e219249e7ac0a96bcb4f56a29\", \"style\": \"IPY_MODEL_672b426ec3ef4f6d8df5428e0d9d127a\", \"value\": \"<p>Checks for duplicate samples in the dataset. <a href=\\\"https://docs.deepchecks.com/0.9/checks_gallery/tabular/data_integrity/plot_data_duplicates.html?utm_source=display_output&utm_medium=referral&utm_campaign=check_link\\\" target=\\\"_blank\\\">Read More...</a></p>\"}}, \"63642d1e219249e7ac0a96bcb4f56a29\": {\"model_name\": \"LayoutModel\", \"model_module\": \"@jupyter-widgets/base\", \"model_module_version\": \"1.2.0\", \"state\": {}}, \"672b426ec3ef4f6d8df5428e0d9d127a\": {\"model_name\": \"DescriptionStyleModel\", \"model_module\": \"@jupyter-widgets/controls\", \"model_module_version\": \"1.5.0\", \"state\": {}}, \"6973a68e90fd4206bfa1316384c0b12f\": {\"model_name\": \"HTMLModel\", \"model_module\": \"@jupyter-widgets/controls\", \"model_module_version\": \"1.5.0\", \"state\": {\"_dom_classes\": [], \"layout\": \"IPY_MODEL_b489fd0e6efb4107bf0b95a06f1bf21d\", \"style\": \"IPY_MODEL_b587ad610c1a4a9a8865291a746c684e\", \"value\": \"<h5><b>Conditions Summary</b></h5><style type=\\\"text/css\\\">\\n#T_c892f_ table {\\n  text-align: left;\\n  white-space: pre-wrap;\\n}\\n#T_c892f_ thead {\\n  text-align: left;\\n  white-space: pre-wrap;\\n}\\n#T_c892f_ tbody {\\n  text-align: left;\\n  white-space: pre-wrap;\\n}\\n#T_c892f_ th {\\n  text-align: left;\\n  white-space: pre-wrap;\\n}\\n#T_c892f_ td {\\n  text-align: left;\\n  white-space: pre-wrap;\\n}\\n</style>\\n<table id=\\\"T_c892f_\\\">\\n  <thead>\\n    <tr>\\n      <th class=\\\"col_heading level0 col0\\\" >Status</th>\\n      <th class=\\\"col_heading level0 col1\\\" >Condition</th>\\n      <th class=\\\"col_heading level0 col2\\\" >More Info</th>\\n    </tr>\\n  </thead>\\n  <tbody>\\n    <tr>\\n      <td id=\\\"T_c892f_row0_col0\\\" class=\\\"data row0 col0\\\" ><div style=\\\"color: green;text-align: center\\\">\\u2713</div></td>\\n      <td id=\\\"T_c892f_row0_col1\\\" class=\\\"data row0 col1\\\" >Duplicate data ratio is less or equal to 0%</td>\\n      <td id=\\\"T_c892f_row0_col2\\\" class=\\\"data row0 col2\\\" >Found 0% duplicate data</td>\\n    </tr>\\n  </tbody>\\n</table>\\n\"}}, \"b489fd0e6efb4107bf0b95a06f1bf21d\": {\"model_name\": \"LayoutModel\", \"model_module\": \"@jupyter-widgets/base\", \"model_module_version\": \"1.2.0\", \"state\": {}}, \"b587ad610c1a4a9a8865291a746c684e\": {\"model_name\": \"DescriptionStyleModel\", \"model_module\": \"@jupyter-widgets/controls\", \"model_module_version\": \"1.5.0\", \"state\": {}}, \"225a7f850a3b4d69b3785592e7dbe753\": {\"model_name\": \"VBoxModel\", \"model_module\": \"@jupyter-widgets/controls\", \"model_module_version\": \"1.5.0\", \"state\": {\"_dom_classes\": [], \"children\": [\"IPY_MODEL_369400e8bc6f4d6faf5fdd0ab340a02b\", \"IPY_MODEL_027551b5e4a54675a54ec58305f7f53d\", \"IPY_MODEL_d4b12b0bcfe94b1f99b95a92e87d84dd\"], \"layout\": \"IPY_MODEL_56ee06f000df47fd9c316a1fde5a5b2f\"}}, \"369400e8bc6f4d6faf5fdd0ab340a02b\": {\"model_name\": \"HTMLModel\", \"model_module\": \"@jupyter-widgets/controls\", \"model_module_version\": \"1.5.0\", \"state\": {\"_dom_classes\": [], \"layout\": \"IPY_MODEL_55d25ae8d4e74b7f98fb4eb6c6d72b5a\", \"style\": \"IPY_MODEL_95d04e592af34ed2b79d91b9ba4656ef\", \"value\": \"<h5><b>Additional Outputs</b></h5>\"}}, \"55d25ae8d4e74b7f98fb4eb6c6d72b5a\": {\"model_name\": \"LayoutModel\", \"model_module\": \"@jupyter-widgets/base\", \"model_module_version\": \"1.2.0\", \"state\": {}}, \"95d04e592af34ed2b79d91b9ba4656ef\": {\"model_name\": \"DescriptionStyleModel\", \"model_module\": \"@jupyter-widgets/controls\", \"model_module_version\": \"1.5.0\", \"state\": {}}, \"027551b5e4a54675a54ec58305f7f53d\": {\"model_name\": \"HTMLModel\", \"model_module\": \"@jupyter-widgets/controls\", \"model_module_version\": \"1.5.0\", \"state\": {\"_dom_classes\": [], \"layout\": \"IPY_MODEL_afa5ca83b28948c3b6715f7a020d8d14\", \"style\": \"IPY_MODEL_3a10cdc194d14abda78c976136ea8245\", \"value\": \"<div><p style=\\\"font-size:0.9em;line-height:1;\\\"><i>Note - data sampling: Data is sampled from the original dataset, running on 5000 samples out of 284807. Sample size can be controlled with the \\\"n_samples\\\" parameter.</i></p></div>\"}}, \"afa5ca83b28948c3b6715f7a020d8d14\": {\"model_name\": \"LayoutModel\", \"model_module\": \"@jupyter-widgets/base\", \"model_module_version\": \"1.2.0\", \"state\": {}}, \"3a10cdc194d14abda78c976136ea8245\": {\"model_name\": \"DescriptionStyleModel\", \"model_module\": \"@jupyter-widgets/controls\", \"model_module_version\": \"1.5.0\", \"state\": {}}, \"d4b12b0bcfe94b1f99b95a92e87d84dd\": {\"model_name\": \"HTMLModel\", \"model_module\": \"@jupyter-widgets/controls\", \"model_module_version\": \"1.5.0\", \"state\": {\"_dom_classes\": [], \"layout\": \"IPY_MODEL_0eb16d66c456410c9a1bd63ada18cb7d\", \"style\": \"IPY_MODEL_d3d3358f79634a4bb3db9f7c3e7851bd\", \"value\": \"<br><a href=\\\"#summary_None-section-6I1FW\\\" style=\\\"font-size: 14px;\\\">Go to top</a>\"}}, \"0eb16d66c456410c9a1bd63ada18cb7d\": {\"model_name\": \"LayoutModel\", \"model_module\": \"@jupyter-widgets/base\", \"model_module_version\": \"1.2.0\", \"state\": {}}, \"d3d3358f79634a4bb3db9f7c3e7851bd\": {\"model_name\": \"DescriptionStyleModel\", \"model_module\": \"@jupyter-widgets/controls\", \"model_module_version\": \"1.5.0\", \"state\": {}}, \"56ee06f000df47fd9c316a1fde5a5b2f\": {\"model_name\": \"LayoutModel\", \"model_module\": \"@jupyter-widgets/base\", \"model_module_version\": \"1.2.0\", \"state\": {}}, \"a52b66a8eda948c6ad363035c9c3666a\": {\"model_name\": \"LayoutModel\", \"model_module\": \"@jupyter-widgets/base\", \"model_module_version\": \"1.2.0\", \"state\": {}}, \"df8c23ba9b4340ee845847f59878fe2b\": {\"model_name\": \"VBoxModel\", \"model_module\": \"@jupyter-widgets/controls\", \"model_module_version\": \"1.5.0\", \"state\": {\"_dom_classes\": [\"rendered_html\", \"jp-RenderedHTMLCommon\", \"jp-RenderedHTML\", \"jp-OutputArea-output\"], \"children\": [\"IPY_MODEL_5ca346c52839441e9c13044a8249da22\", \"IPY_MODEL_2a402a4891bd4583a9aea1fca20f41f6\", \"IPY_MODEL_ba781eb9ab8545e988b4169c8dfcd76e\", \"IPY_MODEL_0c4fa58463014f0e9f7fc40f65bf098b\"], \"layout\": \"IPY_MODEL_f4f46aaf627e425a9b2d8856a1ab7ced\"}}, \"5ca346c52839441e9c13044a8249da22\": {\"model_name\": \"HTMLModel\", \"model_module\": \"@jupyter-widgets/controls\", \"model_module_version\": \"1.5.0\", \"state\": {\"_dom_classes\": [], \"layout\": \"IPY_MODEL_d79918e145634d6fbade8f0c86f90c65\", \"style\": \"IPY_MODEL_4f5d593e6c4a484bb6983f85e3a15cd0\", \"value\": \"<h4 id=\\\"StringLengthOutOfBounds_None-section-6I1FW\\\"><b>String Length Out Of Bounds</b></h4>\"}}, \"d79918e145634d6fbade8f0c86f90c65\": {\"model_name\": \"LayoutModel\", \"model_module\": \"@jupyter-widgets/base\", \"model_module_version\": \"1.2.0\", \"state\": {}}, \"4f5d593e6c4a484bb6983f85e3a15cd0\": {\"model_name\": \"DescriptionStyleModel\", \"model_module\": \"@jupyter-widgets/controls\", \"model_module_version\": \"1.5.0\", \"state\": {}}, \"2a402a4891bd4583a9aea1fca20f41f6\": {\"model_name\": \"HTMLModel\", \"model_module\": \"@jupyter-widgets/controls\", \"model_module_version\": \"1.5.0\", \"state\": {\"_dom_classes\": [], \"layout\": \"IPY_MODEL_0671aa8b38654e19a2d6826d84832244\", \"style\": \"IPY_MODEL_8dffa7bfe32c4108bde625aa2cbaaf81\", \"value\": \"<p>Detect strings with length that is much longer/shorter than the identified \\\"normal\\\" string lengths. <a href=\\\"https://docs.deepchecks.com/0.9/checks_gallery/tabular/data_integrity/plot_string_length_out_of_bounds.html?utm_source=display_output&utm_medium=referral&utm_campaign=check_link\\\" target=\\\"_blank\\\">Read More...</a></p>\"}}, \"0671aa8b38654e19a2d6826d84832244\": {\"model_name\": \"LayoutModel\", \"model_module\": \"@jupyter-widgets/base\", \"model_module_version\": \"1.2.0\", \"state\": {}}, \"8dffa7bfe32c4108bde625aa2cbaaf81\": {\"model_name\": \"DescriptionStyleModel\", \"model_module\": \"@jupyter-widgets/controls\", \"model_module_version\": \"1.5.0\", \"state\": {}}, \"ba781eb9ab8545e988b4169c8dfcd76e\": {\"model_name\": \"HTMLModel\", \"model_module\": \"@jupyter-widgets/controls\", \"model_module_version\": \"1.5.0\", \"state\": {\"_dom_classes\": [], \"layout\": \"IPY_MODEL_bf0925a507db4ec9babfc42a190da44a\", \"style\": \"IPY_MODEL_6b04446bc23f4c8d94bd589395de1852\", \"value\": \"<h5><b>Conditions Summary</b></h5><style type=\\\"text/css\\\">\\n#T_239c1_ table {\\n  text-align: left;\\n  white-space: pre-wrap;\\n}\\n#T_239c1_ thead {\\n  text-align: left;\\n  white-space: pre-wrap;\\n}\\n#T_239c1_ tbody {\\n  text-align: left;\\n  white-space: pre-wrap;\\n}\\n#T_239c1_ th {\\n  text-align: left;\\n  white-space: pre-wrap;\\n}\\n#T_239c1_ td {\\n  text-align: left;\\n  white-space: pre-wrap;\\n}\\n</style>\\n<table id=\\\"T_239c1_\\\">\\n  <thead>\\n    <tr>\\n      <th class=\\\"col_heading level0 col0\\\" >Status</th>\\n      <th class=\\\"col_heading level0 col1\\\" >Condition</th>\\n      <th class=\\\"col_heading level0 col2\\\" >More Info</th>\\n    </tr>\\n  </thead>\\n  <tbody>\\n    <tr>\\n      <td id=\\\"T_239c1_row0_col0\\\" class=\\\"data row0 col0\\\" ><div style=\\\"color: green;text-align: center\\\">\\u2713</div></td>\\n      <td id=\\\"T_239c1_row0_col1\\\" class=\\\"data row0 col1\\\" >Ratio of string length outliers is less or equal to 0%</td>\\n      <td id=\\\"T_239c1_row0_col2\\\" class=\\\"data row0 col2\\\" >No relevant columns to check were found</td>\\n    </tr>\\n  </tbody>\\n</table>\\n\"}}, \"bf0925a507db4ec9babfc42a190da44a\": {\"model_name\": \"LayoutModel\", \"model_module\": \"@jupyter-widgets/base\", \"model_module_version\": \"1.2.0\", \"state\": {}}, \"6b04446bc23f4c8d94bd589395de1852\": {\"model_name\": \"DescriptionStyleModel\", \"model_module\": \"@jupyter-widgets/controls\", \"model_module_version\": \"1.5.0\", \"state\": {}}, \"0c4fa58463014f0e9f7fc40f65bf098b\": {\"model_name\": \"VBoxModel\", \"model_module\": \"@jupyter-widgets/controls\", \"model_module_version\": \"1.5.0\", \"state\": {\"_dom_classes\": [], \"children\": [\"IPY_MODEL_9ce5d6bfc4a949799dea1a0cba3b9827\", \"IPY_MODEL_9c839636553a4a47a0f7bd3761d8daec\", \"IPY_MODEL_76713083112e4e138e7ea1512dbd2e78\"], \"layout\": \"IPY_MODEL_69f1457027c4467bad5477bb28c83d07\"}}, \"9ce5d6bfc4a949799dea1a0cba3b9827\": {\"model_name\": \"HTMLModel\", \"model_module\": \"@jupyter-widgets/controls\", \"model_module_version\": \"1.5.0\", \"state\": {\"_dom_classes\": [], \"layout\": \"IPY_MODEL_d3fdb4f0469d414c8238af0555626560\", \"style\": \"IPY_MODEL_8abc9b40fb2047e7a72e35b3d3399ccf\", \"value\": \"<h5><b>Additional Outputs</b></h5>\"}}, \"d3fdb4f0469d414c8238af0555626560\": {\"model_name\": \"LayoutModel\", \"model_module\": \"@jupyter-widgets/base\", \"model_module_version\": \"1.2.0\", \"state\": {}}, \"8abc9b40fb2047e7a72e35b3d3399ccf\": {\"model_name\": \"DescriptionStyleModel\", \"model_module\": \"@jupyter-widgets/controls\", \"model_module_version\": \"1.5.0\", \"state\": {}}, \"9c839636553a4a47a0f7bd3761d8daec\": {\"model_name\": \"HTMLModel\", \"model_module\": \"@jupyter-widgets/controls\", \"model_module_version\": \"1.5.0\", \"state\": {\"_dom_classes\": [], \"layout\": \"IPY_MODEL_bf3f81100a604000b99d3f7d6f915583\", \"style\": \"IPY_MODEL_bb728092cdfe4555aee6fb68765c488b\", \"value\": \"<div><p style=\\\"font-size:0.9em;line-height:1;\\\"><i>Note - data sampling: Data is sampled from the original dataset, running on 5000 samples out of 284807. Sample size can be controlled with the \\\"n_samples\\\" parameter.</i></p></div>\"}}, \"bf3f81100a604000b99d3f7d6f915583\": {\"model_name\": \"LayoutModel\", \"model_module\": \"@jupyter-widgets/base\", \"model_module_version\": \"1.2.0\", \"state\": {}}, \"bb728092cdfe4555aee6fb68765c488b\": {\"model_name\": \"DescriptionStyleModel\", \"model_module\": \"@jupyter-widgets/controls\", \"model_module_version\": \"1.5.0\", \"state\": {}}, \"76713083112e4e138e7ea1512dbd2e78\": {\"model_name\": \"HTMLModel\", \"model_module\": \"@jupyter-widgets/controls\", \"model_module_version\": \"1.5.0\", \"state\": {\"_dom_classes\": [], \"layout\": \"IPY_MODEL_4d8a99bb28404893b8f45ed9a94687ed\", \"style\": \"IPY_MODEL_40fad1ca759944479a74574e297ba054\", \"value\": \"<br><a href=\\\"#summary_None-section-6I1FW\\\" style=\\\"font-size: 14px;\\\">Go to top</a>\"}}, \"4d8a99bb28404893b8f45ed9a94687ed\": {\"model_name\": \"LayoutModel\", \"model_module\": \"@jupyter-widgets/base\", \"model_module_version\": \"1.2.0\", \"state\": {}}, \"40fad1ca759944479a74574e297ba054\": {\"model_name\": \"DescriptionStyleModel\", \"model_module\": \"@jupyter-widgets/controls\", \"model_module_version\": \"1.5.0\", \"state\": {}}, \"69f1457027c4467bad5477bb28c83d07\": {\"model_name\": \"LayoutModel\", \"model_module\": \"@jupyter-widgets/base\", \"model_module_version\": \"1.2.0\", \"state\": {}}, \"f4f46aaf627e425a9b2d8856a1ab7ced\": {\"model_name\": \"LayoutModel\", \"model_module\": \"@jupyter-widgets/base\", \"model_module_version\": \"1.2.0\", \"state\": {}}, \"9380083703624ff4956f97a008d2e49f\": {\"model_name\": \"VBoxModel\", \"model_module\": \"@jupyter-widgets/controls\", \"model_module_version\": \"1.5.0\", \"state\": {\"_dom_classes\": [\"rendered_html\", \"jp-RenderedHTMLCommon\", \"jp-RenderedHTML\", \"jp-OutputArea-output\"], \"children\": [\"IPY_MODEL_3c48edd9da2148ada3dd635e568c1de9\", \"IPY_MODEL_9a97d95583794bf4907f23351309430f\", \"IPY_MODEL_1087cf1d3a2c4b1e8e6e73b36d87a558\", \"IPY_MODEL_af890e29ec124a1db895d74aa97e536c\"], \"layout\": \"IPY_MODEL_0c6cc02cb1664922a996da578f714ed4\"}}, \"3c48edd9da2148ada3dd635e568c1de9\": {\"model_name\": \"HTMLModel\", \"model_module\": \"@jupyter-widgets/controls\", \"model_module_version\": \"1.5.0\", \"state\": {\"_dom_classes\": [], \"layout\": \"IPY_MODEL_465efd9310dc4628abefc2bca1219002\", \"style\": \"IPY_MODEL_1ff9df4471ef41c8912aa5e14cfcdda8\", \"value\": \"<h4 id=\\\"Feature-FeatureCorrelation_None-section-6I1FW\\\"><b>Feature-Feature Correlation</b></h4>\"}}, \"465efd9310dc4628abefc2bca1219002\": {\"model_name\": \"LayoutModel\", \"model_module\": \"@jupyter-widgets/base\", \"model_module_version\": \"1.2.0\", \"state\": {}}, \"1ff9df4471ef41c8912aa5e14cfcdda8\": {\"model_name\": \"DescriptionStyleModel\", \"model_module\": \"@jupyter-widgets/controls\", \"model_module_version\": \"1.5.0\", \"state\": {}}, \"9a97d95583794bf4907f23351309430f\": {\"model_name\": \"HTMLModel\", \"model_module\": \"@jupyter-widgets/controls\", \"model_module_version\": \"1.5.0\", \"state\": {\"_dom_classes\": [], \"layout\": \"IPY_MODEL_fba8d1378a12493a8d99840faac8ea07\", \"style\": \"IPY_MODEL_f03c24d32e344dc19a26b58511ea6e87\", \"value\": \"<p>    Checks for pairwise correlation between the features. <a href=\\\"https://docs.deepchecks.com/0.9/checks_gallery/tabular/data_integrity/plot_feature_feature_correlation.html?utm_source=display_output&utm_medium=referral&utm_campaign=check_link\\\" target=\\\"_blank\\\">Read More...</a></p>\"}}, \"fba8d1378a12493a8d99840faac8ea07\": {\"model_name\": \"LayoutModel\", \"model_module\": \"@jupyter-widgets/base\", \"model_module_version\": \"1.2.0\", \"state\": {}}, \"f03c24d32e344dc19a26b58511ea6e87\": {\"model_name\": \"DescriptionStyleModel\", \"model_module\": \"@jupyter-widgets/controls\", \"model_module_version\": \"1.5.0\", \"state\": {}}, \"1087cf1d3a2c4b1e8e6e73b36d87a558\": {\"model_name\": \"HTMLModel\", \"model_module\": \"@jupyter-widgets/controls\", \"model_module_version\": \"1.5.0\", \"state\": {\"_dom_classes\": [], \"layout\": \"IPY_MODEL_2354be345c8448e3a9a715c534c08b4e\", \"style\": \"IPY_MODEL_7558984c45cd41c5a0b5128e4b15de23\", \"value\": \"<h5><b>Conditions Summary</b></h5><style type=\\\"text/css\\\">\\n#T_0da52_ table {\\n  text-align: left;\\n  white-space: pre-wrap;\\n}\\n#T_0da52_ thead {\\n  text-align: left;\\n  white-space: pre-wrap;\\n}\\n#T_0da52_ tbody {\\n  text-align: left;\\n  white-space: pre-wrap;\\n}\\n#T_0da52_ th {\\n  text-align: left;\\n  white-space: pre-wrap;\\n}\\n#T_0da52_ td {\\n  text-align: left;\\n  white-space: pre-wrap;\\n}\\n</style>\\n<table id=\\\"T_0da52_\\\">\\n  <thead>\\n    <tr>\\n      <th class=\\\"col_heading level0 col0\\\" >Status</th>\\n      <th class=\\\"col_heading level0 col1\\\" >Condition</th>\\n      <th class=\\\"col_heading level0 col2\\\" >More Info</th>\\n    </tr>\\n  </thead>\\n  <tbody>\\n    <tr>\\n      <td id=\\\"T_0da52_row0_col0\\\" class=\\\"data row0 col0\\\" ><div style=\\\"color: green;text-align: center\\\">\\u2713</div></td>\\n      <td id=\\\"T_0da52_row0_col1\\\" class=\\\"data row0 col1\\\" >Not more than 0 pairs are correlated above 0.9</td>\\n      <td id=\\\"T_0da52_row0_col2\\\" class=\\\"data row0 col2\\\" >All correlations are less than 0.9 except pairs []</td>\\n    </tr>\\n  </tbody>\\n</table>\\n\"}}, \"2354be345c8448e3a9a715c534c08b4e\": {\"model_name\": \"LayoutModel\", \"model_module\": \"@jupyter-widgets/base\", \"model_module_version\": \"1.2.0\", \"state\": {}}, \"7558984c45cd41c5a0b5128e4b15de23\": {\"model_name\": \"DescriptionStyleModel\", \"model_module\": \"@jupyter-widgets/controls\", \"model_module_version\": \"1.5.0\", \"state\": {}}, \"af890e29ec124a1db895d74aa97e536c\": {\"model_name\": \"VBoxModel\", \"model_module\": \"@jupyter-widgets/controls\", \"model_module_version\": \"1.5.0\", \"state\": {\"_dom_classes\": [], \"children\": [\"IPY_MODEL_8eddfb63bd734e3cb255f689e36a6590\", \"IPY_MODEL_13e403998dc94bd9b55f4a130e349dfc\", \"IPY_MODEL_323b886e84364f399e9e2f1117bb4f79\", \"IPY_MODEL_150fe6d8168d4d79a868805b00cf53e6\", \"IPY_MODEL_ce41b503888d4726bd2f3476d41e0fa2\"], \"layout\": \"IPY_MODEL_7da0b5bae73a493dbcbb07c024f1ce0f\"}}, \"8eddfb63bd734e3cb255f689e36a6590\": {\"model_name\": \"HTMLModel\", \"model_module\": \"@jupyter-widgets/controls\", \"model_module_version\": \"1.5.0\", \"state\": {\"_dom_classes\": [], \"layout\": \"IPY_MODEL_8f9ada19a46f4cc6926221fd9757b96c\", \"style\": \"IPY_MODEL_3e0c7bb8fe1b48f0bf0d641be43d097b\", \"value\": \"<h5><b>Additional Outputs</b></h5>\"}}, \"8f9ada19a46f4cc6926221fd9757b96c\": {\"model_name\": \"LayoutModel\", \"model_module\": \"@jupyter-widgets/base\", \"model_module_version\": \"1.2.0\", \"state\": {}}, \"3e0c7bb8fe1b48f0bf0d641be43d097b\": {\"model_name\": \"DescriptionStyleModel\", \"model_module\": \"@jupyter-widgets/controls\", \"model_module_version\": \"1.5.0\", \"state\": {}}, \"13e403998dc94bd9b55f4a130e349dfc\": {\"model_name\": \"FigureModel\", \"model_module\": \"jupyterlab-plotly\", \"model_module_version\": \"^5.5.0\", \"state\": {\"_config\": {\"plotlyServerURL\": \"https://plot.ly\"}, \"_data\": [{\"coloraxis\": \"coloraxis\", \"hovertemplate\": \"x: %{x}<br>y: %{y}<br>color: %{z}<extra></extra>\", \"name\": \"0\", \"x\": [\"Time\", \"V16\", \"Amount\", \"V28\", \"V27\", \"V26\", \"V25\", \"V24\", \"V23\", \"V22\"], \"xaxis\": \"x\", \"y\": [\"Time\", \"V16\", \"Amount\", \"V28\", \"V27\", \"V26\", \"V25\", \"V24\", \"V23\", \"V22\"], \"yaxis\": \"y\", \"z\": [[1.0, 0.017050641028993258, 0.03348657755209112, 0.14169351333680819, 0.02857354777494725, 0.010679470438091082, 0.2442962065634747, 0.011564227067710936, 0.13519276405239633, 0.12501833672377968], [0.017050641028993258, 1.0, 0.1040468001447407, 0.004293174703024146, 0.02821739452636674, 0.05466258366848421, 0.007764465628541735, 0.02751593286576955, 0.028839862199743504, 0.055062119268772476], [0.03348657755209112, 0.1040468001447407, 1.0, 0.002112396563025488, 0.13326765716704292, 0.07482059738148773, 0.034411495206918385, 0.0072301648482403155, 0.06303579662962355, 0.04618691859019396], [0.14169351333680819, 0.004293174703024146, 0.002112396563025488, 1.0, 0.4499579254158847, 0.012875548844910375, 0.06231831902059323, 0.03691104486478948, 0.05244033189788745, 0.040324959659967956], [0.02857354777494725, 0.02821739452636674, 0.13326765716704292, 0.4499579254158847, 1.0, 0.15534900729326834, 0.08961576941345568, 0.0380804626724643, 0.05479837039401996, 0.08909632760027908], [0.010679470438091082, 0.05466258366848421, 0.07482059738148773, 0.012875548844910375, 0.15534900729326834, 1.0, 0.05225969185852312, 0.020126574388520186, 0.016856151087191566, 0.04826838667180559], [0.2442962065634747, 0.007764465628541735, 0.034411495206918385, 0.06231831902059323, 0.08961576941345568, 0.05225969185852312, 1.0, 0.012862812908391157, 0.43565862307293074, 0.044278760237156496], [0.011564227067710936, 0.02751593286576955, 0.0072301648482403155, 0.03691104486478948, 0.0380804626724643, 0.020126574388520186, 0.012862812908391157, 1.0, 0.10478315966379985, 0.018295229257859907], [0.13519276405239633, 0.028839862199743504, 0.06303579662962355, 0.05244033189788745, 0.05479837039401996, 0.016856151087191566, 0.43565862307293074, 0.10478315966379985, 1.0, 0.23923357253707428], [0.12501833672377968, 0.055062119268772476, 0.04618691859019396, 0.040324959659967956, 0.08909632760027908, 0.04826838667180559, 0.044278760237156496, 0.018295229257859907, 0.23923357253707428, 1.0]], \"type\": \"heatmap\", \"uid\": \"80864728-b5e4-4943-9a11-1f1feb11a7d4\"}], \"_dom_classes\": [], \"_js2py_layoutDelta\": {}, \"_js2py_pointsCallback\": {}, \"_js2py_relayout\": {}, \"_js2py_restyle\": {}, \"_js2py_traceDeltas\": {}, \"_js2py_update\": {}, \"_layout\": {\"coloraxis\": {\"colorscale\": [[0.0, \"rgb(3, 35, 51)\"], [0.09090909090909091, \"rgb(13, 48, 100)\"], [0.18181818181818182, \"rgb(53, 50, 155)\"], [0.2727272727272727, \"rgb(93, 62, 153)\"], [0.36363636363636365, \"rgb(126, 77, 143)\"], [0.45454545454545453, \"rgb(158, 89, 135)\"], [0.5454545454545454, \"rgb(193, 100, 121)\"], [0.6363636363636364, \"rgb(225, 113, 97)\"], [0.7272727272727273, \"rgb(246, 139, 69)\"], [0.8181818181818182, \"rgb(251, 173, 60)\"], [0.9090909090909091, \"rgb(246, 211, 70)\"], [1.0, \"rgb(231, 250, 90)\"]]}, \"margin\": {\"t\": 60}, \"template\": {\"data\": {\"barpolar\": [{\"marker\": {\"line\": {\"color\": \"#E5ECF6\", \"width\": 0.5}, \"pattern\": {\"fillmode\": \"overlay\", \"size\": 10, \"solidity\": 0.2}}, \"type\": \"barpolar\"}], \"bar\": [{\"error_x\": {\"color\": \"#2a3f5f\"}, \"error_y\": {\"color\": \"#2a3f5f\"}, \"marker\": {\"line\": {\"color\": \"#E5ECF6\", \"width\": 0.5}, \"pattern\": {\"fillmode\": \"overlay\", \"size\": 10, \"solidity\": 0.2}}, \"type\": \"bar\"}], \"carpet\": [{\"aaxis\": {\"endlinecolor\": \"#2a3f5f\", \"gridcolor\": \"white\", \"linecolor\": \"white\", \"minorgridcolor\": \"white\", \"startlinecolor\": \"#2a3f5f\"}, \"baxis\": {\"endlinecolor\": \"#2a3f5f\", \"gridcolor\": \"white\", \"linecolor\": \"white\", \"minorgridcolor\": \"white\", \"startlinecolor\": \"#2a3f5f\"}, \"type\": \"carpet\"}], \"choropleth\": [{\"colorbar\": {\"outlinewidth\": 0, \"ticks\": \"\"}, \"type\": \"choropleth\"}], \"contourcarpet\": [{\"colorbar\": {\"outlinewidth\": 0, \"ticks\": \"\"}, \"type\": \"contourcarpet\"}], \"contour\": [{\"colorbar\": {\"outlinewidth\": 0, \"ticks\": \"\"}, \"colorscale\": [[0.0, \"#0d0887\"], [0.1111111111111111, \"#46039f\"], [0.2222222222222222, \"#7201a8\"], [0.3333333333333333, \"#9c179e\"], [0.4444444444444444, \"#bd3786\"], [0.5555555555555556, \"#d8576b\"], [0.6666666666666666, \"#ed7953\"], [0.7777777777777778, \"#fb9f3a\"], [0.8888888888888888, \"#fdca26\"], [1.0, \"#f0f921\"]], \"type\": \"contour\"}], \"heatmapgl\": [{\"colorbar\": {\"outlinewidth\": 0, \"ticks\": \"\"}, \"colorscale\": [[0.0, \"#0d0887\"], [0.1111111111111111, \"#46039f\"], [0.2222222222222222, \"#7201a8\"], [0.3333333333333333, \"#9c179e\"], [0.4444444444444444, \"#bd3786\"], [0.5555555555555556, \"#d8576b\"], [0.6666666666666666, \"#ed7953\"], [0.7777777777777778, \"#fb9f3a\"], [0.8888888888888888, \"#fdca26\"], [1.0, \"#f0f921\"]], \"type\": \"heatmapgl\"}], \"heatmap\": [{\"colorbar\": {\"outlinewidth\": 0, \"ticks\": \"\"}, \"colorscale\": [[0.0, \"#0d0887\"], [0.1111111111111111, \"#46039f\"], [0.2222222222222222, \"#7201a8\"], [0.3333333333333333, \"#9c179e\"], [0.4444444444444444, \"#bd3786\"], [0.5555555555555556, \"#d8576b\"], [0.6666666666666666, \"#ed7953\"], [0.7777777777777778, \"#fb9f3a\"], [0.8888888888888888, \"#fdca26\"], [1.0, \"#f0f921\"]], \"type\": \"heatmap\"}], \"histogram2dcontour\": [{\"colorbar\": {\"outlinewidth\": 0, \"ticks\": \"\"}, \"colorscale\": [[0.0, \"#0d0887\"], [0.1111111111111111, \"#46039f\"], [0.2222222222222222, \"#7201a8\"], [0.3333333333333333, \"#9c179e\"], [0.4444444444444444, \"#bd3786\"], [0.5555555555555556, \"#d8576b\"], [0.6666666666666666, \"#ed7953\"], [0.7777777777777778, \"#fb9f3a\"], [0.8888888888888888, \"#fdca26\"], [1.0, \"#f0f921\"]], \"type\": \"histogram2dcontour\"}], \"histogram2d\": [{\"colorbar\": {\"outlinewidth\": 0, \"ticks\": \"\"}, \"colorscale\": [[0.0, \"#0d0887\"], [0.1111111111111111, \"#46039f\"], [0.2222222222222222, \"#7201a8\"], [0.3333333333333333, \"#9c179e\"], [0.4444444444444444, \"#bd3786\"], [0.5555555555555556, \"#d8576b\"], [0.6666666666666666, \"#ed7953\"], [0.7777777777777778, \"#fb9f3a\"], [0.8888888888888888, \"#fdca26\"], [1.0, \"#f0f921\"]], \"type\": \"histogram2d\"}], \"histogram\": [{\"marker\": {\"pattern\": {\"fillmode\": \"overlay\", \"size\": 10, \"solidity\": 0.2}}, \"type\": \"histogram\"}], \"mesh3d\": [{\"colorbar\": {\"outlinewidth\": 0, \"ticks\": \"\"}, \"type\": \"mesh3d\"}], \"parcoords\": [{\"line\": {\"colorbar\": {\"outlinewidth\": 0, \"ticks\": \"\"}}, \"type\": \"parcoords\"}], \"pie\": [{\"automargin\": true, \"type\": \"pie\"}], \"scatter3d\": [{\"line\": {\"colorbar\": {\"outlinewidth\": 0, \"ticks\": \"\"}}, \"marker\": {\"colorbar\": {\"outlinewidth\": 0, \"ticks\": \"\"}}, \"type\": \"scatter3d\"}], \"scattercarpet\": [{\"marker\": {\"colorbar\": {\"outlinewidth\": 0, \"ticks\": \"\"}}, \"type\": \"scattercarpet\"}], \"scattergeo\": [{\"marker\": {\"colorbar\": {\"outlinewidth\": 0, \"ticks\": \"\"}}, \"type\": \"scattergeo\"}], \"scattergl\": [{\"marker\": {\"colorbar\": {\"outlinewidth\": 0, \"ticks\": \"\"}}, \"type\": \"scattergl\"}], \"scattermapbox\": [{\"marker\": {\"colorbar\": {\"outlinewidth\": 0, \"ticks\": \"\"}}, \"type\": \"scattermapbox\"}], \"scatterpolargl\": [{\"marker\": {\"colorbar\": {\"outlinewidth\": 0, \"ticks\": \"\"}}, \"type\": \"scatterpolargl\"}], \"scatterpolar\": [{\"marker\": {\"colorbar\": {\"outlinewidth\": 0, \"ticks\": \"\"}}, \"type\": \"scatterpolar\"}], \"scatter\": [{\"marker\": {\"colorbar\": {\"outlinewidth\": 0, \"ticks\": \"\"}}, \"type\": \"scatter\"}], \"scatterternary\": [{\"marker\": {\"colorbar\": {\"outlinewidth\": 0, \"ticks\": \"\"}}, \"type\": \"scatterternary\"}], \"surface\": [{\"colorbar\": {\"outlinewidth\": 0, \"ticks\": \"\"}, \"colorscale\": [[0.0, \"#0d0887\"], [0.1111111111111111, \"#46039f\"], [0.2222222222222222, \"#7201a8\"], [0.3333333333333333, \"#9c179e\"], [0.4444444444444444, \"#bd3786\"], [0.5555555555555556, \"#d8576b\"], [0.6666666666666666, \"#ed7953\"], [0.7777777777777778, \"#fb9f3a\"], [0.8888888888888888, \"#fdca26\"], [1.0, \"#f0f921\"]], \"type\": \"surface\"}], \"table\": [{\"cells\": {\"fill\": {\"color\": \"#EBF0F8\"}, \"line\": {\"color\": \"white\"}}, \"header\": {\"fill\": {\"color\": \"#C8D4E3\"}, \"line\": {\"color\": \"white\"}}, \"type\": \"table\"}]}, \"layout\": {\"annotationdefaults\": {\"arrowcolor\": \"#2a3f5f\", \"arrowhead\": 0, \"arrowwidth\": 1}, \"autotypenumbers\": \"strict\", \"coloraxis\": {\"colorbar\": {\"outlinewidth\": 0, \"ticks\": \"\"}}, \"colorscale\": {\"diverging\": [[0, \"#8e0152\"], [0.1, \"#c51b7d\"], [0.2, \"#de77ae\"], [0.3, \"#f1b6da\"], [0.4, \"#fde0ef\"], [0.5, \"#f7f7f7\"], [0.6, \"#e6f5d0\"], [0.7, \"#b8e186\"], [0.8, \"#7fbc41\"], [0.9, \"#4d9221\"], [1, \"#276419\"]], \"sequential\": [[0.0, \"#0d0887\"], [0.1111111111111111, \"#46039f\"], [0.2222222222222222, \"#7201a8\"], [0.3333333333333333, \"#9c179e\"], [0.4444444444444444, \"#bd3786\"], [0.5555555555555556, \"#d8576b\"], [0.6666666666666666, \"#ed7953\"], [0.7777777777777778, \"#fb9f3a\"], [0.8888888888888888, \"#fdca26\"], [1.0, \"#f0f921\"]], \"sequentialminus\": [[0.0, \"#0d0887\"], [0.1111111111111111, \"#46039f\"], [0.2222222222222222, \"#7201a8\"], [0.3333333333333333, \"#9c179e\"], [0.4444444444444444, \"#bd3786\"], [0.5555555555555556, \"#d8576b\"], [0.6666666666666666, \"#ed7953\"], [0.7777777777777778, \"#fb9f3a\"], [0.8888888888888888, \"#fdca26\"], [1.0, \"#f0f921\"]]}, \"colorway\": [\"#636efa\", \"#EF553B\", \"#00cc96\", \"#ab63fa\", \"#FFA15A\", \"#19d3f3\", \"#FF6692\", \"#B6E880\", \"#FF97FF\", \"#FECB52\"], \"font\": {\"color\": \"#2a3f5f\"}, \"geo\": {\"bgcolor\": \"white\", \"lakecolor\": \"white\", \"landcolor\": \"#E5ECF6\", \"showlakes\": true, \"showland\": true, \"subunitcolor\": \"white\"}, \"hoverlabel\": {\"align\": \"left\"}, \"hovermode\": \"closest\", \"mapbox\": {\"style\": \"light\"}, \"paper_bgcolor\": \"white\", \"plot_bgcolor\": \"#E5ECF6\", \"polar\": {\"angularaxis\": {\"gridcolor\": \"white\", \"linecolor\": \"white\", \"ticks\": \"\"}, \"bgcolor\": \"#E5ECF6\", \"radialaxis\": {\"gridcolor\": \"white\", \"linecolor\": \"white\", \"ticks\": \"\"}}, \"scene\": {\"xaxis\": {\"backgroundcolor\": \"#E5ECF6\", \"gridcolor\": \"white\", \"gridwidth\": 2, \"linecolor\": \"white\", \"showbackground\": true, \"ticks\": \"\", \"zerolinecolor\": \"white\"}, \"yaxis\": {\"backgroundcolor\": \"#E5ECF6\", \"gridcolor\": \"white\", \"gridwidth\": 2, \"linecolor\": \"white\", \"showbackground\": true, \"ticks\": \"\", \"zerolinecolor\": \"white\"}, \"zaxis\": {\"backgroundcolor\": \"#E5ECF6\", \"gridcolor\": \"white\", \"gridwidth\": 2, \"linecolor\": \"white\", \"showbackground\": true, \"ticks\": \"\", \"zerolinecolor\": \"white\"}}, \"shapedefaults\": {\"line\": {\"color\": \"#2a3f5f\"}}, \"ternary\": {\"aaxis\": {\"gridcolor\": \"white\", \"linecolor\": \"white\", \"ticks\": \"\"}, \"baxis\": {\"gridcolor\": \"white\", \"linecolor\": \"white\", \"ticks\": \"\"}, \"bgcolor\": \"#E5ECF6\", \"caxis\": {\"gridcolor\": \"white\", \"linecolor\": \"white\", \"ticks\": \"\"}}, \"title\": {\"x\": 0.05}, \"xaxis\": {\"automargin\": true, \"gridcolor\": \"white\", \"linecolor\": \"white\", \"ticks\": \"\", \"title\": {\"standoff\": 15}, \"zerolinecolor\": \"white\", \"zerolinewidth\": 2}, \"yaxis\": {\"automargin\": true, \"gridcolor\": \"white\", \"linecolor\": \"white\", \"ticks\": \"\", \"title\": {\"standoff\": 15}, \"zerolinecolor\": \"white\", \"zerolinewidth\": 2}}}, \"xaxis\": {\"anchor\": \"y\", \"constrain\": \"domain\", \"domain\": [0.0, 1.0], \"scaleanchor\": \"y\"}, \"yaxis\": {\"anchor\": \"x\", \"autorange\": \"reversed\", \"constrain\": \"domain\", \"domain\": [0.0, 1.0]}}, \"_py2js_addTraces\": {}, \"_py2js_animate\": {}, \"_py2js_deleteTraces\": {}, \"_py2js_moveTraces\": {}, \"_py2js_relayout\": {}, \"_py2js_removeLayoutProps\": {}, \"_py2js_removeTraceProps\": {}, \"_py2js_restyle\": {}, \"_py2js_update\": {}, \"_view_count\": 0}}, \"323b886e84364f399e9e2f1117bb4f79\": {\"model_name\": \"HTMLModel\", \"model_module\": \"@jupyter-widgets/controls\", \"model_module_version\": \"1.5.0\", \"state\": {\"_dom_classes\": [], \"layout\": \"IPY_MODEL_dfaec4bc46694675831a2ca245dc5e2b\", \"style\": \"IPY_MODEL_86faebf39e034d20b7ff706c43986729\", \"value\": \"<div>* Displayed as absolute values.</div>\"}}, \"dfaec4bc46694675831a2ca245dc5e2b\": {\"model_name\": \"LayoutModel\", \"model_module\": \"@jupyter-widgets/base\", \"model_module_version\": \"1.2.0\", \"state\": {}}, \"86faebf39e034d20b7ff706c43986729\": {\"model_name\": \"DescriptionStyleModel\", \"model_module\": \"@jupyter-widgets/controls\", \"model_module_version\": \"1.5.0\", \"state\": {}}, \"150fe6d8168d4d79a868805b00cf53e6\": {\"model_name\": \"HTMLModel\", \"model_module\": \"@jupyter-widgets/controls\", \"model_module_version\": \"1.5.0\", \"state\": {\"_dom_classes\": [], \"layout\": \"IPY_MODEL_9d62edca9de84364ae99ab2f6d9c1819\", \"style\": \"IPY_MODEL_f6930d8bf6bd4ef5bca412bfdb6d0a15\", \"value\": \"<div><p style=\\\"font-size:0.9em;line-height:1;\\\"><i>Note - data sampling: Data is sampled from the original dataset, running on 5000 samples out of 284807. Sample size can be controlled with the \\\"n_samples\\\" parameter.</i></p></div>\"}}, \"9d62edca9de84364ae99ab2f6d9c1819\": {\"model_name\": \"LayoutModel\", \"model_module\": \"@jupyter-widgets/base\", \"model_module_version\": \"1.2.0\", \"state\": {}}, \"f6930d8bf6bd4ef5bca412bfdb6d0a15\": {\"model_name\": \"DescriptionStyleModel\", \"model_module\": \"@jupyter-widgets/controls\", \"model_module_version\": \"1.5.0\", \"state\": {}}, \"ce41b503888d4726bd2f3476d41e0fa2\": {\"model_name\": \"HTMLModel\", \"model_module\": \"@jupyter-widgets/controls\", \"model_module_version\": \"1.5.0\", \"state\": {\"_dom_classes\": [], \"layout\": \"IPY_MODEL_9cedcbcda98b4eb4b7d80fbab7794ea4\", \"style\": \"IPY_MODEL_0e09a3d9828e4168b85018de29fe6408\", \"value\": \"<br><a href=\\\"#summary_None-section-6I1FW\\\" style=\\\"font-size: 14px;\\\">Go to top</a>\"}}, \"9cedcbcda98b4eb4b7d80fbab7794ea4\": {\"model_name\": \"LayoutModel\", \"model_module\": \"@jupyter-widgets/base\", \"model_module_version\": \"1.2.0\", \"state\": {}}, \"0e09a3d9828e4168b85018de29fe6408\": {\"model_name\": \"DescriptionStyleModel\", \"model_module\": \"@jupyter-widgets/controls\", \"model_module_version\": \"1.5.0\", \"state\": {}}, \"7da0b5bae73a493dbcbb07c024f1ce0f\": {\"model_name\": \"LayoutModel\", \"model_module\": \"@jupyter-widgets/base\", \"model_module_version\": \"1.2.0\", \"state\": {}}, \"0c6cc02cb1664922a996da578f714ed4\": {\"model_name\": \"LayoutModel\", \"model_module\": \"@jupyter-widgets/base\", \"model_module_version\": \"1.2.0\", \"state\": {}}, \"0f1ff033f8c44c1193b8b5234621ecc6\": {\"model_name\": \"LayoutModel\", \"model_module\": \"@jupyter-widgets/base\", \"model_module_version\": \"1.2.0\", \"state\": {}}, \"8b51ba6762a247369d19370e8723be2e\": {\"model_name\": \"LayoutModel\", \"model_module\": \"@jupyter-widgets/base\", \"model_module_version\": \"1.2.0\", \"state\": {}}, \"0c929b4d798649f096d191e2ae54224a\": {\"model_name\": \"LayoutModel\", \"model_module\": \"@jupyter-widgets/base\", \"model_module_version\": \"1.2.0\", \"state\": {}}, \"1a15dbd160c0496a94cdfc1af1cfd7c9\": {\"model_name\": \"VBoxModel\", \"model_module\": \"@jupyter-widgets/controls\", \"model_module_version\": \"1.5.0\", \"state\": {\"_dom_classes\": [], \"children\": [\"IPY_MODEL_b7ffb912470b4c2091f79989cc1270c1\", \"IPY_MODEL_1185efba87f54f2b9285def0ce113628\"], \"layout\": \"IPY_MODEL_53d92be90f8445278f5385d4d7dc789f\"}}, \"b7ffb912470b4c2091f79989cc1270c1\": {\"model_name\": \"HTMLModel\", \"model_module\": \"@jupyter-widgets/controls\", \"model_module_version\": \"1.5.0\", \"state\": {\"_dom_classes\": [], \"layout\": \"IPY_MODEL_77c9c1d1d4ab42809f20dfe2a75194a5\", \"style\": \"IPY_MODEL_d9a2c07e6211476497454e38b401f247\", \"value\": \"<span id=\\\"summary_None-section-FQVGD\\\"></span>\"}}, \"77c9c1d1d4ab42809f20dfe2a75194a5\": {\"model_name\": \"LayoutModel\", \"model_module\": \"@jupyter-widgets/base\", \"model_module_version\": \"1.2.0\", \"state\": {}}, \"d9a2c07e6211476497454e38b401f247\": {\"model_name\": \"DescriptionStyleModel\", \"model_module\": \"@jupyter-widgets/controls\", \"model_module_version\": \"1.5.0\", \"state\": {}}, \"1185efba87f54f2b9285def0ce113628\": {\"model_name\": \"AccordionModel\", \"model_module\": \"@jupyter-widgets/controls\", \"model_module_version\": \"1.5.0\", \"state\": {\"_dom_classes\": [\"rendered_html\", \"jp-RenderedHTMLCommon\", \"jp-RenderedHTML\", \"jp-OutputArea-output\"], \"_titles\": {\"0\": \"Other\"}, \"children\": [\"IPY_MODEL_6c332ab4180a4731871381d4ef793f08\"], \"layout\": \"IPY_MODEL_742fe502406740fb8b8b4e04a7015e01\", \"selected_index\": null}}, \"6c332ab4180a4731871381d4ef793f08\": {\"model_name\": \"VBoxModel\", \"model_module\": \"@jupyter-widgets/controls\", \"model_module_version\": \"1.5.0\", \"state\": {\"_dom_classes\": [], \"children\": [\"IPY_MODEL_bb30551f2d984781aefa3dce9d543fde\", \"IPY_MODEL_fcfe843acd274ae5b083c130c82a726e\", \"IPY_MODEL_097573166c454e0eb8e4f5e65b3ad5ad\"], \"layout\": \"IPY_MODEL_b0031d7d6dab4acc93bfbf123d5b6efe\"}}, \"bb30551f2d984781aefa3dce9d543fde\": {\"model_name\": \"HTMLModel\", \"model_module\": \"@jupyter-widgets/controls\", \"model_module_version\": \"1.5.0\", \"state\": {\"_dom_classes\": [], \"layout\": \"IPY_MODEL_6e92504d560844eb8293ed29dbf6d340\", \"style\": \"IPY_MODEL_71c6d4dd0e3b4b128fd64b670175a56d\", \"value\": \"<style type=\\\"text/css\\\">\\n#T_4f2c9_ table {\\n  text-align: left;\\n  white-space: pre-wrap;\\n}\\n#T_4f2c9_ thead {\\n  text-align: left;\\n  white-space: pre-wrap;\\n}\\n#T_4f2c9_ tbody {\\n  text-align: left;\\n  white-space: pre-wrap;\\n}\\n#T_4f2c9_ th {\\n  text-align: left;\\n  white-space: pre-wrap;\\n}\\n#T_4f2c9_ td {\\n  text-align: left;\\n  white-space: pre-wrap;\\n}\\n</style>\\n<table id=\\\"T_4f2c9_\\\">\\n  <thead>\\n    <tr>\\n      <th class=\\\"col_heading level0 col0\\\" >Check</th>\\n      <th class=\\\"col_heading level0 col1\\\" >Summary</th>\\n    </tr>\\n  </thead>\\n  <tbody>\\n    <tr>\\n      <td id=\\\"T_4f2c9_row0_col0\\\" class=\\\"data row0 col0\\\" ><a href=\\\"#OutlierSampleDetection_None-section-FQVGD\\\">Outlier Sample Detection</a></td>\\n      <td id=\\\"T_4f2c9_row0_col1\\\" class=\\\"data row0 col1\\\" >Detects outliers in a dataset using the LoOP algorithm. <a href=\\\"https://docs.deepchecks.com/0.9/checks_gallery/tabular/data_integrity/plot_outlier_sample_detection.html?utm_source=display_output&utm_medium=referral&utm_campaign=check_link\\\" target=\\\"_blank\\\">Read More...</a></td>\\n    </tr>\\n  </tbody>\\n</table>\\n\"}}, \"6e92504d560844eb8293ed29dbf6d340\": {\"model_name\": \"LayoutModel\", \"model_module\": \"@jupyter-widgets/base\", \"model_module_version\": \"1.2.0\", \"state\": {}}, \"71c6d4dd0e3b4b128fd64b670175a56d\": {\"model_name\": \"DescriptionStyleModel\", \"model_module\": \"@jupyter-widgets/controls\", \"model_module_version\": \"1.5.0\", \"state\": {}}, \"fcfe843acd274ae5b083c130c82a726e\": {\"model_name\": \"HTMLModel\", \"model_module\": \"@jupyter-widgets/controls\", \"model_module_version\": \"1.5.0\", \"state\": {\"_dom_classes\": [], \"layout\": \"IPY_MODEL_79d0ea2dc8274f1e95b7c60610171d58\", \"style\": \"IPY_MODEL_aa29835929c545e784ce363312b33509\", \"value\": \"<hr style=\\\"background-color: #eee;border: 0 none;color: #eee;height: 4px;\\\">\"}}, \"79d0ea2dc8274f1e95b7c60610171d58\": {\"model_name\": \"LayoutModel\", \"model_module\": \"@jupyter-widgets/base\", \"model_module_version\": \"1.2.0\", \"state\": {}}, \"aa29835929c545e784ce363312b33509\": {\"model_name\": \"DescriptionStyleModel\", \"model_module\": \"@jupyter-widgets/controls\", \"model_module_version\": \"1.5.0\", \"state\": {}}, \"097573166c454e0eb8e4f5e65b3ad5ad\": {\"model_name\": \"VBoxModel\", \"model_module\": \"@jupyter-widgets/controls\", \"model_module_version\": \"1.5.0\", \"state\": {\"_dom_classes\": [\"rendered_html\", \"jp-RenderedHTMLCommon\", \"jp-RenderedHTML\", \"jp-OutputArea-output\"], \"children\": [\"IPY_MODEL_162e4a9151a245ab91083be709604f07\", \"IPY_MODEL_218dc0fa20974af8a781c435eb5497c2\", \"IPY_MODEL_146fdd1c4eff4a8aaf3ec73bd53ea452\"], \"layout\": \"IPY_MODEL_20f4d7a820114c399c151e9d72ae30d4\"}}, \"162e4a9151a245ab91083be709604f07\": {\"model_name\": \"HTMLModel\", \"model_module\": \"@jupyter-widgets/controls\", \"model_module_version\": \"1.5.0\", \"state\": {\"_dom_classes\": [], \"layout\": \"IPY_MODEL_227e2535a4e84612936cc2a8414058b7\", \"style\": \"IPY_MODEL_f09e72aa440a454791a1041c2fc35752\", \"value\": \"<h4 id=\\\"OutlierSampleDetection_None-section-FQVGD\\\"><b>Outlier Sample Detection</b></h4>\"}}, \"227e2535a4e84612936cc2a8414058b7\": {\"model_name\": \"LayoutModel\", \"model_module\": \"@jupyter-widgets/base\", \"model_module_version\": \"1.2.0\", \"state\": {}}, \"f09e72aa440a454791a1041c2fc35752\": {\"model_name\": \"DescriptionStyleModel\", \"model_module\": \"@jupyter-widgets/controls\", \"model_module_version\": \"1.5.0\", \"state\": {}}, \"218dc0fa20974af8a781c435eb5497c2\": {\"model_name\": \"HTMLModel\", \"model_module\": \"@jupyter-widgets/controls\", \"model_module_version\": \"1.5.0\", \"state\": {\"_dom_classes\": [], \"layout\": \"IPY_MODEL_f472b21a42384055b103e7e198bdb86a\", \"style\": \"IPY_MODEL_d0cbf02d43e24da6954e5cec5e06d43d\", \"value\": \"<p>Detects outliers in a dataset using the LoOP algorithm. <a href=\\\"https://docs.deepchecks.com/0.9/checks_gallery/tabular/data_integrity/plot_outlier_sample_detection.html?utm_source=display_output&utm_medium=referral&utm_campaign=check_link\\\" target=\\\"_blank\\\">Read More...</a></p>\"}}, \"f472b21a42384055b103e7e198bdb86a\": {\"model_name\": \"LayoutModel\", \"model_module\": \"@jupyter-widgets/base\", \"model_module_version\": \"1.2.0\", \"state\": {}}, \"d0cbf02d43e24da6954e5cec5e06d43d\": {\"model_name\": \"DescriptionStyleModel\", \"model_module\": \"@jupyter-widgets/controls\", \"model_module_version\": \"1.5.0\", \"state\": {}}, \"146fdd1c4eff4a8aaf3ec73bd53ea452\": {\"model_name\": \"VBoxModel\", \"model_module\": \"@jupyter-widgets/controls\", \"model_module_version\": \"1.5.0\", \"state\": {\"_dom_classes\": [], \"children\": [\"IPY_MODEL_6f56efd8874c493e802d0847c22f7712\", \"IPY_MODEL_e3eb792a1a224a338ca929158cc34a24\", \"IPY_MODEL_c8e34546406e4f26a2a9214a6e155904\", \"IPY_MODEL_3c12c4e316ea4cdc84ae42e9cf2cd7d0\", \"IPY_MODEL_f51d2dfe3df44b88abe61def3ea69e08\"], \"layout\": \"IPY_MODEL_72bc512085c04f7aa6232adc2af1c144\"}}, \"6f56efd8874c493e802d0847c22f7712\": {\"model_name\": \"HTMLModel\", \"model_module\": \"@jupyter-widgets/controls\", \"model_module_version\": \"1.5.0\", \"state\": {\"_dom_classes\": [], \"layout\": \"IPY_MODEL_57e7340afe4e4a2c8c8cf65279961e16\", \"style\": \"IPY_MODEL_aeaa1072718d4643b878c020167e109d\", \"value\": \"<h5><b>Additional Outputs</b></h5>\"}}, \"57e7340afe4e4a2c8c8cf65279961e16\": {\"model_name\": \"LayoutModel\", \"model_module\": \"@jupyter-widgets/base\", \"model_module_version\": \"1.2.0\", \"state\": {}}, \"aeaa1072718d4643b878c020167e109d\": {\"model_name\": \"DescriptionStyleModel\", \"model_module\": \"@jupyter-widgets/controls\", \"model_module_version\": \"1.5.0\", \"state\": {}}, \"e3eb792a1a224a338ca929158cc34a24\": {\"model_name\": \"HTMLModel\", \"model_module\": \"@jupyter-widgets/controls\", \"model_module_version\": \"1.5.0\", \"state\": {\"_dom_classes\": [], \"layout\": \"IPY_MODEL_848fd8afa37f4a54afd7a362395ea7e5\", \"style\": \"IPY_MODEL_e6c070dc4b4440dab906aac7fd22b474\", \"value\": \"<div><span>\\n                    The Outlier Probability Score is calculated by the LoOP algorithm which measures the local deviation\\n                    of density of a given sample with respect to its neighbors. These outlier scores are directly\\n                    interpretable as a probability of an object being an outlier (see\\n                    <a href=\\\"https://www.dbs.ifi.lmu.de/Publikationen/Papers/LoOP1649.pdf\\\"\\n                    target=\\\"_blank\\\" rel=\\\"noopener noreferrer\\\">link</a> for more information).<br><br>\\n                    </span></div>\"}}, \"848fd8afa37f4a54afd7a362395ea7e5\": {\"model_name\": \"LayoutModel\", \"model_module\": \"@jupyter-widgets/base\", \"model_module_version\": \"1.2.0\", \"state\": {}}, \"e6c070dc4b4440dab906aac7fd22b474\": {\"model_name\": \"DescriptionStyleModel\", \"model_module\": \"@jupyter-widgets/controls\", \"model_module_version\": \"1.5.0\", \"state\": {}}, \"c8e34546406e4f26a2a9214a6e155904\": {\"model_name\": \"HTMLModel\", \"model_module\": \"@jupyter-widgets/controls\", \"model_module_version\": \"1.5.0\", \"state\": {\"_dom_classes\": [], \"layout\": \"IPY_MODEL_5e7f3ca25df34dd0a7e6409f78af3715\", \"style\": \"IPY_MODEL_0e3e7e8a93c34708887a3837b0f7dd37\", \"value\": \"<style type=\\\"text/css\\\">\\n#T_29ad2_ table {\\n  text-align: left;\\n  white-space: pre-wrap;\\n}\\n#T_29ad2_ thead {\\n  text-align: left;\\n  white-space: pre-wrap;\\n}\\n#T_29ad2_ tbody {\\n  text-align: left;\\n  white-space: pre-wrap;\\n}\\n#T_29ad2_ th {\\n  text-align: left;\\n  white-space: pre-wrap;\\n}\\n#T_29ad2_ td {\\n  text-align: left;\\n  white-space: pre-wrap;\\n}\\n</style>\\n<table id=\\\"T_29ad2_\\\">\\n  <thead>\\n    <tr>\\n      <th class=\\\"blank level0\\\" >&nbsp;</th>\\n      <th class=\\\"col_heading level0 col0\\\" >Outlier Probability Score</th>\\n      <th class=\\\"col_heading level0 col1\\\" >Time</th>\\n      <th class=\\\"col_heading level0 col2\\\" >V1</th>\\n      <th class=\\\"col_heading level0 col3\\\" >V2</th>\\n      <th class=\\\"col_heading level0 col4\\\" >V3</th>\\n      <th class=\\\"col_heading level0 col5\\\" >V4</th>\\n      <th class=\\\"col_heading level0 col6\\\" >V5</th>\\n      <th class=\\\"col_heading level0 col7\\\" >V6</th>\\n      <th class=\\\"col_heading level0 col8\\\" >V7</th>\\n      <th class=\\\"col_heading level0 col9\\\" >V8</th>\\n      <th class=\\\"col_heading level0 col10\\\" >V9</th>\\n      <th class=\\\"col_heading level0 col11\\\" >V10</th>\\n      <th class=\\\"col_heading level0 col12\\\" >V11</th>\\n      <th class=\\\"col_heading level0 col13\\\" >V12</th>\\n      <th class=\\\"col_heading level0 col14\\\" >V13</th>\\n      <th class=\\\"col_heading level0 col15\\\" >V14</th>\\n      <th class=\\\"col_heading level0 col16\\\" >V15</th>\\n      <th class=\\\"col_heading level0 col17\\\" >V16</th>\\n      <th class=\\\"col_heading level0 col18\\\" >V17</th>\\n      <th class=\\\"col_heading level0 col19\\\" >V18</th>\\n      <th class=\\\"col_heading level0 col20\\\" >V19</th>\\n      <th class=\\\"col_heading level0 col21\\\" >V20</th>\\n      <th class=\\\"col_heading level0 col22\\\" >V21</th>\\n      <th class=\\\"col_heading level0 col23\\\" >V22</th>\\n      <th class=\\\"col_heading level0 col24\\\" >V23</th>\\n      <th class=\\\"col_heading level0 col25\\\" >V24</th>\\n      <th class=\\\"col_heading level0 col26\\\" >V25</th>\\n      <th class=\\\"col_heading level0 col27\\\" >V26</th>\\n      <th class=\\\"col_heading level0 col28\\\" >V27</th>\\n      <th class=\\\"col_heading level0 col29\\\" >V28</th>\\n      <th class=\\\"col_heading level0 col30\\\" >Amount</th>\\n      <th class=\\\"col_heading level0 col31\\\" >Class</th>\\n    </tr>\\n  </thead>\\n  <tbody>\\n    <tr>\\n      <th id=\\\"T_29ad2_level0_row0\\\" class=\\\"row_heading level0 row0\\\" >43428</th>\\n      <td id=\\\"T_29ad2_row0_col0\\\" class=\\\"data row0 col0\\\" >1.00</td>\\n      <td id=\\\"T_29ad2_row0_col1\\\" class=\\\"data row0 col1\\\" >41505.00</td>\\n      <td id=\\\"T_29ad2_row0_col2\\\" class=\\\"data row0 col2\\\" >-16.53</td>\\n      <td id=\\\"T_29ad2_row0_col3\\\" class=\\\"data row0 col3\\\" >8.58</td>\\n      <td id=\\\"T_29ad2_row0_col4\\\" class=\\\"data row0 col4\\\" >-18.65</td>\\n      <td id=\\\"T_29ad2_row0_col5\\\" class=\\\"data row0 col5\\\" >9.51</td>\\n      <td id=\\\"T_29ad2_row0_col6\\\" class=\\\"data row0 col6\\\" >-13.79</td>\\n      <td id=\\\"T_29ad2_row0_col7\\\" class=\\\"data row0 col7\\\" >-2.83</td>\\n      <td id=\\\"T_29ad2_row0_col8\\\" class=\\\"data row0 col8\\\" >-16.70</td>\\n      <td id=\\\"T_29ad2_row0_col9\\\" class=\\\"data row0 col9\\\" >7.52</td>\\n      <td id=\\\"T_29ad2_row0_col10\\\" class=\\\"data row0 col10\\\" >-8.51</td>\\n      <td id=\\\"T_29ad2_row0_col11\\\" class=\\\"data row0 col11\\\" >-14.11</td>\\n      <td id=\\\"T_29ad2_row0_col12\\\" class=\\\"data row0 col12\\\" >5.30</td>\\n      <td id=\\\"T_29ad2_row0_col13\\\" class=\\\"data row0 col13\\\" >-10.83</td>\\n      <td id=\\\"T_29ad2_row0_col14\\\" class=\\\"data row0 col14\\\" >1.67</td>\\n      <td id=\\\"T_29ad2_row0_col15\\\" class=\\\"data row0 col15\\\" >-9.37</td>\\n      <td id=\\\"T_29ad2_row0_col16\\\" class=\\\"data row0 col16\\\" >0.36</td>\\n      <td id=\\\"T_29ad2_row0_col17\\\" class=\\\"data row0 col17\\\" >-9.90</td>\\n      <td id=\\\"T_29ad2_row0_col18\\\" class=\\\"data row0 col18\\\" >-19.24</td>\\n      <td id=\\\"T_29ad2_row0_col19\\\" class=\\\"data row0 col19\\\" >-8.40</td>\\n      <td id=\\\"T_29ad2_row0_col20\\\" class=\\\"data row0 col20\\\" >3.10</td>\\n      <td id=\\\"T_29ad2_row0_col21\\\" class=\\\"data row0 col21\\\" >-1.51</td>\\n      <td id=\\\"T_29ad2_row0_col22\\\" class=\\\"data row0 col22\\\" >1.19</td>\\n      <td id=\\\"T_29ad2_row0_col23\\\" class=\\\"data row0 col23\\\" >-1.13</td>\\n      <td id=\\\"T_29ad2_row0_col24\\\" class=\\\"data row0 col24\\\" >-2.36</td>\\n      <td id=\\\"T_29ad2_row0_col25\\\" class=\\\"data row0 col25\\\" >0.67</td>\\n      <td id=\\\"T_29ad2_row0_col26\\\" class=\\\"data row0 col26\\\" >-1.41</td>\\n      <td id=\\\"T_29ad2_row0_col27\\\" class=\\\"data row0 col27\\\" >-0.46</td>\\n      <td id=\\\"T_29ad2_row0_col28\\\" class=\\\"data row0 col28\\\" >-2.02</td>\\n      <td id=\\\"T_29ad2_row0_col29\\\" class=\\\"data row0 col29\\\" >-1.04</td>\\n      <td id=\\\"T_29ad2_row0_col30\\\" class=\\\"data row0 col30\\\" >364.19</td>\\n      <td id=\\\"T_29ad2_row0_col31\\\" class=\\\"data row0 col31\\\" >1</td>\\n    </tr>\\n    <tr>\\n      <th id=\\\"T_29ad2_level0_row1\\\" class=\\\"row_heading level0 row1\\\" >219257</th>\\n      <td id=\\\"T_29ad2_row1_col0\\\" class=\\\"data row1 col0\\\" >1.00</td>\\n      <td id=\\\"T_29ad2_row1_col1\\\" class=\\\"data row1 col1\\\" >141655.00</td>\\n      <td id=\\\"T_29ad2_row1_col2\\\" class=\\\"data row1 col2\\\" >-29.94</td>\\n      <td id=\\\"T_29ad2_row1_col3\\\" class=\\\"data row1 col3\\\" >-25.83</td>\\n      <td id=\\\"T_29ad2_row1_col4\\\" class=\\\"data row1 col4\\\" >-16.23</td>\\n      <td id=\\\"T_29ad2_row1_col5\\\" class=\\\"data row1 col5\\\" >6.69</td>\\n      <td id=\\\"T_29ad2_row1_col6\\\" class=\\\"data row1 col6\\\" >-20.79</td>\\n      <td id=\\\"T_29ad2_row1_col7\\\" class=\\\"data row1 col7\\\" >13.09</td>\\n      <td id=\\\"T_29ad2_row1_col8\\\" class=\\\"data row1 col8\\\" >17.26</td>\\n      <td id=\\\"T_29ad2_row1_col9\\\" class=\\\"data row1 col9\\\" >-9.16</td>\\n      <td id=\\\"T_29ad2_row1_col10\\\" class=\\\"data row1 col10\\\" >5.00</td>\\n      <td id=\\\"T_29ad2_row1_col11\\\" class=\\\"data row1 col11\\\" >-2.43</td>\\n      <td id=\\\"T_29ad2_row1_col12\\\" class=\\\"data row1 col12\\\" >1.76</td>\\n      <td id=\\\"T_29ad2_row1_col13\\\" class=\\\"data row1 col13\\\" >1.86</td>\\n      <td id=\\\"T_29ad2_row1_col14\\\" class=\\\"data row1 col14\\\" >3.05</td>\\n      <td id=\\\"T_29ad2_row1_col15\\\" class=\\\"data row1 col15\\\" >-1.41</td>\\n      <td id=\\\"T_29ad2_row1_col16\\\" class=\\\"data row1 col16\\\" >3.68</td>\\n      <td id=\\\"T_29ad2_row1_col17\\\" class=\\\"data row1 col17\\\" >4.53</td>\\n      <td id=\\\"T_29ad2_row1_col18\\\" class=\\\"data row1 col18\\\" >0.22</td>\\n      <td id=\\\"T_29ad2_row1_col19\\\" class=\\\"data row1 col19\\\" >-1.60</td>\\n      <td id=\\\"T_29ad2_row1_col20\\\" class=\\\"data row1 col20\\\" >3.14</td>\\n      <td id=\\\"T_29ad2_row1_col21\\\" class=\\\"data row1 col21\\\" >-21.39</td>\\n      <td id=\\\"T_29ad2_row1_col22\\\" class=\\\"data row1 col22\\\" >-2.49</td>\\n      <td id=\\\"T_29ad2_row1_col23\\\" class=\\\"data row1 col23\\\" >-0.66</td>\\n      <td id=\\\"T_29ad2_row1_col24\\\" class=\\\"data row1 col24\\\" >-8.54</td>\\n      <td id=\\\"T_29ad2_row1_col25\\\" class=\\\"data row1 col25\\\" >0.40</td>\\n      <td id=\\\"T_29ad2_row1_col26\\\" class=\\\"data row1 col26\\\" >-0.64</td>\\n      <td id=\\\"T_29ad2_row1_col27\\\" class=\\\"data row1 col27\\\" >0.50</td>\\n      <td id=\\\"T_29ad2_row1_col28\\\" class=\\\"data row1 col28\\\" >6.27</td>\\n      <td id=\\\"T_29ad2_row1_col29\\\" class=\\\"data row1 col29\\\" >-2.77</td>\\n      <td id=\\\"T_29ad2_row1_col30\\\" class=\\\"data row1 col30\\\" >3502.11</td>\\n      <td id=\\\"T_29ad2_row1_col31\\\" class=\\\"data row1 col31\\\" >0</td>\\n    </tr>\\n    <tr>\\n      <th id=\\\"T_29ad2_level0_row2\\\" class=\\\"row_heading level0 row2\\\" >77099</th>\\n      <td id=\\\"T_29ad2_row2_col0\\\" class=\\\"data row2 col0\\\" >1.00</td>\\n      <td id=\\\"T_29ad2_row2_col1\\\" class=\\\"data row2 col1\\\" >56887.00</td>\\n      <td id=\\\"T_29ad2_row2_col2\\\" class=\\\"data row2 col2\\\" >-0.08</td>\\n      <td id=\\\"T_29ad2_row2_col3\\\" class=\\\"data row2 col3\\\" >1.81</td>\\n      <td id=\\\"T_29ad2_row2_col4\\\" class=\\\"data row2 col4\\\" >-2.57</td>\\n      <td id=\\\"T_29ad2_row2_col5\\\" class=\\\"data row2 col5\\\" >4.13</td>\\n      <td id=\\\"T_29ad2_row2_col6\\\" class=\\\"data row2 col6\\\" >-1.63</td>\\n      <td id=\\\"T_29ad2_row2_col7\\\" class=\\\"data row2 col7\\\" >-0.81</td>\\n      <td id=\\\"T_29ad2_row2_col8\\\" class=\\\"data row2 col8\\\" >-3.39</td>\\n      <td id=\\\"T_29ad2_row2_col9\\\" class=\\\"data row2 col9\\\" >1.02</td>\\n      <td id=\\\"T_29ad2_row2_col10\\\" class=\\\"data row2 col10\\\" >-2.45</td>\\n      <td id=\\\"T_29ad2_row2_col11\\\" class=\\\"data row2 col11\\\" >-3.56</td>\\n      <td id=\\\"T_29ad2_row2_col12\\\" class=\\\"data row2 col12\\\" >4.32</td>\\n      <td id=\\\"T_29ad2_row2_col13\\\" class=\\\"data row2 col13\\\" >-5.48</td>\\n      <td id=\\\"T_29ad2_row2_col14\\\" class=\\\"data row2 col14\\\" >-2.12</td>\\n      <td id=\\\"T_29ad2_row2_col15\\\" class=\\\"data row2 col15\\\" >-5.59</td>\\n      <td id=\\\"T_29ad2_row2_col16\\\" class=\\\"data row2 col16\\\" >0.28</td>\\n      <td id=\\\"T_29ad2_row2_col17\\\" class=\\\"data row2 col17\\\" >-3.51</td>\\n      <td id=\\\"T_29ad2_row2_col18\\\" class=\\\"data row2 col18\\\" >-7.46</td>\\n      <td id=\\\"T_29ad2_row2_col19\\\" class=\\\"data row2 col19\\\" >-2.33</td>\\n      <td id=\\\"T_29ad2_row2_col20\\\" class=\\\"data row2 col20\\\" >-0.44</td>\\n      <td id=\\\"T_29ad2_row2_col21\\\" class=\\\"data row2 col21\\\" >0.34</td>\\n      <td id=\\\"T_29ad2_row2_col22\\\" class=\\\"data row2 col22\\\" >0.79</td>\\n      <td id=\\\"T_29ad2_row2_col23\\\" class=\\\"data row2 col23\\\" >0.27</td>\\n      <td id=\\\"T_29ad2_row2_col24\\\" class=\\\"data row2 col24\\\" >-0.14</td>\\n      <td id=\\\"T_29ad2_row2_col25\\\" class=\\\"data row2 col25\\\" >0.01</td>\\n      <td id=\\\"T_29ad2_row2_col26\\\" class=\\\"data row2 col26\\\" >0.63</td>\\n      <td id=\\\"T_29ad2_row2_col27\\\" class=\\\"data row2 col27\\\" >0.21</td>\\n      <td id=\\\"T_29ad2_row2_col28\\\" class=\\\"data row2 col28\\\" >0.77</td>\\n      <td id=\\\"T_29ad2_row2_col29\\\" class=\\\"data row2 col29\\\" >0.39</td>\\n      <td id=\\\"T_29ad2_row2_col30\\\" class=\\\"data row2 col30\\\" >5.00</td>\\n      <td id=\\\"T_29ad2_row2_col31\\\" class=\\\"data row2 col31\\\" >1</td>\\n    </tr>\\n    <tr>\\n      <th id=\\\"T_29ad2_level0_row3\\\" class=\\\"row_heading level0 row3\\\" >229036</th>\\n      <td id=\\\"T_29ad2_row3_col0\\\" class=\\\"data row3 col0\\\" >1.00</td>\\n      <td id=\\\"T_29ad2_row3_col1\\\" class=\\\"data row3 col1\\\" >145773.00</td>\\n      <td id=\\\"T_29ad2_row3_col2\\\" class=\\\"data row3 col2\\\" >-32.06</td>\\n      <td id=\\\"T_29ad2_row3_col3\\\" class=\\\"data row3 col3\\\" >-48.06</td>\\n      <td id=\\\"T_29ad2_row3_col4\\\" class=\\\"data row3 col4\\\" >-6.94</td>\\n      <td id=\\\"T_29ad2_row3_col5\\\" class=\\\"data row3 col5\\\" >10.86</td>\\n      <td id=\\\"T_29ad2_row3_col6\\\" class=\\\"data row3 col6\\\" >26.65</td>\\n      <td id=\\\"T_29ad2_row3_col7\\\" class=\\\"data row3 col7\\\" >-20.87</td>\\n      <td id=\\\"T_29ad2_row3_col8\\\" class=\\\"data row3 col8\\\" >-16.41</td>\\n      <td id=\\\"T_29ad2_row3_col9\\\" class=\\\"data row3 col9\\\" >2.19</td>\\n      <td id=\\\"T_29ad2_row3_col10\\\" class=\\\"data row3 col10\\\" >0.45</td>\\n      <td id=\\\"T_29ad2_row3_col11\\\" class=\\\"data row3 col11\\\" >0.95</td>\\n      <td id=\\\"T_29ad2_row3_col12\\\" class=\\\"data row3 col12\\\" >-2.45</td>\\n      <td id=\\\"T_29ad2_row3_col13\\\" class=\\\"data row3 col13\\\" >1.03</td>\\n      <td id=\\\"T_29ad2_row3_col14\\\" class=\\\"data row3 col14\\\" >0.68</td>\\n      <td id=\\\"T_29ad2_row3_col15\\\" class=\\\"data row3 col15\\\" >3.68</td>\\n      <td id=\\\"T_29ad2_row3_col16\\\" class=\\\"data row3 col16\\\" >1.23</td>\\n      <td id=\\\"T_29ad2_row3_col17\\\" class=\\\"data row3 col17\\\" >0.62</td>\\n      <td id=\\\"T_29ad2_row3_col18\\\" class=\\\"data row3 col18\\\" >1.26</td>\\n      <td id=\\\"T_29ad2_row3_col19\\\" class=\\\"data row3 col19\\\" >0.64</td>\\n      <td id=\\\"T_29ad2_row3_col20\\\" class=\\\"data row3 col20\\\" >0.34</td>\\n      <td id=\\\"T_29ad2_row3_col21\\\" class=\\\"data row3 col21\\\" >14.94</td>\\n      <td id=\\\"T_29ad2_row3_col22\\\" class=\\\"data row3 col22\\\" >5.25</td>\\n      <td id=\\\"T_29ad2_row3_col23\\\" class=\\\"data row3 col23\\\" >-2.19</td>\\n      <td id=\\\"T_29ad2_row3_col24\\\" class=\\\"data row3 col24\\\" >2.38</td>\\n      <td id=\\\"T_29ad2_row3_col25\\\" class=\\\"data row3 col25\\\" >0.40</td>\\n      <td id=\\\"T_29ad2_row3_col26\\\" class=\\\"data row3 col26\\\" >-1.12</td>\\n      <td id=\\\"T_29ad2_row3_col27\\\" class=\\\"data row3 col27\\\" >-0.45</td>\\n      <td id=\\\"T_29ad2_row3_col28\\\" class=\\\"data row3 col28\\\" >0.52</td>\\n      <td id=\\\"T_29ad2_row3_col29\\\" class=\\\"data row3 col29\\\" >-6.33</td>\\n      <td id=\\\"T_29ad2_row3_col30\\\" class=\\\"data row3 col30\\\" >1210.00</td>\\n      <td id=\\\"T_29ad2_row3_col31\\\" class=\\\"data row3 col31\\\" >0</td>\\n    </tr>\\n    <tr>\\n      <th id=\\\"T_29ad2_level0_row4\\\" class=\\\"row_heading level0 row4\\\" >215984</th>\\n      <td id=\\\"T_29ad2_row4_col0\\\" class=\\\"data row4 col0\\\" >0.98</td>\\n      <td id=\\\"T_29ad2_row4_col1\\\" class=\\\"data row4 col1\\\" >140308.00</td>\\n      <td id=\\\"T_29ad2_row4_col2\\\" class=\\\"data row4 col2\\\" >-4.86</td>\\n      <td id=\\\"T_29ad2_row4_col3\\\" class=\\\"data row4 col3\\\" >-2.72</td>\\n      <td id=\\\"T_29ad2_row4_col4\\\" class=\\\"data row4 col4\\\" >-4.66</td>\\n      <td id=\\\"T_29ad2_row4_col5\\\" class=\\\"data row4 col5\\\" >2.50</td>\\n      <td id=\\\"T_29ad2_row4_col6\\\" class=\\\"data row4 col6\\\" >-2.01</td>\\n      <td id=\\\"T_29ad2_row4_col7\\\" class=\\\"data row4 col7\\\" >0.62</td>\\n      <td id=\\\"T_29ad2_row4_col8\\\" class=\\\"data row4 col8\\\" >-3.49</td>\\n      <td id=\\\"T_29ad2_row4_col9\\\" class=\\\"data row4 col9\\\" >1.88</td>\\n      <td id=\\\"T_29ad2_row4_col10\\\" class=\\\"data row4 col10\\\" >-1.12</td>\\n      <td id=\\\"T_29ad2_row4_col11\\\" class=\\\"data row4 col11\\\" >-5.11</td>\\n      <td id=\\\"T_29ad2_row4_col12\\\" class=\\\"data row4 col12\\\" >2.95</td>\\n      <td id=\\\"T_29ad2_row4_col13\\\" class=\\\"data row4 col13\\\" >-4.10</td>\\n      <td id=\\\"T_29ad2_row4_col14\\\" class=\\\"data row4 col14\\\" >-0.48</td>\\n      <td id=\\\"T_29ad2_row4_col15\\\" class=\\\"data row4 col15\\\" >-4.35</td>\\n      <td id=\\\"T_29ad2_row4_col16\\\" class=\\\"data row4 col16\\\" >0.00</td>\\n      <td id=\\\"T_29ad2_row4_col17\\\" class=\\\"data row4 col17\\\" >-5.04</td>\\n      <td id=\\\"T_29ad2_row4_col18\\\" class=\\\"data row4 col18\\\" >-8.08</td>\\n      <td id=\\\"T_29ad2_row4_col19\\\" class=\\\"data row4 col19\\\" >-3.46</td>\\n      <td id=\\\"T_29ad2_row4_col20\\\" class=\\\"data row4 col20\\\" >0.60</td>\\n      <td id=\\\"T_29ad2_row4_col21\\\" class=\\\"data row4 col21\\\" >0.29</td>\\n      <td id=\\\"T_29ad2_row4_col22\\\" class=\\\"data row4 col22\\\" >1.14</td>\\n      <td id=\\\"T_29ad2_row4_col23\\\" class=\\\"data row4 col23\\\" >1.03</td>\\n      <td id=\\\"T_29ad2_row4_col24\\\" class=\\\"data row4 col24\\\" >-0.81</td>\\n      <td id=\\\"T_29ad2_row4_col25\\\" class=\\\"data row4 col25\\\" >-1.51</td>\\n      <td id=\\\"T_29ad2_row4_col26\\\" class=\\\"data row4 col26\\\" >-0.19</td>\\n      <td id=\\\"T_29ad2_row4_col27\\\" class=\\\"data row4 col27\\\" >0.08</td>\\n      <td id=\\\"T_29ad2_row4_col28\\\" class=\\\"data row4 col28\\\" >1.22</td>\\n      <td id=\\\"T_29ad2_row4_col29\\\" class=\\\"data row4 col29\\\" >-0.92</td>\\n      <td id=\\\"T_29ad2_row4_col30\\\" class=\\\"data row4 col30\\\" >592.90</td>\\n      <td id=\\\"T_29ad2_row4_col31\\\" class=\\\"data row4 col31\\\" >1</td>\\n    </tr>\\n  </tbody>\\n</table>\\n\"}}, \"5e7f3ca25df34dd0a7e6409f78af3715\": {\"model_name\": \"LayoutModel\", \"model_module\": \"@jupyter-widgets/base\", \"model_module_version\": \"1.2.0\", \"state\": {}}, \"0e3e7e8a93c34708887a3837b0f7dd37\": {\"model_name\": \"DescriptionStyleModel\", \"model_module\": \"@jupyter-widgets/controls\", \"model_module_version\": \"1.5.0\", \"state\": {}}, \"3c12c4e316ea4cdc84ae42e9cf2cd7d0\": {\"model_name\": \"HTMLModel\", \"model_module\": \"@jupyter-widgets/controls\", \"model_module_version\": \"1.5.0\", \"state\": {\"_dom_classes\": [], \"layout\": \"IPY_MODEL_af3cc9a1c77542de8a12d45d31a0e856\", \"style\": \"IPY_MODEL_939a3e5835a347ff9b74979e3058600b\", \"value\": \"<div><p style=\\\"font-size:0.9em;line-height:1;\\\"><i>Note - data sampling: Data is sampled from the original dataset, running on 5000 samples out of 284807. Sample size can be controlled with the \\\"n_samples\\\" parameter.</i></p></div>\"}}, \"af3cc9a1c77542de8a12d45d31a0e856\": {\"model_name\": \"LayoutModel\", \"model_module\": \"@jupyter-widgets/base\", \"model_module_version\": \"1.2.0\", \"state\": {}}, \"939a3e5835a347ff9b74979e3058600b\": {\"model_name\": \"DescriptionStyleModel\", \"model_module\": \"@jupyter-widgets/controls\", \"model_module_version\": \"1.5.0\", \"state\": {}}, \"f51d2dfe3df44b88abe61def3ea69e08\": {\"model_name\": \"HTMLModel\", \"model_module\": \"@jupyter-widgets/controls\", \"model_module_version\": \"1.5.0\", \"state\": {\"_dom_classes\": [], \"layout\": \"IPY_MODEL_78f3d173f1e245ba8a8dab97582437be\", \"style\": \"IPY_MODEL_c4428e70837d4e76b795cb14802b1376\", \"value\": \"<br><a href=\\\"#summary_None-section-FQVGD\\\" style=\\\"font-size: 14px;\\\">Go to top</a>\"}}, \"78f3d173f1e245ba8a8dab97582437be\": {\"model_name\": \"LayoutModel\", \"model_module\": \"@jupyter-widgets/base\", \"model_module_version\": \"1.2.0\", \"state\": {}}, \"c4428e70837d4e76b795cb14802b1376\": {\"model_name\": \"DescriptionStyleModel\", \"model_module\": \"@jupyter-widgets/controls\", \"model_module_version\": \"1.5.0\", \"state\": {}}, \"72bc512085c04f7aa6232adc2af1c144\": {\"model_name\": \"LayoutModel\", \"model_module\": \"@jupyter-widgets/base\", \"model_module_version\": \"1.2.0\", \"state\": {}}, \"20f4d7a820114c399c151e9d72ae30d4\": {\"model_name\": \"LayoutModel\", \"model_module\": \"@jupyter-widgets/base\", \"model_module_version\": \"1.2.0\", \"state\": {}}, \"b0031d7d6dab4acc93bfbf123d5b6efe\": {\"model_name\": \"LayoutModel\", \"model_module\": \"@jupyter-widgets/base\", \"model_module_version\": \"1.2.0\", \"state\": {}}, \"742fe502406740fb8b8b4e04a7015e01\": {\"model_name\": \"LayoutModel\", \"model_module\": \"@jupyter-widgets/base\", \"model_module_version\": \"1.2.0\", \"state\": {}}, \"53d92be90f8445278f5385d4d7dc789f\": {\"model_name\": \"LayoutModel\", \"model_module\": \"@jupyter-widgets/base\", \"model_module_version\": \"1.2.0\", \"state\": {}}, \"db88894e9bdf40b986acc515242d6c83\": {\"model_name\": \"VBoxModel\", \"model_module\": \"@jupyter-widgets/controls\", \"model_module_version\": \"1.5.0\", \"state\": {\"_dom_classes\": [], \"children\": [\"IPY_MODEL_9040498841684494a415fae876e53009\", \"IPY_MODEL_69978c4cf4404fbebf2f49aeb32b252f\"], \"layout\": \"IPY_MODEL_c07751b3ef7b4aa2b2c3962abd1f6070\"}}, \"9040498841684494a415fae876e53009\": {\"model_name\": \"HTMLModel\", \"model_module\": \"@jupyter-widgets/controls\", \"model_module_version\": \"1.5.0\", \"state\": {\"_dom_classes\": [], \"layout\": \"IPY_MODEL_993f04260bb8444bb0529a9920c8cefc\", \"style\": \"IPY_MODEL_0ebe11bda1014cba9cb801c755ea40e9\"}}, \"993f04260bb8444bb0529a9920c8cefc\": {\"model_name\": \"LayoutModel\", \"model_module\": \"@jupyter-widgets/base\", \"model_module_version\": \"1.2.0\", \"state\": {}}, \"0ebe11bda1014cba9cb801c755ea40e9\": {\"model_name\": \"DescriptionStyleModel\", \"model_module\": \"@jupyter-widgets/controls\", \"model_module_version\": \"1.5.0\", \"state\": {}}, \"69978c4cf4404fbebf2f49aeb32b252f\": {\"model_name\": \"AccordionModel\", \"model_module\": \"@jupyter-widgets/controls\", \"model_module_version\": \"1.5.0\", \"state\": {\"_dom_classes\": [\"rendered_html\", \"jp-RenderedHTMLCommon\", \"jp-RenderedHTML\", \"jp-OutputArea-output\"], \"_titles\": {\"0\": \"Didn't Run\"}, \"children\": [\"IPY_MODEL_8fd1b4c7fa504bdb9e7f59b774262d58\"], \"layout\": \"IPY_MODEL_1b988ccb0ebe4da0b21cb90c10c02143\", \"selected_index\": null}}, \"8fd1b4c7fa504bdb9e7f59b774262d58\": {\"model_name\": \"HTMLModel\", \"model_module\": \"@jupyter-widgets/controls\", \"model_module_version\": \"1.5.0\", \"state\": {\"_dom_classes\": [], \"layout\": \"IPY_MODEL_92403904084648c1950f4c99d5fd6958\", \"style\": \"IPY_MODEL_69ce2c26810f4b688f46a2367505723e\", \"value\": \"<style type=\\\"text/css\\\">\\n#T_42fd6_ table {\\n  text-align: left;\\n  white-space: pre-wrap;\\n}\\n#T_42fd6_ thead {\\n  text-align: left;\\n  white-space: pre-wrap;\\n}\\n#T_42fd6_ tbody {\\n  text-align: left;\\n  white-space: pre-wrap;\\n}\\n#T_42fd6_ th {\\n  text-align: left;\\n  white-space: pre-wrap;\\n}\\n#T_42fd6_ td {\\n  text-align: left;\\n  white-space: pre-wrap;\\n}\\n</style>\\n<table id=\\\"T_42fd6_\\\">\\n  <thead>\\n    <tr>\\n      <th class=\\\"col_heading level0 col0\\\" >Check</th>\\n      <th class=\\\"col_heading level0 col1\\\" >Reason</th>\\n    </tr>\\n  </thead>\\n  <tbody>\\n    <tr>\\n      <td id=\\\"T_42fd6_row0_col0\\\" class=\\\"data row0 col0\\\" >Conflicting Labels - Train Dataset</td>\\n      <td id=\\\"T_42fd6_row0_col1\\\" class=\\\"data row0 col1\\\" >Dataset does not contain a label column. see <a href=\\\"https://docs.deepchecks.com/0.9/user-guide/tabular/dataset_object.html?html?utm_source=display_output&utm_medium=referral&utm_campaign=check_link\\\" target=\\\"_blank\\\">Dataset docs</a></td>\\n    </tr>\\n    <tr>\\n      <td id=\\\"T_42fd6_row1_col0\\\" class=\\\"data row1 col0\\\" >Feature Label Correlation - Train Dataset</td>\\n      <td id=\\\"T_42fd6_row1_col1\\\" class=\\\"data row1 col1\\\" >Dataset does not contain a label column. see <a href=\\\"https://docs.deepchecks.com/0.9/user-guide/tabular/dataset_object.html?html?utm_source=display_output&utm_medium=referral&utm_campaign=check_link\\\" target=\\\"_blank\\\">Dataset docs</a></td>\\n    </tr>\\n    <tr>\\n      <td id=\\\"T_42fd6_row2_col0\\\" class=\\\"data row2 col0\\\" >Identifier Label Correlation - Train Dataset</td>\\n      <td id=\\\"T_42fd6_row2_col1\\\" class=\\\"data row2 col1\\\" >Dataset does not contain a label column. see <a href=\\\"https://docs.deepchecks.com/0.9/user-guide/tabular/dataset_object.html?html?utm_source=display_output&utm_medium=referral&utm_campaign=check_link\\\" target=\\\"_blank\\\">Dataset docs</a></td>\\n    </tr>\\n  </tbody>\\n</table>\\n\"}}, \"92403904084648c1950f4c99d5fd6958\": {\"model_name\": \"LayoutModel\", \"model_module\": \"@jupyter-widgets/base\", \"model_module_version\": \"1.2.0\", \"state\": {}}, \"69ce2c26810f4b688f46a2367505723e\": {\"model_name\": \"DescriptionStyleModel\", \"model_module\": \"@jupyter-widgets/controls\", \"model_module_version\": \"1.5.0\", \"state\": {}}, \"1b988ccb0ebe4da0b21cb90c10c02143\": {\"model_name\": \"LayoutModel\", \"model_module\": \"@jupyter-widgets/base\", \"model_module_version\": \"1.2.0\", \"state\": {}}, \"c07751b3ef7b4aa2b2c3962abd1f6070\": {\"model_name\": \"LayoutModel\", \"model_module\": \"@jupyter-widgets/base\", \"model_module_version\": \"1.2.0\", \"state\": {}}, \"4f440140530d495aa8901da850762bfe\": {\"model_name\": \"LayoutModel\", \"model_module\": \"@jupyter-widgets/base\", \"model_module_version\": \"1.2.0\", \"state\": {}}, \"4a5459248cd349608494c0a096b750a1\": {\"model_name\": \"LayoutModel\", \"model_module\": \"@jupyter-widgets/base\", \"model_module_version\": \"1.2.0\", \"state\": {}}}}\n",
       "</script>\n",
       "<script type=\"application/vnd.jupyter.widget-view+json\">\n",
       "{\"version_major\": 2, \"version_minor\": 0, \"model_id\": \"3553953b79d64b65a9fdd7a62bb8d85a\"}\n",
       "</script>\n",
       "\n",
       "</body>\n",
       "</html>"
      ]
     },
     "metadata": {},
     "output_type": "display_data"
    }
   ],
   "source": [
    "# Run Suite:\n",
    "integ_suite = data_integrity(n_samples=5000)\n",
    "suite_result = integ_suite.run(df)\n",
    "# Note: the result can be saved as html using suite_result.save_as_html()\n",
    "# or exported to json using suite_result.to_json()\n",
    "suite_result.show()"
   ]
  },
  {
   "cell_type": "code",
   "execution_count": 8,
   "metadata": {
    "colab": {
     "base_uri": "https://localhost:8080/",
     "height": 336
    },
    "executionInfo": {
     "elapsed": 1111,
     "status": "ok",
     "timestamp": 1668187286225,
     "user": {
      "displayName": "Ahmet Gültekin",
      "userId": "03706301285824263679"
     },
     "user_tz": -180
    },
    "id": "OCIqVMphZpKu",
    "outputId": "e7965ef6-dc3a-4eca-950f-983a98181cac"
   },
   "outputs": [
    {
     "name": "stderr",
     "output_type": "stream",
     "text": [
      "deepchecks - WARNING - Received a \"pandas.DataFrame\" instance. It is recommended to pass a \"deepchecks.tabular.Dataset\" instance by initializing it with the data and metadata, for example by doing \"Dataset(dataframe, label=label, cat_features=cat_features)\"\n",
      "WARNING:deepchecks:Received a \"pandas.DataFrame\" instance. It is recommended to pass a \"deepchecks.tabular.Dataset\" instance by initializing it with the data and metadata, for example by doing \"Dataset(dataframe, label=label, cat_features=cat_features)\"\n",
      "deepchecks - WARNING - It is recommended to initialize Dataset with categorical features by doing \"Dataset(df, cat_features=categorical_list)\". No categorical features were passed, therefore heuristically inferring categorical features in the data. 1 categorical features were inferred.: Class\n",
      "WARNING:deepchecks:It is recommended to initialize Dataset with categorical features by doing \"Dataset(df, cat_features=categorical_list)\". No categorical features were passed, therefore heuristically inferring categorical features in the data. 1 categorical features were inferred.: Class\n"
     ]
    },
    {
     "data": {
      "text/html": [
       "<!--\n",
       "    ~ ----------------------------------------------------------------------------\n",
       "    ~ Copyright (C) 2021-2022 Deepchecks (https://www.deepchecks.com)\n",
       "    ~\n",
       "    ~ This file is part of Deepchecks.\n",
       "    ~ Deepchecks is distributed under the terms of the GNU Affero General\n",
       "    ~ Public License (version 3 or later).\n",
       "    ~ You should have received a copy of the GNU Affero General Public License\n",
       "    ~ along with Deepchecks.  If not, see <http://www.gnu.org/licenses/>.\n",
       "    ~ ----------------------------------------------------------------------------\n",
       "    ~\n",
       "-->\n",
       "<!DOCTYPE html>\n",
       "<html lang=\"en\">\n",
       "<head>\n",
       "    <meta charset=\"UTF-8\">\n",
       "    <title>Single Value in Column</title>\n",
       "    <link rel=\"icon\" type=\"image/x-icon\" href=\"https://deepchecks.com/wp-content/themes/deepchecks/assets/favicons/favicon.ico\">\n",
       "    <style>\n",
       "        body {\n",
       "            font-family: -apple-system, BlinkMacSystemFont, 'Segoe UI', Helvetica, Arial, sans-serif, 'Apple Color Emoji', 'Segoe UI Emoji', 'Segoe UI Symbol';\n",
       "            font-size: 1rem;\n",
       "            line-height: 1.5;\n",
       "            color: #212529;\n",
       "            text-align: left;\n",
       "            max-width: 1200px;\n",
       "            margin: auto;\n",
       "            background-color: white;\n",
       "        }\n",
       "\n",
       "        div.nbinput.container div.prompt *,\n",
       "        div.nboutput.container div.prompt *,\n",
       "        div.nbinput.container div.input_area pre,\n",
       "        div.nboutput.container div.output_area pre,\n",
       "        div.nbinput.container div.input_area .highlight,\n",
       "        div.nboutput.container div.output_area .highlight {\n",
       "            border: none;\n",
       "            padding: 0;\n",
       "            margin: 0;\n",
       "            box-shadow: none;\n",
       "        }\n",
       "\n",
       "        div.nbinput.container > div[class*=highlight],\n",
       "        div.nboutput.container > div[class*=highlight] {\n",
       "            margin: 0;\n",
       "        }\n",
       "\n",
       "        div.nbinput.container div.prompt *,\n",
       "        div.nboutput.container div.prompt * {\n",
       "            background: none;\n",
       "        }\n",
       "\n",
       "        div.nboutput.container div.output_area .highlight,\n",
       "        div.nboutput.container div.output_area pre {\n",
       "            background: unset;\n",
       "        }\n",
       "\n",
       "        div.nboutput.container div.output_area div.highlight {\n",
       "            color: unset;  /* override Pygments text color */\n",
       "        }\n",
       "\n",
       "        /* avoid gaps between output lines */\n",
       "        div.nboutput.container div[class*=highlight] pre {\n",
       "            line-height: normal;\n",
       "        }\n",
       "\n",
       "        /* input/output containers */\n",
       "        div.nbinput.container,\n",
       "        div.nboutput.container {\n",
       "            display: -webkit-flex;\n",
       "            display: flex;\n",
       "            align-items: flex-start;\n",
       "            margin: 0;\n",
       "            width: 100%;\n",
       "        }\n",
       "        @media (max-width: 540px) {\n",
       "            div.nbinput.container,\n",
       "            div.nboutput.container {\n",
       "                flex-direction: column;\n",
       "            }\n",
       "        }\n",
       "\n",
       "        /* input container */\n",
       "        div.nbinput.container {\n",
       "            padding-top: 5px;\n",
       "        }\n",
       "\n",
       "        /* last container */\n",
       "        div.nblast.container {\n",
       "            padding-bottom: 5px;\n",
       "        }\n",
       "\n",
       "        /* input prompt */\n",
       "        div.nbinput.container div.prompt pre {\n",
       "            color: #307FC1;\n",
       "        }\n",
       "\n",
       "        /* output prompt */\n",
       "        div.nboutput.container div.prompt pre {\n",
       "            color: #BF5B3D;\n",
       "        }\n",
       "\n",
       "        /* all prompts */\n",
       "        div.nbinput.container div.prompt,\n",
       "        div.nboutput.container div.prompt {\n",
       "            width: 4.5ex;\n",
       "            padding-top: 5px;\n",
       "            position: relative;\n",
       "            user-select: none;\n",
       "        }\n",
       "\n",
       "        div.nbinput.container div.prompt > div,\n",
       "        div.nboutput.container div.prompt > div {\n",
       "            position: absolute;\n",
       "            right: 0;\n",
       "            margin-right: 0.3ex;\n",
       "        }\n",
       "\n",
       "        @media (max-width: 540px) {\n",
       "            div.nbinput.container div.prompt,\n",
       "            div.nboutput.container div.prompt {\n",
       "                width: unset;\n",
       "                text-align: left;\n",
       "                padding: 0.4em;\n",
       "            }\n",
       "            div.nboutput.container div.prompt.empty {\n",
       "                padding: 0;\n",
       "            }\n",
       "\n",
       "            div.nbinput.container div.prompt > div,\n",
       "            div.nboutput.container div.prompt > div {\n",
       "                position: unset;\n",
       "            }\n",
       "        }\n",
       "\n",
       "        /* disable scrollbars on prompts */\n",
       "        div.nbinput.container div.prompt pre,\n",
       "        div.nboutput.container div.prompt pre {\n",
       "            overflow: hidden;\n",
       "        }\n",
       "\n",
       "        /* input/output area */\n",
       "        div.nbinput.container div.input_area,\n",
       "        div.nboutput.container div.output_area {\n",
       "            -webkit-flex: 1;\n",
       "            flex: 1;\n",
       "            overflow: auto;\n",
       "        }\n",
       "        @media (max-width: 540px) {\n",
       "            div.nbinput.container div.input_area,\n",
       "            div.nboutput.container div.output_area {\n",
       "                width: 100%;\n",
       "            }\n",
       "        }\n",
       "\n",
       "        /* input area */\n",
       "        div.nbinput.container div.input_area {\n",
       "            border: 1px solid #e0e0e0;\n",
       "            border-radius: 2px;\n",
       "            /*background: #f5f5f5;*/\n",
       "        }\n",
       "\n",
       "        /* override MathJax center alignment in output cells */\n",
       "        div.nboutput.container div[class*=MathJax] {\n",
       "            text-align: left !important;\n",
       "        }\n",
       "\n",
       "        /* override sphinx.ext.imgmath center alignment in output cells */\n",
       "        div.nboutput.container div.math p {\n",
       "            text-align: left;\n",
       "        }\n",
       "\n",
       "        /* standard error */\n",
       "        div.nboutput.container div.output_area.stderr {\n",
       "            background: #fdd;\n",
       "        }\n",
       "\n",
       "        /* ANSI colors */\n",
       "        .ansi-black-fg { color: #3E424D; }\n",
       "        .ansi-black-bg { background-color: #3E424D; }\n",
       "        .ansi-black-intense-fg { color: #282C36; }\n",
       "        .ansi-black-intense-bg { background-color: #282C36; }\n",
       "        .ansi-red-fg { color: #E75C58; }\n",
       "        .ansi-red-bg { background-color: #E75C58; }\n",
       "        .ansi-red-intense-fg { color: #B22B31; }\n",
       "        .ansi-red-intense-bg { background-color: #B22B31; }\n",
       "        .ansi-green-fg { color: #00A250; }\n",
       "        .ansi-green-bg { background-color: #00A250; }\n",
       "        .ansi-green-intense-fg { color: #007427; }\n",
       "        .ansi-green-intense-bg { background-color: #007427; }\n",
       "        .ansi-yellow-fg { color: #DDB62B; }\n",
       "        .ansi-yellow-bg { background-color: #DDB62B; }\n",
       "        .ansi-yellow-intense-fg { color: #B27D12; }\n",
       "        .ansi-yellow-intense-bg { background-color: #B27D12; }\n",
       "        .ansi-blue-fg { color: #208FFB; }\n",
       "        .ansi-blue-bg { background-color: #208FFB; }\n",
       "        .ansi-blue-intense-fg { color: #0065CA; }\n",
       "        .ansi-blue-intense-bg { background-color: #0065CA; }\n",
       "        .ansi-magenta-fg { color: #D160C4; }\n",
       "        .ansi-magenta-bg { background-color: #D160C4; }\n",
       "        .ansi-magenta-intense-fg { color: #A03196; }\n",
       "        .ansi-magenta-intense-bg { background-color: #A03196; }\n",
       "        .ansi-cyan-fg { color: #60C6C8; }\n",
       "        .ansi-cyan-bg { background-color: #60C6C8; }\n",
       "        .ansi-cyan-intense-fg { color: #258F8F; }\n",
       "        .ansi-cyan-intense-bg { background-color: #258F8F; }\n",
       "        .ansi-white-fg { color: #C5C1B4; }\n",
       "        .ansi-white-bg { background-color: #C5C1B4; }\n",
       "        .ansi-white-intense-fg { color: #A1A6B2; }\n",
       "        .ansi-white-intense-bg { background-color: #A1A6B2; }\n",
       "\n",
       "        .ansi-default-inverse-fg { color: #FFFFFF; }\n",
       "        .ansi-default-inverse-bg { background-color: #000000; }\n",
       "\n",
       "        .ansi-bold { font-weight: bold; }\n",
       "        .ansi-underline { text-decoration: underline; }\n",
       "\n",
       "\n",
       "        div.nbinput.container div.input_area div[class*=highlight] > pre,\n",
       "        div.nboutput.container div.output_area div[class*=highlight] > pre,\n",
       "        div.nboutput.container div.output_area div[class*=highlight].math,\n",
       "        div.nboutput.container div.output_area.rendered_html,\n",
       "        div.nboutput.container div.output_area > div.output_javascript,\n",
       "        div.nboutput.container div.output_area:not(.rendered_html) > img{\n",
       "            padding: 5px;\n",
       "            margin: 0;\n",
       "        }\n",
       "\n",
       "        /* fix copybtn overflow problem in chromium (needed for 'sphinx_copybutton') */\n",
       "        div.nbinput.container div.input_area > div[class^='highlight'],\n",
       "        div.nboutput.container div.output_area > div[class^='highlight']{\n",
       "            overflow-y: hidden;\n",
       "        }\n",
       "\n",
       "        /* hide copybtn icon on prompts (needed for 'sphinx_copybutton') */\n",
       "        .prompt .copybtn {\n",
       "            display: none;\n",
       "        }\n",
       "\n",
       "        /* Some additional styling taken form the Jupyter notebook CSS */\n",
       "        div.rendered_html table {\n",
       "        border: none;\n",
       "        border-collapse: collapse;\n",
       "        border-spacing: 0;\n",
       "        color: black;\n",
       "        font-size: 12px;\n",
       "        table-layout: fixed;\n",
       "        }\n",
       "        div.rendered_html thead {\n",
       "        border-bottom: 1px solid black;\n",
       "        vertical-align: bottom;\n",
       "        }\n",
       "        div.rendered_html tr,\n",
       "        div.rendered_html th,\n",
       "        div.rendered_html td {\n",
       "        text-align: right;\n",
       "        vertical-align: middle;\n",
       "        padding: 0.5em 0.5em;\n",
       "        line-height: normal;\n",
       "        white-space: normal;\n",
       "        max-width: none;\n",
       "        border: none;\n",
       "        }\n",
       "        div.rendered_html th {\n",
       "        font-weight: bold;\n",
       "        }\n",
       "        div.rendered_html tbody tr:nth-child(odd) {\n",
       "        background: #f5f5f5;\n",
       "        }\n",
       "        div.rendered_html tbody tr:hover {\n",
       "        background: rgba(66, 165, 245, 0.2);\n",
       "        }\n",
       "    </style>\n",
       "</head>\n",
       "<body>\n",
       "    \n",
       "<script\n",
       "    src=\"https://cdnjs.cloudflare.com/ajax/libs/require.js/2.3.6/require.min.js\"\n",
       "    integrity=\"sha512-c3Nl8+7g4LMSTdrm621y7kf9v3SDPnhxLNhcjFJbKECVnmZHTdo+IRO05sNLTH/D3vA6u1X32ehoLC7WFVdheg==\"\n",
       "    crossorigin=\"anonymous\"\n",
       "    referrerpolicy=\"no-referrer\">\n",
       "</script>\n",
       "<script src=\"https://unpkg.com/@jupyter-widgets/html-manager@^0.20.1/dist/embed-amd.js\" crossorigin=\"anonymous\"></script>\n",
       "    \n",
       "\n",
       "<script type=\"application/vnd.jupyter.widget-state+json\">\n",
       "{\"version_major\": 2, \"version_minor\": 0, \"state\": {\"a588dd9b445740bcb9bdbdddf98d796d\": {\"model_name\": \"VBoxModel\", \"model_module\": \"@jupyter-widgets/controls\", \"model_module_version\": \"1.5.0\", \"state\": {\"_dom_classes\": [\"rendered_html\", \"jp-RenderedHTMLCommon\", \"jp-RenderedHTML\", \"jp-OutputArea-output\"], \"children\": [\"IPY_MODEL_01164cf1b975441b8eff27d1f4507c38\", \"IPY_MODEL_b8bd90cfa59347f49637336e2e5ecb19\", \"IPY_MODEL_1f2c36f8b56742e78862dd55a8ff28d3\", \"IPY_MODEL_5848c1b154c842208839d48da3479e2e\"], \"layout\": \"IPY_MODEL_e3aa894de6fc4661837c225b8377c6af\"}}, \"01164cf1b975441b8eff27d1f4507c38\": {\"model_name\": \"HTMLModel\", \"model_module\": \"@jupyter-widgets/controls\", \"model_module_version\": \"1.5.0\", \"state\": {\"_dom_classes\": [], \"layout\": \"IPY_MODEL_6893d5ec3964428e90e0942770e6cdbe\", \"style\": \"IPY_MODEL_22b51c83a00b44da927eb214037c1d29\", \"value\": \"<h4><b>Single Value in Column</b></h4>\"}}, \"6893d5ec3964428e90e0942770e6cdbe\": {\"model_name\": \"LayoutModel\", \"model_module\": \"@jupyter-widgets/base\", \"model_module_version\": \"1.2.0\", \"state\": {}}, \"22b51c83a00b44da927eb214037c1d29\": {\"model_name\": \"DescriptionStyleModel\", \"model_module\": \"@jupyter-widgets/controls\", \"model_module_version\": \"1.5.0\", \"state\": {}}, \"b8bd90cfa59347f49637336e2e5ecb19\": {\"model_name\": \"HTMLModel\", \"model_module\": \"@jupyter-widgets/controls\", \"model_module_version\": \"1.5.0\", \"state\": {\"_dom_classes\": [], \"layout\": \"IPY_MODEL_98ced0d68da1463fb0db1f024f7a5fc5\", \"style\": \"IPY_MODEL_82b4a995aa9d4e8eae3d5d98c09a5d80\", \"value\": \"<p>Check if there are columns which have only a single unique value in all rows. <a href=\\\"https://docs.deepchecks.com/0.9/checks_gallery/tabular/data_integrity/plot_is_single_value.html?utm_source=display_output&utm_medium=referral&utm_campaign=check_link\\\" target=\\\"_blank\\\">Read More...</a></p>\"}}, \"98ced0d68da1463fb0db1f024f7a5fc5\": {\"model_name\": \"LayoutModel\", \"model_module\": \"@jupyter-widgets/base\", \"model_module_version\": \"1.2.0\", \"state\": {}}, \"82b4a995aa9d4e8eae3d5d98c09a5d80\": {\"model_name\": \"DescriptionStyleModel\", \"model_module\": \"@jupyter-widgets/controls\", \"model_module_version\": \"1.5.0\", \"state\": {}}, \"1f2c36f8b56742e78862dd55a8ff28d3\": {\"model_name\": \"HTMLModel\", \"model_module\": \"@jupyter-widgets/controls\", \"model_module_version\": \"1.5.0\", \"state\": {\"_dom_classes\": [], \"layout\": \"IPY_MODEL_b48e8bcd821f426289a3590990fc45fb\", \"style\": \"IPY_MODEL_f8b1c3cb87a54711a03a938772bc1096\"}}, \"b48e8bcd821f426289a3590990fc45fb\": {\"model_name\": \"LayoutModel\", \"model_module\": \"@jupyter-widgets/base\", \"model_module_version\": \"1.2.0\", \"state\": {}}, \"f8b1c3cb87a54711a03a938772bc1096\": {\"model_name\": \"DescriptionStyleModel\", \"model_module\": \"@jupyter-widgets/controls\", \"model_module_version\": \"1.5.0\", \"state\": {}}, \"5848c1b154c842208839d48da3479e2e\": {\"model_name\": \"VBoxModel\", \"model_module\": \"@jupyter-widgets/controls\", \"model_module_version\": \"1.5.0\", \"state\": {\"_dom_classes\": [], \"children\": [\"IPY_MODEL_04e982248ab74f76b6cd80f4eb22fb3f\", \"IPY_MODEL_adeabdead6c345a19c3f431c57fb9183\"], \"layout\": \"IPY_MODEL_a6bc6c6202794f329cfcdf8efc93988a\"}}, \"04e982248ab74f76b6cd80f4eb22fb3f\": {\"model_name\": \"HTMLModel\", \"model_module\": \"@jupyter-widgets/controls\", \"model_module_version\": \"1.5.0\", \"state\": {\"_dom_classes\": [], \"layout\": \"IPY_MODEL_8f46fa7823f64638bf236468a6658922\", \"style\": \"IPY_MODEL_1e9fb59206604415b4ba200b28bf5a39\", \"value\": \"<h5><b>Additional Outputs</b></h5>\"}}, \"8f46fa7823f64638bf236468a6658922\": {\"model_name\": \"LayoutModel\", \"model_module\": \"@jupyter-widgets/base\", \"model_module_version\": \"1.2.0\", \"state\": {}}, \"1e9fb59206604415b4ba200b28bf5a39\": {\"model_name\": \"DescriptionStyleModel\", \"model_module\": \"@jupyter-widgets/controls\", \"model_module_version\": \"1.5.0\", \"state\": {}}, \"adeabdead6c345a19c3f431c57fb9183\": {\"model_name\": \"HTMLModel\", \"model_module\": \"@jupyter-widgets/controls\", \"model_module_version\": \"1.5.0\", \"state\": {\"_dom_classes\": [], \"layout\": \"IPY_MODEL_730efb4f958b4c9aa42e6ea30a305507\", \"style\": \"IPY_MODEL_03920e5afc2e4678a04ecd6e0716c393\", \"value\": \"<p><b>&#x2713;</b>Nothing to display</p>\"}}, \"730efb4f958b4c9aa42e6ea30a305507\": {\"model_name\": \"LayoutModel\", \"model_module\": \"@jupyter-widgets/base\", \"model_module_version\": \"1.2.0\", \"state\": {}}, \"03920e5afc2e4678a04ecd6e0716c393\": {\"model_name\": \"DescriptionStyleModel\", \"model_module\": \"@jupyter-widgets/controls\", \"model_module_version\": \"1.5.0\", \"state\": {}}, \"a6bc6c6202794f329cfcdf8efc93988a\": {\"model_name\": \"LayoutModel\", \"model_module\": \"@jupyter-widgets/base\", \"model_module_version\": \"1.2.0\", \"state\": {}}, \"e3aa894de6fc4661837c225b8377c6af\": {\"model_name\": \"LayoutModel\", \"model_module\": \"@jupyter-widgets/base\", \"model_module_version\": \"1.2.0\", \"state\": {}}}}\n",
       "</script>\n",
       "<script type=\"application/vnd.jupyter.widget-view+json\">\n",
       "{\"version_major\": 2, \"version_minor\": 0, \"model_id\": \"a588dd9b445740bcb9bdbdddf98d796d\"}\n",
       "</script>\n",
       "\n",
       "</body>\n",
       "</html>"
      ]
     },
     "metadata": {},
     "output_type": "display_data"
    }
   ],
   "source": [
    "IsSingleValue().run(df)"
   ]
  },
  {
   "cell_type": "markdown",
   "metadata": {
    "id": "K22reBkbMuHa"
   },
   "source": [
    "### Exploratory Data Analysis"
   ]
  },
  {
   "cell_type": "code",
   "execution_count": 9,
   "metadata": {
    "executionInfo": {
     "elapsed": 13,
     "status": "ok",
     "timestamp": 1668187286229,
     "user": {
      "displayName": "Ahmet Gültekin",
      "userId": "03706301285824263679"
     },
     "user_tz": -180
    },
    "id": "BvpEPuGAMuHa"
   },
   "outputs": [],
   "source": [
    "def missing_values(df):\n",
    "    missing_number = df.isnull().sum().sort_values(ascending=False)\n",
    "    missing_percent = (df.isnull().sum()/df.isnull().count()).sort_values(ascending=False)\n",
    "    missing_values = pd.concat([missing_number, missing_percent], axis=1, keys=['Missing_Number', 'Missing_Percent'])\n",
    "    return missing_values[missing_values['Missing_Number']>0]\n",
    "\n",
    "###############################################################################\n",
    "\n",
    "def first_looking(df):\n",
    "    print(colored(\"Shape:\", attrs=['bold']), df.shape,'\\n', \n",
    "          colored('-'*79, 'red', attrs=['bold']),\n",
    "          colored(\"\\nInfo:\\n\", attrs=['bold']), sep='')\n",
    "    print(df.info(), '\\n', \n",
    "          colored('-'*79, 'red', attrs=['bold']), sep='')\n",
    "    print(colored(\"Number of Uniques:\\n\", attrs=['bold']), df.nunique(),'\\n',\n",
    "          colored('-'*79, 'red', attrs=['bold']), sep='')\n",
    "    print(colored(\"Missing Values:\\n\", attrs=['bold']), missing_values(df),'\\n', \n",
    "          colored('-'*79, 'red', attrs=['bold']), sep='')\n",
    "    print(colored(\"All Columns:\", attrs=['bold']), list(df.columns),'\\n', \n",
    "          colored('-'*79, 'red', attrs=['bold']), sep='')\n",
    "\n",
    "    df.columns= df.columns.str.lower().str.replace('&', '_').str.replace(' ', '_')\n",
    "\n",
    "    print(colored(\"Columns after rename:\", attrs=['bold']), list(df.columns),'\\n',\n",
    "              colored('-'*79, 'red', attrs=['bold']), sep='')\n",
    "    \n",
    "        \n",
    "def multicolinearity_control(df):\n",
    "    feature =[]\n",
    "    collinear=[]\n",
    "    for col in df.corr().columns:\n",
    "        for i in df.corr().index:\n",
    "            if (abs(df.corr()[col][i])> .9 and abs(df.corr()[col][i]) < 1):\n",
    "                    feature.append(col)\n",
    "                    collinear.append(i)\n",
    "                    print(colored(f\"Multicolinearity alert in between:{col} - {i}\", \n",
    "                                  \"red\", attrs=['bold']), df.shape,'\\n',\n",
    "                                  colored('-'*79, 'red', attrs=['bold']), sep='')\n",
    "\n",
    "def duplicate_values(df):\n",
    "    print(colored(\"Duplicate check...\", attrs=['bold']), sep='')\n",
    "    duplicate_values = df.duplicated(subset=None, keep='first').sum()\n",
    "    if duplicate_values > 0:\n",
    "        df.drop_duplicates(keep='first', inplace=True)\n",
    "        print(duplicate_values, colored(\"Duplicates were dropped!\"),'\\n',\n",
    "              colored('-'*79, 'red', attrs=['bold']), sep='')\n",
    "    else:\n",
    "        print(colored(\"There are no duplicates\"),'\\n',\n",
    "              colored('-'*79, 'red', attrs=['bold']), sep='')     \n",
    "        \n",
    "def drop_columns(df, drop_columns):\n",
    "    if drop_columns !=[]:\n",
    "        df.drop(drop_columns, axis=1, inplace=True)\n",
    "        print(drop_columns, 'were dropped')\n",
    "    else:\n",
    "        print(colored('We will now check the missing values and if necessary will drop realted columns!', attrs=['bold']),'\\n',\n",
    "              colored('-'*79, 'red', attrs=['bold']), sep='')\n",
    "        \n",
    "def drop_null(df, limit):\n",
    "    print('Shape:', df.shape)\n",
    "    for i in df.isnull().sum().index:\n",
    "        if (df.isnull().sum()[i]/df.shape[0]*100)>limit:\n",
    "            print(df.isnull().sum()[i], 'percent of', i ,'null and were dropped')\n",
    "            df.drop(i, axis=1, inplace=True)\n",
    "            print('new shape:', df.shape)       \n",
    "    print('New shape after missing value control:', df.shape)"
   ]
  },
  {
   "cell_type": "code",
   "execution_count": 10,
   "metadata": {
    "colab": {
     "base_uri": "https://localhost:8080/"
    },
    "executionInfo": {
     "elapsed": 1046,
     "status": "ok",
     "timestamp": 1668187287263,
     "user": {
      "displayName": "Ahmet Gültekin",
      "userId": "03706301285824263679"
     },
     "user_tz": -180
    },
    "id": "qF6hbk0hpy8a",
    "outputId": "8796fd56-f69a-476f-87ee-eea2de7fa1c3"
   },
   "outputs": [
    {
     "name": "stdout",
     "output_type": "stream",
     "text": [
      "Shape:(284807, 31)\n",
      "-------------------------------------------------------------------------------\n",
      "Info:\n",
      "\n",
      "<class 'pandas.core.frame.DataFrame'>\n",
      "RangeIndex: 284807 entries, 0 to 284806\n",
      "Data columns (total 31 columns):\n",
      " #   Column  Non-Null Count   Dtype  \n",
      "---  ------  --------------   -----  \n",
      " 0   Time    284807 non-null  float64\n",
      " 1   V1      284807 non-null  float64\n",
      " 2   V2      284807 non-null  float64\n",
      " 3   V3      284807 non-null  float64\n",
      " 4   V4      284807 non-null  float64\n",
      " 5   V5      284807 non-null  float64\n",
      " 6   V6      284807 non-null  float64\n",
      " 7   V7      284807 non-null  float64\n",
      " 8   V8      284807 non-null  float64\n",
      " 9   V9      284807 non-null  float64\n",
      " 10  V10     284807 non-null  float64\n",
      " 11  V11     284807 non-null  float64\n",
      " 12  V12     284807 non-null  float64\n",
      " 13  V13     284807 non-null  float64\n",
      " 14  V14     284807 non-null  float64\n",
      " 15  V15     284807 non-null  float64\n",
      " 16  V16     284807 non-null  float64\n",
      " 17  V17     284807 non-null  float64\n",
      " 18  V18     284807 non-null  float64\n",
      " 19  V19     284807 non-null  float64\n",
      " 20  V20     284807 non-null  float64\n",
      " 21  V21     284807 non-null  float64\n",
      " 22  V22     284807 non-null  float64\n",
      " 23  V23     284807 non-null  float64\n",
      " 24  V24     284807 non-null  float64\n",
      " 25  V25     284807 non-null  float64\n",
      " 26  V26     284807 non-null  float64\n",
      " 27  V27     284807 non-null  float64\n",
      " 28  V28     284807 non-null  float64\n",
      " 29  Amount  284807 non-null  float64\n",
      " 30  Class   284807 non-null  int64  \n",
      "dtypes: float64(30), int64(1)\n",
      "memory usage: 67.4 MB\n",
      "None\n",
      "-------------------------------------------------------------------------------\n",
      "Number of Uniques:\n",
      "Time      124592\n",
      "V1        275663\n",
      "V2        275663\n",
      "V3        275663\n",
      "V4        275663\n",
      "V5        275663\n",
      "V6        275663\n",
      "V7        275663\n",
      "V8        275663\n",
      "V9        275663\n",
      "V10       275663\n",
      "V11       275663\n",
      "V12       275663\n",
      "V13       275663\n",
      "V14       275663\n",
      "V15       275663\n",
      "V16       275663\n",
      "V17       275663\n",
      "V18       275663\n",
      "V19       275663\n",
      "V20       275663\n",
      "V21       275663\n",
      "V22       275663\n",
      "V23       275663\n",
      "V24       275663\n",
      "V25       275663\n",
      "V26       275663\n",
      "V27       275663\n",
      "V28       275663\n",
      "Amount     32767\n",
      "Class          2\n",
      "dtype: int64\n",
      "-------------------------------------------------------------------------------\n",
      "Missing Values:\n",
      "Empty DataFrame\n",
      "Columns: [Missing_Number, Missing_Percent]\n",
      "Index: []\n",
      "-------------------------------------------------------------------------------\n",
      "All Columns:['Time', 'V1', 'V2', 'V3', 'V4', 'V5', 'V6', 'V7', 'V8', 'V9', 'V10', 'V11', 'V12', 'V13', 'V14', 'V15', 'V16', 'V17', 'V18', 'V19', 'V20', 'V21', 'V22', 'V23', 'V24', 'V25', 'V26', 'V27', 'V28', 'Amount', 'Class']\n",
      "-------------------------------------------------------------------------------\n",
      "Columns after rename:['time', 'v1', 'v2', 'v3', 'v4', 'v5', 'v6', 'v7', 'v8', 'v9', 'v10', 'v11', 'v12', 'v13', 'v14', 'v15', 'v16', 'v17', 'v18', 'v19', 'v20', 'v21', 'v22', 'v23', 'v24', 'v25', 'v26', 'v27', 'v28', 'amount', 'class']\n",
      "-------------------------------------------------------------------------------\n",
      "Duplicate check...\n",
      "1081Duplicates were dropped!\n",
      "-------------------------------------------------------------------------------\n",
      "We will now check the missing values and if necessary will drop realted columns!\n",
      "-------------------------------------------------------------------------------\n",
      "Shape: (283726, 31)\n",
      "New shape after missing value control: (283726, 31)\n"
     ]
    }
   ],
   "source": [
    "first_looking(df)\n",
    "duplicate_values(df)\n",
    "drop_columns(df,[])\n",
    "drop_null(df,90)"
   ]
  },
  {
   "cell_type": "markdown",
   "metadata": {
    "id": "NGyEoz9fJQ0E"
   },
   "source": [
    "### Data Cleaning\n",
    "Check Missing Values and Outliers"
   ]
  },
  {
   "cell_type": "code",
   "execution_count": 11,
   "metadata": {
    "colab": {
     "base_uri": "https://localhost:8080/"
    },
    "executionInfo": {
     "elapsed": 8,
     "status": "ok",
     "timestamp": 1668187287263,
     "user": {
      "displayName": "Ahmet Gültekin",
      "userId": "03706301285824263679"
     },
     "user_tz": -180
    },
    "id": "LN3Q3aaDc1oe",
    "outputId": "e32a423f-acf7-4226-b903-1caa61a0c87a"
   },
   "outputs": [
    {
     "data": {
      "text/plain": [
       "time      False\n",
       "v1        False\n",
       "v2        False\n",
       "v3        False\n",
       "v4        False\n",
       "v5        False\n",
       "v6        False\n",
       "v7        False\n",
       "v8        False\n",
       "v9        False\n",
       "v10       False\n",
       "v11       False\n",
       "v12       False\n",
       "v13       False\n",
       "v14       False\n",
       "v15       False\n",
       "v16       False\n",
       "v17       False\n",
       "v18       False\n",
       "v19       False\n",
       "v20       False\n",
       "v21       False\n",
       "v22       False\n",
       "v23       False\n",
       "v24       False\n",
       "v25       False\n",
       "v26       False\n",
       "v27       False\n",
       "v28       False\n",
       "amount    False\n",
       "class     False\n",
       "dtype: bool"
      ]
     },
     "execution_count": 11,
     "metadata": {},
     "output_type": "execute_result"
    }
   ],
   "source": [
    "df.isnull().any()"
   ]
  },
  {
   "cell_type": "code",
   "execution_count": 12,
   "metadata": {
    "colab": {
     "base_uri": "https://localhost:8080/",
     "height": 364
    },
    "executionInfo": {
     "elapsed": 836,
     "status": "ok",
     "timestamp": 1668187288095,
     "user": {
      "displayName": "Ahmet Gültekin",
      "userId": "03706301285824263679"
     },
     "user_tz": -180
    },
    "id": "NVhlnj_Rc1le",
    "outputId": "7b517e27-68d4-4250-8244-ab8874edc47b"
   },
   "outputs": [
    {
     "data": {
      "text/html": [
       "\n",
       "  <div id=\"df-e6a30224-2eb6-468c-ba7b-9ab38b6d1130\">\n",
       "    <div class=\"colab-df-container\">\n",
       "      <div>\n",
       "<style scoped>\n",
       "    .dataframe tbody tr th:only-of-type {\n",
       "        vertical-align: middle;\n",
       "    }\n",
       "\n",
       "    .dataframe tbody tr th {\n",
       "        vertical-align: top;\n",
       "    }\n",
       "\n",
       "    .dataframe thead th {\n",
       "        text-align: right;\n",
       "    }\n",
       "</style>\n",
       "<table border=\"1\" class=\"dataframe\">\n",
       "  <thead>\n",
       "    <tr style=\"text-align: right;\">\n",
       "      <th></th>\n",
       "      <th>time</th>\n",
       "      <th>v1</th>\n",
       "      <th>v2</th>\n",
       "      <th>v3</th>\n",
       "      <th>v4</th>\n",
       "      <th>v5</th>\n",
       "      <th>v6</th>\n",
       "      <th>v7</th>\n",
       "      <th>v8</th>\n",
       "      <th>v9</th>\n",
       "      <th>v10</th>\n",
       "      <th>v11</th>\n",
       "      <th>v12</th>\n",
       "      <th>v13</th>\n",
       "      <th>v14</th>\n",
       "      <th>v15</th>\n",
       "      <th>v16</th>\n",
       "      <th>v17</th>\n",
       "      <th>v18</th>\n",
       "      <th>v19</th>\n",
       "      <th>v20</th>\n",
       "      <th>v21</th>\n",
       "      <th>v22</th>\n",
       "      <th>v23</th>\n",
       "      <th>v24</th>\n",
       "      <th>v25</th>\n",
       "      <th>v26</th>\n",
       "      <th>v27</th>\n",
       "      <th>v28</th>\n",
       "      <th>amount</th>\n",
       "      <th>class</th>\n",
       "    </tr>\n",
       "  </thead>\n",
       "  <tbody>\n",
       "    <tr>\n",
       "      <th>count</th>\n",
       "      <td>283726.000</td>\n",
       "      <td>283726.000</td>\n",
       "      <td>283726.000</td>\n",
       "      <td>283726.000</td>\n",
       "      <td>283726.000</td>\n",
       "      <td>283726.000</td>\n",
       "      <td>283726.000</td>\n",
       "      <td>283726.000</td>\n",
       "      <td>283726.000</td>\n",
       "      <td>283726.000</td>\n",
       "      <td>283726.000</td>\n",
       "      <td>283726.000</td>\n",
       "      <td>283726.000</td>\n",
       "      <td>283726.000</td>\n",
       "      <td>283726.000</td>\n",
       "      <td>283726.000</td>\n",
       "      <td>283726.000</td>\n",
       "      <td>283726.000</td>\n",
       "      <td>283726.000</td>\n",
       "      <td>283726.000</td>\n",
       "      <td>283726.000</td>\n",
       "      <td>283726.000</td>\n",
       "      <td>283726.000</td>\n",
       "      <td>283726.000</td>\n",
       "      <td>283726.000</td>\n",
       "      <td>283726.000</td>\n",
       "      <td>283726.000</td>\n",
       "      <td>283726.000</td>\n",
       "      <td>283726.000</td>\n",
       "      <td>283726.000</td>\n",
       "      <td>283726.000</td>\n",
       "    </tr>\n",
       "    <tr>\n",
       "      <th>mean</th>\n",
       "      <td>94811.078</td>\n",
       "      <td>0.006</td>\n",
       "      <td>-0.004</td>\n",
       "      <td>0.002</td>\n",
       "      <td>-0.003</td>\n",
       "      <td>0.002</td>\n",
       "      <td>-0.001</td>\n",
       "      <td>0.002</td>\n",
       "      <td>-0.001</td>\n",
       "      <td>-0.002</td>\n",
       "      <td>-0.001</td>\n",
       "      <td>0.000</td>\n",
       "      <td>-0.001</td>\n",
       "      <td>0.001</td>\n",
       "      <td>0.000</td>\n",
       "      <td>0.001</td>\n",
       "      <td>0.001</td>\n",
       "      <td>0.000</td>\n",
       "      <td>0.002</td>\n",
       "      <td>-0.000</td>\n",
       "      <td>0.000</td>\n",
       "      <td>-0.000</td>\n",
       "      <td>-0.000</td>\n",
       "      <td>0.000</td>\n",
       "      <td>0.000</td>\n",
       "      <td>-0.000</td>\n",
       "      <td>0.000</td>\n",
       "      <td>0.002</td>\n",
       "      <td>0.001</td>\n",
       "      <td>88.473</td>\n",
       "      <td>0.002</td>\n",
       "    </tr>\n",
       "    <tr>\n",
       "      <th>std</th>\n",
       "      <td>47481.048</td>\n",
       "      <td>1.948</td>\n",
       "      <td>1.647</td>\n",
       "      <td>1.509</td>\n",
       "      <td>1.414</td>\n",
       "      <td>1.377</td>\n",
       "      <td>1.332</td>\n",
       "      <td>1.228</td>\n",
       "      <td>1.179</td>\n",
       "      <td>1.095</td>\n",
       "      <td>1.076</td>\n",
       "      <td>1.019</td>\n",
       "      <td>0.995</td>\n",
       "      <td>0.995</td>\n",
       "      <td>0.952</td>\n",
       "      <td>0.915</td>\n",
       "      <td>0.874</td>\n",
       "      <td>0.843</td>\n",
       "      <td>0.837</td>\n",
       "      <td>0.813</td>\n",
       "      <td>0.770</td>\n",
       "      <td>0.724</td>\n",
       "      <td>0.725</td>\n",
       "      <td>0.624</td>\n",
       "      <td>0.606</td>\n",
       "      <td>0.521</td>\n",
       "      <td>0.482</td>\n",
       "      <td>0.396</td>\n",
       "      <td>0.328</td>\n",
       "      <td>250.399</td>\n",
       "      <td>0.041</td>\n",
       "    </tr>\n",
       "    <tr>\n",
       "      <th>min</th>\n",
       "      <td>0.000</td>\n",
       "      <td>-56.408</td>\n",
       "      <td>-72.716</td>\n",
       "      <td>-48.326</td>\n",
       "      <td>-5.683</td>\n",
       "      <td>-113.743</td>\n",
       "      <td>-26.161</td>\n",
       "      <td>-43.557</td>\n",
       "      <td>-73.217</td>\n",
       "      <td>-13.434</td>\n",
       "      <td>-24.588</td>\n",
       "      <td>-4.797</td>\n",
       "      <td>-18.684</td>\n",
       "      <td>-5.792</td>\n",
       "      <td>-19.214</td>\n",
       "      <td>-4.499</td>\n",
       "      <td>-14.130</td>\n",
       "      <td>-25.163</td>\n",
       "      <td>-9.499</td>\n",
       "      <td>-7.214</td>\n",
       "      <td>-54.498</td>\n",
       "      <td>-34.830</td>\n",
       "      <td>-10.933</td>\n",
       "      <td>-44.808</td>\n",
       "      <td>-2.837</td>\n",
       "      <td>-10.295</td>\n",
       "      <td>-2.605</td>\n",
       "      <td>-22.566</td>\n",
       "      <td>-15.430</td>\n",
       "      <td>0.000</td>\n",
       "      <td>0.000</td>\n",
       "    </tr>\n",
       "    <tr>\n",
       "      <th>25%</th>\n",
       "      <td>54204.750</td>\n",
       "      <td>-0.916</td>\n",
       "      <td>-0.600</td>\n",
       "      <td>-0.890</td>\n",
       "      <td>-0.850</td>\n",
       "      <td>-0.690</td>\n",
       "      <td>-0.769</td>\n",
       "      <td>-0.553</td>\n",
       "      <td>-0.209</td>\n",
       "      <td>-0.644</td>\n",
       "      <td>-0.536</td>\n",
       "      <td>-0.762</td>\n",
       "      <td>-0.406</td>\n",
       "      <td>-0.648</td>\n",
       "      <td>-0.426</td>\n",
       "      <td>-0.581</td>\n",
       "      <td>-0.467</td>\n",
       "      <td>-0.484</td>\n",
       "      <td>-0.498</td>\n",
       "      <td>-0.456</td>\n",
       "      <td>-0.211</td>\n",
       "      <td>-0.228</td>\n",
       "      <td>-0.543</td>\n",
       "      <td>-0.162</td>\n",
       "      <td>-0.354</td>\n",
       "      <td>-0.317</td>\n",
       "      <td>-0.327</td>\n",
       "      <td>-0.071</td>\n",
       "      <td>-0.053</td>\n",
       "      <td>5.600</td>\n",
       "      <td>0.000</td>\n",
       "    </tr>\n",
       "    <tr>\n",
       "      <th>50%</th>\n",
       "      <td>84692.500</td>\n",
       "      <td>0.020</td>\n",
       "      <td>0.064</td>\n",
       "      <td>0.180</td>\n",
       "      <td>-0.022</td>\n",
       "      <td>-0.053</td>\n",
       "      <td>-0.275</td>\n",
       "      <td>0.041</td>\n",
       "      <td>0.022</td>\n",
       "      <td>-0.053</td>\n",
       "      <td>-0.093</td>\n",
       "      <td>-0.032</td>\n",
       "      <td>0.139</td>\n",
       "      <td>-0.013</td>\n",
       "      <td>0.050</td>\n",
       "      <td>0.049</td>\n",
       "      <td>0.067</td>\n",
       "      <td>-0.066</td>\n",
       "      <td>-0.002</td>\n",
       "      <td>0.003</td>\n",
       "      <td>-0.062</td>\n",
       "      <td>-0.029</td>\n",
       "      <td>0.007</td>\n",
       "      <td>-0.011</td>\n",
       "      <td>0.041</td>\n",
       "      <td>0.016</td>\n",
       "      <td>-0.052</td>\n",
       "      <td>0.001</td>\n",
       "      <td>0.011</td>\n",
       "      <td>22.000</td>\n",
       "      <td>0.000</td>\n",
       "    </tr>\n",
       "    <tr>\n",
       "      <th>75%</th>\n",
       "      <td>139298.000</td>\n",
       "      <td>1.316</td>\n",
       "      <td>0.800</td>\n",
       "      <td>1.027</td>\n",
       "      <td>0.740</td>\n",
       "      <td>0.612</td>\n",
       "      <td>0.397</td>\n",
       "      <td>0.570</td>\n",
       "      <td>0.326</td>\n",
       "      <td>0.596</td>\n",
       "      <td>0.454</td>\n",
       "      <td>0.740</td>\n",
       "      <td>0.617</td>\n",
       "      <td>0.663</td>\n",
       "      <td>0.492</td>\n",
       "      <td>0.650</td>\n",
       "      <td>0.524</td>\n",
       "      <td>0.399</td>\n",
       "      <td>0.502</td>\n",
       "      <td>0.459</td>\n",
       "      <td>0.133</td>\n",
       "      <td>0.186</td>\n",
       "      <td>0.528</td>\n",
       "      <td>0.148</td>\n",
       "      <td>0.440</td>\n",
       "      <td>0.351</td>\n",
       "      <td>0.240</td>\n",
       "      <td>0.091</td>\n",
       "      <td>0.078</td>\n",
       "      <td>77.510</td>\n",
       "      <td>0.000</td>\n",
       "    </tr>\n",
       "    <tr>\n",
       "      <th>max</th>\n",
       "      <td>172792.000</td>\n",
       "      <td>2.455</td>\n",
       "      <td>22.058</td>\n",
       "      <td>9.383</td>\n",
       "      <td>16.875</td>\n",
       "      <td>34.802</td>\n",
       "      <td>73.302</td>\n",
       "      <td>120.589</td>\n",
       "      <td>20.007</td>\n",
       "      <td>15.595</td>\n",
       "      <td>23.745</td>\n",
       "      <td>12.019</td>\n",
       "      <td>7.848</td>\n",
       "      <td>7.127</td>\n",
       "      <td>10.527</td>\n",
       "      <td>8.878</td>\n",
       "      <td>17.315</td>\n",
       "      <td>9.254</td>\n",
       "      <td>5.041</td>\n",
       "      <td>5.592</td>\n",
       "      <td>39.421</td>\n",
       "      <td>27.203</td>\n",
       "      <td>10.503</td>\n",
       "      <td>22.528</td>\n",
       "      <td>4.585</td>\n",
       "      <td>7.520</td>\n",
       "      <td>3.517</td>\n",
       "      <td>31.612</td>\n",
       "      <td>33.848</td>\n",
       "      <td>25691.160</td>\n",
       "      <td>1.000</td>\n",
       "    </tr>\n",
       "  </tbody>\n",
       "</table>\n",
       "</div>\n",
       "      <button class=\"colab-df-convert\" onclick=\"convertToInteractive('df-e6a30224-2eb6-468c-ba7b-9ab38b6d1130')\"\n",
       "              title=\"Convert this dataframe to an interactive table.\"\n",
       "              style=\"display:none;\">\n",
       "        \n",
       "  <svg xmlns=\"http://www.w3.org/2000/svg\" height=\"24px\"viewBox=\"0 0 24 24\"\n",
       "       width=\"24px\">\n",
       "    <path d=\"M0 0h24v24H0V0z\" fill=\"none\"/>\n",
       "    <path d=\"M18.56 5.44l.94 2.06.94-2.06 2.06-.94-2.06-.94-.94-2.06-.94 2.06-2.06.94zm-11 1L8.5 8.5l.94-2.06 2.06-.94-2.06-.94L8.5 2.5l-.94 2.06-2.06.94zm10 10l.94 2.06.94-2.06 2.06-.94-2.06-.94-.94-2.06-.94 2.06-2.06.94z\"/><path d=\"M17.41 7.96l-1.37-1.37c-.4-.4-.92-.59-1.43-.59-.52 0-1.04.2-1.43.59L10.3 9.45l-7.72 7.72c-.78.78-.78 2.05 0 2.83L4 21.41c.39.39.9.59 1.41.59.51 0 1.02-.2 1.41-.59l7.78-7.78 2.81-2.81c.8-.78.8-2.07 0-2.86zM5.41 20L4 18.59l7.72-7.72 1.47 1.35L5.41 20z\"/>\n",
       "  </svg>\n",
       "      </button>\n",
       "      \n",
       "  <style>\n",
       "    .colab-df-container {\n",
       "      display:flex;\n",
       "      flex-wrap:wrap;\n",
       "      gap: 12px;\n",
       "    }\n",
       "\n",
       "    .colab-df-convert {\n",
       "      background-color: #E8F0FE;\n",
       "      border: none;\n",
       "      border-radius: 50%;\n",
       "      cursor: pointer;\n",
       "      display: none;\n",
       "      fill: #1967D2;\n",
       "      height: 32px;\n",
       "      padding: 0 0 0 0;\n",
       "      width: 32px;\n",
       "    }\n",
       "\n",
       "    .colab-df-convert:hover {\n",
       "      background-color: #E2EBFA;\n",
       "      box-shadow: 0px 1px 2px rgba(60, 64, 67, 0.3), 0px 1px 3px 1px rgba(60, 64, 67, 0.15);\n",
       "      fill: #174EA6;\n",
       "    }\n",
       "\n",
       "    [theme=dark] .colab-df-convert {\n",
       "      background-color: #3B4455;\n",
       "      fill: #D2E3FC;\n",
       "    }\n",
       "\n",
       "    [theme=dark] .colab-df-convert:hover {\n",
       "      background-color: #434B5C;\n",
       "      box-shadow: 0px 1px 3px 1px rgba(0, 0, 0, 0.15);\n",
       "      filter: drop-shadow(0px 1px 2px rgba(0, 0, 0, 0.3));\n",
       "      fill: #FFFFFF;\n",
       "    }\n",
       "  </style>\n",
       "\n",
       "      <script>\n",
       "        const buttonEl =\n",
       "          document.querySelector('#df-e6a30224-2eb6-468c-ba7b-9ab38b6d1130 button.colab-df-convert');\n",
       "        buttonEl.style.display =\n",
       "          google.colab.kernel.accessAllowed ? 'block' : 'none';\n",
       "\n",
       "        async function convertToInteractive(key) {\n",
       "          const element = document.querySelector('#df-e6a30224-2eb6-468c-ba7b-9ab38b6d1130');\n",
       "          const dataTable =\n",
       "            await google.colab.kernel.invokeFunction('convertToInteractive',\n",
       "                                                     [key], {});\n",
       "          if (!dataTable) return;\n",
       "\n",
       "          const docLinkHtml = 'Like what you see? Visit the ' +\n",
       "            '<a target=\"_blank\" href=https://colab.research.google.com/notebooks/data_table.ipynb>data table notebook</a>'\n",
       "            + ' to learn more about interactive tables.';\n",
       "          element.innerHTML = '';\n",
       "          dataTable['output_type'] = 'display_data';\n",
       "          await google.colab.output.renderOutput(dataTable, element);\n",
       "          const docLink = document.createElement('div');\n",
       "          docLink.innerHTML = docLinkHtml;\n",
       "          element.appendChild(docLink);\n",
       "        }\n",
       "      </script>\n",
       "    </div>\n",
       "  </div>\n",
       "  "
      ],
      "text/plain": [
       "            time         v1         v2         v3         v4         v5  \\\n",
       "count 283726.000 283726.000 283726.000 283726.000 283726.000 283726.000   \n",
       "mean   94811.078      0.006     -0.004      0.002     -0.003      0.002   \n",
       "std    47481.048      1.948      1.647      1.509      1.414      1.377   \n",
       "min        0.000    -56.408    -72.716    -48.326     -5.683   -113.743   \n",
       "25%    54204.750     -0.916     -0.600     -0.890     -0.850     -0.690   \n",
       "50%    84692.500      0.020      0.064      0.180     -0.022     -0.053   \n",
       "75%   139298.000      1.316      0.800      1.027      0.740      0.612   \n",
       "max   172792.000      2.455     22.058      9.383     16.875     34.802   \n",
       "\n",
       "              v6         v7         v8         v9        v10        v11  \\\n",
       "count 283726.000 283726.000 283726.000 283726.000 283726.000 283726.000   \n",
       "mean      -0.001      0.002     -0.001     -0.002     -0.001      0.000   \n",
       "std        1.332      1.228      1.179      1.095      1.076      1.019   \n",
       "min      -26.161    -43.557    -73.217    -13.434    -24.588     -4.797   \n",
       "25%       -0.769     -0.553     -0.209     -0.644     -0.536     -0.762   \n",
       "50%       -0.275      0.041      0.022     -0.053     -0.093     -0.032   \n",
       "75%        0.397      0.570      0.326      0.596      0.454      0.740   \n",
       "max       73.302    120.589     20.007     15.595     23.745     12.019   \n",
       "\n",
       "             v12        v13        v14        v15        v16        v17  \\\n",
       "count 283726.000 283726.000 283726.000 283726.000 283726.000 283726.000   \n",
       "mean      -0.001      0.001      0.000      0.001      0.001      0.000   \n",
       "std        0.995      0.995      0.952      0.915      0.874      0.843   \n",
       "min      -18.684     -5.792    -19.214     -4.499    -14.130    -25.163   \n",
       "25%       -0.406     -0.648     -0.426     -0.581     -0.467     -0.484   \n",
       "50%        0.139     -0.013      0.050      0.049      0.067     -0.066   \n",
       "75%        0.617      0.663      0.492      0.650      0.524      0.399   \n",
       "max        7.848      7.127     10.527      8.878     17.315      9.254   \n",
       "\n",
       "             v18        v19        v20        v21        v22        v23  \\\n",
       "count 283726.000 283726.000 283726.000 283726.000 283726.000 283726.000   \n",
       "mean       0.002     -0.000      0.000     -0.000     -0.000      0.000   \n",
       "std        0.837      0.813      0.770      0.724      0.725      0.624   \n",
       "min       -9.499     -7.214    -54.498    -34.830    -10.933    -44.808   \n",
       "25%       -0.498     -0.456     -0.211     -0.228     -0.543     -0.162   \n",
       "50%       -0.002      0.003     -0.062     -0.029      0.007     -0.011   \n",
       "75%        0.502      0.459      0.133      0.186      0.528      0.148   \n",
       "max        5.041      5.592     39.421     27.203     10.503     22.528   \n",
       "\n",
       "             v24        v25        v26        v27        v28     amount  \\\n",
       "count 283726.000 283726.000 283726.000 283726.000 283726.000 283726.000   \n",
       "mean       0.000     -0.000      0.000      0.002      0.001     88.473   \n",
       "std        0.606      0.521      0.482      0.396      0.328    250.399   \n",
       "min       -2.837    -10.295     -2.605    -22.566    -15.430      0.000   \n",
       "25%       -0.354     -0.317     -0.327     -0.071     -0.053      5.600   \n",
       "50%        0.041      0.016     -0.052      0.001      0.011     22.000   \n",
       "75%        0.440      0.351      0.240      0.091      0.078     77.510   \n",
       "max        4.585      7.520      3.517     31.612     33.848  25691.160   \n",
       "\n",
       "           class  \n",
       "count 283726.000  \n",
       "mean       0.002  \n",
       "std        0.041  \n",
       "min        0.000  \n",
       "25%        0.000  \n",
       "50%        0.000  \n",
       "75%        0.000  \n",
       "max        1.000  "
      ]
     },
     "execution_count": 12,
     "metadata": {},
     "output_type": "execute_result"
    }
   ],
   "source": [
    "df.describe()"
   ]
  },
  {
   "cell_type": "code",
   "execution_count": 13,
   "metadata": {
    "colab": {
     "base_uri": "https://localhost:8080/",
     "height": 519
    },
    "executionInfo": {
     "elapsed": 13,
     "status": "ok",
     "timestamp": 1668187288097,
     "user": {
      "displayName": "Ahmet Gültekin",
      "userId": "03706301285824263679"
     },
     "user_tz": -180
    },
    "id": "JzVJzRqFu_kQ",
    "outputId": "333e9a6e-432b-48e2-ae46-47aff6198fd8"
   },
   "outputs": [
    {
     "name": "stdout",
     "output_type": "stream",
     "text": [
      "No Frauds 99.83 % of the dataset\n",
      "Frauds 0.17 % of the dataset\n"
     ]
    },
    {
     "data": {
      "image/png": "[encoded data removed]",
      "text/plain": [
       "<Figure size 576x576 with 1 Axes>"
      ]
     },
     "metadata": {},
     "output_type": "display_data"
    }
   ],
   "source": [
    "plt.figure(figsize=(8,8))\n",
    "\n",
    "explode = [0,0.001]\n",
    "plt.pie(df['class'].value_counts(), explode=explode,autopct='%1.2f%%', shadow=True,startangle=100)\n",
    "plt.legend(labels=['0','1'])\n",
    "plt.title('Class Distribution');\n",
    "\n",
    "print('No Frauds', round(df['class'].value_counts()[0]/len(df) * 100,2), '% of the dataset')\n",
    "print('Frauds', round(df['class'].value_counts()[1]/len(df) * 100,2), '% of the dataset')\n"
   ]
  },
  {
   "cell_type": "code",
   "execution_count": 13,
   "metadata": {
    "executionInfo": {
     "elapsed": 414,
     "status": "ok",
     "timestamp": 1668187291925,
     "user": {
      "displayName": "Ahmet Gültekin",
      "userId": "03706301285824263679"
     },
     "user_tz": -180
    },
    "id": "AYgTJl0ru_h6"
   },
   "outputs": [],
   "source": []
  },
  {
   "cell_type": "code",
   "execution_count": 13,
   "metadata": {
    "executionInfo": {
     "elapsed": 2,
     "status": "ok",
     "timestamp": 1668187292487,
     "user": {
      "displayName": "Ahmet Gültekin",
      "userId": "03706301285824263679"
     },
     "user_tz": -180
    },
    "id": "1zae7txRu_fH"
   },
   "outputs": [],
   "source": []
  },
  {
   "cell_type": "markdown",
   "metadata": {
    "id": "1BBBRNgDvW4T"
   },
   "source": [
    "### Outliers"
   ]
  },
  {
   "cell_type": "code",
   "execution_count": 14,
   "metadata": {
    "colab": {
     "base_uri": "https://localhost:8080/",
     "height": 388
    },
    "executionInfo": {
     "elapsed": 6,
     "status": "ok",
     "timestamp": 1668187292981,
     "user": {
      "displayName": "Ahmet Gültekin",
      "userId": "03706301285824263679"
     },
     "user_tz": -180
    },
    "id": "ZugAHQnRc1i2",
    "outputId": "ea479194-364e-4edb-cb51-4427a36fd019"
   },
   "outputs": [
    {
     "data": {
      "image/png": "[encoded data removed]",
      "text/plain": [
       "<Figure size 1080x432 with 1 Axes>"
      ]
     },
     "metadata": {},
     "output_type": "display_data"
    }
   ],
   "source": [
    "plt.figure(figsize = (15,6))\n",
    "ax = sns.boxplot(x = \"amount\" , data = df)\n",
    "plt.show();"
   ]
  },
  {
   "cell_type": "code",
   "execution_count": 15,
   "metadata": {
    "executionInfo": {
     "elapsed": 429,
     "status": "ok",
     "timestamp": 1668187296811,
     "user": {
      "displayName": "Ahmet Gültekin",
      "userId": "03706301285824263679"
     },
     "user_tz": -180
    },
    "id": "pGJK0qI4c1gU"
   },
   "outputs": [],
   "source": [
    "df_1 = df.loc[df.amount < 10000]"
   ]
  },
  {
   "cell_type": "code",
   "execution_count": 16,
   "metadata": {
    "colab": {
     "base_uri": "https://localhost:8080/"
    },
    "executionInfo": {
     "elapsed": 12,
     "status": "ok",
     "timestamp": 1668187297417,
     "user": {
      "displayName": "Ahmet Gültekin",
      "userId": "03706301285824263679"
     },
     "user_tz": -180
    },
    "id": "6vI3RjhOtqo4",
    "outputId": "4008404e-4b5e-4690-bf55-ad5a059f4493"
   },
   "outputs": [
    {
     "data": {
      "text/plain": [
       "(283718, 31)"
      ]
     },
     "execution_count": 16,
     "metadata": {},
     "output_type": "execute_result"
    }
   ],
   "source": [
    "df_1.shape"
   ]
  },
  {
   "cell_type": "code",
   "execution_count": 17,
   "metadata": {
    "colab": {
     "base_uri": "https://localhost:8080/",
     "height": 365
    },
    "executionInfo": {
     "elapsed": 15,
     "status": "ok",
     "timestamp": 1668187297422,
     "user": {
      "displayName": "Ahmet Gültekin",
      "userId": "03706301285824263679"
     },
     "user_tz": -180
    },
    "id": "bf6dQMmHc1d8",
    "outputId": "e6f73bfd-49d8-4626-f22d-7faf143d8e01"
   },
   "outputs": [
    {
     "data": {
      "image/png": "[encoded data removed]",
      "text/plain": [
       "<Figure size 1800x432 with 1 Axes>"
      ]
     },
     "metadata": {},
     "output_type": "display_data"
    }
   ],
   "source": [
    "plt.figure(figsize = (25,6))\n",
    "ax = sns.boxplot(x = \"amount\" , data = df_1)\n",
    "plt.show();"
   ]
  },
  {
   "cell_type": "code",
   "execution_count": 18,
   "metadata": {
    "executionInfo": {
     "elapsed": 2,
     "status": "ok",
     "timestamp": 1668187299620,
     "user": {
      "displayName": "Ahmet Gültekin",
      "userId": "03706301285824263679"
     },
     "user_tz": -180
    },
    "id": "s6NpN1K6z8DV"
   },
   "outputs": [],
   "source": [
    "df_2 = df.loc[df.amount < 5000]"
   ]
  },
  {
   "cell_type": "code",
   "execution_count": 19,
   "metadata": {
    "colab": {
     "base_uri": "https://localhost:8080/",
     "height": 365
    },
    "executionInfo": {
     "elapsed": 477,
     "status": "ok",
     "timestamp": 1668187301319,
     "user": {
      "displayName": "Ahmet Gültekin",
      "userId": "03706301285824263679"
     },
     "user_tz": -180
    },
    "id": "fPIZMpk_z8BL",
    "outputId": "7e4b1ab0-cac7-4da4-f1fe-002e9fe7610a"
   },
   "outputs": [
    {
     "data": {
      "image/png": "[encoded data removed]",
      "text/plain": [
       "<Figure size 1800x432 with 1 Axes>"
      ]
     },
     "metadata": {},
     "output_type": "display_data"
    }
   ],
   "source": [
    "plt.figure(figsize = (25,6))\n",
    "ax = sns.boxplot(x = \"amount\" , data = df_2)\n",
    "plt.show();"
   ]
  },
  {
   "cell_type": "code",
   "execution_count": 20,
   "metadata": {
    "executionInfo": {
     "elapsed": 589,
     "status": "ok",
     "timestamp": 1668187305611,
     "user": {
      "displayName": "Ahmet Gültekin",
      "userId": "03706301285824263679"
     },
     "user_tz": -180
    },
    "id": "sH2s9w2Vz7-z"
   },
   "outputs": [],
   "source": [
    "df_3 = df.loc[df.amount < 1000]"
   ]
  },
  {
   "cell_type": "code",
   "execution_count": 21,
   "metadata": {
    "colab": {
     "base_uri": "https://localhost:8080/",
     "height": 365
    },
    "executionInfo": {
     "elapsed": 606,
     "status": "ok",
     "timestamp": 1668187306211,
     "user": {
      "displayName": "Ahmet Gültekin",
      "userId": "03706301285824263679"
     },
     "user_tz": -180
    },
    "id": "yYqLQInGz78M",
    "outputId": "83942f4f-144a-470c-e615-730e1b570f1b"
   },
   "outputs": [
    {
     "data": {
      "image/png": "[encoded data removed]",
      "text/plain": [
       "<Figure size 1800x432 with 1 Axes>"
      ]
     },
     "metadata": {},
     "output_type": "display_data"
    }
   ],
   "source": [
    "plt.figure(figsize = (25,6))\n",
    "ax = sns.boxplot(x = \"amount\" , data = df_3)\n",
    "plt.show();"
   ]
  },
  {
   "cell_type": "code",
   "execution_count": 22,
   "metadata": {
    "colab": {
     "base_uri": "https://localhost:8080/",
     "height": 364
    },
    "executionInfo": {
     "elapsed": 736,
     "status": "ok",
     "timestamp": 1668187306935,
     "user": {
      "displayName": "Ahmet Gültekin",
      "userId": "03706301285824263679"
     },
     "user_tz": -180
    },
    "id": "0V6-FDTkz75w",
    "outputId": "bc26f1f5-bafc-4c27-c766-b671a61aa366"
   },
   "outputs": [
    {
     "data": {
      "text/html": [
       "\n",
       "  <div id=\"df-1274c67d-06cc-4fad-a2ed-3e5d0864e5d4\">\n",
       "    <div class=\"colab-df-container\">\n",
       "      <div>\n",
       "<style scoped>\n",
       "    .dataframe tbody tr th:only-of-type {\n",
       "        vertical-align: middle;\n",
       "    }\n",
       "\n",
       "    .dataframe tbody tr th {\n",
       "        vertical-align: top;\n",
       "    }\n",
       "\n",
       "    .dataframe thead th {\n",
       "        text-align: right;\n",
       "    }\n",
       "</style>\n",
       "<table border=\"1\" class=\"dataframe\">\n",
       "  <thead>\n",
       "    <tr style=\"text-align: right;\">\n",
       "      <th></th>\n",
       "      <th>time</th>\n",
       "      <th>v1</th>\n",
       "      <th>v2</th>\n",
       "      <th>v3</th>\n",
       "      <th>v4</th>\n",
       "      <th>v5</th>\n",
       "      <th>v6</th>\n",
       "      <th>v7</th>\n",
       "      <th>v8</th>\n",
       "      <th>v9</th>\n",
       "      <th>v10</th>\n",
       "      <th>v11</th>\n",
       "      <th>v12</th>\n",
       "      <th>v13</th>\n",
       "      <th>v14</th>\n",
       "      <th>v15</th>\n",
       "      <th>v16</th>\n",
       "      <th>v17</th>\n",
       "      <th>v18</th>\n",
       "      <th>v19</th>\n",
       "      <th>v20</th>\n",
       "      <th>v21</th>\n",
       "      <th>v22</th>\n",
       "      <th>v23</th>\n",
       "      <th>v24</th>\n",
       "      <th>v25</th>\n",
       "      <th>v26</th>\n",
       "      <th>v27</th>\n",
       "      <th>v28</th>\n",
       "      <th>amount</th>\n",
       "      <th>class</th>\n",
       "    </tr>\n",
       "  </thead>\n",
       "  <tbody>\n",
       "    <tr>\n",
       "      <th>count</th>\n",
       "      <td>280662.000</td>\n",
       "      <td>280662.000</td>\n",
       "      <td>280662.000</td>\n",
       "      <td>280662.000</td>\n",
       "      <td>280662.000</td>\n",
       "      <td>280662.000</td>\n",
       "      <td>280662.000</td>\n",
       "      <td>280662.000</td>\n",
       "      <td>280662.000</td>\n",
       "      <td>280662.000</td>\n",
       "      <td>280662.000</td>\n",
       "      <td>280662.000</td>\n",
       "      <td>280662.000</td>\n",
       "      <td>280662.000</td>\n",
       "      <td>280662.000</td>\n",
       "      <td>280662.000</td>\n",
       "      <td>280662.000</td>\n",
       "      <td>280662.000</td>\n",
       "      <td>280662.000</td>\n",
       "      <td>280662.000</td>\n",
       "      <td>280662.000</td>\n",
       "      <td>280662.000</td>\n",
       "      <td>280662.000</td>\n",
       "      <td>280662.000</td>\n",
       "      <td>280662.000</td>\n",
       "      <td>280662.000</td>\n",
       "      <td>280662.000</td>\n",
       "      <td>280662.000</td>\n",
       "      <td>280662.000</td>\n",
       "      <td>280662.000</td>\n",
       "      <td>280662.000</td>\n",
       "    </tr>\n",
       "    <tr>\n",
       "      <th>mean</th>\n",
       "      <td>94827.560</td>\n",
       "      <td>0.040</td>\n",
       "      <td>0.056</td>\n",
       "      <td>0.028</td>\n",
       "      <td>-0.015</td>\n",
       "      <td>0.037</td>\n",
       "      <td>-0.020</td>\n",
       "      <td>-0.036</td>\n",
       "      <td>0.009</td>\n",
       "      <td>0.002</td>\n",
       "      <td>0.007</td>\n",
       "      <td>-0.001</td>\n",
       "      <td>0.000</td>\n",
       "      <td>0.000</td>\n",
       "      <td>-0.003</td>\n",
       "      <td>0.000</td>\n",
       "      <td>-0.000</td>\n",
       "      <td>-0.000</td>\n",
       "      <td>0.000</td>\n",
       "      <td>0.003</td>\n",
       "      <td>-0.022</td>\n",
       "      <td>-0.007</td>\n",
       "      <td>0.005</td>\n",
       "      <td>0.007</td>\n",
       "      <td>-0.001</td>\n",
       "      <td>0.002</td>\n",
       "      <td>0.000</td>\n",
       "      <td>0.001</td>\n",
       "      <td>-0.000</td>\n",
       "      <td>70.068</td>\n",
       "      <td>0.002</td>\n",
       "    </tr>\n",
       "    <tr>\n",
       "      <th>std</th>\n",
       "      <td>47492.263</td>\n",
       "      <td>1.877</td>\n",
       "      <td>1.453</td>\n",
       "      <td>1.472</td>\n",
       "      <td>1.401</td>\n",
       "      <td>1.257</td>\n",
       "      <td>1.282</td>\n",
       "      <td>1.073</td>\n",
       "      <td>1.164</td>\n",
       "      <td>1.092</td>\n",
       "      <td>1.070</td>\n",
       "      <td>1.018</td>\n",
       "      <td>0.995</td>\n",
       "      <td>0.996</td>\n",
       "      <td>0.952</td>\n",
       "      <td>0.914</td>\n",
       "      <td>0.869</td>\n",
       "      <td>0.843</td>\n",
       "      <td>0.834</td>\n",
       "      <td>0.810</td>\n",
       "      <td>0.616</td>\n",
       "      <td>0.706</td>\n",
       "      <td>0.718</td>\n",
       "      <td>0.501</td>\n",
       "      <td>0.605</td>\n",
       "      <td>0.514</td>\n",
       "      <td>0.481</td>\n",
       "      <td>0.375</td>\n",
       "      <td>0.295</td>\n",
       "      <td>126.449</td>\n",
       "      <td>0.041</td>\n",
       "    </tr>\n",
       "    <tr>\n",
       "      <th>min</th>\n",
       "      <td>0.000</td>\n",
       "      <td>-46.855</td>\n",
       "      <td>-47.430</td>\n",
       "      <td>-33.681</td>\n",
       "      <td>-5.683</td>\n",
       "      <td>-23.670</td>\n",
       "      <td>-23.497</td>\n",
       "      <td>-43.557</td>\n",
       "      <td>-73.217</td>\n",
       "      <td>-13.434</td>\n",
       "      <td>-24.588</td>\n",
       "      <td>-4.797</td>\n",
       "      <td>-18.684</td>\n",
       "      <td>-5.792</td>\n",
       "      <td>-19.214</td>\n",
       "      <td>-4.499</td>\n",
       "      <td>-14.130</td>\n",
       "      <td>-25.163</td>\n",
       "      <td>-9.499</td>\n",
       "      <td>-4.933</td>\n",
       "      <td>-23.420</td>\n",
       "      <td>-34.830</td>\n",
       "      <td>-8.887</td>\n",
       "      <td>-36.666</td>\n",
       "      <td>-2.837</td>\n",
       "      <td>-7.496</td>\n",
       "      <td>-2.069</td>\n",
       "      <td>-22.566</td>\n",
       "      <td>-11.711</td>\n",
       "      <td>0.000</td>\n",
       "      <td>0.000</td>\n",
       "    </tr>\n",
       "    <tr>\n",
       "      <th>25%</th>\n",
       "      <td>54250.000</td>\n",
       "      <td>-0.896</td>\n",
       "      <td>-0.576</td>\n",
       "      <td>-0.859</td>\n",
       "      <td>-0.856</td>\n",
       "      <td>-0.669</td>\n",
       "      <td>-0.773</td>\n",
       "      <td>-0.559</td>\n",
       "      <td>-0.204</td>\n",
       "      <td>-0.639</td>\n",
       "      <td>-0.528</td>\n",
       "      <td>-0.762</td>\n",
       "      <td>-0.403</td>\n",
       "      <td>-0.649</td>\n",
       "      <td>-0.428</td>\n",
       "      <td>-0.581</td>\n",
       "      <td>-0.466</td>\n",
       "      <td>-0.484</td>\n",
       "      <td>-0.497</td>\n",
       "      <td>-0.451</td>\n",
       "      <td>-0.212</td>\n",
       "      <td>-0.229</td>\n",
       "      <td>-0.538</td>\n",
       "      <td>-0.158</td>\n",
       "      <td>-0.355</td>\n",
       "      <td>-0.316</td>\n",
       "      <td>-0.326</td>\n",
       "      <td>-0.069</td>\n",
       "      <td>-0.053</td>\n",
       "      <td>5.460</td>\n",
       "      <td>0.000</td>\n",
       "    </tr>\n",
       "    <tr>\n",
       "      <th>50%</th>\n",
       "      <td>84725.500</td>\n",
       "      <td>0.041</td>\n",
       "      <td>0.075</td>\n",
       "      <td>0.195</td>\n",
       "      <td>-0.030</td>\n",
       "      <td>-0.042</td>\n",
       "      <td>-0.282</td>\n",
       "      <td>0.032</td>\n",
       "      <td>0.025</td>\n",
       "      <td>-0.050</td>\n",
       "      <td>-0.090</td>\n",
       "      <td>-0.033</td>\n",
       "      <td>0.141</td>\n",
       "      <td>-0.013</td>\n",
       "      <td>0.047</td>\n",
       "      <td>0.050</td>\n",
       "      <td>0.067</td>\n",
       "      <td>-0.068</td>\n",
       "      <td>-0.003</td>\n",
       "      <td>0.006</td>\n",
       "      <td>-0.064</td>\n",
       "      <td>-0.032</td>\n",
       "      <td>0.010</td>\n",
       "      <td>-0.010</td>\n",
       "      <td>0.041</td>\n",
       "      <td>0.018</td>\n",
       "      <td>-0.052</td>\n",
       "      <td>0.002</td>\n",
       "      <td>0.011</td>\n",
       "      <td>21.200</td>\n",
       "      <td>0.000</td>\n",
       "    </tr>\n",
       "    <tr>\n",
       "      <th>75%</th>\n",
       "      <td>139320.000</td>\n",
       "      <td>1.323</td>\n",
       "      <td>0.808</td>\n",
       "      <td>1.037</td>\n",
       "      <td>0.727</td>\n",
       "      <td>0.620</td>\n",
       "      <td>0.379</td>\n",
       "      <td>0.554</td>\n",
       "      <td>0.330</td>\n",
       "      <td>0.596</td>\n",
       "      <td>0.458</td>\n",
       "      <td>0.739</td>\n",
       "      <td>0.617</td>\n",
       "      <td>0.663</td>\n",
       "      <td>0.487</td>\n",
       "      <td>0.650</td>\n",
       "      <td>0.521</td>\n",
       "      <td>0.397</td>\n",
       "      <td>0.499</td>\n",
       "      <td>0.460</td>\n",
       "      <td>0.127</td>\n",
       "      <td>0.181</td>\n",
       "      <td>0.531</td>\n",
       "      <td>0.147</td>\n",
       "      <td>0.439</td>\n",
       "      <td>0.351</td>\n",
       "      <td>0.239</td>\n",
       "      <td>0.091</td>\n",
       "      <td>0.076</td>\n",
       "      <td>74.910</td>\n",
       "      <td>0.000</td>\n",
       "    </tr>\n",
       "    <tr>\n",
       "      <th>max</th>\n",
       "      <td>172792.000</td>\n",
       "      <td>2.455</td>\n",
       "      <td>22.058</td>\n",
       "      <td>9.383</td>\n",
       "      <td>13.129</td>\n",
       "      <td>34.099</td>\n",
       "      <td>16.614</td>\n",
       "      <td>15.662</td>\n",
       "      <td>20.007</td>\n",
       "      <td>15.595</td>\n",
       "      <td>23.745</td>\n",
       "      <td>12.019</td>\n",
       "      <td>7.848</td>\n",
       "      <td>4.569</td>\n",
       "      <td>10.527</td>\n",
       "      <td>5.826</td>\n",
       "      <td>6.443</td>\n",
       "      <td>9.254</td>\n",
       "      <td>4.296</td>\n",
       "      <td>5.592</td>\n",
       "      <td>16.756</td>\n",
       "      <td>27.203</td>\n",
       "      <td>10.503</td>\n",
       "      <td>22.084</td>\n",
       "      <td>4.023</td>\n",
       "      <td>7.520</td>\n",
       "      <td>3.517</td>\n",
       "      <td>9.880</td>\n",
       "      <td>22.620</td>\n",
       "      <td>999.900</td>\n",
       "      <td>1.000</td>\n",
       "    </tr>\n",
       "  </tbody>\n",
       "</table>\n",
       "</div>\n",
       "      <button class=\"colab-df-convert\" onclick=\"convertToInteractive('df-1274c67d-06cc-4fad-a2ed-3e5d0864e5d4')\"\n",
       "              title=\"Convert this dataframe to an interactive table.\"\n",
       "              style=\"display:none;\">\n",
       "        \n",
       "  <svg xmlns=\"http://www.w3.org/2000/svg\" height=\"24px\"viewBox=\"0 0 24 24\"\n",
       "       width=\"24px\">\n",
       "    <path d=\"M0 0h24v24H0V0z\" fill=\"none\"/>\n",
       "    <path d=\"M18.56 5.44l.94 2.06.94-2.06 2.06-.94-2.06-.94-.94-2.06-.94 2.06-2.06.94zm-11 1L8.5 8.5l.94-2.06 2.06-.94-2.06-.94L8.5 2.5l-.94 2.06-2.06.94zm10 10l.94 2.06.94-2.06 2.06-.94-2.06-.94-.94-2.06-.94 2.06-2.06.94z\"/><path d=\"M17.41 7.96l-1.37-1.37c-.4-.4-.92-.59-1.43-.59-.52 0-1.04.2-1.43.59L10.3 9.45l-7.72 7.72c-.78.78-.78 2.05 0 2.83L4 21.41c.39.39.9.59 1.41.59.51 0 1.02-.2 1.41-.59l7.78-7.78 2.81-2.81c.8-.78.8-2.07 0-2.86zM5.41 20L4 18.59l7.72-7.72 1.47 1.35L5.41 20z\"/>\n",
       "  </svg>\n",
       "      </button>\n",
       "      \n",
       "  <style>\n",
       "    .colab-df-container {\n",
       "      display:flex;\n",
       "      flex-wrap:wrap;\n",
       "      gap: 12px;\n",
       "    }\n",
       "\n",
       "    .colab-df-convert {\n",
       "      background-color: #E8F0FE;\n",
       "      border: none;\n",
       "      border-radius: 50%;\n",
       "      cursor: pointer;\n",
       "      display: none;\n",
       "      fill: #1967D2;\n",
       "      height: 32px;\n",
       "      padding: 0 0 0 0;\n",
       "      width: 32px;\n",
       "    }\n",
       "\n",
       "    .colab-df-convert:hover {\n",
       "      background-color: #E2EBFA;\n",
       "      box-shadow: 0px 1px 2px rgba(60, 64, 67, 0.3), 0px 1px 3px 1px rgba(60, 64, 67, 0.15);\n",
       "      fill: #174EA6;\n",
       "    }\n",
       "\n",
       "    [theme=dark] .colab-df-convert {\n",
       "      background-color: #3B4455;\n",
       "      fill: #D2E3FC;\n",
       "    }\n",
       "\n",
       "    [theme=dark] .colab-df-convert:hover {\n",
       "      background-color: #434B5C;\n",
       "      box-shadow: 0px 1px 3px 1px rgba(0, 0, 0, 0.15);\n",
       "      filter: drop-shadow(0px 1px 2px rgba(0, 0, 0, 0.3));\n",
       "      fill: #FFFFFF;\n",
       "    }\n",
       "  </style>\n",
       "\n",
       "      <script>\n",
       "        const buttonEl =\n",
       "          document.querySelector('#df-1274c67d-06cc-4fad-a2ed-3e5d0864e5d4 button.colab-df-convert');\n",
       "        buttonEl.style.display =\n",
       "          google.colab.kernel.accessAllowed ? 'block' : 'none';\n",
       "\n",
       "        async function convertToInteractive(key) {\n",
       "          const element = document.querySelector('#df-1274c67d-06cc-4fad-a2ed-3e5d0864e5d4');\n",
       "          const dataTable =\n",
       "            await google.colab.kernel.invokeFunction('convertToInteractive',\n",
       "                                                     [key], {});\n",
       "          if (!dataTable) return;\n",
       "\n",
       "          const docLinkHtml = 'Like what you see? Visit the ' +\n",
       "            '<a target=\"_blank\" href=https://colab.research.google.com/notebooks/data_table.ipynb>data table notebook</a>'\n",
       "            + ' to learn more about interactive tables.';\n",
       "          element.innerHTML = '';\n",
       "          dataTable['output_type'] = 'display_data';\n",
       "          await google.colab.output.renderOutput(dataTable, element);\n",
       "          const docLink = document.createElement('div');\n",
       "          docLink.innerHTML = docLinkHtml;\n",
       "          element.appendChild(docLink);\n",
       "        }\n",
       "      </script>\n",
       "    </div>\n",
       "  </div>\n",
       "  "
      ],
      "text/plain": [
       "            time         v1         v2         v3         v4         v5  \\\n",
       "count 280662.000 280662.000 280662.000 280662.000 280662.000 280662.000   \n",
       "mean   94827.560      0.040      0.056      0.028     -0.015      0.037   \n",
       "std    47492.263      1.877      1.453      1.472      1.401      1.257   \n",
       "min        0.000    -46.855    -47.430    -33.681     -5.683    -23.670   \n",
       "25%    54250.000     -0.896     -0.576     -0.859     -0.856     -0.669   \n",
       "50%    84725.500      0.041      0.075      0.195     -0.030     -0.042   \n",
       "75%   139320.000      1.323      0.808      1.037      0.727      0.620   \n",
       "max   172792.000      2.455     22.058      9.383     13.129     34.099   \n",
       "\n",
       "              v6         v7         v8         v9        v10        v11  \\\n",
       "count 280662.000 280662.000 280662.000 280662.000 280662.000 280662.000   \n",
       "mean      -0.020     -0.036      0.009      0.002      0.007     -0.001   \n",
       "std        1.282      1.073      1.164      1.092      1.070      1.018   \n",
       "min      -23.497    -43.557    -73.217    -13.434    -24.588     -4.797   \n",
       "25%       -0.773     -0.559     -0.204     -0.639     -0.528     -0.762   \n",
       "50%       -0.282      0.032      0.025     -0.050     -0.090     -0.033   \n",
       "75%        0.379      0.554      0.330      0.596      0.458      0.739   \n",
       "max       16.614     15.662     20.007     15.595     23.745     12.019   \n",
       "\n",
       "             v12        v13        v14        v15        v16        v17  \\\n",
       "count 280662.000 280662.000 280662.000 280662.000 280662.000 280662.000   \n",
       "mean       0.000      0.000     -0.003      0.000     -0.000     -0.000   \n",
       "std        0.995      0.996      0.952      0.914      0.869      0.843   \n",
       "min      -18.684     -5.792    -19.214     -4.499    -14.130    -25.163   \n",
       "25%       -0.403     -0.649     -0.428     -0.581     -0.466     -0.484   \n",
       "50%        0.141     -0.013      0.047      0.050      0.067     -0.068   \n",
       "75%        0.617      0.663      0.487      0.650      0.521      0.397   \n",
       "max        7.848      4.569     10.527      5.826      6.443      9.254   \n",
       "\n",
       "             v18        v19        v20        v21        v22        v23  \\\n",
       "count 280662.000 280662.000 280662.000 280662.000 280662.000 280662.000   \n",
       "mean       0.000      0.003     -0.022     -0.007      0.005      0.007   \n",
       "std        0.834      0.810      0.616      0.706      0.718      0.501   \n",
       "min       -9.499     -4.933    -23.420    -34.830     -8.887    -36.666   \n",
       "25%       -0.497     -0.451     -0.212     -0.229     -0.538     -0.158   \n",
       "50%       -0.003      0.006     -0.064     -0.032      0.010     -0.010   \n",
       "75%        0.499      0.460      0.127      0.181      0.531      0.147   \n",
       "max        4.296      5.592     16.756     27.203     10.503     22.084   \n",
       "\n",
       "             v24        v25        v26        v27        v28     amount  \\\n",
       "count 280662.000 280662.000 280662.000 280662.000 280662.000 280662.000   \n",
       "mean      -0.001      0.002      0.000      0.001     -0.000     70.068   \n",
       "std        0.605      0.514      0.481      0.375      0.295    126.449   \n",
       "min       -2.837     -7.496     -2.069    -22.566    -11.711      0.000   \n",
       "25%       -0.355     -0.316     -0.326     -0.069     -0.053      5.460   \n",
       "50%        0.041      0.018     -0.052      0.002      0.011     21.200   \n",
       "75%        0.439      0.351      0.239      0.091      0.076     74.910   \n",
       "max        4.023      7.520      3.517      9.880     22.620    999.900   \n",
       "\n",
       "           class  \n",
       "count 280662.000  \n",
       "mean       0.002  \n",
       "std        0.041  \n",
       "min        0.000  \n",
       "25%        0.000  \n",
       "50%        0.000  \n",
       "75%        0.000  \n",
       "max        1.000  "
      ]
     },
     "execution_count": 22,
     "metadata": {},
     "output_type": "execute_result"
    }
   ],
   "source": [
    "df_3.describe()"
   ]
  },
  {
   "cell_type": "code",
   "execution_count": 23,
   "metadata": {
    "colab": {
     "base_uri": "https://localhost:8080/"
    },
    "executionInfo": {
     "elapsed": 425,
     "status": "ok",
     "timestamp": 1668187310038,
     "user": {
      "displayName": "Ahmet Gültekin",
      "userId": "03706301285824263679"
     },
     "user_tz": -180
    },
    "id": "8hbi-im_z73c",
    "outputId": "12b0bac9-c308-40b5-9999-27077f98e14a"
   },
   "outputs": [
    {
     "data": {
      "text/plain": [
       "0    280198\n",
       "1       464\n",
       "Name: class, dtype: int64"
      ]
     },
     "execution_count": 23,
     "metadata": {},
     "output_type": "execute_result"
    }
   ],
   "source": [
    "df_3[\"class\"].value_counts()"
   ]
  },
  {
   "cell_type": "code",
   "execution_count": 24,
   "metadata": {
    "executionInfo": {
     "elapsed": 7,
     "status": "ok",
     "timestamp": 1668187312106,
     "user": {
      "displayName": "Ahmet Gültekin",
      "userId": "03706301285824263679"
     },
     "user_tz": -180
    },
    "id": "n2VBkt4p0z26"
   },
   "outputs": [],
   "source": [
    "df=df_3.copy()"
   ]
  },
  {
   "cell_type": "code",
   "execution_count": 25,
   "metadata": {
    "colab": {
     "base_uri": "https://localhost:8080/",
     "height": 270
    },
    "executionInfo": {
     "elapsed": 11,
     "status": "ok",
     "timestamp": 1668187312111,
     "user": {
      "displayName": "Ahmet Gültekin",
      "userId": "03706301285824263679"
     },
     "user_tz": -180
    },
    "id": "Ks6NR8eI05XV",
    "outputId": "970b15ef-c04a-4de4-db6d-5009b306ed13"
   },
   "outputs": [
    {
     "data": {
      "text/html": [
       "\n",
       "  <div id=\"df-9f466067-df31-428a-b676-1fe8f35991e2\">\n",
       "    <div class=\"colab-df-container\">\n",
       "      <div>\n",
       "<style scoped>\n",
       "    .dataframe tbody tr th:only-of-type {\n",
       "        vertical-align: middle;\n",
       "    }\n",
       "\n",
       "    .dataframe tbody tr th {\n",
       "        vertical-align: top;\n",
       "    }\n",
       "\n",
       "    .dataframe thead th {\n",
       "        text-align: right;\n",
       "    }\n",
       "</style>\n",
       "<table border=\"1\" class=\"dataframe\">\n",
       "  <thead>\n",
       "    <tr style=\"text-align: right;\">\n",
       "      <th></th>\n",
       "      <th>time</th>\n",
       "      <th>v1</th>\n",
       "      <th>v2</th>\n",
       "      <th>v3</th>\n",
       "      <th>v4</th>\n",
       "      <th>v5</th>\n",
       "      <th>v6</th>\n",
       "      <th>v7</th>\n",
       "      <th>v8</th>\n",
       "      <th>v9</th>\n",
       "      <th>v10</th>\n",
       "      <th>v11</th>\n",
       "      <th>v12</th>\n",
       "      <th>v13</th>\n",
       "      <th>v14</th>\n",
       "      <th>v15</th>\n",
       "      <th>v16</th>\n",
       "      <th>v17</th>\n",
       "      <th>v18</th>\n",
       "      <th>v19</th>\n",
       "      <th>v20</th>\n",
       "      <th>v21</th>\n",
       "      <th>v22</th>\n",
       "      <th>v23</th>\n",
       "      <th>v24</th>\n",
       "      <th>v25</th>\n",
       "      <th>v26</th>\n",
       "      <th>v27</th>\n",
       "      <th>v28</th>\n",
       "      <th>amount</th>\n",
       "      <th>class</th>\n",
       "    </tr>\n",
       "  </thead>\n",
       "  <tbody>\n",
       "    <tr>\n",
       "      <th>0</th>\n",
       "      <td>0.000</td>\n",
       "      <td>-1.360</td>\n",
       "      <td>-0.073</td>\n",
       "      <td>2.536</td>\n",
       "      <td>1.378</td>\n",
       "      <td>-0.338</td>\n",
       "      <td>0.462</td>\n",
       "      <td>0.240</td>\n",
       "      <td>0.099</td>\n",
       "      <td>0.364</td>\n",
       "      <td>0.091</td>\n",
       "      <td>-0.552</td>\n",
       "      <td>-0.618</td>\n",
       "      <td>-0.991</td>\n",
       "      <td>-0.311</td>\n",
       "      <td>1.468</td>\n",
       "      <td>-0.470</td>\n",
       "      <td>0.208</td>\n",
       "      <td>0.026</td>\n",
       "      <td>0.404</td>\n",
       "      <td>0.251</td>\n",
       "      <td>-0.018</td>\n",
       "      <td>0.278</td>\n",
       "      <td>-0.110</td>\n",
       "      <td>0.067</td>\n",
       "      <td>0.129</td>\n",
       "      <td>-0.189</td>\n",
       "      <td>0.134</td>\n",
       "      <td>-0.021</td>\n",
       "      <td>149.620</td>\n",
       "      <td>0</td>\n",
       "    </tr>\n",
       "    <tr>\n",
       "      <th>1</th>\n",
       "      <td>0.000</td>\n",
       "      <td>1.192</td>\n",
       "      <td>0.266</td>\n",
       "      <td>0.166</td>\n",
       "      <td>0.448</td>\n",
       "      <td>0.060</td>\n",
       "      <td>-0.082</td>\n",
       "      <td>-0.079</td>\n",
       "      <td>0.085</td>\n",
       "      <td>-0.255</td>\n",
       "      <td>-0.167</td>\n",
       "      <td>1.613</td>\n",
       "      <td>1.065</td>\n",
       "      <td>0.489</td>\n",
       "      <td>-0.144</td>\n",
       "      <td>0.636</td>\n",
       "      <td>0.464</td>\n",
       "      <td>-0.115</td>\n",
       "      <td>-0.183</td>\n",
       "      <td>-0.146</td>\n",
       "      <td>-0.069</td>\n",
       "      <td>-0.226</td>\n",
       "      <td>-0.639</td>\n",
       "      <td>0.101</td>\n",
       "      <td>-0.340</td>\n",
       "      <td>0.167</td>\n",
       "      <td>0.126</td>\n",
       "      <td>-0.009</td>\n",
       "      <td>0.015</td>\n",
       "      <td>2.690</td>\n",
       "      <td>0</td>\n",
       "    </tr>\n",
       "    <tr>\n",
       "      <th>2</th>\n",
       "      <td>1.000</td>\n",
       "      <td>-1.358</td>\n",
       "      <td>-1.340</td>\n",
       "      <td>1.773</td>\n",
       "      <td>0.380</td>\n",
       "      <td>-0.503</td>\n",
       "      <td>1.800</td>\n",
       "      <td>0.791</td>\n",
       "      <td>0.248</td>\n",
       "      <td>-1.515</td>\n",
       "      <td>0.208</td>\n",
       "      <td>0.625</td>\n",
       "      <td>0.066</td>\n",
       "      <td>0.717</td>\n",
       "      <td>-0.166</td>\n",
       "      <td>2.346</td>\n",
       "      <td>-2.890</td>\n",
       "      <td>1.110</td>\n",
       "      <td>-0.121</td>\n",
       "      <td>-2.262</td>\n",
       "      <td>0.525</td>\n",
       "      <td>0.248</td>\n",
       "      <td>0.772</td>\n",
       "      <td>0.909</td>\n",
       "      <td>-0.689</td>\n",
       "      <td>-0.328</td>\n",
       "      <td>-0.139</td>\n",
       "      <td>-0.055</td>\n",
       "      <td>-0.060</td>\n",
       "      <td>378.660</td>\n",
       "      <td>0</td>\n",
       "    </tr>\n",
       "    <tr>\n",
       "      <th>3</th>\n",
       "      <td>1.000</td>\n",
       "      <td>-0.966</td>\n",
       "      <td>-0.185</td>\n",
       "      <td>1.793</td>\n",
       "      <td>-0.863</td>\n",
       "      <td>-0.010</td>\n",
       "      <td>1.247</td>\n",
       "      <td>0.238</td>\n",
       "      <td>0.377</td>\n",
       "      <td>-1.387</td>\n",
       "      <td>-0.055</td>\n",
       "      <td>-0.226</td>\n",
       "      <td>0.178</td>\n",
       "      <td>0.508</td>\n",
       "      <td>-0.288</td>\n",
       "      <td>-0.631</td>\n",
       "      <td>-1.060</td>\n",
       "      <td>-0.684</td>\n",
       "      <td>1.966</td>\n",
       "      <td>-1.233</td>\n",
       "      <td>-0.208</td>\n",
       "      <td>-0.108</td>\n",
       "      <td>0.005</td>\n",
       "      <td>-0.190</td>\n",
       "      <td>-1.176</td>\n",
       "      <td>0.647</td>\n",
       "      <td>-0.222</td>\n",
       "      <td>0.063</td>\n",
       "      <td>0.061</td>\n",
       "      <td>123.500</td>\n",
       "      <td>0</td>\n",
       "    </tr>\n",
       "    <tr>\n",
       "      <th>4</th>\n",
       "      <td>2.000</td>\n",
       "      <td>-1.158</td>\n",
       "      <td>0.878</td>\n",
       "      <td>1.549</td>\n",
       "      <td>0.403</td>\n",
       "      <td>-0.407</td>\n",
       "      <td>0.096</td>\n",
       "      <td>0.593</td>\n",
       "      <td>-0.271</td>\n",
       "      <td>0.818</td>\n",
       "      <td>0.753</td>\n",
       "      <td>-0.823</td>\n",
       "      <td>0.538</td>\n",
       "      <td>1.346</td>\n",
       "      <td>-1.120</td>\n",
       "      <td>0.175</td>\n",
       "      <td>-0.451</td>\n",
       "      <td>-0.237</td>\n",
       "      <td>-0.038</td>\n",
       "      <td>0.803</td>\n",
       "      <td>0.409</td>\n",
       "      <td>-0.009</td>\n",
       "      <td>0.798</td>\n",
       "      <td>-0.137</td>\n",
       "      <td>0.141</td>\n",
       "      <td>-0.206</td>\n",
       "      <td>0.502</td>\n",
       "      <td>0.219</td>\n",
       "      <td>0.215</td>\n",
       "      <td>69.990</td>\n",
       "      <td>0</td>\n",
       "    </tr>\n",
       "  </tbody>\n",
       "</table>\n",
       "</div>\n",
       "      <button class=\"colab-df-convert\" onclick=\"convertToInteractive('df-9f466067-df31-428a-b676-1fe8f35991e2')\"\n",
       "              title=\"Convert this dataframe to an interactive table.\"\n",
       "              style=\"display:none;\">\n",
       "        \n",
       "  <svg xmlns=\"http://www.w3.org/2000/svg\" height=\"24px\"viewBox=\"0 0 24 24\"\n",
       "       width=\"24px\">\n",
       "    <path d=\"M0 0h24v24H0V0z\" fill=\"none\"/>\n",
       "    <path d=\"M18.56 5.44l.94 2.06.94-2.06 2.06-.94-2.06-.94-.94-2.06-.94 2.06-2.06.94zm-11 1L8.5 8.5l.94-2.06 2.06-.94-2.06-.94L8.5 2.5l-.94 2.06-2.06.94zm10 10l.94 2.06.94-2.06 2.06-.94-2.06-.94-.94-2.06-.94 2.06-2.06.94z\"/><path d=\"M17.41 7.96l-1.37-1.37c-.4-.4-.92-.59-1.43-.59-.52 0-1.04.2-1.43.59L10.3 9.45l-7.72 7.72c-.78.78-.78 2.05 0 2.83L4 21.41c.39.39.9.59 1.41.59.51 0 1.02-.2 1.41-.59l7.78-7.78 2.81-2.81c.8-.78.8-2.07 0-2.86zM5.41 20L4 18.59l7.72-7.72 1.47 1.35L5.41 20z\"/>\n",
       "  </svg>\n",
       "      </button>\n",
       "      \n",
       "  <style>\n",
       "    .colab-df-container {\n",
       "      display:flex;\n",
       "      flex-wrap:wrap;\n",
       "      gap: 12px;\n",
       "    }\n",
       "\n",
       "    .colab-df-convert {\n",
       "      background-color: #E8F0FE;\n",
       "      border: none;\n",
       "      border-radius: 50%;\n",
       "      cursor: pointer;\n",
       "      display: none;\n",
       "      fill: #1967D2;\n",
       "      height: 32px;\n",
       "      padding: 0 0 0 0;\n",
       "      width: 32px;\n",
       "    }\n",
       "\n",
       "    .colab-df-convert:hover {\n",
       "      background-color: #E2EBFA;\n",
       "      box-shadow: 0px 1px 2px rgba(60, 64, 67, 0.3), 0px 1px 3px 1px rgba(60, 64, 67, 0.15);\n",
       "      fill: #174EA6;\n",
       "    }\n",
       "\n",
       "    [theme=dark] .colab-df-convert {\n",
       "      background-color: #3B4455;\n",
       "      fill: #D2E3FC;\n",
       "    }\n",
       "\n",
       "    [theme=dark] .colab-df-convert:hover {\n",
       "      background-color: #434B5C;\n",
       "      box-shadow: 0px 1px 3px 1px rgba(0, 0, 0, 0.15);\n",
       "      filter: drop-shadow(0px 1px 2px rgba(0, 0, 0, 0.3));\n",
       "      fill: #FFFFFF;\n",
       "    }\n",
       "  </style>\n",
       "\n",
       "      <script>\n",
       "        const buttonEl =\n",
       "          document.querySelector('#df-9f466067-df31-428a-b676-1fe8f35991e2 button.colab-df-convert');\n",
       "        buttonEl.style.display =\n",
       "          google.colab.kernel.accessAllowed ? 'block' : 'none';\n",
       "\n",
       "        async function convertToInteractive(key) {\n",
       "          const element = document.querySelector('#df-9f466067-df31-428a-b676-1fe8f35991e2');\n",
       "          const dataTable =\n",
       "            await google.colab.kernel.invokeFunction('convertToInteractive',\n",
       "                                                     [key], {});\n",
       "          if (!dataTable) return;\n",
       "\n",
       "          const docLinkHtml = 'Like what you see? Visit the ' +\n",
       "            '<a target=\"_blank\" href=https://colab.research.google.com/notebooks/data_table.ipynb>data table notebook</a>'\n",
       "            + ' to learn more about interactive tables.';\n",
       "          element.innerHTML = '';\n",
       "          dataTable['output_type'] = 'display_data';\n",
       "          await google.colab.output.renderOutput(dataTable, element);\n",
       "          const docLink = document.createElement('div');\n",
       "          docLink.innerHTML = docLinkHtml;\n",
       "          element.appendChild(docLink);\n",
       "        }\n",
       "      </script>\n",
       "    </div>\n",
       "  </div>\n",
       "  "
      ],
      "text/plain": [
       "   time     v1     v2    v3     v4     v5     v6     v7     v8     v9    v10  \\\n",
       "0 0.000 -1.360 -0.073 2.536  1.378 -0.338  0.462  0.240  0.099  0.364  0.091   \n",
       "1 0.000  1.192  0.266 0.166  0.448  0.060 -0.082 -0.079  0.085 -0.255 -0.167   \n",
       "2 1.000 -1.358 -1.340 1.773  0.380 -0.503  1.800  0.791  0.248 -1.515  0.208   \n",
       "3 1.000 -0.966 -0.185 1.793 -0.863 -0.010  1.247  0.238  0.377 -1.387 -0.055   \n",
       "4 2.000 -1.158  0.878 1.549  0.403 -0.407  0.096  0.593 -0.271  0.818  0.753   \n",
       "\n",
       "     v11    v12    v13    v14    v15    v16    v17    v18    v19    v20  \\\n",
       "0 -0.552 -0.618 -0.991 -0.311  1.468 -0.470  0.208  0.026  0.404  0.251   \n",
       "1  1.613  1.065  0.489 -0.144  0.636  0.464 -0.115 -0.183 -0.146 -0.069   \n",
       "2  0.625  0.066  0.717 -0.166  2.346 -2.890  1.110 -0.121 -2.262  0.525   \n",
       "3 -0.226  0.178  0.508 -0.288 -0.631 -1.060 -0.684  1.966 -1.233 -0.208   \n",
       "4 -0.823  0.538  1.346 -1.120  0.175 -0.451 -0.237 -0.038  0.803  0.409   \n",
       "\n",
       "     v21    v22    v23    v24    v25    v26    v27    v28  amount  class  \n",
       "0 -0.018  0.278 -0.110  0.067  0.129 -0.189  0.134 -0.021 149.620      0  \n",
       "1 -0.226 -0.639  0.101 -0.340  0.167  0.126 -0.009  0.015   2.690      0  \n",
       "2  0.248  0.772  0.909 -0.689 -0.328 -0.139 -0.055 -0.060 378.660      0  \n",
       "3 -0.108  0.005 -0.190 -1.176  0.647 -0.222  0.063  0.061 123.500      0  \n",
       "4 -0.009  0.798 -0.137  0.141 -0.206  0.502  0.219  0.215  69.990      0  "
      ]
     },
     "execution_count": 25,
     "metadata": {},
     "output_type": "execute_result"
    }
   ],
   "source": [
    "df.head()"
   ]
  },
  {
   "cell_type": "code",
   "execution_count": 26,
   "metadata": {
    "colab": {
     "base_uri": "https://localhost:8080/"
    },
    "executionInfo": {
     "elapsed": 4,
     "status": "ok",
     "timestamp": 1668187312632,
     "user": {
      "displayName": "Ahmet Gültekin",
      "userId": "03706301285824263679"
     },
     "user_tz": -180
    },
    "id": "EwL0tExi08ZP",
    "outputId": "990f6afa-8ab2-4530-8fab-1d1ed5c3c156"
   },
   "outputs": [
    {
     "data": {
      "text/plain": [
       "(280662, 31)"
      ]
     },
     "execution_count": 26,
     "metadata": {},
     "output_type": "execute_result"
    }
   ],
   "source": [
    "df.shape"
   ]
  },
  {
   "cell_type": "markdown",
   "metadata": {
    "id": "tMOO7g-sMuHb"
   },
   "source": [
    "---\n",
    "---\n"
   ]
  },
  {
   "cell_type": "markdown",
   "metadata": {
    "id": "Yf6VvH6WMuHb"
   },
   "source": [
    "## 2. Data Preprocessing"
   ]
  },
  {
   "cell_type": "markdown",
   "metadata": {
    "id": "hlm6gCsKMuHb"
   },
   "source": [
    "#### Train - Test Split\n",
    "\n",
    "As in this case, for extremely imbalanced datasets you may want to make sure that classes are balanced across train and test data."
   ]
  },
  {
   "cell_type": "code",
   "execution_count": 27,
   "metadata": {
    "executionInfo": {
     "elapsed": 4,
     "status": "ok",
     "timestamp": 1668187314493,
     "user": {
      "displayName": "Ahmet Gültekin",
      "userId": "03706301285824263679"
     },
     "user_tz": -180
    },
    "id": "nZx_CpSoi23p"
   },
   "outputs": [],
   "source": [
    "from sklearn.model_selection import train_test_split"
   ]
  },
  {
   "cell_type": "code",
   "execution_count": 28,
   "metadata": {
    "executionInfo": {
     "elapsed": 2,
     "status": "ok",
     "timestamp": 1668187314908,
     "user": {
      "displayName": "Ahmet Gültekin",
      "userId": "03706301285824263679"
     },
     "user_tz": -180
    },
    "id": "T9eVirf2UtjT"
   },
   "outputs": [],
   "source": [
    "X = df.drop(\"class\",axis=1)\n",
    "y = df[\"class\"]"
   ]
  },
  {
   "cell_type": "code",
   "execution_count": 29,
   "metadata": {
    "executionInfo": {
     "elapsed": 5,
     "status": "ok",
     "timestamp": 1668187316480,
     "user": {
      "displayName": "Ahmet Gültekin",
      "userId": "03706301285824263679"
     },
     "user_tz": -180
    },
    "id": "hY2gpFiCvps6"
   },
   "outputs": [],
   "source": [
    "X_train, X_test, y_train, y_test = train_test_split(X, y, test_size=0.2, random_state=42, stratify = y)"
   ]
  },
  {
   "cell_type": "markdown",
   "metadata": {
    "id": "Q_CC9vrDq9gl"
   },
   "source": [
    "## Train-Test Validation Checks\n",
    "* link : https://docs.deepchecks.com/stable/user-guide/tabular/auto_quickstarts/plot_quick_train_test_validation.html"
   ]
  },
  {
   "cell_type": "code",
   "execution_count": 30,
   "metadata": {
    "colab": {
     "base_uri": "https://localhost:8080/",
     "height": 677
    },
    "executionInfo": {
     "elapsed": 89824,
     "status": "ok",
     "timestamp": 1668187407807,
     "user": {
      "displayName": "Ahmet Gültekin",
      "userId": "03706301285824263679"
     },
     "user_tz": -180
    },
    "id": "wZrTwsZjvpp_",
    "outputId": "eee02eb9-f165-4b20-8fc9-2eeb5c79cc7d"
   },
   "outputs": [
    {
     "name": "stderr",
     "output_type": "stream",
     "text": [
      "deepchecks - WARNING - Received a \"pandas.DataFrame\" instance. It is recommended to pass a \"deepchecks.tabular.Dataset\" instance by initializing it with the data and metadata, for example by doing \"Dataset(dataframe, label=label, cat_features=cat_features)\"\n",
      "WARNING:deepchecks:Received a \"pandas.DataFrame\" instance. It is recommended to pass a \"deepchecks.tabular.Dataset\" instance by initializing it with the data and metadata, for example by doing \"Dataset(dataframe, label=label, cat_features=cat_features)\"\n",
      "deepchecks - WARNING - It is recommended to initialize Dataset with categorical features by doing \"Dataset(df, cat_features=categorical_list)\". No categorical features were passed, therefore heuristically inferring categorical features in the data. 0 categorical features were inferred.\n",
      "WARNING:deepchecks:It is recommended to initialize Dataset with categorical features by doing \"Dataset(df, cat_features=categorical_list)\". No categorical features were passed, therefore heuristically inferring categorical features in the data. 0 categorical features were inferred.\n",
      "deepchecks - WARNING - Received a \"pandas.DataFrame\" instance. It is recommended to pass a \"deepchecks.tabular.Dataset\" instance by initializing it with the data and metadata, for example by doing \"Dataset(dataframe, label=label, cat_features=cat_features)\"\n",
      "WARNING:deepchecks:Received a \"pandas.DataFrame\" instance. It is recommended to pass a \"deepchecks.tabular.Dataset\" instance by initializing it with the data and metadata, for example by doing \"Dataset(dataframe, label=label, cat_features=cat_features)\"\n",
      "deepchecks - WARNING - It is recommended to initialize Dataset with categorical features by doing \"Dataset(df, cat_features=categorical_list)\". No categorical features were passed, therefore heuristically inferring categorical features in the data. 0 categorical features were inferred.\n",
      "WARNING:deepchecks:It is recommended to initialize Dataset with categorical features by doing \"Dataset(df, cat_features=categorical_list)\". No categorical features were passed, therefore heuristically inferring categorical features in the data. 0 categorical features were inferred.\n"
     ]
    },
    {
     "data": {
      "text/html": [
       "\n",
       "    <style>\n",
       "        progress {\n",
       "            -webkit-appearance: none;\n",
       "            border: none;\n",
       "            border-radius: 3px;\n",
       "            width: 300px;\n",
       "            height: 20px;\n",
       "            vertical-align: middle;\n",
       "            margin-right: 10px;\n",
       "            background-color: aliceblue;\n",
       "        }\n",
       "        progress::-webkit-progress-bar {\n",
       "            border-radius: 3px;\n",
       "            background-color: aliceblue;\n",
       "        }\n",
       "        progress::-webkit-progress-value {\n",
       "            background-color: #9d60fb;\n",
       "        }\n",
       "        progress::-moz-progress-bar {\n",
       "            background-color: #9d60fb;\n",
       "        }\n",
       "    </style>\n",
       "    "
      ]
     },
     "metadata": {},
     "output_type": "display_data"
    },
    {
     "data": {
      "text/html": []
     },
     "metadata": {},
     "output_type": "display_data"
    },
    {
     "data": {
      "text/html": [
       "<!--\n",
       "    ~ ----------------------------------------------------------------------------\n",
       "    ~ Copyright (C) 2021-2022 Deepchecks (https://www.deepchecks.com)\n",
       "    ~\n",
       "    ~ This file is part of Deepchecks.\n",
       "    ~ Deepchecks is distributed under the terms of the GNU Affero General\n",
       "    ~ Public License (version 3 or later).\n",
       "    ~ You should have received a copy of the GNU Affero General Public License\n",
       "    ~ along with Deepchecks.  If not, see <http://www.gnu.org/licenses/>.\n",
       "    ~ ----------------------------------------------------------------------------\n",
       "    ~\n",
       "-->\n",
       "<!DOCTYPE html>\n",
       "<html lang=\"en\">\n",
       "<head>\n",
       "    <meta charset=\"UTF-8\">\n",
       "    <title>Train Test Validation Suite</title>\n",
       "    <link rel=\"icon\" type=\"image/x-icon\" href=\"https://deepchecks.com/wp-content/themes/deepchecks/assets/favicons/favicon.ico\">\n",
       "    <style>\n",
       "        body {\n",
       "            font-family: -apple-system, BlinkMacSystemFont, 'Segoe UI', Helvetica, Arial, sans-serif, 'Apple Color Emoji', 'Segoe UI Emoji', 'Segoe UI Symbol';\n",
       "            font-size: 1rem;\n",
       "            line-height: 1.5;\n",
       "            color: #212529;\n",
       "            text-align: left;\n",
       "            max-width: 1200px;\n",
       "            margin: auto;\n",
       "            background-color: white;\n",
       "        }\n",
       "\n",
       "        div.nbinput.container div.prompt *,\n",
       "        div.nboutput.container div.prompt *,\n",
       "        div.nbinput.container div.input_area pre,\n",
       "        div.nboutput.container div.output_area pre,\n",
       "        div.nbinput.container div.input_area .highlight,\n",
       "        div.nboutput.container div.output_area .highlight {\n",
       "            border: none;\n",
       "            padding: 0;\n",
       "            margin: 0;\n",
       "            box-shadow: none;\n",
       "        }\n",
       "\n",
       "        div.nbinput.container > div[class*=highlight],\n",
       "        div.nboutput.container > div[class*=highlight] {\n",
       "            margin: 0;\n",
       "        }\n",
       "\n",
       "        div.nbinput.container div.prompt *,\n",
       "        div.nboutput.container div.prompt * {\n",
       "            background: none;\n",
       "        }\n",
       "\n",
       "        div.nboutput.container div.output_area .highlight,\n",
       "        div.nboutput.container div.output_area pre {\n",
       "            background: unset;\n",
       "        }\n",
       "\n",
       "        div.nboutput.container div.output_area div.highlight {\n",
       "            color: unset;  /* override Pygments text color */\n",
       "        }\n",
       "\n",
       "        /* avoid gaps between output lines */\n",
       "        div.nboutput.container div[class*=highlight] pre {\n",
       "            line-height: normal;\n",
       "        }\n",
       "\n",
       "        /* input/output containers */\n",
       "        div.nbinput.container,\n",
       "        div.nboutput.container {\n",
       "            display: -webkit-flex;\n",
       "            display: flex;\n",
       "            align-items: flex-start;\n",
       "            margin: 0;\n",
       "            width: 100%;\n",
       "        }\n",
       "        @media (max-width: 540px) {\n",
       "            div.nbinput.container,\n",
       "            div.nboutput.container {\n",
       "                flex-direction: column;\n",
       "            }\n",
       "        }\n",
       "\n",
       "        /* input container */\n",
       "        div.nbinput.container {\n",
       "            padding-top: 5px;\n",
       "        }\n",
       "\n",
       "        /* last container */\n",
       "        div.nblast.container {\n",
       "            padding-bottom: 5px;\n",
       "        }\n",
       "\n",
       "        /* input prompt */\n",
       "        div.nbinput.container div.prompt pre {\n",
       "            color: #307FC1;\n",
       "        }\n",
       "\n",
       "        /* output prompt */\n",
       "        div.nboutput.container div.prompt pre {\n",
       "            color: #BF5B3D;\n",
       "        }\n",
       "\n",
       "        /* all prompts */\n",
       "        div.nbinput.container div.prompt,\n",
       "        div.nboutput.container div.prompt {\n",
       "            width: 4.5ex;\n",
       "            padding-top: 5px;\n",
       "            position: relative;\n",
       "            user-select: none;\n",
       "        }\n",
       "\n",
       "        div.nbinput.container div.prompt > div,\n",
       "        div.nboutput.container div.prompt > div {\n",
       "            position: absolute;\n",
       "            right: 0;\n",
       "            margin-right: 0.3ex;\n",
       "        }\n",
       "\n",
       "        @media (max-width: 540px) {\n",
       "            div.nbinput.container div.prompt,\n",
       "            div.nboutput.container div.prompt {\n",
       "                width: unset;\n",
       "                text-align: left;\n",
       "                padding: 0.4em;\n",
       "            }\n",
       "            div.nboutput.container div.prompt.empty {\n",
       "                padding: 0;\n",
       "            }\n",
       "\n",
       "            div.nbinput.container div.prompt > div,\n",
       "            div.nboutput.container div.prompt > div {\n",
       "                position: unset;\n",
       "            }\n",
       "        }\n",
       "\n",
       "        /* disable scrollbars on prompts */\n",
       "        div.nbinput.container div.prompt pre,\n",
       "        div.nboutput.container div.prompt pre {\n",
       "            overflow: hidden;\n",
       "        }\n",
       "\n",
       "        /* input/output area */\n",
       "        div.nbinput.container div.input_area,\n",
       "        div.nboutput.container div.output_area {\n",
       "            -webkit-flex: 1;\n",
       "            flex: 1;\n",
       "            overflow: auto;\n",
       "        }\n",
       "        @media (max-width: 540px) {\n",
       "            div.nbinput.container div.input_area,\n",
       "            div.nboutput.container div.output_area {\n",
       "                width: 100%;\n",
       "            }\n",
       "        }\n",
       "\n",
       "        /* input area */\n",
       "        div.nbinput.container div.input_area {\n",
       "            border: 1px solid #e0e0e0;\n",
       "            border-radius: 2px;\n",
       "            /*background: #f5f5f5;*/\n",
       "        }\n",
       "\n",
       "        /* override MathJax center alignment in output cells */\n",
       "        div.nboutput.container div[class*=MathJax] {\n",
       "            text-align: left !important;\n",
       "        }\n",
       "\n",
       "        /* override sphinx.ext.imgmath center alignment in output cells */\n",
       "        div.nboutput.container div.math p {\n",
       "            text-align: left;\n",
       "        }\n",
       "\n",
       "        /* standard error */\n",
       "        div.nboutput.container div.output_area.stderr {\n",
       "            background: #fdd;\n",
       "        }\n",
       "\n",
       "        /* ANSI colors */\n",
       "        .ansi-black-fg { color: #3E424D; }\n",
       "        .ansi-black-bg { background-color: #3E424D; }\n",
       "        .ansi-black-intense-fg { color: #282C36; }\n",
       "        .ansi-black-intense-bg { background-color: #282C36; }\n",
       "        .ansi-red-fg { color: #E75C58; }\n",
       "        .ansi-red-bg { background-color: #E75C58; }\n",
       "        .ansi-red-intense-fg { color: #B22B31; }\n",
       "        .ansi-red-intense-bg { background-color: #B22B31; }\n",
       "        .ansi-green-fg { color: #00A250; }\n",
       "        .ansi-green-bg { background-color: #00A250; }\n",
       "        .ansi-green-intense-fg { color: #007427; }\n",
       "        .ansi-green-intense-bg { background-color: #007427; }\n",
       "        .ansi-yellow-fg { color: #DDB62B; }\n",
       "        .ansi-yellow-bg { background-color: #DDB62B; }\n",
       "        .ansi-yellow-intense-fg { color: #B27D12; }\n",
       "        .ansi-yellow-intense-bg { background-color: #B27D12; }\n",
       "        .ansi-blue-fg { color: #208FFB; }\n",
       "        .ansi-blue-bg { background-color: #208FFB; }\n",
       "        .ansi-blue-intense-fg { color: #0065CA; }\n",
       "        .ansi-blue-intense-bg { background-color: #0065CA; }\n",
       "        .ansi-magenta-fg { color: #D160C4; }\n",
       "        .ansi-magenta-bg { background-color: #D160C4; }\n",
       "        .ansi-magenta-intense-fg { color: #A03196; }\n",
       "        .ansi-magenta-intense-bg { background-color: #A03196; }\n",
       "        .ansi-cyan-fg { color: #60C6C8; }\n",
       "        .ansi-cyan-bg { background-color: #60C6C8; }\n",
       "        .ansi-cyan-intense-fg { color: #258F8F; }\n",
       "        .ansi-cyan-intense-bg { background-color: #258F8F; }\n",
       "        .ansi-white-fg { color: #C5C1B4; }\n",
       "        .ansi-white-bg { background-color: #C5C1B4; }\n",
       "        .ansi-white-intense-fg { color: #A1A6B2; }\n",
       "        .ansi-white-intense-bg { background-color: #A1A6B2; }\n",
       "\n",
       "        .ansi-default-inverse-fg { color: #FFFFFF; }\n",
       "        .ansi-default-inverse-bg { background-color: #000000; }\n",
       "\n",
       "        .ansi-bold { font-weight: bold; }\n",
       "        .ansi-underline { text-decoration: underline; }\n",
       "\n",
       "\n",
       "        div.nbinput.container div.input_area div[class*=highlight] > pre,\n",
       "        div.nboutput.container div.output_area div[class*=highlight] > pre,\n",
       "        div.nboutput.container div.output_area div[class*=highlight].math,\n",
       "        div.nboutput.container div.output_area.rendered_html,\n",
       "        div.nboutput.container div.output_area > div.output_javascript,\n",
       "        div.nboutput.container div.output_area:not(.rendered_html) > img{\n",
       "            padding: 5px;\n",
       "            margin: 0;\n",
       "        }\n",
       "\n",
       "        /* fix copybtn overflow problem in chromium (needed for 'sphinx_copybutton') */\n",
       "        div.nbinput.container div.input_area > div[class^='highlight'],\n",
       "        div.nboutput.container div.output_area > div[class^='highlight']{\n",
       "            overflow-y: hidden;\n",
       "        }\n",
       "\n",
       "        /* hide copybtn icon on prompts (needed for 'sphinx_copybutton') */\n",
       "        .prompt .copybtn {\n",
       "            display: none;\n",
       "        }\n",
       "\n",
       "        /* Some additional styling taken form the Jupyter notebook CSS */\n",
       "        div.rendered_html table {\n",
       "        border: none;\n",
       "        border-collapse: collapse;\n",
       "        border-spacing: 0;\n",
       "        color: black;\n",
       "        font-size: 12px;\n",
       "        table-layout: fixed;\n",
       "        }\n",
       "        div.rendered_html thead {\n",
       "        border-bottom: 1px solid black;\n",
       "        vertical-align: bottom;\n",
       "        }\n",
       "        div.rendered_html tr,\n",
       "        div.rendered_html th,\n",
       "        div.rendered_html td {\n",
       "        text-align: right;\n",
       "        vertical-align: middle;\n",
       "        padding: 0.5em 0.5em;\n",
       "        line-height: normal;\n",
       "        white-space: normal;\n",
       "        max-width: none;\n",
       "        border: none;\n",
       "        }\n",
       "        div.rendered_html th {\n",
       "        font-weight: bold;\n",
       "        }\n",
       "        div.rendered_html tbody tr:nth-child(odd) {\n",
       "        background: #f5f5f5;\n",
       "        }\n",
       "        div.rendered_html tbody tr:hover {\n",
       "        background: rgba(66, 165, 245, 0.2);\n",
       "        }\n",
       "    </style>\n",
       "</head>\n",
       "<body>\n",
       "    \n",
       "<script\n",
       "    src=\"https://cdnjs.cloudflare.com/ajax/libs/require.js/2.3.6/require.min.js\"\n",
       "    integrity=\"sha512-c3Nl8+7g4LMSTdrm621y7kf9v3SDPnhxLNhcjFJbKECVnmZHTdo+IRO05sNLTH/D3vA6u1X32ehoLC7WFVdheg==\"\n",
       "    crossorigin=\"anonymous\"\n",
       "    referrerpolicy=\"no-referrer\">\n",
       "</script>\n",
       "<script src=\"https://unpkg.com/@jupyter-widgets/html-manager@^0.20.1/dist/embed-amd.js\" crossorigin=\"anonymous\"></script>\n",
       "    \n",
       "\n",
       "<script type=\"application/vnd.jupyter.widget-state+json\">\n",
       "{\"version_major\": 2, \"version_minor\": 0, \"state\": {\"99d211def39240beb34bbe90e626718f\": {\"model_name\": \"AccordionModel\", \"model_module\": \"@jupyter-widgets/controls\", \"model_module_version\": \"1.5.0\", \"state\": {\"_dom_classes\": [], \"_titles\": {\"0\": \"Train Test Validation Suite\"}, \"children\": [\"IPY_MODEL_169cd6df7f21492582a5fb31f920bca2\"], \"layout\": \"IPY_MODEL_b025d9a1737d456d8c02231b1c4bd9d0\"}}, \"169cd6df7f21492582a5fb31f920bca2\": {\"model_name\": \"VBoxModel\", \"model_module\": \"@jupyter-widgets/controls\", \"model_module_version\": \"1.5.0\", \"state\": {\"_dom_classes\": [], \"children\": [\"IPY_MODEL_7c0c9861278a43c5a0c2b13d392b6c48\", \"IPY_MODEL_7a9319fbabbf49ab8c7e0b822665b308\", \"IPY_MODEL_fbf62a45864a4ac9a01690c78c1820ab\", \"IPY_MODEL_e8fac1003d7b49d88df20f5e92c49bd5\", \"IPY_MODEL_6d2ccb763b354826bdfda0e335f877c8\"], \"layout\": \"IPY_MODEL_5314e1e63dab4472b802a1e850eb41a1\"}}, \"7c0c9861278a43c5a0c2b13d392b6c48\": {\"model_name\": \"HTMLModel\", \"model_module\": \"@jupyter-widgets/controls\", \"model_module_version\": \"1.5.0\", \"state\": {\"_dom_classes\": [], \"layout\": \"IPY_MODEL_294ae2afdea542e4bb1d45de28f042f8\", \"style\": \"IPY_MODEL_33a59015c7ea454ea817d6491b0ee4ba\", \"value\": \"\\n            <h1>Train Test Validation Suite</h1>\\n            <p>\\n                The suite is composed of various checks such as: Train Test Label Drift, Feature Label Correlation Change, New Label Train Test, etc...<br>\\n                Each check may contain conditions (which will result in pass / fail / warning / error\\n                , represented by \\n<span style=\\\"color: green;display:inline-block\\\">\\u2713</span> /\\n<span style=\\\"color: red;display:inline-block\\\">\\u2716</span> /\\n<span style=\\\"color: orange;font-weight:bold;display:inline-block\\\">!</span> /\\n<span style=\\\"color: firebrick;font-weight:bold;display:inline-block\\\">\\u2048</span>\\n) as well as other outputs such as plots or tables.<br>\\n                Suites, checks and conditions can all be modified. Read more about\\n                <a href=https://docs.deepchecks.com/en/stable/examples/guides/create_a_custom_suite.html?utm_source=display_output&utm_medium=referral&utm_campaign=suite_link target=\\\"_blank\\\">custom suites</a>.\\n            </p>\\n\\n\"}}, \"294ae2afdea542e4bb1d45de28f042f8\": {\"model_name\": \"LayoutModel\", \"model_module\": \"@jupyter-widgets/base\", \"model_module_version\": \"1.2.0\", \"state\": {}}, \"33a59015c7ea454ea817d6491b0ee4ba\": {\"model_name\": \"DescriptionStyleModel\", \"model_module\": \"@jupyter-widgets/controls\", \"model_module_version\": \"1.5.0\", \"state\": {}}, \"7a9319fbabbf49ab8c7e0b822665b308\": {\"model_name\": \"VBoxModel\", \"model_module\": \"@jupyter-widgets/controls\", \"model_module_version\": \"1.5.0\", \"state\": {\"_dom_classes\": [], \"children\": [\"IPY_MODEL_92d48fe3689540b19ed4a0ea0f428952\", \"IPY_MODEL_a543018120ce4a0599498f17dcb6fdf0\"], \"layout\": \"IPY_MODEL_703a14a29b2b40a8b38b0cbc1a3b9990\"}}, \"92d48fe3689540b19ed4a0ea0f428952\": {\"model_name\": \"HTMLModel\", \"model_module\": \"@jupyter-widgets/controls\", \"model_module_version\": \"1.5.0\", \"state\": {\"_dom_classes\": [], \"layout\": \"IPY_MODEL_1c70db7118b647829bf6cf8da4b8648b\", \"style\": \"IPY_MODEL_699d753988ff4c9ebff3762bc623d71f\"}}, \"1c70db7118b647829bf6cf8da4b8648b\": {\"model_name\": \"LayoutModel\", \"model_module\": \"@jupyter-widgets/base\", \"model_module_version\": \"1.2.0\", \"state\": {}}, \"699d753988ff4c9ebff3762bc623d71f\": {\"model_name\": \"DescriptionStyleModel\", \"model_module\": \"@jupyter-widgets/controls\", \"model_module_version\": \"1.5.0\", \"state\": {}}, \"a543018120ce4a0599498f17dcb6fdf0\": {\"model_name\": \"AccordionModel\", \"model_module\": \"@jupyter-widgets/controls\", \"model_module_version\": \"1.5.0\", \"state\": {\"_dom_classes\": [\"rendered_html\", \"jp-RenderedHTMLCommon\", \"jp-RenderedHTML\", \"jp-OutputArea-output\"], \"_titles\": {\"0\": \"Didn't Pass\"}, \"children\": [\"IPY_MODEL_6fe53f7737504086bdf6acc16d3a6e81\"], \"layout\": \"IPY_MODEL_fb32fbcf3f60458a86760685ccc2c301\", \"selected_index\": null}}, \"6fe53f7737504086bdf6acc16d3a6e81\": {\"model_name\": \"HTMLModel\", \"model_module\": \"@jupyter-widgets/controls\", \"model_module_version\": \"1.5.0\", \"state\": {\"_dom_classes\": [], \"layout\": \"IPY_MODEL_f48324b2a23b4c84aac1859bee936712\", \"style\": \"IPY_MODEL_de38a46be8c346f2bfb0600567962d3e\", \"value\": \"<p>No outputs to show.</p>\"}}, \"f48324b2a23b4c84aac1859bee936712\": {\"model_name\": \"LayoutModel\", \"model_module\": \"@jupyter-widgets/base\", \"model_module_version\": \"1.2.0\", \"state\": {}}, \"de38a46be8c346f2bfb0600567962d3e\": {\"model_name\": \"DescriptionStyleModel\", \"model_module\": \"@jupyter-widgets/controls\", \"model_module_version\": \"1.5.0\", \"state\": {}}, \"fb32fbcf3f60458a86760685ccc2c301\": {\"model_name\": \"LayoutModel\", \"model_module\": \"@jupyter-widgets/base\", \"model_module_version\": \"1.2.0\", \"state\": {}}, \"703a14a29b2b40a8b38b0cbc1a3b9990\": {\"model_name\": \"LayoutModel\", \"model_module\": \"@jupyter-widgets/base\", \"model_module_version\": \"1.2.0\", \"state\": {}}, \"fbf62a45864a4ac9a01690c78c1820ab\": {\"model_name\": \"VBoxModel\", \"model_module\": \"@jupyter-widgets/controls\", \"model_module_version\": \"1.5.0\", \"state\": {\"_dom_classes\": [], \"children\": [\"IPY_MODEL_f1ffe8280402478db1396016891bac51\", \"IPY_MODEL_dc3b2b2b3ff7431b90e32be5d99f4c14\"], \"layout\": \"IPY_MODEL_8283819926c741d0b281e42ac6035549\"}}, \"f1ffe8280402478db1396016891bac51\": {\"model_name\": \"HTMLModel\", \"model_module\": \"@jupyter-widgets/controls\", \"model_module_version\": \"1.5.0\", \"state\": {\"_dom_classes\": [], \"layout\": \"IPY_MODEL_a2e55a0579dd4b188aa8c5c41eaff5d6\", \"style\": \"IPY_MODEL_5b8e593609a0417e883252197d4edc70\", \"value\": \"<span id=\\\"summary_None-section-Y3S67\\\"></span>\"}}, \"a2e55a0579dd4b188aa8c5c41eaff5d6\": {\"model_name\": \"LayoutModel\", \"model_module\": \"@jupyter-widgets/base\", \"model_module_version\": \"1.2.0\", \"state\": {}}, \"5b8e593609a0417e883252197d4edc70\": {\"model_name\": \"DescriptionStyleModel\", \"model_module\": \"@jupyter-widgets/controls\", \"model_module_version\": \"1.5.0\", \"state\": {}}, \"dc3b2b2b3ff7431b90e32be5d99f4c14\": {\"model_name\": \"AccordionModel\", \"model_module\": \"@jupyter-widgets/controls\", \"model_module_version\": \"1.5.0\", \"state\": {\"_dom_classes\": [\"rendered_html\", \"jp-RenderedHTMLCommon\", \"jp-RenderedHTML\", \"jp-OutputArea-output\"], \"_titles\": {\"0\": \"Passed\"}, \"children\": [\"IPY_MODEL_64e91939756d4c808534492e99bfff5c\"], \"layout\": \"IPY_MODEL_8f12e032803248cdabbb60057d461bf4\", \"selected_index\": null}}, \"64e91939756d4c808534492e99bfff5c\": {\"model_name\": \"VBoxModel\", \"model_module\": \"@jupyter-widgets/controls\", \"model_module_version\": \"1.5.0\", \"state\": {\"_dom_classes\": [], \"children\": [\"IPY_MODEL_ac841f0da39c4dbab152621039e56e07\", \"IPY_MODEL_cbcff9ad075f412ab4d38feb3e03a24b\", \"IPY_MODEL_49942fff717c4731b4c8533393ac4770\", \"IPY_MODEL_d61d0bd1b3c34445a1c2ecc2e1aa354b\", \"IPY_MODEL_e48cde8a9b454671951768be616e4662\", \"IPY_MODEL_d61d0bd1b3c34445a1c2ecc2e1aa354b\", \"IPY_MODEL_33a9ecd4f2ff421682fc1e59bcbde850\"], \"layout\": \"IPY_MODEL_f892e1c7009b451797cc2a8f1a7f73f3\"}}, \"ac841f0da39c4dbab152621039e56e07\": {\"model_name\": \"HTMLModel\", \"model_module\": \"@jupyter-widgets/controls\", \"model_module_version\": \"1.5.0\", \"state\": {\"_dom_classes\": [], \"layout\": \"IPY_MODEL_93cc0c7618754f2e9284f1565c031a72\", \"style\": \"IPY_MODEL_7154a249646f4ce2b111b4ba25536984\", \"value\": \"<style type=\\\"text/css\\\">\\n#T_c5bf4_ table {\\n  text-align: left;\\n  white-space: pre-wrap;\\n}\\n#T_c5bf4_ thead {\\n  text-align: left;\\n  white-space: pre-wrap;\\n}\\n#T_c5bf4_ tbody {\\n  text-align: left;\\n  white-space: pre-wrap;\\n}\\n#T_c5bf4_ th {\\n  text-align: left;\\n  white-space: pre-wrap;\\n}\\n#T_c5bf4_ td {\\n  text-align: left;\\n  white-space: pre-wrap;\\n}\\n</style>\\n<table id=\\\"T_c5bf4_\\\">\\n  <thead>\\n    <tr>\\n      <th class=\\\"col_heading level0 col0\\\" >Status</th>\\n      <th class=\\\"col_heading level0 col1\\\" >Check</th>\\n      <th class=\\\"col_heading level0 col2\\\" >Condition</th>\\n      <th class=\\\"col_heading level0 col3\\\" >More Info</th>\\n    </tr>\\n  </thead>\\n  <tbody>\\n    <tr>\\n      <td id=\\\"T_c5bf4_row0_col0\\\" class=\\\"data row0 col0\\\" ><div style=\\\"color: green;text-align: center\\\">\\u2713</div></td>\\n      <td id=\\\"T_c5bf4_row0_col1\\\" class=\\\"data row0 col1\\\" ><a href=\\\"#DatasetsSizeComparison_None-section-Y3S67\\\">Datasets Size Comparison</a></td>\\n      <td id=\\\"T_c5bf4_row0_col2\\\" class=\\\"data row0 col2\\\" >Test-Train size ratio is greater than 0.01</td>\\n      <td id=\\\"T_c5bf4_row0_col3\\\" class=\\\"data row0 col3\\\" >Test-Train size ratio is 0.25</td>\\n    </tr>\\n    <tr>\\n      <td id=\\\"T_c5bf4_row1_col0\\\" class=\\\"data row1 col0\\\" ><div style=\\\"color: green;text-align: center\\\">\\u2713</div></td>\\n      <td id=\\\"T_c5bf4_row1_col1\\\" class=\\\"data row1 col1\\\" ><a href=\\\"#CategoryMismatchTrainTest_None-section-Y3S67\\\">Category Mismatch Train Test</a></td>\\n      <td id=\\\"T_c5bf4_row1_col2\\\" class=\\\"data row1 col2\\\" >Ratio of samples with a new category is less or equal to 0%</td>\\n      <td id=\\\"T_c5bf4_row1_col3\\\" class=\\\"data row1 col3\\\" >No relevant columns to check were found</td>\\n    </tr>\\n    <tr>\\n      <td id=\\\"T_c5bf4_row2_col0\\\" class=\\\"data row2 col0\\\" ><div style=\\\"color: green;text-align: center\\\">\\u2713</div></td>\\n      <td id=\\\"T_c5bf4_row2_col1\\\" class=\\\"data row2 col1\\\" ><a href=\\\"#TrainTestFeatureDrift_None-section-Y3S67\\\">Train Test Feature Drift</a></td>\\n      <td id=\\\"T_c5bf4_row2_col2\\\" class=\\\"data row2 col2\\\" >categorical drift score < 0.2 and numerical drift score < 0.1</td>\\n      <td id=\\\"T_c5bf4_row2_col3\\\" class=\\\"data row2 col3\\\" >Passed for 30 columns out of 30 columns.\\nFound column \\\"v20\\\" has the highest numerical drift score: 3.45E-3</td>\\n    </tr>\\n    <tr>\\n      <td id=\\\"T_c5bf4_row3_col0\\\" class=\\\"data row3 col0\\\" ><div style=\\\"color: green;text-align: center\\\">\\u2713</div></td>\\n      <td id=\\\"T_c5bf4_row3_col1\\\" class=\\\"data row3 col1\\\" >String Mismatch Comparison</td>\\n      <td id=\\\"T_c5bf4_row3_col2\\\" class=\\\"data row3 col2\\\" >No new variants allowed in test data</td>\\n      <td id=\\\"T_c5bf4_row3_col3\\\" class=\\\"data row3 col3\\\" >No relevant columns to check were found</td>\\n    </tr>\\n    <tr>\\n      <td id=\\\"T_c5bf4_row4_col0\\\" class=\\\"data row4 col0\\\" ><div style=\\\"color: green;text-align: center\\\">\\u2713</div></td>\\n      <td id=\\\"T_c5bf4_row4_col1\\\" class=\\\"data row4 col1\\\" >Train Test Samples Mix</td>\\n      <td id=\\\"T_c5bf4_row4_col2\\\" class=\\\"data row4 col2\\\" >Percentage of test data samples that appear in train data is less or equal to 10%</td>\\n      <td id=\\\"T_c5bf4_row4_col3\\\" class=\\\"data row4 col3\\\" >No samples mix found</td>\\n    </tr>\\n    <tr>\\n      <td id=\\\"T_c5bf4_row5_col0\\\" class=\\\"data row5 col0\\\" ><div style=\\\"color: green;text-align: center\\\">\\u2713</div></td>\\n      <td id=\\\"T_c5bf4_row5_col1\\\" class=\\\"data row5 col1\\\" >Multivariate Drift</td>\\n      <td id=\\\"T_c5bf4_row5_col2\\\" class=\\\"data row5 col2\\\" >Drift value is less than 0.25</td>\\n      <td id=\\\"T_c5bf4_row5_col3\\\" class=\\\"data row5 col3\\\" >Found drift value of: 0.02, corresponding to a domain classifier AUC of: 0.51</td>\\n    </tr>\\n  </tbody>\\n</table>\\n\"}}, \"93cc0c7618754f2e9284f1565c031a72\": {\"model_name\": \"LayoutModel\", \"model_module\": \"@jupyter-widgets/base\", \"model_module_version\": \"1.2.0\", \"state\": {}}, \"7154a249646f4ce2b111b4ba25536984\": {\"model_name\": \"DescriptionStyleModel\", \"model_module\": \"@jupyter-widgets/controls\", \"model_module_version\": \"1.5.0\", \"state\": {}}, \"cbcff9ad075f412ab4d38feb3e03a24b\": {\"model_name\": \"HTMLModel\", \"model_module\": \"@jupyter-widgets/controls\", \"model_module_version\": \"1.5.0\", \"state\": {\"_dom_classes\": [], \"layout\": \"IPY_MODEL_67d16e5e94ed4eae885298cba0fcbef3\", \"style\": \"IPY_MODEL_0ad2070043504df28bd406058e2a2470\", \"value\": \"<hr style=\\\"background-color: #eee;border: 0 none;color: #eee;height: 4px;\\\">\"}}, \"67d16e5e94ed4eae885298cba0fcbef3\": {\"model_name\": \"LayoutModel\", \"model_module\": \"@jupyter-widgets/base\", \"model_module_version\": \"1.2.0\", \"state\": {}}, \"0ad2070043504df28bd406058e2a2470\": {\"model_name\": \"DescriptionStyleModel\", \"model_module\": \"@jupyter-widgets/controls\", \"model_module_version\": \"1.5.0\", \"state\": {}}, \"49942fff717c4731b4c8533393ac4770\": {\"model_name\": \"VBoxModel\", \"model_module\": \"@jupyter-widgets/controls\", \"model_module_version\": \"1.5.0\", \"state\": {\"_dom_classes\": [\"rendered_html\", \"jp-RenderedHTMLCommon\", \"jp-RenderedHTML\", \"jp-OutputArea-output\"], \"children\": [\"IPY_MODEL_8368ddefc2204cd69b98ba93698c0434\", \"IPY_MODEL_5e909c9109ec4fa58b9c967dcbd44ae2\", \"IPY_MODEL_c8cc588ee18c4a46b58a89c5dfafb115\", \"IPY_MODEL_3222965388c24b62947688617da830bd\"], \"layout\": \"IPY_MODEL_9c0358be93fa448e8a9e6aaa5da57486\"}}, \"8368ddefc2204cd69b98ba93698c0434\": {\"model_name\": \"HTMLModel\", \"model_module\": \"@jupyter-widgets/controls\", \"model_module_version\": \"1.5.0\", \"state\": {\"_dom_classes\": [], \"layout\": \"IPY_MODEL_242b2f8bd59a4a8db6e7881d202bff9a\", \"style\": \"IPY_MODEL_40b9a491cab541798012621012ce7f08\", \"value\": \"<h4 id=\\\"DatasetsSizeComparison_None-section-Y3S67\\\"><b>Datasets Size Comparison</b></h4>\"}}, \"242b2f8bd59a4a8db6e7881d202bff9a\": {\"model_name\": \"LayoutModel\", \"model_module\": \"@jupyter-widgets/base\", \"model_module_version\": \"1.2.0\", \"state\": {}}, \"40b9a491cab541798012621012ce7f08\": {\"model_name\": \"DescriptionStyleModel\", \"model_module\": \"@jupyter-widgets/controls\", \"model_module_version\": \"1.5.0\", \"state\": {}}, \"5e909c9109ec4fa58b9c967dcbd44ae2\": {\"model_name\": \"HTMLModel\", \"model_module\": \"@jupyter-widgets/controls\", \"model_module_version\": \"1.5.0\", \"state\": {\"_dom_classes\": [], \"layout\": \"IPY_MODEL_29789a1b6b5b4c698ac55dd03ff85f86\", \"style\": \"IPY_MODEL_083f8443c8174ee7b653ad3a20a1c3ec\", \"value\": \"<p>Verify test dataset size comparing it to the train dataset size. <a href=\\\"https://docs.deepchecks.com/0.9/checks_gallery/tabular/train_test_validation/plot_datasets_size_comparison.html?utm_source=display_output&utm_medium=referral&utm_campaign=check_link\\\" target=\\\"_blank\\\">Read More...</a></p>\"}}, \"29789a1b6b5b4c698ac55dd03ff85f86\": {\"model_name\": \"LayoutModel\", \"model_module\": \"@jupyter-widgets/base\", \"model_module_version\": \"1.2.0\", \"state\": {}}, \"083f8443c8174ee7b653ad3a20a1c3ec\": {\"model_name\": \"DescriptionStyleModel\", \"model_module\": \"@jupyter-widgets/controls\", \"model_module_version\": \"1.5.0\", \"state\": {}}, \"c8cc588ee18c4a46b58a89c5dfafb115\": {\"model_name\": \"HTMLModel\", \"model_module\": \"@jupyter-widgets/controls\", \"model_module_version\": \"1.5.0\", \"state\": {\"_dom_classes\": [], \"layout\": \"IPY_MODEL_db82f4bd57224056927422fc7430841b\", \"style\": \"IPY_MODEL_e730fc3a37374081aecfa2f5eeee9e87\", \"value\": \"<h5><b>Conditions Summary</b></h5><style type=\\\"text/css\\\">\\n#T_84a1e_ table {\\n  text-align: left;\\n  white-space: pre-wrap;\\n}\\n#T_84a1e_ thead {\\n  text-align: left;\\n  white-space: pre-wrap;\\n}\\n#T_84a1e_ tbody {\\n  text-align: left;\\n  white-space: pre-wrap;\\n}\\n#T_84a1e_ th {\\n  text-align: left;\\n  white-space: pre-wrap;\\n}\\n#T_84a1e_ td {\\n  text-align: left;\\n  white-space: pre-wrap;\\n}\\n</style>\\n<table id=\\\"T_84a1e_\\\">\\n  <thead>\\n    <tr>\\n      <th class=\\\"col_heading level0 col0\\\" >Status</th>\\n      <th class=\\\"col_heading level0 col1\\\" >Condition</th>\\n      <th class=\\\"col_heading level0 col2\\\" >More Info</th>\\n    </tr>\\n  </thead>\\n  <tbody>\\n    <tr>\\n      <td id=\\\"T_84a1e_row0_col0\\\" class=\\\"data row0 col0\\\" ><div style=\\\"color: green;text-align: center\\\">\\u2713</div></td>\\n      <td id=\\\"T_84a1e_row0_col1\\\" class=\\\"data row0 col1\\\" >Test-Train size ratio is greater than 0.01</td>\\n      <td id=\\\"T_84a1e_row0_col2\\\" class=\\\"data row0 col2\\\" >Test-Train size ratio is 0.25</td>\\n    </tr>\\n  </tbody>\\n</table>\\n\"}}, \"db82f4bd57224056927422fc7430841b\": {\"model_name\": \"LayoutModel\", \"model_module\": \"@jupyter-widgets/base\", \"model_module_version\": \"1.2.0\", \"state\": {}}, \"e730fc3a37374081aecfa2f5eeee9e87\": {\"model_name\": \"DescriptionStyleModel\", \"model_module\": \"@jupyter-widgets/controls\", \"model_module_version\": \"1.5.0\", \"state\": {}}, \"3222965388c24b62947688617da830bd\": {\"model_name\": \"VBoxModel\", \"model_module\": \"@jupyter-widgets/controls\", \"model_module_version\": \"1.5.0\", \"state\": {\"_dom_classes\": [], \"children\": [\"IPY_MODEL_60583beadf2146d8ac954f9d968a3be1\", \"IPY_MODEL_a7af0ecb27204710bbc647ea1168e8a9\", \"IPY_MODEL_6563a8174a24438691e6a6751f52823d\"], \"layout\": \"IPY_MODEL_0b34461d5df14e20973c1577b0359dd0\"}}, \"60583beadf2146d8ac954f9d968a3be1\": {\"model_name\": \"HTMLModel\", \"model_module\": \"@jupyter-widgets/controls\", \"model_module_version\": \"1.5.0\", \"state\": {\"_dom_classes\": [], \"layout\": \"IPY_MODEL_cb040a4db6f5482384a56ec189b995d3\", \"style\": \"IPY_MODEL_270f78425b00451a90c6099477557400\", \"value\": \"<h5><b>Additional Outputs</b></h5>\"}}, \"cb040a4db6f5482384a56ec189b995d3\": {\"model_name\": \"LayoutModel\", \"model_module\": \"@jupyter-widgets/base\", \"model_module_version\": \"1.2.0\", \"state\": {}}, \"270f78425b00451a90c6099477557400\": {\"model_name\": \"DescriptionStyleModel\", \"model_module\": \"@jupyter-widgets/controls\", \"model_module_version\": \"1.5.0\", \"state\": {}}, \"a7af0ecb27204710bbc647ea1168e8a9\": {\"model_name\": \"HTMLModel\", \"model_module\": \"@jupyter-widgets/controls\", \"model_module_version\": \"1.5.0\", \"state\": {\"_dom_classes\": [], \"layout\": \"IPY_MODEL_284bc6bec57549faa06dc1e75898da28\", \"style\": \"IPY_MODEL_a27bfd68994e4f93825bfd2e5e15187d\", \"value\": \"<style type=\\\"text/css\\\">\\n#T_0ce7d_ table {\\n  text-align: left;\\n  white-space: pre-wrap;\\n}\\n#T_0ce7d_ thead {\\n  text-align: left;\\n  white-space: pre-wrap;\\n}\\n#T_0ce7d_ tbody {\\n  text-align: left;\\n  white-space: pre-wrap;\\n}\\n#T_0ce7d_ th {\\n  text-align: left;\\n  white-space: pre-wrap;\\n}\\n#T_0ce7d_ td {\\n  text-align: left;\\n  white-space: pre-wrap;\\n}\\n</style>\\n<table id=\\\"T_0ce7d_\\\">\\n  <thead>\\n    <tr>\\n      <th class=\\\"blank level0\\\" >&nbsp;</th>\\n      <th class=\\\"col_heading level0 col0\\\" >Train</th>\\n      <th class=\\\"col_heading level0 col1\\\" >Test</th>\\n    </tr>\\n  </thead>\\n  <tbody>\\n    <tr>\\n      <th id=\\\"T_0ce7d_level0_row0\\\" class=\\\"row_heading level0 row0\\\" >Size</th>\\n      <td id=\\\"T_0ce7d_row0_col0\\\" class=\\\"data row0 col0\\\" >224529</td>\\n      <td id=\\\"T_0ce7d_row0_col1\\\" class=\\\"data row0 col1\\\" >56133</td>\\n    </tr>\\n  </tbody>\\n</table>\\n\"}}, \"284bc6bec57549faa06dc1e75898da28\": {\"model_name\": \"LayoutModel\", \"model_module\": \"@jupyter-widgets/base\", \"model_module_version\": \"1.2.0\", \"state\": {}}, \"a27bfd68994e4f93825bfd2e5e15187d\": {\"model_name\": \"DescriptionStyleModel\", \"model_module\": \"@jupyter-widgets/controls\", \"model_module_version\": \"1.5.0\", \"state\": {}}, \"6563a8174a24438691e6a6751f52823d\": {\"model_name\": \"HTMLModel\", \"model_module\": \"@jupyter-widgets/controls\", \"model_module_version\": \"1.5.0\", \"state\": {\"_dom_classes\": [], \"layout\": \"IPY_MODEL_eb73dc61ecfc45a582a5b3f74c6b2382\", \"style\": \"IPY_MODEL_93bab5b944e74276877226271f8be9c4\", \"value\": \"<br><a href=\\\"#summary_None-section-Y3S67\\\" style=\\\"font-size: 14px;\\\">Go to top</a>\"}}, \"eb73dc61ecfc45a582a5b3f74c6b2382\": {\"model_name\": \"LayoutModel\", \"model_module\": \"@jupyter-widgets/base\", \"model_module_version\": \"1.2.0\", \"state\": {}}, \"93bab5b944e74276877226271f8be9c4\": {\"model_name\": \"DescriptionStyleModel\", \"model_module\": \"@jupyter-widgets/controls\", \"model_module_version\": \"1.5.0\", \"state\": {}}, \"0b34461d5df14e20973c1577b0359dd0\": {\"model_name\": \"LayoutModel\", \"model_module\": \"@jupyter-widgets/base\", \"model_module_version\": \"1.2.0\", \"state\": {}}, \"9c0358be93fa448e8a9e6aaa5da57486\": {\"model_name\": \"LayoutModel\", \"model_module\": \"@jupyter-widgets/base\", \"model_module_version\": \"1.2.0\", \"state\": {}}, \"d61d0bd1b3c34445a1c2ecc2e1aa354b\": {\"model_name\": \"HTMLModel\", \"model_module\": \"@jupyter-widgets/controls\", \"model_module_version\": \"1.5.0\", \"state\": {\"_dom_classes\": [], \"layout\": \"IPY_MODEL_dfa43ab43e1c423284cdb767c2d76f6c\", \"style\": \"IPY_MODEL_131ee3a228f3459989df643009e4203e\", \"value\": \"<hr style=\\\"background-color: #eee;border: 0 none;color: #eee;height: 4px;\\\">\"}}, \"dfa43ab43e1c423284cdb767c2d76f6c\": {\"model_name\": \"LayoutModel\", \"model_module\": \"@jupyter-widgets/base\", \"model_module_version\": \"1.2.0\", \"state\": {}}, \"131ee3a228f3459989df643009e4203e\": {\"model_name\": \"DescriptionStyleModel\", \"model_module\": \"@jupyter-widgets/controls\", \"model_module_version\": \"1.5.0\", \"state\": {}}, \"e48cde8a9b454671951768be616e4662\": {\"model_name\": \"VBoxModel\", \"model_module\": \"@jupyter-widgets/controls\", \"model_module_version\": \"1.5.0\", \"state\": {\"_dom_classes\": [\"rendered_html\", \"jp-RenderedHTMLCommon\", \"jp-RenderedHTML\", \"jp-OutputArea-output\"], \"children\": [\"IPY_MODEL_92422d111fd645d0a13b1fa19e41560b\", \"IPY_MODEL_403d5a260422484f99ea91f9df473c9c\", \"IPY_MODEL_5b4e9186b3f549a3b225f2f012bf2df3\", \"IPY_MODEL_bd587ef538de4a47a2d6164e9f63e139\"], \"layout\": \"IPY_MODEL_2a8b8cc53b8d4f859f7bf91daaf6ae86\"}}, \"92422d111fd645d0a13b1fa19e41560b\": {\"model_name\": \"HTMLModel\", \"model_module\": \"@jupyter-widgets/controls\", \"model_module_version\": \"1.5.0\", \"state\": {\"_dom_classes\": [], \"layout\": \"IPY_MODEL_cba63a2fa7f94f458b15e6d3e4f91dfe\", \"style\": \"IPY_MODEL_0243c1e9ad4242a495d07e08656c608c\", \"value\": \"<h4 id=\\\"CategoryMismatchTrainTest_None-section-Y3S67\\\"><b>Category Mismatch Train Test</b></h4>\"}}, \"cba63a2fa7f94f458b15e6d3e4f91dfe\": {\"model_name\": \"LayoutModel\", \"model_module\": \"@jupyter-widgets/base\", \"model_module_version\": \"1.2.0\", \"state\": {}}, \"0243c1e9ad4242a495d07e08656c608c\": {\"model_name\": \"DescriptionStyleModel\", \"model_module\": \"@jupyter-widgets/controls\", \"model_module_version\": \"1.5.0\", \"state\": {}}, \"403d5a260422484f99ea91f9df473c9c\": {\"model_name\": \"HTMLModel\", \"model_module\": \"@jupyter-widgets/controls\", \"model_module_version\": \"1.5.0\", \"state\": {\"_dom_classes\": [], \"layout\": \"IPY_MODEL_7798b82ae16641e0b698416165c1bc4d\", \"style\": \"IPY_MODEL_5c5cb2a426664e089abdc1686ec103d7\", \"value\": \"<p>Find new categories in the test set. <a href=\\\"https://docs.deepchecks.com/0.9/checks_gallery/tabular/train_test_validation/plot_category_mismatch_train_test.html?utm_source=display_output&utm_medium=referral&utm_campaign=check_link\\\" target=\\\"_blank\\\">Read More...</a></p>\"}}, \"7798b82ae16641e0b698416165c1bc4d\": {\"model_name\": \"LayoutModel\", \"model_module\": \"@jupyter-widgets/base\", \"model_module_version\": \"1.2.0\", \"state\": {}}, \"5c5cb2a426664e089abdc1686ec103d7\": {\"model_name\": \"DescriptionStyleModel\", \"model_module\": \"@jupyter-widgets/controls\", \"model_module_version\": \"1.5.0\", \"state\": {}}, \"5b4e9186b3f549a3b225f2f012bf2df3\": {\"model_name\": \"HTMLModel\", \"model_module\": \"@jupyter-widgets/controls\", \"model_module_version\": \"1.5.0\", \"state\": {\"_dom_classes\": [], \"layout\": \"IPY_MODEL_18358e4b9071497291bd70e415e479a6\", \"style\": \"IPY_MODEL_98c37d0cd03e42a185b029adf481a155\", \"value\": \"<h5><b>Conditions Summary</b></h5><style type=\\\"text/css\\\">\\n#T_9e09a_ table {\\n  text-align: left;\\n  white-space: pre-wrap;\\n}\\n#T_9e09a_ thead {\\n  text-align: left;\\n  white-space: pre-wrap;\\n}\\n#T_9e09a_ tbody {\\n  text-align: left;\\n  white-space: pre-wrap;\\n}\\n#T_9e09a_ th {\\n  text-align: left;\\n  white-space: pre-wrap;\\n}\\n#T_9e09a_ td {\\n  text-align: left;\\n  white-space: pre-wrap;\\n}\\n</style>\\n<table id=\\\"T_9e09a_\\\">\\n  <thead>\\n    <tr>\\n      <th class=\\\"col_heading level0 col0\\\" >Status</th>\\n      <th class=\\\"col_heading level0 col1\\\" >Condition</th>\\n      <th class=\\\"col_heading level0 col2\\\" >More Info</th>\\n    </tr>\\n  </thead>\\n  <tbody>\\n    <tr>\\n      <td id=\\\"T_9e09a_row0_col0\\\" class=\\\"data row0 col0\\\" ><div style=\\\"color: green;text-align: center\\\">\\u2713</div></td>\\n      <td id=\\\"T_9e09a_row0_col1\\\" class=\\\"data row0 col1\\\" >Ratio of samples with a new category is less or equal to 0%</td>\\n      <td id=\\\"T_9e09a_row0_col2\\\" class=\\\"data row0 col2\\\" >No relevant columns to check were found</td>\\n    </tr>\\n  </tbody>\\n</table>\\n\"}}, \"18358e4b9071497291bd70e415e479a6\": {\"model_name\": \"LayoutModel\", \"model_module\": \"@jupyter-widgets/base\", \"model_module_version\": \"1.2.0\", \"state\": {}}, \"98c37d0cd03e42a185b029adf481a155\": {\"model_name\": \"DescriptionStyleModel\", \"model_module\": \"@jupyter-widgets/controls\", \"model_module_version\": \"1.5.0\", \"state\": {}}, \"bd587ef538de4a47a2d6164e9f63e139\": {\"model_name\": \"VBoxModel\", \"model_module\": \"@jupyter-widgets/controls\", \"model_module_version\": \"1.5.0\", \"state\": {\"_dom_classes\": [], \"children\": [\"IPY_MODEL_d4b3c1edb9ab4751914dbb527c5ea3bc\", \"IPY_MODEL_bab1406d02d94e8fb12ed2c4d2407874\", \"IPY_MODEL_3cae9bd3c5b14fcd8e9c8c66f8d5094a\"], \"layout\": \"IPY_MODEL_b96d7d453e3e4408981769b74a550b55\"}}, \"d4b3c1edb9ab4751914dbb527c5ea3bc\": {\"model_name\": \"HTMLModel\", \"model_module\": \"@jupyter-widgets/controls\", \"model_module_version\": \"1.5.0\", \"state\": {\"_dom_classes\": [], \"layout\": \"IPY_MODEL_4cfe5b3c5b5d42f5b8c9ff874e7dde46\", \"style\": \"IPY_MODEL_4b36c320ee1345c29424f84e5c9dffdf\", \"value\": \"<h5><b>Additional Outputs</b></h5>\"}}, \"4cfe5b3c5b5d42f5b8c9ff874e7dde46\": {\"model_name\": \"LayoutModel\", \"model_module\": \"@jupyter-widgets/base\", \"model_module_version\": \"1.2.0\", \"state\": {}}, \"4b36c320ee1345c29424f84e5c9dffdf\": {\"model_name\": \"DescriptionStyleModel\", \"model_module\": \"@jupyter-widgets/controls\", \"model_module_version\": \"1.5.0\", \"state\": {}}, \"bab1406d02d94e8fb12ed2c4d2407874\": {\"model_name\": \"HTMLModel\", \"model_module\": \"@jupyter-widgets/controls\", \"model_module_version\": \"1.5.0\", \"state\": {\"_dom_classes\": [], \"layout\": \"IPY_MODEL_4734b8b26b89457b9c8fad613691c4a3\", \"style\": \"IPY_MODEL_a8e40ec6f9fa4f33aa4dacd0a0e75824\", \"value\": \"<style type=\\\"text/css\\\">\\n#T_19751_ table {\\n  text-align: left;\\n  white-space: pre-wrap;\\n}\\n#T_19751_ thead {\\n  text-align: left;\\n  white-space: pre-wrap;\\n}\\n#T_19751_ tbody {\\n  text-align: left;\\n  white-space: pre-wrap;\\n}\\n#T_19751_ th {\\n  text-align: left;\\n  white-space: pre-wrap;\\n}\\n#T_19751_ td {\\n  text-align: left;\\n  white-space: pre-wrap;\\n}\\n</style>\\n<table id=\\\"T_19751_\\\">\\n  <thead>\\n    <tr>\\n      <th class=\\\"blank level0\\\" >&nbsp;</th>\\n      <th class=\\\"col_heading level0 col0\\\" >Number of new categories</th>\\n      <th class=\\\"col_heading level0 col1\\\" >Percent of new categories in sample</th>\\n      <th class=\\\"col_heading level0 col2\\\" >New categories examples</th>\\n    </tr>\\n    <tr>\\n      <th class=\\\"index_name level0\\\" >Column</th>\\n      <th class=\\\"blank col0\\\" >&nbsp;</th>\\n      <th class=\\\"blank col1\\\" >&nbsp;</th>\\n      <th class=\\\"blank col2\\\" >&nbsp;</th>\\n    </tr>\\n  </thead>\\n  <tbody>\\n  </tbody>\\n</table>\\n\"}}, \"4734b8b26b89457b9c8fad613691c4a3\": {\"model_name\": \"LayoutModel\", \"model_module\": \"@jupyter-widgets/base\", \"model_module_version\": \"1.2.0\", \"state\": {}}, \"a8e40ec6f9fa4f33aa4dacd0a0e75824\": {\"model_name\": \"DescriptionStyleModel\", \"model_module\": \"@jupyter-widgets/controls\", \"model_module_version\": \"1.5.0\", \"state\": {}}, \"3cae9bd3c5b14fcd8e9c8c66f8d5094a\": {\"model_name\": \"HTMLModel\", \"model_module\": \"@jupyter-widgets/controls\", \"model_module_version\": \"1.5.0\", \"state\": {\"_dom_classes\": [], \"layout\": \"IPY_MODEL_83fec5edb933402491c66a95984edd79\", \"style\": \"IPY_MODEL_e414c1d563184bbcb48254d783a63e37\", \"value\": \"<br><a href=\\\"#summary_None-section-Y3S67\\\" style=\\\"font-size: 14px;\\\">Go to top</a>\"}}, \"83fec5edb933402491c66a95984edd79\": {\"model_name\": \"LayoutModel\", \"model_module\": \"@jupyter-widgets/base\", \"model_module_version\": \"1.2.0\", \"state\": {}}, \"e414c1d563184bbcb48254d783a63e37\": {\"model_name\": \"DescriptionStyleModel\", \"model_module\": \"@jupyter-widgets/controls\", \"model_module_version\": \"1.5.0\", \"state\": {}}, \"b96d7d453e3e4408981769b74a550b55\": {\"model_name\": \"LayoutModel\", \"model_module\": \"@jupyter-widgets/base\", \"model_module_version\": \"1.2.0\", \"state\": {}}, \"2a8b8cc53b8d4f859f7bf91daaf6ae86\": {\"model_name\": \"LayoutModel\", \"model_module\": \"@jupyter-widgets/base\", \"model_module_version\": \"1.2.0\", \"state\": {}}, \"33a9ecd4f2ff421682fc1e59bcbde850\": {\"model_name\": \"VBoxModel\", \"model_module\": \"@jupyter-widgets/controls\", \"model_module_version\": \"1.5.0\", \"state\": {\"_dom_classes\": [\"rendered_html\", \"jp-RenderedHTMLCommon\", \"jp-RenderedHTML\", \"jp-OutputArea-output\"], \"children\": [\"IPY_MODEL_abe092ceae1d46d8af5666aec3996aca\", \"IPY_MODEL_f4e02649963b4c7cb8bd2fd568005cbf\", \"IPY_MODEL_79b0c05a2fd545a88b6008735e94f2f3\", \"IPY_MODEL_af1706cf5a4c489d957fd490efdad37a\"], \"layout\": \"IPY_MODEL_3fc48541ba3941efa46a370a815f24e5\"}}, \"abe092ceae1d46d8af5666aec3996aca\": {\"model_name\": \"HTMLModel\", \"model_module\": \"@jupyter-widgets/controls\", \"model_module_version\": \"1.5.0\", \"state\": {\"_dom_classes\": [], \"layout\": \"IPY_MODEL_d794455c8e2f4a058e09a01c7c50c683\", \"style\": \"IPY_MODEL_8f7285bb06e14db3840a08cacd367ca5\", \"value\": \"<h4 id=\\\"TrainTestFeatureDrift_None-section-Y3S67\\\"><b>Train Test Feature Drift</b></h4>\"}}, \"d794455c8e2f4a058e09a01c7c50c683\": {\"model_name\": \"LayoutModel\", \"model_module\": \"@jupyter-widgets/base\", \"model_module_version\": \"1.2.0\", \"state\": {}}, \"8f7285bb06e14db3840a08cacd367ca5\": {\"model_name\": \"DescriptionStyleModel\", \"model_module\": \"@jupyter-widgets/controls\", \"model_module_version\": \"1.5.0\", \"state\": {}}, \"f4e02649963b4c7cb8bd2fd568005cbf\": {\"model_name\": \"HTMLModel\", \"model_module\": \"@jupyter-widgets/controls\", \"model_module_version\": \"1.5.0\", \"state\": {\"_dom_classes\": [], \"layout\": \"IPY_MODEL_057622ef58fd464ba31f2e84deddbf92\", \"style\": \"IPY_MODEL_2ef88dd7a356468dbeddb60f36df5a11\", \"value\": \"<p>    Calculate drift between train dataset and test dataset per feature, using statistical measures. <a href=\\\"https://docs.deepchecks.com/0.9/checks_gallery/tabular/train_test_validation/plot_train_test_feature_drift.html?utm_source=display_output&utm_medium=referral&utm_campaign=check_link\\\" target=\\\"_blank\\\">Read More...</a></p>\"}}, \"057622ef58fd464ba31f2e84deddbf92\": {\"model_name\": \"LayoutModel\", \"model_module\": \"@jupyter-widgets/base\", \"model_module_version\": \"1.2.0\", \"state\": {}}, \"2ef88dd7a356468dbeddb60f36df5a11\": {\"model_name\": \"DescriptionStyleModel\", \"model_module\": \"@jupyter-widgets/controls\", \"model_module_version\": \"1.5.0\", \"state\": {}}, \"79b0c05a2fd545a88b6008735e94f2f3\": {\"model_name\": \"HTMLModel\", \"model_module\": \"@jupyter-widgets/controls\", \"model_module_version\": \"1.5.0\", \"state\": {\"_dom_classes\": [], \"layout\": \"IPY_MODEL_6765dd275bb34185a4b3e712f18c3dcf\", \"style\": \"IPY_MODEL_2780e014feea45658a2ebaaaa16715ab\", \"value\": \"<h5><b>Conditions Summary</b></h5><style type=\\\"text/css\\\">\\n#T_91d61_ table {\\n  text-align: left;\\n  white-space: pre-wrap;\\n}\\n#T_91d61_ thead {\\n  text-align: left;\\n  white-space: pre-wrap;\\n}\\n#T_91d61_ tbody {\\n  text-align: left;\\n  white-space: pre-wrap;\\n}\\n#T_91d61_ th {\\n  text-align: left;\\n  white-space: pre-wrap;\\n}\\n#T_91d61_ td {\\n  text-align: left;\\n  white-space: pre-wrap;\\n}\\n</style>\\n<table id=\\\"T_91d61_\\\">\\n  <thead>\\n    <tr>\\n      <th class=\\\"col_heading level0 col0\\\" >Status</th>\\n      <th class=\\\"col_heading level0 col1\\\" >Condition</th>\\n      <th class=\\\"col_heading level0 col2\\\" >More Info</th>\\n    </tr>\\n  </thead>\\n  <tbody>\\n    <tr>\\n      <td id=\\\"T_91d61_row0_col0\\\" class=\\\"data row0 col0\\\" ><div style=\\\"color: green;text-align: center\\\">\\u2713</div></td>\\n      <td id=\\\"T_91d61_row0_col1\\\" class=\\\"data row0 col1\\\" >categorical drift score < 0.2 and numerical drift score < 0.1</td>\\n      <td id=\\\"T_91d61_row0_col2\\\" class=\\\"data row0 col2\\\" >Passed for 30 columns out of 30 columns.\\nFound column \\\"v20\\\" has the highest numerical drift score: 3.45E-3</td>\\n    </tr>\\n  </tbody>\\n</table>\\n\"}}, \"6765dd275bb34185a4b3e712f18c3dcf\": {\"model_name\": \"LayoutModel\", \"model_module\": \"@jupyter-widgets/base\", \"model_module_version\": \"1.2.0\", \"state\": {}}, \"2780e014feea45658a2ebaaaa16715ab\": {\"model_name\": \"DescriptionStyleModel\", \"model_module\": \"@jupyter-widgets/controls\", \"model_module_version\": \"1.5.0\", \"state\": {}}, \"af1706cf5a4c489d957fd490efdad37a\": {\"model_name\": \"VBoxModel\", \"model_module\": \"@jupyter-widgets/controls\", \"model_module_version\": \"1.5.0\", \"state\": {\"_dom_classes\": [], \"children\": [\"IPY_MODEL_5b0325e7d17d40d09f56d17007ffff68\", \"IPY_MODEL_09acdbd83fa74c0c92b768d601072cd9\", \"IPY_MODEL_544b1a90e8ad4e7abf8e9719c0919c81\", \"IPY_MODEL_793b3ad020764e318441c6f96c57935b\", \"IPY_MODEL_6ee4d9797df54d96b0b4bd7be9a1019e\", \"IPY_MODEL_f07a8f51ea02422287332f018ce5984e\", \"IPY_MODEL_f693cd3888ac4aada56aca6d31ff2b52\", \"IPY_MODEL_57eafe6941164245b368e2a87ecb90cf\", \"IPY_MODEL_9b0d9ad227c447b897f2b277747d70c5\", \"IPY_MODEL_80bb5f3b15ba41eab071866a58897e4c\", \"IPY_MODEL_904cc5ebc1fc4e16b30040c89c5e42cf\"], \"layout\": \"IPY_MODEL_a91a5250de8042ef9cb439fce578aeed\"}}, \"5b0325e7d17d40d09f56d17007ffff68\": {\"model_name\": \"HTMLModel\", \"model_module\": \"@jupyter-widgets/controls\", \"model_module_version\": \"1.5.0\", \"state\": {\"_dom_classes\": [], \"layout\": \"IPY_MODEL_3ff69a97746c44a7aca6a4cfb1aa9f43\", \"style\": \"IPY_MODEL_07b6ccb7c52e446885aafcaf238566dd\", \"value\": \"<h5><b>Additional Outputs</b></h5>\"}}, \"3ff69a97746c44a7aca6a4cfb1aa9f43\": {\"model_name\": \"LayoutModel\", \"model_module\": \"@jupyter-widgets/base\", \"model_module_version\": \"1.2.0\", \"state\": {}}, \"07b6ccb7c52e446885aafcaf238566dd\": {\"model_name\": \"DescriptionStyleModel\", \"model_module\": \"@jupyter-widgets/controls\", \"model_module_version\": \"1.5.0\", \"state\": {}}, \"09acdbd83fa74c0c92b768d601072cd9\": {\"model_name\": \"HTMLModel\", \"model_module\": \"@jupyter-widgets/controls\", \"model_module_version\": \"1.5.0\", \"state\": {\"_dom_classes\": [], \"layout\": \"IPY_MODEL_a1b10890fa44484399b9dc3b87301c0c\", \"style\": \"IPY_MODEL_416886944daa4b17b87fafe5be66aedc\", \"value\": \"<div><span>\\n                The Drift score is a measure for the difference between two distributions, in this check - the test\\n                and train distributions.<br> The check shows the drift score and distributions for the features, sorted\\n                by drift score and showing only the top 5 features, according to drift score.\\n            </span></div>\"}}, \"a1b10890fa44484399b9dc3b87301c0c\": {\"model_name\": \"LayoutModel\", \"model_module\": \"@jupyter-widgets/base\", \"model_module_version\": \"1.2.0\", \"state\": {}}, \"416886944daa4b17b87fafe5be66aedc\": {\"model_name\": \"DescriptionStyleModel\", \"model_module\": \"@jupyter-widgets/controls\", \"model_module_version\": \"1.5.0\", \"state\": {}}, \"544b1a90e8ad4e7abf8e9719c0919c81\": {\"model_name\": \"HTMLModel\", \"model_module\": \"@jupyter-widgets/controls\", \"model_module_version\": \"1.5.0\", \"state\": {\"_dom_classes\": [], \"layout\": \"IPY_MODEL_2231cf75c6b14d68808b18bee378979b\", \"style\": \"IPY_MODEL_62bc4e59813c446393456aa8daad12bf\", \"value\": \"<div>For discrete distribution plots, showing the top 10 categories with largest difference between train and test.</div>\"}}, \"2231cf75c6b14d68808b18bee378979b\": {\"model_name\": \"LayoutModel\", \"model_module\": \"@jupyter-widgets/base\", \"model_module_version\": \"1.2.0\", \"state\": {}}, \"62bc4e59813c446393456aa8daad12bf\": {\"model_name\": \"DescriptionStyleModel\", \"model_module\": \"@jupyter-widgets/controls\", \"model_module_version\": \"1.5.0\", \"state\": {}}, \"793b3ad020764e318441c6f96c57935b\": {\"model_name\": \"HTMLModel\", \"model_module\": \"@jupyter-widgets/controls\", \"model_module_version\": \"1.5.0\", \"state\": {\"_dom_classes\": [], \"layout\": \"IPY_MODEL_0b02c2b5d8e545769fcda195cbe19efe\", \"style\": \"IPY_MODEL_e57f35b4e1ea4ac881700d387c2ef24c\", \"value\": \"<div>If available, the plot titles also show the feature importance (FI) rank</div>\"}}, \"0b02c2b5d8e545769fcda195cbe19efe\": {\"model_name\": \"LayoutModel\", \"model_module\": \"@jupyter-widgets/base\", \"model_module_version\": \"1.2.0\", \"state\": {}}, \"e57f35b4e1ea4ac881700d387c2ef24c\": {\"model_name\": \"DescriptionStyleModel\", \"model_module\": \"@jupyter-widgets/controls\", \"model_module_version\": \"1.5.0\", \"state\": {}}, \"6ee4d9797df54d96b0b4bd7be9a1019e\": {\"model_name\": \"FigureModel\", \"model_module\": \"jupyterlab-plotly\", \"model_module_version\": \"^5.5.0\", \"state\": {\"_config\": {\"plotlyServerURL\": \"https://plot.ly\"}, \"_data\": [{\"base\": 0, \"marker\": {\"color\": \"#01B8AA\"}, \"offsetgroup\": \"0\", \"orientation\": \"h\", \"showlegend\": false, \"x\": [0.0034464054560889696], \"xaxis\": \"x\", \"y\": [\"Drift Score\"], \"yaxis\": \"y\", \"type\": \"bar\", \"uid\": \"66aa2828-e2bc-4ed3-bd29-65d738b58788\"}, {\"fill\": \"tozeroy\", \"line\": {\"color\": \"#00008b\", \"shape\": \"spline\"}, \"name\": \"Train Dataset\", \"x\": [-23.4201725720228, -22.717508884772318, -22.014845197521836, -21.312181510271355, -20.609517823020873, -19.90685413577039, -19.20419044851991, -18.501526761269428, -17.798863074018946, -17.096199386768465, -16.393535699517983, -15.690872012267501, -14.988208325017021, -14.28554463776654, -13.582880950516058, -12.880217263265576, -12.177553576015095, -11.474889888764613, -10.772226201514131, -10.06956251426365, -9.366898827013168, -8.664235139762686, -7.961571452512205, -7.258907765261725, -6.556244078011243, -5.8535803907607615, -5.15091670351028, -4.448253016259798, -3.7455893290093165, -3.042925641758835, -2.340261954508353, -1.6375982672578715, -0.9349345800073898, -0.9240938642894538, -0.8853487657602862, -0.6189761610151041, -0.5982759650436461, -0.5119965583164379, -0.49754004512616185, -0.4429599854114872, -0.43417925943535796, -0.3903814568180708, -0.385065563374713, -0.3502467153082459, -0.34546326257503196, -0.31888928109133063, -0.3159505365436101, -0.2932490904161553, -0.2894884922506636, -0.2721956576438817, -0.2679103463150281, -0.252870828400042, -0.2493533134179012, -0.23608621807912009, -0.23227089275690815, -0.23196322011721374, -0.22119324114223565, -0.21726624677190595, -0.20669942931592084, -0.20282887606410072, -0.1929177387267571, -0.18940016201055943, -0.18063533190405387, -0.1772939367569836, -0.16841695320959663, -0.16590681031548551, -0.15665709819223048, -0.15397628200842495, -0.1453359510205249, -0.14250607682493, -0.1344919775216231, -0.13105592519413184, -0.12317864525685158, -0.12045946999580577, -0.11234485563498067, -0.10953587871516958, -0.10134756169344836, -0.09782977636479022, -0.08962777082685545, -0.08647050963589518, -0.07807052739699694, -0.07438313728910269, -0.06615861389023184, -0.06615861389023184, -0.0620251323621462, -0.0620251323621462, -0.0538612740571965, -0.049358489302744106, -0.04135016181320704, -0.03640231571782414, -0.028316176412250243, -0.025358785959444786, -0.0228449104348945, -0.01598547645682837, -0.015217286982652128, -0.009168166428601117, -0.0011492703175327054, 0.005270466043015444, 0.013171821641289211, 0.019252501091008047, 0.02817533279205656, 0.03386598761726477, 0.04361145451572369, 0.05026714515720581, 0.059369037900964365, 0.06724841812344799, 0.07604158523276147, 0.08388716609101704, 0.09466845852151551, 0.10219489093857131, 0.11414892428588728, 0.12204235640944289, 0.13533476160632402, 0.14337826474645582, 0.1582939424807932, 0.1667409602665927, 0.18415073267796656, 0.1931712363217988, 0.2138481351638853, 0.22470289119917553, 0.2479403922016028, 0.2602266807669935, 0.2904804657705572, 0.30122440539519163, 0.3420790150564912, 0.3541151475871442, 0.4085422606881165, 0.4195349207590857, 0.4703927944935735, 0.5021590550272248, 0.5145612750596374, 0.6382087015206117, 0.6503886266308538, 0.8576258941662469, 0.868982639467837, 1.1730564817440552, 1.2870581922808548, 1.3152119289268236, 1.8757201689945369, 2.5783838562450185, 3.2810475434955, 3.983711230745982, 4.6863749179964636, 5.389038605246945, 6.091702292497427, 6.794365979747909, 7.49702966699839, 8.199693354248872, 8.90235704149935, 9.605020728749835, 10.307684416000313, 11.0103481032508], \"xaxis\": \"x2\", \"y\": {\"dtype\": \"float64\", \"shape\": [152]}, \"yaxis\": \"y2\", \"type\": \"scatter\", \"uid\": \"68dd69dc-2727-4b17-8a4b-3076103ca060\"}, {\"line\": {\"color\": \"#00008b\", \"dash\": \"dash\"}, \"mode\": \"lines+markers\", \"name\": \"Train Mean\", \"x\": [-0.025358785959444786, -0.025358785959444786], \"xaxis\": \"x2\", \"y\": [0, 1.287402690625277], \"yaxis\": \"y2\", \"type\": \"scatter\", \"uid\": \"6f8a7880-7c0e-4c11-8c48-8d34cdc37029\"}, {\"line\": {\"color\": \"#00008b\"}, \"mode\": \"lines\", \"name\": \"Train Median\", \"x\": [-0.06615861389023184, -0.06615861389023184], \"xaxis\": \"x2\", \"y\": [0, 1.320673986755733], \"yaxis\": \"y2\", \"type\": \"scatter\", \"uid\": \"8f16d718-6b89-4295-96d9-699ccee248b5\"}, {\"fill\": \"tozeroy\", \"line\": {\"color\": \"#69b3a2\", \"shape\": \"spline\"}, \"name\": \"Test Dataset\", \"x\": [-23.4201725720228, -22.717508884772318, -22.014845197521836, -21.312181510271355, -20.609517823020873, -19.90685413577039, -19.20419044851991, -18.501526761269428, -17.798863074018946, -17.096199386768465, -16.393535699517983, -15.690872012267501, -14.988208325017021, -14.28554463776654, -13.582880950516058, -12.880217263265576, -12.177553576015095, -11.474889888764613, -10.772226201514131, -10.06956251426365, -9.366898827013168, -8.664235139762686, -7.961571452512205, -7.258907765261725, -6.556244078011243, -5.8535803907607615, -5.15091670351028, -4.448253016259798, -3.7455893290093165, -3.042925641758835, -2.340261954508353, -1.6375982672578715, -0.9349345800073898, -0.9240938642894538, -0.8853487657602862, -0.6189761610151041, -0.5982759650436461, -0.5119965583164379, -0.49754004512616185, -0.4429599854114872, -0.43417925943535796, -0.3903814568180708, -0.385065563374713, -0.3502467153082459, -0.34546326257503196, -0.31888928109133063, -0.3159505365436101, -0.2932490904161553, -0.2894884922506636, -0.2721956576438817, -0.2679103463150281, -0.252870828400042, -0.2493533134179012, -0.23608621807912009, -0.23227089275690815, -0.23196322011721374, -0.22119324114223565, -0.21726624677190595, -0.20669942931592084, -0.20282887606410072, -0.1929177387267571, -0.18940016201055943, -0.18063533190405387, -0.1772939367569836, -0.16841695320959663, -0.16590681031548551, -0.15665709819223048, -0.15397628200842495, -0.1453359510205249, -0.14250607682493, -0.1344919775216231, -0.13105592519413184, -0.12317864525685158, -0.12045946999580577, -0.11234485563498067, -0.10953587871516958, -0.10134756169344836, -0.09782977636479022, -0.08962777082685545, -0.08647050963589518, -0.07807052739699694, -0.07438313728910269, -0.06615861389023184, -0.06615861389023184, -0.0620251323621462, -0.0620251323621462, -0.0538612740571965, -0.049358489302744106, -0.04135016181320704, -0.03640231571782414, -0.028316176412250243, -0.025358785959444786, -0.0228449104348945, -0.01598547645682837, -0.015217286982652128, -0.009168166428601117, -0.0011492703175327054, 0.005270466043015444, 0.013171821641289211, 0.019252501091008047, 0.02817533279205656, 0.03386598761726477, 0.04361145451572369, 0.05026714515720581, 0.059369037900964365, 0.06724841812344799, 0.07604158523276147, 0.08388716609101704, 0.09466845852151551, 0.10219489093857131, 0.11414892428588728, 0.12204235640944289, 0.13533476160632402, 0.14337826474645582, 0.1582939424807932, 0.1667409602665927, 0.18415073267796656, 0.1931712363217988, 0.2138481351638853, 0.22470289119917553, 0.2479403922016028, 0.2602266807669935, 0.2904804657705572, 0.30122440539519163, 0.3420790150564912, 0.3541151475871442, 0.4085422606881165, 0.4195349207590857, 0.4703927944935735, 0.5021590550272248, 0.5145612750596374, 0.6382087015206117, 0.6503886266308538, 0.8576258941662469, 0.868982639467837, 1.1730564817440552, 1.2870581922808548, 1.3152119289268236, 1.8757201689945369, 2.5783838562450185, 3.2810475434955, 3.983711230745982, 4.6863749179964636, 5.389038605246945, 6.091702292497427, 6.794365979747909, 7.49702966699839, 8.199693354248872, 8.90235704149935, 9.605020728749835, 10.307684416000313, 11.0103481032508], \"xaxis\": \"x2\", \"y\": {\"dtype\": \"float64\", \"shape\": [152]}, \"yaxis\": \"y2\", \"type\": \"scatter\", \"uid\": \"139f1d44-4c4d-46b1-9978-b858b7cac6c9\"}, {\"line\": {\"color\": \"#69b3a2\", \"dash\": \"dash\"}, \"mode\": \"lines+markers\", \"name\": \"Test Mean\", \"x\": [-0.01598547645682837, -0.01598547645682837], \"xaxis\": \"x2\", \"y\": [0, 1.2757732928844314], \"yaxis\": \"y2\", \"type\": \"scatter\", \"uid\": \"d3e0e933-8777-4310-a57a-342140cdc77a\"}, {\"line\": {\"color\": \"#69b3a2\"}, \"mode\": \"lines\", \"name\": \"Test Median\", \"x\": [-0.0620251323621462, -0.0620251323621462], \"xaxis\": \"x2\", \"y\": [0, 1.3176181399271503], \"yaxis\": \"y2\", \"type\": \"scatter\", \"uid\": \"acd93f3d-5798-4377-8f62-a148f1033194\"}], \"_dom_classes\": [], \"_js2py_layoutDelta\": {}, \"_js2py_pointsCallback\": {}, \"_js2py_relayout\": {}, \"_js2py_restyle\": {}, \"_js2py_traceDeltas\": {}, \"_js2py_update\": {}, \"_layout\": {\"annotations\": [{\"font\": {\"size\": 16}, \"showarrow\": false, \"text\": \"Drift Score (Earth Mover's Distance)\", \"x\": 0.5, \"xanchor\": \"center\", \"xref\": \"paper\", \"y\": 1.0000000000000002, \"yanchor\": \"bottom\", \"yref\": \"paper\"}, {\"font\": {\"size\": 16}, \"showarrow\": false, \"text\": \"Distribution Plot\", \"x\": 0.5, \"xanchor\": \"center\", \"xref\": \"paper\", \"y\": 0.7200000000000001, \"yanchor\": \"bottom\", \"yref\": \"paper\"}], \"bargroupgap\": 0, \"height\": 400, \"legend\": {\"title\": {\"text\": \"Legend\"}, \"y\": 0.6, \"yanchor\": \"top\"}, \"template\": {\"data\": {\"barpolar\": [{\"marker\": {\"line\": {\"color\": \"#E5ECF6\", \"width\": 0.5}, \"pattern\": {\"fillmode\": \"overlay\", \"size\": 10, \"solidity\": 0.2}}, \"type\": \"barpolar\"}], \"bar\": [{\"error_x\": {\"color\": \"#2a3f5f\"}, \"error_y\": {\"color\": \"#2a3f5f\"}, \"marker\": {\"line\": {\"color\": \"#E5ECF6\", \"width\": 0.5}, \"pattern\": {\"fillmode\": \"overlay\", \"size\": 10, \"solidity\": 0.2}}, \"type\": \"bar\"}], \"carpet\": [{\"aaxis\": {\"endlinecolor\": \"#2a3f5f\", \"gridcolor\": \"white\", \"linecolor\": \"white\", \"minorgridcolor\": \"white\", \"startlinecolor\": \"#2a3f5f\"}, \"baxis\": {\"endlinecolor\": \"#2a3f5f\", \"gridcolor\": \"white\", \"linecolor\": \"white\", \"minorgridcolor\": \"white\", \"startlinecolor\": \"#2a3f5f\"}, \"type\": \"carpet\"}], \"choropleth\": [{\"colorbar\": {\"outlinewidth\": 0, \"ticks\": \"\"}, \"type\": \"choropleth\"}], \"contourcarpet\": [{\"colorbar\": {\"outlinewidth\": 0, \"ticks\": \"\"}, \"type\": \"contourcarpet\"}], \"contour\": [{\"colorbar\": {\"outlinewidth\": 0, \"ticks\": \"\"}, \"colorscale\": [[0.0, \"#0d0887\"], [0.1111111111111111, \"#46039f\"], [0.2222222222222222, \"#7201a8\"], [0.3333333333333333, \"#9c179e\"], [0.4444444444444444, \"#bd3786\"], [0.5555555555555556, \"#d8576b\"], [0.6666666666666666, \"#ed7953\"], [0.7777777777777778, \"#fb9f3a\"], [0.8888888888888888, \"#fdca26\"], [1.0, \"#f0f921\"]], \"type\": \"contour\"}], \"heatmapgl\": [{\"colorbar\": {\"outlinewidth\": 0, \"ticks\": \"\"}, \"colorscale\": [[0.0, \"#0d0887\"], [0.1111111111111111, \"#46039f\"], [0.2222222222222222, \"#7201a8\"], [0.3333333333333333, \"#9c179e\"], [0.4444444444444444, \"#bd3786\"], [0.5555555555555556, \"#d8576b\"], [0.6666666666666666, \"#ed7953\"], [0.7777777777777778, \"#fb9f3a\"], [0.8888888888888888, \"#fdca26\"], [1.0, \"#f0f921\"]], \"type\": \"heatmapgl\"}], \"heatmap\": [{\"colorbar\": {\"outlinewidth\": 0, \"ticks\": \"\"}, \"colorscale\": [[0.0, \"#0d0887\"], [0.1111111111111111, \"#46039f\"], [0.2222222222222222, \"#7201a8\"], [0.3333333333333333, \"#9c179e\"], [0.4444444444444444, \"#bd3786\"], [0.5555555555555556, \"#d8576b\"], [0.6666666666666666, \"#ed7953\"], [0.7777777777777778, \"#fb9f3a\"], [0.8888888888888888, \"#fdca26\"], [1.0, \"#f0f921\"]], \"type\": \"heatmap\"}], \"histogram2dcontour\": [{\"colorbar\": {\"outlinewidth\": 0, \"ticks\": \"\"}, \"colorscale\": [[0.0, \"#0d0887\"], [0.1111111111111111, \"#46039f\"], [0.2222222222222222, \"#7201a8\"], [0.3333333333333333, \"#9c179e\"], [0.4444444444444444, \"#bd3786\"], [0.5555555555555556, \"#d8576b\"], [0.6666666666666666, \"#ed7953\"], [0.7777777777777778, \"#fb9f3a\"], [0.8888888888888888, \"#fdca26\"], [1.0, \"#f0f921\"]], \"type\": \"histogram2dcontour\"}], \"histogram2d\": [{\"colorbar\": {\"outlinewidth\": 0, \"ticks\": \"\"}, \"colorscale\": [[0.0, \"#0d0887\"], [0.1111111111111111, \"#46039f\"], [0.2222222222222222, \"#7201a8\"], [0.3333333333333333, \"#9c179e\"], [0.4444444444444444, \"#bd3786\"], [0.5555555555555556, \"#d8576b\"], [0.6666666666666666, \"#ed7953\"], [0.7777777777777778, \"#fb9f3a\"], [0.8888888888888888, \"#fdca26\"], [1.0, \"#f0f921\"]], \"type\": \"histogram2d\"}], \"histogram\": [{\"marker\": {\"pattern\": {\"fillmode\": \"overlay\", \"size\": 10, \"solidity\": 0.2}}, \"type\": \"histogram\"}], \"mesh3d\": [{\"colorbar\": {\"outlinewidth\": 0, \"ticks\": \"\"}, \"type\": \"mesh3d\"}], \"parcoords\": [{\"line\": {\"colorbar\": {\"outlinewidth\": 0, \"ticks\": \"\"}}, \"type\": \"parcoords\"}], \"pie\": [{\"automargin\": true, \"type\": \"pie\"}], \"scatter3d\": [{\"line\": {\"colorbar\": {\"outlinewidth\": 0, \"ticks\": \"\"}}, \"marker\": {\"colorbar\": {\"outlinewidth\": 0, \"ticks\": \"\"}}, \"type\": \"scatter3d\"}], \"scattercarpet\": [{\"marker\": {\"colorbar\": {\"outlinewidth\": 0, \"ticks\": \"\"}}, \"type\": \"scattercarpet\"}], \"scattergeo\": [{\"marker\": {\"colorbar\": {\"outlinewidth\": 0, \"ticks\": \"\"}}, \"type\": \"scattergeo\"}], \"scattergl\": [{\"marker\": {\"colorbar\": {\"outlinewidth\": 0, \"ticks\": \"\"}}, \"type\": \"scattergl\"}], \"scattermapbox\": [{\"marker\": {\"colorbar\": {\"outlinewidth\": 0, \"ticks\": \"\"}}, \"type\": \"scattermapbox\"}], \"scatterpolargl\": [{\"marker\": {\"colorbar\": {\"outlinewidth\": 0, \"ticks\": \"\"}}, \"type\": \"scatterpolargl\"}], \"scatterpolar\": [{\"marker\": {\"colorbar\": {\"outlinewidth\": 0, \"ticks\": \"\"}}, \"type\": \"scatterpolar\"}], \"scatter\": [{\"marker\": {\"colorbar\": {\"outlinewidth\": 0, \"ticks\": \"\"}}, \"type\": \"scatter\"}], \"scatterternary\": [{\"marker\": {\"colorbar\": {\"outlinewidth\": 0, \"ticks\": \"\"}}, \"type\": \"scatterternary\"}], \"surface\": [{\"colorbar\": {\"outlinewidth\": 0, \"ticks\": \"\"}, \"colorscale\": [[0.0, \"#0d0887\"], [0.1111111111111111, \"#46039f\"], [0.2222222222222222, \"#7201a8\"], [0.3333333333333333, \"#9c179e\"], [0.4444444444444444, \"#bd3786\"], [0.5555555555555556, \"#d8576b\"], [0.6666666666666666, \"#ed7953\"], [0.7777777777777778, \"#fb9f3a\"], [0.8888888888888888, \"#fdca26\"], [1.0, \"#f0f921\"]], \"type\": \"surface\"}], \"table\": [{\"cells\": {\"fill\": {\"color\": \"#EBF0F8\"}, \"line\": {\"color\": \"white\"}}, \"header\": {\"fill\": {\"color\": \"#C8D4E3\"}, \"line\": {\"color\": \"white\"}}, \"type\": \"table\"}]}, \"layout\": {\"annotationdefaults\": {\"arrowcolor\": \"#2a3f5f\", \"arrowhead\": 0, \"arrowwidth\": 1}, \"autotypenumbers\": \"strict\", \"coloraxis\": {\"colorbar\": {\"outlinewidth\": 0, \"ticks\": \"\"}}, \"colorscale\": {\"diverging\": [[0, \"#8e0152\"], [0.1, \"#c51b7d\"], [0.2, \"#de77ae\"], [0.3, \"#f1b6da\"], [0.4, \"#fde0ef\"], [0.5, \"#f7f7f7\"], [0.6, \"#e6f5d0\"], [0.7, \"#b8e186\"], [0.8, \"#7fbc41\"], [0.9, \"#4d9221\"], [1, \"#276419\"]], \"sequential\": [[0.0, \"#0d0887\"], [0.1111111111111111, \"#46039f\"], [0.2222222222222222, \"#7201a8\"], [0.3333333333333333, \"#9c179e\"], [0.4444444444444444, \"#bd3786\"], [0.5555555555555556, \"#d8576b\"], [0.6666666666666666, \"#ed7953\"], [0.7777777777777778, \"#fb9f3a\"], [0.8888888888888888, \"#fdca26\"], [1.0, \"#f0f921\"]], \"sequentialminus\": [[0.0, \"#0d0887\"], [0.1111111111111111, \"#46039f\"], [0.2222222222222222, \"#7201a8\"], [0.3333333333333333, \"#9c179e\"], [0.4444444444444444, \"#bd3786\"], [0.5555555555555556, \"#d8576b\"], [0.6666666666666666, \"#ed7953\"], [0.7777777777777778, \"#fb9f3a\"], [0.8888888888888888, \"#fdca26\"], [1.0, \"#f0f921\"]]}, \"colorway\": [\"#636efa\", \"#EF553B\", \"#00cc96\", \"#ab63fa\", \"#FFA15A\", \"#19d3f3\", \"#FF6692\", \"#B6E880\", \"#FF97FF\", \"#FECB52\"], \"font\": {\"color\": \"#2a3f5f\"}, \"geo\": {\"bgcolor\": \"white\", \"lakecolor\": \"white\", \"landcolor\": \"#E5ECF6\", \"showlakes\": true, \"showland\": true, \"subunitcolor\": \"white\"}, \"hoverlabel\": {\"align\": \"left\"}, \"hovermode\": \"closest\", \"mapbox\": {\"style\": \"light\"}, \"paper_bgcolor\": \"white\", \"plot_bgcolor\": \"#E5ECF6\", \"polar\": {\"angularaxis\": {\"gridcolor\": \"white\", \"linecolor\": \"white\", \"ticks\": \"\"}, \"bgcolor\": \"#E5ECF6\", \"radialaxis\": {\"gridcolor\": \"white\", \"linecolor\": \"white\", \"ticks\": \"\"}}, \"scene\": {\"xaxis\": {\"backgroundcolor\": \"#E5ECF6\", \"gridcolor\": \"white\", \"gridwidth\": 2, \"linecolor\": \"white\", \"showbackground\": true, \"ticks\": \"\", \"zerolinecolor\": \"white\"}, \"yaxis\": {\"backgroundcolor\": \"#E5ECF6\", \"gridcolor\": \"white\", \"gridwidth\": 2, \"linecolor\": \"white\", \"showbackground\": true, \"ticks\": \"\", \"zerolinecolor\": \"white\"}, \"zaxis\": {\"backgroundcolor\": \"#E5ECF6\", \"gridcolor\": \"white\", \"gridwidth\": 2, \"linecolor\": \"white\", \"showbackground\": true, \"ticks\": \"\", \"zerolinecolor\": \"white\"}}, \"shapedefaults\": {\"line\": {\"color\": \"#2a3f5f\"}}, \"ternary\": {\"aaxis\": {\"gridcolor\": \"white\", \"linecolor\": \"white\", \"ticks\": \"\"}, \"baxis\": {\"gridcolor\": \"white\", \"linecolor\": \"white\", \"ticks\": \"\"}, \"bgcolor\": \"#E5ECF6\", \"caxis\": {\"gridcolor\": \"white\", \"linecolor\": \"white\", \"ticks\": \"\"}}, \"title\": {\"x\": 0.05}, \"xaxis\": {\"automargin\": true, \"gridcolor\": \"white\", \"linecolor\": \"white\", \"ticks\": \"\", \"title\": {\"standoff\": 15}, \"zerolinecolor\": \"white\", \"zerolinewidth\": 2}, \"yaxis\": {\"automargin\": true, \"gridcolor\": \"white\", \"linecolor\": \"white\", \"ticks\": \"\", \"title\": {\"standoff\": 15}, \"zerolinecolor\": \"white\", \"zerolinewidth\": 2}}}, \"title\": {\"text\": \"v20\", \"x\": 0.5, \"xanchor\": \"center\"}, \"xaxis\": {\"anchor\": \"y\", \"domain\": [0.0, 1.0], \"dtick\": 0.05, \"fixedrange\": true, \"gridcolor\": \"black\", \"linecolor\": \"black\", \"range\": [0, 0.4], \"showgrid\": false}, \"yaxis\": {\"anchor\": \"x\", \"autorange\": true, \"color\": \"black\", \"domain\": [0.9200000000000002, 1.0], \"fixedrange\": true, \"rangemode\": \"normal\", \"showgrid\": false, \"showline\": false, \"showticklabels\": false, \"zeroline\": false}, \"xaxis2\": {\"anchor\": \"y2\", \"domain\": [0.0, 1.0], \"fixedrange\": false, \"range\": [-0.9240938642894538, 1.3152119289268236], \"title\": {\"text\": \"v20\"}}, \"yaxis2\": {\"anchor\": \"x2\", \"domain\": [0.0, 0.7200000000000001], \"fixedrange\": true, \"title\": {\"text\": \"Probability Density\"}}}, \"_py2js_addTraces\": {}, \"_py2js_animate\": {}, \"_py2js_deleteTraces\": {}, \"_py2js_moveTraces\": {}, \"_py2js_relayout\": {}, \"_py2js_removeLayoutProps\": {}, \"_py2js_removeTraceProps\": {}, \"_py2js_restyle\": {}, \"_py2js_update\": {}, \"_view_count\": 0}, \"buffers\": [{\"encoding\": \"base64\", \"path\": [\"_data\", 1, \"y\", \"buffer\"], \"data\": \"U2h/sCTc+j76H5cQINrzPuKRCwXMW7g97kaNrNcL1julZfN7GSZRPvzXsBgLgPU+SZydHb4VnD6UcoaNHwLcPlrEzAWLiUY9Xd8KduhZrT4ePii/aeYBP7FIhMFYAu8+R8pNFaNyBj+S9cCSQEmnPqgUq3IVbPM+tqXd540wDD9lX8ARTiwWP4iaZNOyeBo/WOERyI77cT6ftKMOK1nWPvGSm/0rxRc/3FPp0PTOGz8DRa3O5bUmP0hotOiEOzQ/2JNTcB1ZKD8IMMutDZM1P0OfSeVe/0I/kWwJzQFfPT82aiGJ/tFKP8VJ72aKAls/pk7E1zjJaT+7Br24lh2BP1HOqLC9/KQ/CDgSCHnhpT995HtX8ZupP9sFB7SSj8g/ZGVYTLWGyz8itCkvCwzWPzrDsv3f0Nc/cinAqmSU3z82b1eeg37gP0xKqUJyT+Q/Gfg/RezN5D/Z+DJyjCroP+224J4wpOg/J3fFJZpP6z81p7kwhpvrP3jIMIlW4+0/X3ormRRD7j9ftoW56PTvP0kq4w4sL/A/GvzX8e3j8D9yuQbdGw3xPxR3TtMEpPE/g5ZczgDO8T8F0X35W9HxP+sWZO7mQ/I/PyB/hSts8j+kzgg5ONTyPyMbNmOt+PI/gVS6g7lR8z9E7WYBx2/zP00cLW70tvM/XflwnafQ8z8JDI++8BD0P8maJsUKIvQ/oD0luNdc9D9GaOkan2z0Pyv8ovyFm/Q/Kw3M442p9D92DGTSqs30P5VbfXN+2/Q/rfBpJWX39D+a0qVSyv/0Pw29ttYLFfU/HnP3AhMb9T/aNseAuyj1PxMLOULPLPU/9j0ytSQy9T/1K3H8pDL1P4Si5GvNL/U/iv+mh6Ys9T9zs9wLeyH1P3Oz3At7IfU/bQ6ePbsZ9T9tDp49uxn1P/0hs9ZLBvU/M1jAFkT59D9FZcEXHt70P576NEzayvQ/hNigz2Gn9D+bSVCQM5n0P08x0CymjPQ/UxAvfB1o9D/Yf9K10WP0PxEObtaVQPQ/Kl6WMyQO9D/Cv0zHz+LzP3tECd0OqvM/CAsacO578z8UPOJcmzTzP0FE6Db8BPM/EWdGRtiv8j+hCwvnRnPyPyl4M0KLHfI/X5yfH9vQ8T/Oh0Es2njxP+QgPApqKPE/50iR01S38D8II0OU5mbwPzo+mDRFyu8/KLdzQsMc7z8xUl4n9fXtP/aQnIuXQu0/Ic+flH/16z/khvlDRDnrPxee8LwauOk/IQHRbMvy6D84UnUguzbnPwWDr1kzU+Y/JTbEwrt75D/7u0xGFozjP58JpVGjXeE/tI5sjsqi4D/4MrOJkSvcP5n2JC7fzdo/N7ZW+sVi1T/TQ7hRkm/UP2DB4TSxnNA/9Bhs8BtOzT9lmfDNyO7LPy+Ugek9/sE/K6/CoTBMwT+XC+kRylqzP57m4gUl1LI/VPp8ZsF7pD9RvZIrHMegP1a6IvnZ558/Kmnn1mlIiD8XaEV43INrP+PLuRypYmI/9w6/wNevUz+l9tCNL5FBP6v8O2STFCU/l8Lk+KHIHT+lk60cIdMGP8PLpZT0sBY/BDgwixVt4z4vleOhFiqiPn49LoqzBNg+8a/jdhoJET5aGY7nn9X6Pg==\"}, {\"encoding\": \"base64\", \"path\": [\"_data\", 4, \"y\", \"buffer\"], \"data\": \"K5Msil/jcy/mFf4GyNctNu68eynArQM7yM6PsFLP9j2oFBp0wCAIP6Kjq/+7fv0+N3h5svRgtj49Mjwc6kDfPgUUgUtkw7Y+Vs98JGrf3j5meRf1emYiPVuu4KnEb1Y+3SrFT/q2Az+Y9jgvRCz5PhAVWrEeeRo/t5oAWiK3Fz/yt9I6UioMP9OptJy3uMM+gYGlRGRYjz6dEndjX2b0PlloSU83fRA/fm54JHj0IT/zCGLPce8kP8zsmLtFGCc/5XTZfJtKND/lR24qdQktP3DE+LoTDS4/E4th1ukRQT+u0bp3HdVQP0VQSCE2q1c/2Gj6iB6Taj/Wt1HdMoWCP7gJRl5eIKM/EuSFEgr6oz8UCifMRYinPzR59Yvx3sc/39wrpRvVyj+B03I+ZavVPzvYwOrFbdc/ubPtLR8m3z9W1yfNcUbgP5p5baddE+Q/jK+iVXuR5D/oRsEny+znP4JyfgprZug/9saN1I0S6z/sQN3HpF7rP3UiI59XqO0/x2tS6X4I7j8m2I0ujrzvP4LkzBNQE/A/TNhFQk3J8D9lB1Uqy/LwP4vBt5b0ivE/doAjt1G18T9c1nXOtLjxP0geqr5cLPI/C1qznQxV8j/iTot5Qb7yPxi4LHol4/I/q3vqCFI98z/pirA5x1vzP+LqqV75o/M/Yf9kpxC+8z8mCXoRZf/zP7ulvvHKEPQ/Qwb+CbBM9D+keF6+yFz0P2vaPuS1jPQ/xt3PtxOb9D+s5xL+I8D0PwBdefVfzvQ/uyVE6TXr9D8Khb+47fP0P0UwwB0mCvU/jXBa5YIQ9T+LO4CbJR/1P0X7zEOlI/U/R/BSl/cp9T/seEDN2Sr1P4vJl8wIKfU/7bQLPlYm9T9qmNUQMRz1P2qY1RAxHPU/yKc5wvYU9T/IpznC9hT1P6Tui8mSAvU/ZBHh5SD29D+vcvoICtz0P6yPA+9wyfQ/i4HfDRWn9D/rZbm8UJn0P4w8LjIejfQ/JMigQZFp9D8RJLcIYmX0P4C99pQJQ/Q/Rn1ynMwR9D//glxLdefzP3XyzD3zr/M/20lhqs2C8z80R6gQ8zzzP2MkggZJDvM/u0JjU9G68j9vi0kYan/yP+q+LL5MK/I/Cr+pfgjg8T/S5FAroonxP3NnbVKjOvE/ob1X8YvL8D8bDjvDgXzwP0Ermhfh+e8/hzcczj5P7z8VMxKNMS3uP41NKFmifO0/XgSwwI807D+m554QDHvrP7CaLscj/+k/nmZkdFg86T/CoG34cIXnP1naB3VApOY/RcpD89/Q5D8y4i613OLjP214ZLfXtuE/GuOxpFH84D8XcP/1PtzcPwVvyJ+EfNs/gJFvA1wC1j+KsoVpOgvVP6y4T/YlJNE/756fc6FCzj9h+2sOJ9nMPxnxOa47k8I/ynQ+ILLawT91aL+bWNqzP7J1OZx6S7M/6WvnxOvwoz+f+XUqnLKgPyj5OTh+DqA/8Qs/HEp2iD99CZKjOaVxP/wy+WUSOGI/y1Lrc4hXSz+4QHGU7Q5AP4PqwyzDBTI/+mKT7c58FT+ApN4wBrfUPsKe2x4iAx0//PHRr/LoCz+dEvEKpnIFPrDEQTu2z3c+LOrvkp7jEj9ja9NNGy76PQ==\"}]}, \"f07a8f51ea02422287332f018ce5984e\": {\"model_name\": \"FigureModel\", \"model_module\": \"jupyterlab-plotly\", \"model_module_version\": \"^5.5.0\", \"state\": {\"_config\": {\"plotlyServerURL\": \"https://plot.ly\"}, \"_data\": [{\"base\": 0, \"marker\": {\"color\": \"#01B8AA\"}, \"offsetgroup\": \"0\", \"orientation\": \"h\", \"showlegend\": false, \"x\": [0.003256496276771488], \"xaxis\": \"x\", \"y\": [\"Drift Score\"], \"yaxis\": \"y\", \"type\": \"bar\", \"uid\": \"ebbaed77-6d12-44fa-9325-936e9f8b9800\"}, {\"fill\": \"tozeroy\", \"line\": {\"color\": \"#00008b\", \"shape\": \"spline\"}, \"name\": \"Train Dataset\", \"x\": [0.0, 3526.265306122449, 5612.240000000002, 6345.0, 7052.530612244898, 10578.795918367348, 14105.061224489797, 17631.326530612245, 19050.680000000008, 19915.0, 21157.591836734697, 24683.857142857145, 27857.92, 28210.122448979593, 28809.0, 31736.38775510204, 32071.0, 32718.760000000002, 34736.2, 35262.65306122449, 35387.0, 37348.36, 37873.0, 38788.91836734694, 39965.479999999996, 40311.0, 42315.18367346939, 42444.36, 42769.0, 44920.520000000004, 45224.82, 45841.44897959184, 47752.8, 47978.8, 49367.71428571429, 50437.16, 50714.0, 52893.97959183674, 53010.04, 53391.52, 55472.0, 55854.96000000001, 56420.244897959186, 58212.92, 58579.44, 59946.510204081635, 60879.200000000004, 61153.700000000004, 63328.240000000005, 63472.77551020408, 63750.68, 65964.0, 66347.0, 66999.04081632654, 68286.04000000001, 68603.0, 70525.30612244898, 70810.16, 71150.0, 73259.6, 73585.0, 74051.57142857143, 75477.88, 75855.58, 77489.16, 77577.83673469388, 77957.0, 79434.44, 79810.54000000001, 81104.10204081633, 81678.36, 82263.56000000001, 84588.0, 84588.0, 84630.36734693879, 85155.0, 85155.0, 88156.63265306123, 88618.64, 90482.96, 91682.89795918368, 94635.68661927921, 95120.84069, 95209.16326530612, 98112.80000000002, 98735.42857142858, 102044.0, 102261.69387755102, 105787.95918367348, 109314.22448979592, 111652.52000000002, 112840.48979591837, 113178.0, 116366.75510204083, 116528.16000000006, 117755.84000000001, 119893.02040816327, 120011.0, 120668.59999999998, 122633.68, 123051.13999999998, 123419.28571428572, 125202.48000000001, 125523.0, 126945.55102040817, 127544.24, 127977.68, 130075.76000000001, 130452.0, 130471.81632653062, 132826.8, 133084.3, 133998.08163265308, 135374.04, 135695.12000000005, 137524.3469387755, 137936.04, 138237.52, 140352.64, 140533.24, 141050.61224489796, 142673.96, 142920.22, 144576.8775510204, 145077.40000000002, 145271.40000000002, 147445.24, 147661.18, 148103.14285714287, 149860.88, 150113.16, 151629.40816326533, 152446.59999999998, 152582.14, 154875.16, 155084.24, 155155.67346938775, 157599.2, 157658.40000000002, 158681.9387755102, 160201.08000000002, 160266.2, 162208.20408163266, 162838.36000000007, 162884.24, 165537.0, 165557.16, 165734.46938775512, 168615.02000000002, 168659.52000000002, 169260.73469387757, 172787.0], \"xaxis\": \"x2\", \"y\": {\"dtype\": \"float64\", \"shape\": [152]}, \"yaxis\": \"y2\", \"type\": \"scatter\", \"uid\": \"326a4700-c4f9-4b8f-8864-d30d4dc5b3e8\"}, {\"line\": {\"color\": \"#00008b\", \"dash\": \"dash\"}, \"mode\": \"lines+markers\", \"name\": \"Train Mean\", \"x\": [95120.84069, 95120.84069], \"xaxis\": \"x2\", \"y\": [0, 3.551147159026583e-06], \"yaxis\": \"y2\", \"type\": \"scatter\", \"uid\": \"c287c66b-f301-4a21-932f-e51fe909a1cd\"}, {\"line\": {\"color\": \"#00008b\"}, \"mode\": \"lines\", \"name\": \"Train Median\", \"x\": [85155.0, 85155.0], \"xaxis\": \"x2\", \"y\": [0, 5.432015027529746e-06], \"yaxis\": \"y2\", \"type\": \"scatter\", \"uid\": \"aa37e699-d04d-4d2e-931c-47879bae4ca8\"}, {\"fill\": \"tozeroy\", \"line\": {\"color\": \"#69b3a2\", \"shape\": \"spline\"}, \"name\": \"Test Dataset\", \"x\": [0.0, 3526.265306122449, 5612.240000000002, 6345.0, 7052.530612244898, 10578.795918367348, 14105.061224489797, 17631.326530612245, 19050.680000000008, 19915.0, 21157.591836734697, 24683.857142857145, 27857.92, 28210.122448979593, 28809.0, 31736.38775510204, 32071.0, 32718.760000000002, 34736.2, 35262.65306122449, 35387.0, 37348.36, 37873.0, 38788.91836734694, 39965.479999999996, 40311.0, 42315.18367346939, 42444.36, 42769.0, 44920.520000000004, 45224.82, 45841.44897959184, 47752.8, 47978.8, 49367.71428571429, 50437.16, 50714.0, 52893.97959183674, 53010.04, 53391.52, 55472.0, 55854.96000000001, 56420.244897959186, 58212.92, 58579.44, 59946.510204081635, 60879.200000000004, 61153.700000000004, 63328.240000000005, 63472.77551020408, 63750.68, 65964.0, 66347.0, 66999.04081632654, 68286.04000000001, 68603.0, 70525.30612244898, 70810.16, 71150.0, 73259.6, 73585.0, 74051.57142857143, 75477.88, 75855.58, 77489.16, 77577.83673469388, 77957.0, 79434.44, 79810.54000000001, 81104.10204081633, 81678.36, 82263.56000000001, 84588.0, 84588.0, 84630.36734693879, 85155.0, 85155.0, 88156.63265306123, 88618.64, 90482.96, 91682.89795918368, 94635.68661927921, 95120.84069, 95209.16326530612, 98112.80000000002, 98735.42857142858, 102044.0, 102261.69387755102, 105787.95918367348, 109314.22448979592, 111652.52000000002, 112840.48979591837, 113178.0, 116366.75510204083, 116528.16000000006, 117755.84000000001, 119893.02040816327, 120011.0, 120668.59999999998, 122633.68, 123051.13999999998, 123419.28571428572, 125202.48000000001, 125523.0, 126945.55102040817, 127544.24, 127977.68, 130075.76000000001, 130452.0, 130471.81632653062, 132826.8, 133084.3, 133998.08163265308, 135374.04, 135695.12000000005, 137524.3469387755, 137936.04, 138237.52, 140352.64, 140533.24, 141050.61224489796, 142673.96, 142920.22, 144576.8775510204, 145077.40000000002, 145271.40000000002, 147445.24, 147661.18, 148103.14285714287, 149860.88, 150113.16, 151629.40816326533, 152446.59999999998, 152582.14, 154875.16, 155084.24, 155155.67346938775, 157599.2, 157658.40000000002, 158681.9387755102, 160201.08000000002, 160266.2, 162208.20408163266, 162838.36000000007, 162884.24, 165537.0, 165557.16, 165734.46938775512, 168615.02000000002, 168659.52000000002, 169260.73469387757, 172787.0], \"xaxis\": \"x2\", \"y\": {\"dtype\": \"float64\", \"shape\": [152]}, \"yaxis\": \"y2\", \"type\": \"scatter\", \"uid\": \"4f5af098-c7b4-427e-be22-da0441d29e00\"}, {\"line\": {\"color\": \"#69b3a2\", \"dash\": \"dash\"}, \"mode\": \"lines+markers\", \"name\": \"Test Mean\", \"x\": [94635.68661927921, 94635.68661927921], \"xaxis\": \"x2\", \"y\": [0, 3.663912843022128e-06], \"yaxis\": \"y2\", \"type\": \"scatter\", \"uid\": \"47c020be-30ef-4ba7-aa83-442d4a659083\"}, {\"line\": {\"color\": \"#69b3a2\"}, \"mode\": \"lines\", \"name\": \"Test Median\", \"x\": [84588.0, 84588.0], \"xaxis\": \"x2\", \"y\": [0, 5.620026376853154e-06], \"yaxis\": \"y2\", \"type\": \"scatter\", \"uid\": \"9df6e554-c03e-4c74-9641-72a347a5f9ac\"}], \"_dom_classes\": [], \"_js2py_layoutDelta\": {}, \"_js2py_pointsCallback\": {}, \"_js2py_relayout\": {}, \"_js2py_restyle\": {}, \"_js2py_traceDeltas\": {}, \"_js2py_update\": {}, \"_layout\": {\"annotations\": [{\"font\": {\"size\": 16}, \"showarrow\": false, \"text\": \"Drift Score (Earth Mover's Distance)\", \"x\": 0.5, \"xanchor\": \"center\", \"xref\": \"paper\", \"y\": 1.0000000000000002, \"yanchor\": \"bottom\", \"yref\": \"paper\"}, {\"font\": {\"size\": 16}, \"showarrow\": false, \"text\": \"Distribution Plot\", \"x\": 0.5, \"xanchor\": \"center\", \"xref\": \"paper\", \"y\": 0.7200000000000001, \"yanchor\": \"bottom\", \"yref\": \"paper\"}], \"bargroupgap\": 0, \"height\": 400, \"legend\": {\"title\": {\"text\": \"Legend\"}, \"y\": 0.6, \"yanchor\": \"top\"}, \"template\": {\"data\": {\"barpolar\": [{\"marker\": {\"line\": {\"color\": \"#E5ECF6\", \"width\": 0.5}, \"pattern\": {\"fillmode\": \"overlay\", \"size\": 10, \"solidity\": 0.2}}, \"type\": \"barpolar\"}], \"bar\": [{\"error_x\": {\"color\": \"#2a3f5f\"}, \"error_y\": {\"color\": \"#2a3f5f\"}, \"marker\": {\"line\": {\"color\": \"#E5ECF6\", \"width\": 0.5}, \"pattern\": {\"fillmode\": \"overlay\", \"size\": 10, \"solidity\": 0.2}}, \"type\": \"bar\"}], \"carpet\": [{\"aaxis\": {\"endlinecolor\": \"#2a3f5f\", \"gridcolor\": \"white\", \"linecolor\": \"white\", \"minorgridcolor\": \"white\", \"startlinecolor\": \"#2a3f5f\"}, \"baxis\": {\"endlinecolor\": \"#2a3f5f\", \"gridcolor\": \"white\", \"linecolor\": \"white\", \"minorgridcolor\": \"white\", \"startlinecolor\": \"#2a3f5f\"}, \"type\": \"carpet\"}], \"choropleth\": [{\"colorbar\": {\"outlinewidth\": 0, \"ticks\": \"\"}, \"type\": \"choropleth\"}], \"contourcarpet\": [{\"colorbar\": {\"outlinewidth\": 0, \"ticks\": \"\"}, \"type\": \"contourcarpet\"}], \"contour\": [{\"colorbar\": {\"outlinewidth\": 0, \"ticks\": \"\"}, \"colorscale\": [[0.0, \"#0d0887\"], [0.1111111111111111, \"#46039f\"], [0.2222222222222222, \"#7201a8\"], [0.3333333333333333, \"#9c179e\"], [0.4444444444444444, \"#bd3786\"], [0.5555555555555556, \"#d8576b\"], [0.6666666666666666, \"#ed7953\"], [0.7777777777777778, \"#fb9f3a\"], [0.8888888888888888, \"#fdca26\"], [1.0, \"#f0f921\"]], \"type\": \"contour\"}], \"heatmapgl\": [{\"colorbar\": {\"outlinewidth\": 0, \"ticks\": \"\"}, \"colorscale\": [[0.0, \"#0d0887\"], [0.1111111111111111, \"#46039f\"], [0.2222222222222222, \"#7201a8\"], [0.3333333333333333, \"#9c179e\"], [0.4444444444444444, \"#bd3786\"], [0.5555555555555556, \"#d8576b\"], [0.6666666666666666, \"#ed7953\"], [0.7777777777777778, \"#fb9f3a\"], [0.8888888888888888, \"#fdca26\"], [1.0, \"#f0f921\"]], \"type\": \"heatmapgl\"}], \"heatmap\": [{\"colorbar\": {\"outlinewidth\": 0, \"ticks\": \"\"}, \"colorscale\": [[0.0, \"#0d0887\"], [0.1111111111111111, \"#46039f\"], [0.2222222222222222, \"#7201a8\"], [0.3333333333333333, \"#9c179e\"], [0.4444444444444444, \"#bd3786\"], [0.5555555555555556, \"#d8576b\"], [0.6666666666666666, \"#ed7953\"], [0.7777777777777778, \"#fb9f3a\"], [0.8888888888888888, \"#fdca26\"], [1.0, \"#f0f921\"]], \"type\": \"heatmap\"}], \"histogram2dcontour\": [{\"colorbar\": {\"outlinewidth\": 0, \"ticks\": \"\"}, \"colorscale\": [[0.0, \"#0d0887\"], [0.1111111111111111, \"#46039f\"], [0.2222222222222222, \"#7201a8\"], [0.3333333333333333, \"#9c179e\"], [0.4444444444444444, \"#bd3786\"], [0.5555555555555556, \"#d8576b\"], [0.6666666666666666, \"#ed7953\"], [0.7777777777777778, \"#fb9f3a\"], [0.8888888888888888, \"#fdca26\"], [1.0, \"#f0f921\"]], \"type\": \"histogram2dcontour\"}], \"histogram2d\": [{\"colorbar\": {\"outlinewidth\": 0, \"ticks\": \"\"}, \"colorscale\": [[0.0, \"#0d0887\"], [0.1111111111111111, \"#46039f\"], [0.2222222222222222, \"#7201a8\"], [0.3333333333333333, \"#9c179e\"], [0.4444444444444444, \"#bd3786\"], [0.5555555555555556, \"#d8576b\"], [0.6666666666666666, \"#ed7953\"], [0.7777777777777778, \"#fb9f3a\"], [0.8888888888888888, \"#fdca26\"], [1.0, \"#f0f921\"]], \"type\": \"histogram2d\"}], \"histogram\": [{\"marker\": {\"pattern\": {\"fillmode\": \"overlay\", \"size\": 10, \"solidity\": 0.2}}, \"type\": \"histogram\"}], \"mesh3d\": [{\"colorbar\": {\"outlinewidth\": 0, \"ticks\": \"\"}, \"type\": \"mesh3d\"}], \"parcoords\": [{\"line\": {\"colorbar\": {\"outlinewidth\": 0, \"ticks\": \"\"}}, \"type\": \"parcoords\"}], \"pie\": [{\"automargin\": true, \"type\": \"pie\"}], \"scatter3d\": [{\"line\": {\"colorbar\": {\"outlinewidth\": 0, \"ticks\": \"\"}}, \"marker\": {\"colorbar\": {\"outlinewidth\": 0, \"ticks\": \"\"}}, \"type\": \"scatter3d\"}], \"scattercarpet\": [{\"marker\": {\"colorbar\": {\"outlinewidth\": 0, \"ticks\": \"\"}}, \"type\": \"scattercarpet\"}], \"scattergeo\": [{\"marker\": {\"colorbar\": {\"outlinewidth\": 0, \"ticks\": \"\"}}, \"type\": \"scattergeo\"}], \"scattergl\": [{\"marker\": {\"colorbar\": {\"outlinewidth\": 0, \"ticks\": \"\"}}, \"type\": \"scattergl\"}], \"scattermapbox\": [{\"marker\": {\"colorbar\": {\"outlinewidth\": 0, \"ticks\": \"\"}}, \"type\": \"scattermapbox\"}], \"scatterpolargl\": [{\"marker\": {\"colorbar\": {\"outlinewidth\": 0, \"ticks\": \"\"}}, \"type\": \"scatterpolargl\"}], \"scatterpolar\": [{\"marker\": {\"colorbar\": {\"outlinewidth\": 0, \"ticks\": \"\"}}, \"type\": \"scatterpolar\"}], \"scatter\": [{\"marker\": {\"colorbar\": {\"outlinewidth\": 0, \"ticks\": \"\"}}, \"type\": \"scatter\"}], \"scatterternary\": [{\"marker\": {\"colorbar\": {\"outlinewidth\": 0, \"ticks\": \"\"}}, \"type\": \"scatterternary\"}], \"surface\": [{\"colorbar\": {\"outlinewidth\": 0, \"ticks\": \"\"}, \"colorscale\": [[0.0, \"#0d0887\"], [0.1111111111111111, \"#46039f\"], [0.2222222222222222, \"#7201a8\"], [0.3333333333333333, \"#9c179e\"], [0.4444444444444444, \"#bd3786\"], [0.5555555555555556, \"#d8576b\"], [0.6666666666666666, \"#ed7953\"], [0.7777777777777778, \"#fb9f3a\"], [0.8888888888888888, \"#fdca26\"], [1.0, \"#f0f921\"]], \"type\": \"surface\"}], \"table\": [{\"cells\": {\"fill\": {\"color\": \"#EBF0F8\"}, \"line\": {\"color\": \"white\"}}, \"header\": {\"fill\": {\"color\": \"#C8D4E3\"}, \"line\": {\"color\": \"white\"}}, \"type\": \"table\"}]}, \"layout\": {\"annotationdefaults\": {\"arrowcolor\": \"#2a3f5f\", \"arrowhead\": 0, \"arrowwidth\": 1}, \"autotypenumbers\": \"strict\", \"coloraxis\": {\"colorbar\": {\"outlinewidth\": 0, \"ticks\": \"\"}}, \"colorscale\": {\"diverging\": [[0, \"#8e0152\"], [0.1, \"#c51b7d\"], [0.2, \"#de77ae\"], [0.3, \"#f1b6da\"], [0.4, \"#fde0ef\"], [0.5, \"#f7f7f7\"], [0.6, \"#e6f5d0\"], [0.7, \"#b8e186\"], [0.8, \"#7fbc41\"], [0.9, \"#4d9221\"], [1, \"#276419\"]], \"sequential\": [[0.0, \"#0d0887\"], [0.1111111111111111, \"#46039f\"], [0.2222222222222222, \"#7201a8\"], [0.3333333333333333, \"#9c179e\"], [0.4444444444444444, \"#bd3786\"], [0.5555555555555556, \"#d8576b\"], [0.6666666666666666, \"#ed7953\"], [0.7777777777777778, \"#fb9f3a\"], [0.8888888888888888, \"#fdca26\"], [1.0, \"#f0f921\"]], \"sequentialminus\": [[0.0, \"#0d0887\"], [0.1111111111111111, \"#46039f\"], [0.2222222222222222, \"#7201a8\"], [0.3333333333333333, \"#9c179e\"], [0.4444444444444444, \"#bd3786\"], [0.5555555555555556, \"#d8576b\"], [0.6666666666666666, \"#ed7953\"], [0.7777777777777778, \"#fb9f3a\"], [0.8888888888888888, \"#fdca26\"], [1.0, \"#f0f921\"]]}, \"colorway\": [\"#636efa\", \"#EF553B\", \"#00cc96\", \"#ab63fa\", \"#FFA15A\", \"#19d3f3\", \"#FF6692\", \"#B6E880\", \"#FF97FF\", \"#FECB52\"], \"font\": {\"color\": \"#2a3f5f\"}, \"geo\": {\"bgcolor\": \"white\", \"lakecolor\": \"white\", \"landcolor\": \"#E5ECF6\", \"showlakes\": true, \"showland\": true, \"subunitcolor\": \"white\"}, \"hoverlabel\": {\"align\": \"left\"}, \"hovermode\": \"closest\", \"mapbox\": {\"style\": \"light\"}, \"paper_bgcolor\": \"white\", \"plot_bgcolor\": \"#E5ECF6\", \"polar\": {\"angularaxis\": {\"gridcolor\": \"white\", \"linecolor\": \"white\", \"ticks\": \"\"}, \"bgcolor\": \"#E5ECF6\", \"radialaxis\": {\"gridcolor\": \"white\", \"linecolor\": \"white\", \"ticks\": \"\"}}, \"scene\": {\"xaxis\": {\"backgroundcolor\": \"#E5ECF6\", \"gridcolor\": \"white\", \"gridwidth\": 2, \"linecolor\": \"white\", \"showbackground\": true, \"ticks\": \"\", \"zerolinecolor\": \"white\"}, \"yaxis\": {\"backgroundcolor\": \"#E5ECF6\", \"gridcolor\": \"white\", \"gridwidth\": 2, \"linecolor\": \"white\", \"showbackground\": true, \"ticks\": \"\", \"zerolinecolor\": \"white\"}, \"zaxis\": {\"backgroundcolor\": \"#E5ECF6\", \"gridcolor\": \"white\", \"gridwidth\": 2, \"linecolor\": \"white\", \"showbackground\": true, \"ticks\": \"\", \"zerolinecolor\": \"white\"}}, \"shapedefaults\": {\"line\": {\"color\": \"#2a3f5f\"}}, \"ternary\": {\"aaxis\": {\"gridcolor\": \"white\", \"linecolor\": \"white\", \"ticks\": \"\"}, \"baxis\": {\"gridcolor\": \"white\", \"linecolor\": \"white\", \"ticks\": \"\"}, \"bgcolor\": \"#E5ECF6\", \"caxis\": {\"gridcolor\": \"white\", \"linecolor\": \"white\", \"ticks\": \"\"}}, \"title\": {\"x\": 0.05}, \"xaxis\": {\"automargin\": true, \"gridcolor\": \"white\", \"linecolor\": \"white\", \"ticks\": \"\", \"title\": {\"standoff\": 15}, \"zerolinecolor\": \"white\", \"zerolinewidth\": 2}, \"yaxis\": {\"automargin\": true, \"gridcolor\": \"white\", \"linecolor\": \"white\", \"ticks\": \"\", \"title\": {\"standoff\": 15}, \"zerolinecolor\": \"white\", \"zerolinewidth\": 2}}}, \"title\": {\"text\": \"time\", \"x\": 0.5, \"xanchor\": \"center\"}, \"xaxis\": {\"anchor\": \"y\", \"domain\": [0.0, 1.0], \"dtick\": 0.05, \"fixedrange\": true, \"gridcolor\": \"black\", \"linecolor\": \"black\", \"range\": [0, 0.4], \"showgrid\": false}, \"yaxis\": {\"anchor\": \"x\", \"autorange\": true, \"color\": \"black\", \"domain\": [0.9200000000000002, 1.0], \"fixedrange\": true, \"rangemode\": \"normal\", \"showgrid\": false, \"showline\": false, \"showticklabels\": false, \"zeroline\": false}, \"xaxis2\": {\"anchor\": \"y2\", \"domain\": [0.0, 1.0], \"fixedrange\": false, \"range\": [5612.240000000002, 168659.52000000002], \"title\": {\"text\": \"time\"}}, \"yaxis2\": {\"anchor\": \"x2\", \"domain\": [0.0, 0.7200000000000001], \"fixedrange\": true, \"title\": {\"text\": \"Probability Density\"}}}, \"_py2js_addTraces\": {}, \"_py2js_animate\": {}, \"_py2js_deleteTraces\": {}, \"_py2js_moveTraces\": {}, \"_py2js_relayout\": {}, \"_py2js_removeLayoutProps\": {}, \"_py2js_removeTraceProps\": {}, \"_py2js_restyle\": {}, \"_py2js_update\": {}, \"_view_count\": 0}, \"buffers\": [{\"encoding\": \"base64\", \"path\": [\"_data\", 1, \"y\", \"buffer\"], \"data\": \"CKg0cb5Msz4XpyRXBzO3PrZylrI5gLk+GjEbFvZRuj7eimV0Lh+7PkllgPM8ar8+vd5xie5Rwj5V1bO1ebDFPu7Gh0tQTsc+yAgL5QVeyD5hog7cgP7JPixdl7MTNM8+9QiwUDc50j5R0JS8DIbSPn/cmoM1CdM+TPRnelmJ1T7zBu4RVtHVPp5/1JphW9Y+DRTzRYz61z5DPrQ+TWLYPnMrn1N9etg+Pa8XAC/m2T5d5vZpUEHaPt+s8aiw2do+wIACQGqQ2z6joNd8O8PbPhL1STdK0Nw+2C0htyLg3D7GdkWLKwfdPm5/Ta007t0+SZ/gBSkL3j5HUjZGKkPePgqT06uO294+48sSiZzr3j6r5svAHUbfPh9iNpEbg98+TM7rK8mR3z7JNOzHgPffPvU4bhFM/N8+novcNtQF4D75ylvr0CrgPocf/5bLMOA+Txb0AS454D5JTvO+V1DgPiw1W25tVOA+zrL8CZNh4D7Gno/ge2jgPiyylbAqauA+Ui0cyPNw4D4SShWp8HDgPicGZQ28cOA+bvy/Zntl4D6OSgWhlGHgPjbi+M5vWeA+Qp70d1ZD4D7C6hdSkzzgPimB3ZM4B+A+iAVjOsz63z6xD7Mw/+HfPunBDCVTJd8+dsAfxLUC3z6UoUPOcM7ePvusrnA6G94+3JFUnd3m3T5FCf4NJu3cPkOFlSeJ3tw+PQ4h1Nye3D6F/7uWDpXbPjUsTRslTds+p69Ve/xJ2j7exlR6oNHZPjug4kIMVNk+TUWVliJL1z5NRZWWIkvXPuLV87BoQdc+ZGrX65TI1j5katfrlMjWPtF54B6BFdQ+6oHmg5qt0z7Qw/sH6RnSPr38QDYfKNE+5AXY3m5Vzj4RCvHLB8rNPpHw7huZsc0+8ArjV2c9yz4HpFVfqOXKPm5AJDh0O8o+ImBVp+VByj5AjNUlu8/LPnd/jDQ+Ts8+o55JkbI60T5SaHEFoR/SPuys6l/1YtI+Nm6I9FL/1D5ezh1FCyLVPmnxSw5uKtY+ztq+fnDw1z4zHvbPAwnYPj88OoevkNg+oYrL58cV2j6yW2k4smTaPodFq5YQqdo+TMCIiaPi2z494xh1uBfcPjq4x4N99tw+2X9WCNNN3T4sGTWyoordPpBg2uYRlN4+rjoSDZy+3j4pkX/KzsDePmXAOTViqN8+LCgFWzW+3z4fCbORIgPgPlZHTQmqMeA+4bW1xzg74D63f3NrnmjgPvyEb0DDcOA+TPLo3EB24D67BGeWuJHgPu0DPgUuk+A+17CIY5eW4D4Ahx3L5ZngPnwEXqZpmeA+SuSqSEOP4D4tHM9ryongPuDn/9lch+A+pp9VcwVg4D7zxJ0D21rgPgA3X9eLT+A+/EKkPm0Y4D4o50VOIw/gPpWyjPROn98+DQmj/5tP3z56aux/mkHfPm/4a3SGMd4+m2YnWlYV3j60bsokkwvePr+qmmStlNw+a01V/JmK3D7eku0U/NTbPv+XpVHzrdo+d9dFIaOg2j4MDDTanPvYPqDipwyDadg+lHhxSrRe2D6VB0p5osrVPjW5DPNhxdU+n9q8Cw+X1T60APfeMIzSPgJkGofgf9I+Ived6A3Z0T4ixOgpkg7MPg==\"}, {\"encoding\": \"base64\", \"path\": [\"_data\", 4, \"y\", \"buffer\"], \"data\": \"cgg+D8dgtD4HITII54O4Pt0xfPrD8bo+urAN1ATOuz4XebIw0aS8Pvkwu9d8isA+IYaEeDguwz7BP9R0sITGPo4bsxCBGsg+naIGfPAjyT79m0JDkrnKPqTTAsRnxc8+RQjLP7Bp0j67ygoBpLPSPmmMkLnZMdM+vD4DfK6Z1T4inseR9t7VPj0lGJjdY9Y+KOwhLCH01z7vgRYOWljYPu2wnBO7b9g+jRuO9BrQ2T4GU+nAtSjaPnETrt06vdo+EjqBzhNw2z6Jzp++/aHbPpbPZmTsq9w+gKCOmrC73D4jzHPAluLcPpvFCGTsyt0+rPFYolno3T4KZVkAgyHePgkgjTcCv94+ebs4u8zP3j7ElVBSVi/fPk6L1eqwcN8+csOCjY2A3z6iNvDcHvDfPhupyfd09d8+A6qzr00D4D7pfnHPMi3gPrDs8C0TNOA+J5QpQsY94D4bU9y0AFngPrbvbezkXeA+g1xj1/Zt4D6j2ZjYyHbgPueTAi0EeeA+XrSshO2D4D4g5Zn9LITgPrjk5id3hOA+IRjbnOx84D64RVuBn3ngPraX9vd4cuA+dmZENzpe4D64EKtQ5lfgPjFDWzX9JOA+B2HmGoAb4D4weNfefA/gPmLpH7GdZt8+3HoXKZZE3z4D3EAqHhHfPmR5fhsQYN4+nXt0SzIs3j6xZRjuPzTdPp81sxO3Jd0+DtDLFlvm3D7TepWxcd3bPpP6KtGslds+EPwuRb6S2j6nWUE8WhraPjihoWyonNk+0m5iFnWS1z7SbmIWdZLXPugtAhGyiNc+1gQgMWQP1z7WBCAxZA/XPiAftPBXWNQ+MK5DBKbv0z7IvUrIRFjSPook/Aq0Y9E+YWsUYzG8zj7ei6catS3OPgMsnJOzFM4+X56Lk2GLyz6TnNFSfC7LPvnd2ZiqZMo++ZSfLMJoyj49bgbwgcvLPo9Z6CkZFs8+l9KaSMQL0T6I9/9f9ObRPpT/THmGJ9I+tCfMAOqq1D6AzDDKdMzUPs43gDpJzNU+o27szHmF1z5E/Qq2bp3XPjQ+oTfXIdg+mxOYpSyf2T5UALjf1uzZPiSALxM5MNo+gY+PCZJm2z4h9HNTVpvbPgezHm+fedw+Cj7LwCvR3D68ED9aRw7dPnq+mamYGt4+F6LsX91F3j4p3MpQGkjePnbWuJ4xNd8+1oEZZK9L3z6y0AFXJpbfPh0KnTPQ9t8+JwmAm18F4D6vl60r7zTgPnAX7I2DPeA+VWyjN09D4D5EFJyBimDgPiLaCUgeYuA+GX0hTNdl4D6ZL7zB22ngPks9U8RyaeA+eVmlCZxf4D4YzOYfLVrgPgmMmQjCV+A+lwNVrmYw4D7rocuxOivgPkoabgDpH+A+NhvbY7DR3z6VGH2zKr/fPi6Sg0zbQN8+1yXktMvx3j5rbssI6+PePifmxPkd190+8GuzM1e73T4qdoklubHdPv7jAUU4Qdw+oAZ0XlU33D6pueZ+PoXbPj6F5XdGZNo+LVWAGT5X2j5rqJ3OP7vYPnCSHVJQLNg+MTQzfb0h2D6TpaRrw5vVPsq9ce6eltU+7x71r0Jp1T5yCCGTzW3SPhN+MA+4YdI+z9WkHva90T4wcsJ1UfjLPg==\"}]}, \"f693cd3888ac4aada56aca6d31ff2b52\": {\"model_name\": \"FigureModel\", \"model_module\": \"jupyterlab-plotly\", \"model_module_version\": \"^5.5.0\", \"state\": {\"_config\": {\"plotlyServerURL\": \"https://plot.ly\"}, \"_data\": [{\"base\": 0, \"marker\": {\"color\": \"#01B8AA\"}, \"offsetgroup\": \"0\", \"orientation\": \"h\", \"showlegend\": false, \"x\": [0.0028441262389281665], \"xaxis\": \"x\", \"y\": [\"Drift Score\"], \"yaxis\": \"y\", \"type\": \"bar\", \"uid\": \"2122b53a-f9a1-4fe7-a19c-c02f4f38eb1c\"}, {\"fill\": \"tozeroy\", \"line\": {\"color\": \"#00008b\", \"shape\": \"spline\"}, \"name\": \"Train Dataset\", \"x\": [-4.79747346479757, -4.4614188076422705, -4.125364150486972, -3.7893094933316718, -3.453254836176373, -3.117200179021073, -2.7811455218657737, -2.4450908647104743, -2.109036207555175, -1.87926038250158, -1.8711025449249248, -1.7729815503998756, -1.65598448011237, -1.6432160816377728, -1.5040086806421797, -1.4966568016834227, -1.4369268932445762, -1.3889420434535795, -1.382150646964106, -1.293344636657084, -1.2845078939192038, -1.208628899184492, -1.1890277794263044, -1.131400312584915, -1.1131199138578087, -1.1008722360892769, -1.0582849638342016, -1.0392160679892102, -0.9871269530396063, -0.9723750502887031, -0.9222392445255296, -0.9074048500202, -0.8596563171291384, -0.8434026697042136, -0.7965211671460924, -0.7838026987308223, -0.7648175789339771, -0.7367026574590574, -0.7248325218597215, -0.6744531316294082, -0.6641850479768562, -0.6148555540739067, -0.6029681595279744, -0.554120578494638, -0.5444373753586766, -0.496220223955963, -0.48896389706126686, -0.4368609734212416, -0.42876292177867814, -0.42803571473516844, -0.3769855756204462, -0.3660455030216224, -0.31764690656834577, -0.30642949444805634, -0.2568029659469807, -0.24809383535126714, -0.20362423811273703, -0.19376260935893308, -0.14940426708674867, -0.13943020254493851, -0.09347271582207005, -0.09270826462337833, -0.07972028855770284, -0.0350012347524738, -0.0350012347524738, -0.0213762598114498, -0.0213762598114498, -0.0025843569301819474, 0.00919927546676077, 0.022162572283585952, 0.03485864522266327, 0.08276020990485287, 0.093288714073468, 0.14235126413265956, 0.15475817632453473, 0.20322968012979828, 0.21715583411397693, 0.24334639253192059, 0.26635803884211534, 0.27732215918942293, 0.329650883701029, 0.3344481091333621, 0.3917469535179007, 0.3955273281722176, 0.4509490917917148, 0.4568117989821726, 0.5145584863794523, 0.5197526823168402, 0.578527315779678, 0.5794010496872204, 0.5844704059794585, 0.6423238887801909, 0.6490367106398773, 0.7088987161216822, 0.7141902611136413, 0.7740851645871571, 0.7796359157627858, 0.839953084419877, 0.8540598593906673, 0.911571210579334, 0.9154557068425202, 0.9246758936434113, 0.9870065274758109, 0.9964230020031564, 1.06295276439626, 1.0706795271478717, 1.1426848191593955, 1.1498724083150156, 1.227211281997768, 1.23440779960918, 1.2515103639978191, 1.3172766098803692, 1.3233380814908149, 1.4170443713940597, 1.4258983950477835, 1.5428043000058496, 1.5517046022053993, 1.587565021153119, 1.694340343196573, 1.7096639927582316, 1.9236196783084178, 1.9501730428593729, 1.9904597259762065, 2.2596743354637177, 2.5957289926190166, 2.9317836497743164, 3.267838306929616, 3.603892964084916, 3.939947621240214, 4.276002278395514, 4.612056935550814, 4.9481115927061134, 5.2841662498614115, 5.620220907016711, 5.956275564172011, 6.292330221327311, 6.628384878482611, 6.964439535637909, 7.3004941927932085, 7.636548849948508, 7.972603507103808, 8.308658164259107, 8.644712821414405, 8.980767478569707, 9.316822135725005, 9.652876792880306, 9.988931450035604, 10.324986107190902, 10.661040764346204, 10.997095421501502, 11.333150078656804, 11.6692047358121], \"xaxis\": \"x2\", \"y\": {\"dtype\": \"float64\", \"shape\": [152]}, \"yaxis\": \"y2\", \"type\": \"scatter\", \"uid\": \"3c39d978-cc76-42fc-a131-23c99236ae50\"}, {\"line\": {\"color\": \"#00008b\", \"dash\": \"dash\"}, \"mode\": \"lines+markers\", \"name\": \"Train Mean\", \"x\": [-0.0025843569301819474, -0.0025843569301819474], \"xaxis\": \"x2\", \"y\": [0, 0.33878719265172463], \"yaxis\": \"y2\", \"type\": \"scatter\", \"uid\": \"8af2efb0-820c-45a3-9c2d-6afe161e76b3\"}, {\"line\": {\"color\": \"#00008b\"}, \"mode\": \"lines\", \"name\": \"Train Median\", \"x\": [-0.0350012347524738, -0.0350012347524738], \"xaxis\": \"x2\", \"y\": [0, 0.3399073127398253], \"yaxis\": \"y2\", \"type\": \"scatter\", \"uid\": \"bad85540-a18d-40c3-ae05-f124528f3860\"}, {\"fill\": \"tozeroy\", \"line\": {\"color\": \"#69b3a2\", \"shape\": \"spline\"}, \"name\": \"Test Dataset\", \"x\": [-4.79747346479757, -4.4614188076422705, -4.125364150486972, -3.7893094933316718, -3.453254836176373, -3.117200179021073, -2.7811455218657737, -2.4450908647104743, -2.109036207555175, -1.87926038250158, -1.8711025449249248, -1.7729815503998756, -1.65598448011237, -1.6432160816377728, -1.5040086806421797, -1.4966568016834227, -1.4369268932445762, -1.3889420434535795, -1.382150646964106, -1.293344636657084, -1.2845078939192038, -1.208628899184492, -1.1890277794263044, -1.131400312584915, -1.1131199138578087, -1.1008722360892769, -1.0582849638342016, -1.0392160679892102, -0.9871269530396063, -0.9723750502887031, -0.9222392445255296, -0.9074048500202, -0.8596563171291384, -0.8434026697042136, -0.7965211671460924, -0.7838026987308223, -0.7648175789339771, -0.7367026574590574, -0.7248325218597215, -0.6744531316294082, -0.6641850479768562, -0.6148555540739067, -0.6029681595279744, -0.554120578494638, -0.5444373753586766, -0.496220223955963, -0.48896389706126686, -0.4368609734212416, -0.42876292177867814, -0.42803571473516844, -0.3769855756204462, -0.3660455030216224, -0.31764690656834577, -0.30642949444805634, -0.2568029659469807, -0.24809383535126714, -0.20362423811273703, -0.19376260935893308, -0.14940426708674867, -0.13943020254493851, -0.09347271582207005, -0.09270826462337833, -0.07972028855770284, -0.0350012347524738, -0.0350012347524738, -0.0213762598114498, -0.0213762598114498, -0.0025843569301819474, 0.00919927546676077, 0.022162572283585952, 0.03485864522266327, 0.08276020990485287, 0.093288714073468, 0.14235126413265956, 0.15475817632453473, 0.20322968012979828, 0.21715583411397693, 0.24334639253192059, 0.26635803884211534, 0.27732215918942293, 0.329650883701029, 0.3344481091333621, 0.3917469535179007, 0.3955273281722176, 0.4509490917917148, 0.4568117989821726, 0.5145584863794523, 0.5197526823168402, 0.578527315779678, 0.5794010496872204, 0.5844704059794585, 0.6423238887801909, 0.6490367106398773, 0.7088987161216822, 0.7141902611136413, 0.7740851645871571, 0.7796359157627858, 0.839953084419877, 0.8540598593906673, 0.911571210579334, 0.9154557068425202, 0.9246758936434113, 0.9870065274758109, 0.9964230020031564, 1.06295276439626, 1.0706795271478717, 1.1426848191593955, 1.1498724083150156, 1.227211281997768, 1.23440779960918, 1.2515103639978191, 1.3172766098803692, 1.3233380814908149, 1.4170443713940597, 1.4258983950477835, 1.5428043000058496, 1.5517046022053993, 1.587565021153119, 1.694340343196573, 1.7096639927582316, 1.9236196783084178, 1.9501730428593729, 1.9904597259762065, 2.2596743354637177, 2.5957289926190166, 2.9317836497743164, 3.267838306929616, 3.603892964084916, 3.939947621240214, 4.276002278395514, 4.612056935550814, 4.9481115927061134, 5.2841662498614115, 5.620220907016711, 5.956275564172011, 6.292330221327311, 6.628384878482611, 6.964439535637909, 7.3004941927932085, 7.636548849948508, 7.972603507103808, 8.308658164259107, 8.644712821414405, 8.980767478569707, 9.316822135725005, 9.652876792880306, 9.988931450035604, 10.324986107190902, 10.661040764346204, 10.997095421501502, 11.333150078656804, 11.6692047358121], \"xaxis\": \"x2\", \"y\": {\"dtype\": \"float64\", \"shape\": [152]}, \"yaxis\": \"y2\", \"type\": \"scatter\", \"uid\": \"2c709222-f423-478b-a1d4-f903b1974ac9\"}, {\"line\": {\"color\": \"#69b3a2\", \"dash\": \"dash\"}, \"mode\": \"lines+markers\", \"name\": \"Test Mean\", \"x\": [0.00919927546676077, 0.00919927546676077], \"xaxis\": \"x2\", \"y\": [0, 0.33957901667994594], \"yaxis\": \"y2\", \"type\": \"scatter\", \"uid\": \"f5a021d4-ebf8-4551-a853-b6a5ec51225d\"}, {\"line\": {\"color\": \"#69b3a2\"}, \"mode\": \"lines\", \"name\": \"Test Median\", \"x\": [-0.0213762598114498, -0.0213762598114498], \"xaxis\": \"x2\", \"y\": [0, 0.34034116870573694], \"yaxis\": \"y2\", \"type\": \"scatter\", \"uid\": \"985a0436-4888-4535-8a24-c771a99edbe4\"}], \"_dom_classes\": [], \"_js2py_layoutDelta\": {}, \"_js2py_pointsCallback\": {}, \"_js2py_relayout\": {}, \"_js2py_restyle\": {}, \"_js2py_traceDeltas\": {}, \"_js2py_update\": {}, \"_layout\": {\"annotations\": [{\"font\": {\"size\": 16}, \"showarrow\": false, \"text\": \"Drift Score (Earth Mover's Distance)\", \"x\": 0.5, \"xanchor\": \"center\", \"xref\": \"paper\", \"y\": 1.0000000000000002, \"yanchor\": \"bottom\", \"yref\": \"paper\"}, {\"font\": {\"size\": 16}, \"showarrow\": false, \"text\": \"Distribution Plot\", \"x\": 0.5, \"xanchor\": \"center\", \"xref\": \"paper\", \"y\": 0.7200000000000001, \"yanchor\": \"bottom\", \"yref\": \"paper\"}], \"bargroupgap\": 0, \"height\": 400, \"legend\": {\"title\": {\"text\": \"Legend\"}, \"y\": 0.6, \"yanchor\": \"top\"}, \"template\": {\"data\": {\"barpolar\": [{\"marker\": {\"line\": {\"color\": \"#E5ECF6\", \"width\": 0.5}, \"pattern\": {\"fillmode\": \"overlay\", \"size\": 10, \"solidity\": 0.2}}, \"type\": \"barpolar\"}], \"bar\": [{\"error_x\": {\"color\": \"#2a3f5f\"}, \"error_y\": {\"color\": \"#2a3f5f\"}, \"marker\": {\"line\": {\"color\": \"#E5ECF6\", \"width\": 0.5}, \"pattern\": {\"fillmode\": \"overlay\", \"size\": 10, \"solidity\": 0.2}}, \"type\": \"bar\"}], \"carpet\": [{\"aaxis\": {\"endlinecolor\": \"#2a3f5f\", \"gridcolor\": \"white\", \"linecolor\": \"white\", \"minorgridcolor\": \"white\", \"startlinecolor\": \"#2a3f5f\"}, \"baxis\": {\"endlinecolor\": \"#2a3f5f\", \"gridcolor\": \"white\", \"linecolor\": \"white\", \"minorgridcolor\": \"white\", \"startlinecolor\": \"#2a3f5f\"}, \"type\": \"carpet\"}], \"choropleth\": [{\"colorbar\": {\"outlinewidth\": 0, \"ticks\": \"\"}, \"type\": \"choropleth\"}], \"contourcarpet\": [{\"colorbar\": {\"outlinewidth\": 0, \"ticks\": \"\"}, \"type\": \"contourcarpet\"}], \"contour\": [{\"colorbar\": {\"outlinewidth\": 0, \"ticks\": \"\"}, \"colorscale\": [[0.0, \"#0d0887\"], [0.1111111111111111, \"#46039f\"], [0.2222222222222222, \"#7201a8\"], [0.3333333333333333, \"#9c179e\"], [0.4444444444444444, \"#bd3786\"], [0.5555555555555556, \"#d8576b\"], [0.6666666666666666, \"#ed7953\"], [0.7777777777777778, \"#fb9f3a\"], [0.8888888888888888, \"#fdca26\"], [1.0, \"#f0f921\"]], \"type\": \"contour\"}], \"heatmapgl\": [{\"colorbar\": {\"outlinewidth\": 0, \"ticks\": \"\"}, \"colorscale\": [[0.0, \"#0d0887\"], [0.1111111111111111, \"#46039f\"], [0.2222222222222222, \"#7201a8\"], [0.3333333333333333, \"#9c179e\"], [0.4444444444444444, \"#bd3786\"], [0.5555555555555556, \"#d8576b\"], [0.6666666666666666, \"#ed7953\"], [0.7777777777777778, \"#fb9f3a\"], [0.8888888888888888, \"#fdca26\"], [1.0, \"#f0f921\"]], \"type\": \"heatmapgl\"}], \"heatmap\": [{\"colorbar\": {\"outlinewidth\": 0, \"ticks\": \"\"}, \"colorscale\": [[0.0, \"#0d0887\"], [0.1111111111111111, \"#46039f\"], [0.2222222222222222, \"#7201a8\"], [0.3333333333333333, \"#9c179e\"], [0.4444444444444444, \"#bd3786\"], [0.5555555555555556, \"#d8576b\"], [0.6666666666666666, \"#ed7953\"], [0.7777777777777778, \"#fb9f3a\"], [0.8888888888888888, \"#fdca26\"], [1.0, \"#f0f921\"]], \"type\": \"heatmap\"}], \"histogram2dcontour\": [{\"colorbar\": {\"outlinewidth\": 0, \"ticks\": \"\"}, \"colorscale\": [[0.0, \"#0d0887\"], [0.1111111111111111, \"#46039f\"], [0.2222222222222222, \"#7201a8\"], [0.3333333333333333, \"#9c179e\"], [0.4444444444444444, \"#bd3786\"], [0.5555555555555556, \"#d8576b\"], [0.6666666666666666, \"#ed7953\"], [0.7777777777777778, \"#fb9f3a\"], [0.8888888888888888, \"#fdca26\"], [1.0, \"#f0f921\"]], \"type\": \"histogram2dcontour\"}], \"histogram2d\": [{\"colorbar\": {\"outlinewidth\": 0, \"ticks\": \"\"}, \"colorscale\": [[0.0, \"#0d0887\"], [0.1111111111111111, \"#46039f\"], [0.2222222222222222, \"#7201a8\"], [0.3333333333333333, \"#9c179e\"], [0.4444444444444444, \"#bd3786\"], [0.5555555555555556, \"#d8576b\"], [0.6666666666666666, \"#ed7953\"], [0.7777777777777778, \"#fb9f3a\"], [0.8888888888888888, \"#fdca26\"], [1.0, \"#f0f921\"]], \"type\": \"histogram2d\"}], \"histogram\": [{\"marker\": {\"pattern\": {\"fillmode\": \"overlay\", \"size\": 10, \"solidity\": 0.2}}, \"type\": \"histogram\"}], \"mesh3d\": [{\"colorbar\": {\"outlinewidth\": 0, \"ticks\": \"\"}, \"type\": \"mesh3d\"}], \"parcoords\": [{\"line\": {\"colorbar\": {\"outlinewidth\": 0, \"ticks\": \"\"}}, \"type\": \"parcoords\"}], \"pie\": [{\"automargin\": true, \"type\": \"pie\"}], \"scatter3d\": [{\"line\": {\"colorbar\": {\"outlinewidth\": 0, \"ticks\": \"\"}}, \"marker\": {\"colorbar\": {\"outlinewidth\": 0, \"ticks\": \"\"}}, \"type\": \"scatter3d\"}], \"scattercarpet\": [{\"marker\": {\"colorbar\": {\"outlinewidth\": 0, \"ticks\": \"\"}}, \"type\": \"scattercarpet\"}], \"scattergeo\": [{\"marker\": {\"colorbar\": {\"outlinewidth\": 0, \"ticks\": \"\"}}, \"type\": \"scattergeo\"}], \"scattergl\": [{\"marker\": {\"colorbar\": {\"outlinewidth\": 0, \"ticks\": \"\"}}, \"type\": \"scattergl\"}], \"scattermapbox\": [{\"marker\": {\"colorbar\": {\"outlinewidth\": 0, \"ticks\": \"\"}}, \"type\": \"scattermapbox\"}], \"scatterpolargl\": [{\"marker\": {\"colorbar\": {\"outlinewidth\": 0, \"ticks\": \"\"}}, \"type\": \"scatterpolargl\"}], \"scatterpolar\": [{\"marker\": {\"colorbar\": {\"outlinewidth\": 0, \"ticks\": \"\"}}, \"type\": \"scatterpolar\"}], \"scatter\": [{\"marker\": {\"colorbar\": {\"outlinewidth\": 0, \"ticks\": \"\"}}, \"type\": \"scatter\"}], \"scatterternary\": [{\"marker\": {\"colorbar\": {\"outlinewidth\": 0, \"ticks\": \"\"}}, \"type\": \"scatterternary\"}], \"surface\": [{\"colorbar\": {\"outlinewidth\": 0, \"ticks\": \"\"}, \"colorscale\": [[0.0, \"#0d0887\"], [0.1111111111111111, \"#46039f\"], [0.2222222222222222, \"#7201a8\"], [0.3333333333333333, \"#9c179e\"], [0.4444444444444444, \"#bd3786\"], [0.5555555555555556, \"#d8576b\"], [0.6666666666666666, \"#ed7953\"], [0.7777777777777778, \"#fb9f3a\"], [0.8888888888888888, \"#fdca26\"], [1.0, \"#f0f921\"]], \"type\": \"surface\"}], \"table\": [{\"cells\": {\"fill\": {\"color\": \"#EBF0F8\"}, \"line\": {\"color\": \"white\"}}, \"header\": {\"fill\": {\"color\": \"#C8D4E3\"}, \"line\": {\"color\": \"white\"}}, \"type\": \"table\"}]}, \"layout\": {\"annotationdefaults\": {\"arrowcolor\": \"#2a3f5f\", \"arrowhead\": 0, \"arrowwidth\": 1}, \"autotypenumbers\": \"strict\", \"coloraxis\": {\"colorbar\": {\"outlinewidth\": 0, \"ticks\": \"\"}}, \"colorscale\": {\"diverging\": [[0, \"#8e0152\"], [0.1, \"#c51b7d\"], [0.2, \"#de77ae\"], [0.3, \"#f1b6da\"], [0.4, \"#fde0ef\"], [0.5, \"#f7f7f7\"], [0.6, \"#e6f5d0\"], [0.7, \"#b8e186\"], [0.8, \"#7fbc41\"], [0.9, \"#4d9221\"], [1, \"#276419\"]], \"sequential\": [[0.0, \"#0d0887\"], [0.1111111111111111, \"#46039f\"], [0.2222222222222222, \"#7201a8\"], [0.3333333333333333, \"#9c179e\"], [0.4444444444444444, \"#bd3786\"], [0.5555555555555556, \"#d8576b\"], [0.6666666666666666, \"#ed7953\"], [0.7777777777777778, \"#fb9f3a\"], [0.8888888888888888, \"#fdca26\"], [1.0, \"#f0f921\"]], \"sequentialminus\": [[0.0, \"#0d0887\"], [0.1111111111111111, \"#46039f\"], [0.2222222222222222, \"#7201a8\"], [0.3333333333333333, \"#9c179e\"], [0.4444444444444444, \"#bd3786\"], [0.5555555555555556, \"#d8576b\"], [0.6666666666666666, \"#ed7953\"], [0.7777777777777778, \"#fb9f3a\"], [0.8888888888888888, \"#fdca26\"], [1.0, \"#f0f921\"]]}, \"colorway\": [\"#636efa\", \"#EF553B\", \"#00cc96\", \"#ab63fa\", \"#FFA15A\", \"#19d3f3\", \"#FF6692\", \"#B6E880\", \"#FF97FF\", \"#FECB52\"], \"font\": {\"color\": \"#2a3f5f\"}, \"geo\": {\"bgcolor\": \"white\", \"lakecolor\": \"white\", \"landcolor\": \"#E5ECF6\", \"showlakes\": true, \"showland\": true, \"subunitcolor\": \"white\"}, \"hoverlabel\": {\"align\": \"left\"}, \"hovermode\": \"closest\", \"mapbox\": {\"style\": \"light\"}, \"paper_bgcolor\": \"white\", \"plot_bgcolor\": \"#E5ECF6\", \"polar\": {\"angularaxis\": {\"gridcolor\": \"white\", \"linecolor\": \"white\", \"ticks\": \"\"}, \"bgcolor\": \"#E5ECF6\", \"radialaxis\": {\"gridcolor\": \"white\", \"linecolor\": \"white\", \"ticks\": \"\"}}, \"scene\": {\"xaxis\": {\"backgroundcolor\": \"#E5ECF6\", \"gridcolor\": \"white\", \"gridwidth\": 2, \"linecolor\": \"white\", \"showbackground\": true, \"ticks\": \"\", \"zerolinecolor\": \"white\"}, \"yaxis\": {\"backgroundcolor\": \"#E5ECF6\", \"gridcolor\": \"white\", \"gridwidth\": 2, \"linecolor\": \"white\", \"showbackground\": true, \"ticks\": \"\", \"zerolinecolor\": \"white\"}, \"zaxis\": {\"backgroundcolor\": \"#E5ECF6\", \"gridcolor\": \"white\", \"gridwidth\": 2, \"linecolor\": \"white\", \"showbackground\": true, \"ticks\": \"\", \"zerolinecolor\": \"white\"}}, \"shapedefaults\": {\"line\": {\"color\": \"#2a3f5f\"}}, \"ternary\": {\"aaxis\": {\"gridcolor\": \"white\", \"linecolor\": \"white\", \"ticks\": \"\"}, \"baxis\": {\"gridcolor\": \"white\", \"linecolor\": \"white\", \"ticks\": \"\"}, \"bgcolor\": \"#E5ECF6\", \"caxis\": {\"gridcolor\": \"white\", \"linecolor\": \"white\", \"ticks\": \"\"}}, \"title\": {\"x\": 0.05}, \"xaxis\": {\"automargin\": true, \"gridcolor\": \"white\", \"linecolor\": \"white\", \"ticks\": \"\", \"title\": {\"standoff\": 15}, \"zerolinecolor\": \"white\", \"zerolinewidth\": 2}, \"yaxis\": {\"automargin\": true, \"gridcolor\": \"white\", \"linecolor\": \"white\", \"ticks\": \"\", \"title\": {\"standoff\": 15}, \"zerolinecolor\": \"white\", \"zerolinewidth\": 2}}}, \"title\": {\"text\": \"v11\", \"x\": 0.5, \"xanchor\": \"center\"}, \"xaxis\": {\"anchor\": \"y\", \"domain\": [0.0, 1.0], \"dtick\": 0.05, \"fixedrange\": true, \"gridcolor\": \"black\", \"linecolor\": \"black\", \"range\": [0, 0.4], \"showgrid\": false}, \"yaxis\": {\"anchor\": \"x\", \"autorange\": true, \"color\": \"black\", \"domain\": [0.9200000000000002, 1.0], \"fixedrange\": true, \"rangemode\": \"normal\", \"showgrid\": false, \"showline\": false, \"showticklabels\": false, \"zeroline\": false}, \"xaxis2\": {\"anchor\": \"y2\", \"domain\": [0.0, 1.0], \"fixedrange\": false, \"range\": [-1.87926038250158, 1.9904597259762065], \"title\": {\"text\": \"v11\"}}, \"yaxis2\": {\"anchor\": \"x2\", \"domain\": [0.0, 0.7200000000000001], \"fixedrange\": true, \"title\": {\"text\": \"Probability Density\"}}}, \"_py2js_addTraces\": {}, \"_py2js_animate\": {}, \"_py2js_deleteTraces\": {}, \"_py2js_moveTraces\": {}, \"_py2js_relayout\": {}, \"_py2js_removeLayoutProps\": {}, \"_py2js_removeTraceProps\": {}, \"_py2js_restyle\": {}, \"_py2js_update\": {}, \"_view_count\": 0}, \"buffers\": [{\"encoding\": \"base64\", \"path\": [\"_data\", 1, \"y\", \"buffer\"], \"data\": \"ECKW4j4LBz/wYJCjKRgPP8A6b/RFZxg/afdRz+z5JT/ym0jSHvQ2P8/ZHAlcklM/nj49TwmQcj9rVL6KoIaOP9+1ThFoF6U/Ip3NmeYssz9VVEAHy42zP+8Xxconfrg/jsn5pINAvz+XV4jtJQXAP/01HbiZjsQ/cwWq0UDOxD9w+QW4fNfGP9hfi4jre8g/E/lrwEi3yD9CAHu/0LTLP4gWNY1b/8s/GXdycvNszj9dPTPEIgfPP9DYM8gPXdA/tfghzO+e0D+MYZ6eLMrQP5sBdy6oWtE/jPQ0zkmY0T8Wt00JkjbSP+ryQMSoYNI/n3z4D4nm0j8tK+/3bQvTP/cYmnbbedM/B8TBZ5mc0z8C1mTIAfnTP7Kw9qolENQ/mSOV/zgx1D9Oi4MhGl/UPyiSVkNocdQ//DtQaJC41D9dFu8n2sXUP+71Vu+LANU/wRjhSoIN1T+7jiY1ej7VP85OczZrR9U/SMqUBH9w1T/YvrmaM3bVPy3bQVamm9U/mnYn9uqg1T92W50xYqHVP42w4E3+vtU/blwIVoXE1T80ToN9P9nVP7NgiD8j3dU/Vh5J0uDp1T9gRwjuU+vVPxW2sUrf7tU/HmgSyMPu1T/jrQfRNOrVP+roORNE6NU/P4+mhBrb1T8Nmq7h09rVP/4dp7vd1dU//+H4mQrB1T//4fiZCsHVP9Wc4GmiudU/1ZzgaaK51T8uii96sK7VPwZobxZtp9U/kw5rnRuf1T/GHitBp5bVP9b52Xt0dNU/N5YOIIps1T/gu+qrV0bVP1AG4/RtPNU/Um9SrSEV1T/fNLDJugnVP/gdcRsz9NQ/SR6tqTLh1D/I0uz/HNjUP+4fF7JVrNQ/ZOmHrkWo1D+LMCq0q3bUP6nljO1Oc9Q/mU2mdy1A1D9zwrUIiDrUPxX8CZvO/9M/Dh4yzTb60z9unP4NtrbTPyItDx2ltdM/32Cxqmuv0z/0WUZugWPTP2qj+gAXWtM/UuNCYTUA0z+hsf5XvffSPzVuHMDKkdI/oJc6z8WH0j8aq3evmRTSPzyooBf/99E/YpdSJdJ80T9arUrLHnTRP1fINmVGX9E/WTLQ3CjL0D8KrPUGr7PQPx5Tf4pwBdA/SvqskHrgzz/c46w2t0HOP1X+DPpaFs4/9UUPcXEtzD/HN1J65/3LPzGFGSSTi8s/oq3B7AnDyT+J9hbisZfJP62tlHL04sY/Xj9JPaefxj8uDpkx/hbDP3JsAQCg0cI/yC7Usry6wT+5q+w8PBy9P9tyQnNuOrw/SfjrbRFJsT8YR3riiiewP9/5c8lIGa0/HZhvGTibnD/Pz+4lVwSKPzJFqZqGanY/V7dVpsfMYT+Qt2vPpKZSP6VMN61upkI/maINMo2PPT9rTaO8NjY3P17Z/1gHZCs/TMY1bWkYJD+uUtOy17EkP+c/0HRfLSE/ZFL6qkbHHz/Wk8AJ81sbPw5CdKMnrCE/yZk1ViMOIT8PirG2/CwXP3T5j28RLws/g1O1FT/zBz/r3K4/h30QP8Ks59DKgxE/DbfcF6H2CT80M5uGnyYFP2VZ2UG+l/A+8EphK64O8D5xF0VT4O/zPq7xSG5zjv8+BFgBXCDK9D6oviU7fS3GPg==\"}, {\"encoding\": \"base64\", \"path\": [\"_data\", 4, \"y\", \"buffer\"], \"data\": \"XlWkBOGnqD4Xcy1T7MzmPgScS15NnAE/QWtLnYDbGj/and7IyXg8Pw651DX911U/5QEDR4oMcT/aSiCR9dOLPy3BBonFhKQ/qObyhvftsj/ibt728U2zPydmR4yPKLg/bcZQXAizvj8nE8P/snS/P4zo2V49D8Q/Rh5VtPlLxD+3QeYP2T7GP6rxZPCf1Mc/JQxj8kMOyD+0vya8CQDLP+X8qqSpSss/zkNf4ULDzT/eL+kPP2POPwF40PDGFtA/cRaAGDJd0D8G49IlqovQP35B8ApPKNE/NycIHbhr0T8UyKLHLBrSPzhDu5PQSNI/gBdhz4Dd0j+HOQ4lfAbTPw6mGv7GgNM/GewW1win0z+WQ0703wvUPxhaEUvXJNQ/vgeGhUNI1D+0LNgvyHjUPxnAQSrni9Q/q62PYp7U1D+TQBoq3eHUP96BbYHTGtU/KaQNZAcn1T8rihupvVPVP1SAb0aoW9U/3r8GYQZ/1T/HSNZnz4PVP5FkBS2HotU/qWzXysOm1T+MvD14I6fVP7I8IYKxvtU/KBE2aBHD1T/hSJH1ltPVP8csnwDA1tU/r1um9pXh1T/OO3vr8OLVPyWfce4y59U/gybwcIbn1T9Bj6pRJObVP9TSdsku5dU/TwbCE7Ld1T/Tbqdjh93VP1iNtP182tU/SRsAoBjN1T9JGwCgGM3VPzC1RFMmyNU/MLVEUybI1T+GKUJcssDVP9AVw6Cpu9U/9SP8idC11T8NJGpGyK/VPyd4Uvp5ltU/Eir4U2iQ1T9BWDjr6nHVP3uwTGqoadU/bgc3Q1xH1T/V7ZmR6jzVPwuNRG6OKNU/2acUReEV1T9nr2lJtwzVP1gsfQmD3tQ/zKdlaRDa1D/HrNObAaLUP8mW+GUcntQ/5r/PThBi1D+v7ez/YVvUPx22328fFtQ/oGg9L5UP1D9ZwQ89/MHTP1zeNirIwNM/baWhW8W50z+Y6mJ8RWbTPzACcJIqXNM/idymEin+0j/OzPcOgvXSP9UlRhuAj9I/FtXjXqeF0j/CEcAW/hXSP7u8c8WR+tE/QxKnmBGF0T890+wUyHzRPxTnBGPsaNE/3eFw91bb0D+qgdlZxsTQPxYuXz/TG9A/4rMGpBQH0D9lMQS9GHTOPzE/c2/RSM4/mSvMB5lczD9yujbOZSzMP9JAIqdKuMs/5laMzcDmyT/qC8Isc7rJP+FEN9fo9cY/JJ2OJyKxxj/mY6iMlBjDP0ql47pm0sI/M6Z5w/24wT9FBgaObBm9Pw3b57iyObw/Zedv7VyJsT/Gi1x6qHGwP6pSDnLEya0/wq6JS7aZnj8IS3EaFTCMP2cmd4ScuHc/WCCsufpsZD+/2wF9rCBWP+7F0B4c2EI/RC/Ozo25PD/nM763PqQ4P5TsrSwD0y4/ra83iBAoJj8vYLzDDGEZPxPPuNAhewo/n0qiTbkyHj80y0XdVZciPzmJ6QuyLx8/LWoAAkIGFT85aCviu4wSP3g8Q9cfOxw/S3+TGa7OIT+HuooqN8McP2YkVn6AphI/x/EMI0OjDz8BI6KPvLINPxY0BJXocAs/U1JixcEg8T76jAt036GyPoa1g1oNWa0+OxWSI4uD6D6IZy55IT/9Pg==\"}]}, \"57eafe6941164245b368e2a87ecb90cf\": {\"model_name\": \"FigureModel\", \"model_module\": \"jupyterlab-plotly\", \"model_module_version\": \"^5.5.0\", \"state\": {\"_config\": {\"plotlyServerURL\": \"https://plot.ly\"}, \"_data\": [{\"base\": 0, \"marker\": {\"color\": \"#01B8AA\"}, \"offsetgroup\": \"0\", \"orientation\": \"h\", \"showlegend\": false, \"x\": [0.00271121728319858], \"xaxis\": \"x\", \"y\": [\"Drift Score\"], \"yaxis\": \"y\", \"type\": \"bar\", \"uid\": \"df979552-bec9-45cc-9601-7548f775337d\"}, {\"fill\": \"tozeroy\", \"line\": {\"color\": \"#00008b\", \"shape\": \"spline\"}, \"name\": \"Train Dataset\", \"x\": [-46.8550472007818, -45.84872113563908, -44.842395070496366, -43.83606900535366, -42.82974294021094, -41.823416875068226, -40.81709080992551, -39.810764744782794, -38.804438679640086, -37.79811261449737, -36.791786549354654, -35.78546048421194, -34.77913441906922, -33.77280835392651, -32.76648228878379, -31.760156223641083, -30.753830158498367, -29.74750409335565, -28.74117802821294, -27.734851963070223, -26.72852589792751, -25.722199832784796, -24.71587376764208, -23.709547702499368, -22.703221637356652, -21.696895572213936, -20.690569507071224, -19.68424344192851, -18.677917376785793, -17.67159131164308, -16.665265246500365, -15.658939181357653, -14.652613116214937, -13.646287051072221, -12.639960985929505, -11.633634920786797, -10.627308855644081, -9.620982790501365, -8.61465672535865, -7.608330660215934, -6.602004595073225, -5.59567852993051, -4.589352464787794, -4.556353253649733, -4.534307789212276, -3.583026399645078, -3.1365642737297783, -3.1313116763786804, -2.5767003345023625, -2.5166859392930654, -2.492317470553136, -2.1147251299171654, -2.0953606361485844, -1.8469172017934135, -1.821752755066393, -1.622311780623366, -1.6080900413713555, -1.5703742693596467, -1.4588222664336787, -1.449374150004687, -1.3179973700429568, -1.315478184663032, -1.1998384025984763, -1.1979685126545625, -1.10040277988474, -1.1001207382004181, -1.0087967477905626, -1.0085112286383884, -0.9287630440658579, -0.9281983237740603, -0.8598241113528723, -0.854596106341676, -0.7934774951248021, -0.7862610313027735, -0.7291797969764036, -0.7222809558216724, -0.6675850960418769, -0.6554951879953999, -0.603725298967858, -0.5902868386328806, -0.5640482042169381, -0.5390687029469339, -0.5255224004375553, -0.4768756890586223, -0.4639979457919666, -0.41736351474186395, -0.40151631124816356, -0.3554401705428639, -0.3407315595980156, -0.2908200266469902, -0.2690681158823625, -0.20661934454465541, -0.17829526149760186, -0.09474944688144805, -0.05962688936703403, 0.029231068725401, 0.029231068725401, 0.032186444795720644, 0.04605090937587647, 0.0498115823134119, 0.0498115823134119, 0.13995007962930636, 0.1700831439694582, 0.4018212498726666, 0.4422778609257776, 0.4999857286166778, 0.7937790138849468, 0.8463100583450673, 0.9592993095297614, 0.9855954368259942, 1.0405390156128695, 1.0549489150753617, 1.0961373313062346, 1.1082461123923102, 1.1362162080061227, 1.1467771206231572, 1.1683803353226319, 1.1773864909494982, 1.1955968473315794, 1.2050413989754396, 1.226111517506896, 1.23508481342855, 1.2543446379588368, 1.2616932779797192, 1.292102049092333, 1.3043412361299191, 1.3512839574528235, 1.3713932907493784, 1.4486039260684933, 1.4634113903345403, 1.497984931040184, 1.692159022082139, 1.7343337126552865, 1.8263889698010887, 1.8461763422437667, 1.8963541746980512, 1.906194610829513, 1.9448592090944075, 1.9508089621735214, 1.9834478978045205, 1.9863096306338255, 2.0165253264487064, 2.017898588887044, 2.0432539521921353, 2.0437368227772383, 2.065971515657282, 2.0664074095409375, 2.1016402765511373, 2.1037844342588, 2.1650707679723604, 2.1672052540526, 2.45492999121121], \"xaxis\": \"x2\", \"y\": {\"dtype\": \"float64\", \"shape\": [152]}, \"yaxis\": \"y2\", \"type\": \"scatter\", \"uid\": \"a0df5f92-f18e-47c8-aeac-47a6bdc570c4\"}, {\"line\": {\"color\": \"#00008b\", \"dash\": \"dash\"}, \"mode\": \"lines+markers\", \"name\": \"Train Mean\", \"x\": [0.04605090937587647, 0.04605090937587647], \"xaxis\": \"x2\", \"y\": [0, 0.1723536612069621], \"yaxis\": \"y2\", \"type\": \"scatter\", \"uid\": \"8b222c8d-7d9f-4693-b03b-2503d19d2ed5\"}, {\"line\": {\"color\": \"#00008b\"}, \"mode\": \"lines\", \"name\": \"Train Median\", \"x\": [0.0498115823134119, 0.0498115823134119], \"xaxis\": \"x2\", \"y\": [0, 0.17185659657292282], \"yaxis\": \"y2\", \"type\": \"scatter\", \"uid\": \"1e3b57a3-d92c-4d0b-ac7f-745c5db89816\"}, {\"fill\": \"tozeroy\", \"line\": {\"color\": \"#69b3a2\", \"shape\": \"spline\"}, \"name\": \"Test Dataset\", \"x\": [-46.8550472007818, -45.84872113563908, -44.842395070496366, -43.83606900535366, -42.82974294021094, -41.823416875068226, -40.81709080992551, -39.810764744782794, -38.804438679640086, -37.79811261449737, -36.791786549354654, -35.78546048421194, -34.77913441906922, -33.77280835392651, -32.76648228878379, -31.760156223641083, -30.753830158498367, -29.74750409335565, -28.74117802821294, -27.734851963070223, -26.72852589792751, -25.722199832784796, -24.71587376764208, -23.709547702499368, -22.703221637356652, -21.696895572213936, -20.690569507071224, -19.68424344192851, -18.677917376785793, -17.67159131164308, -16.665265246500365, -15.658939181357653, -14.652613116214937, -13.646287051072221, -12.639960985929505, -11.633634920786797, -10.627308855644081, -9.620982790501365, -8.61465672535865, -7.608330660215934, -6.602004595073225, -5.59567852993051, -4.589352464787794, -4.556353253649733, -4.534307789212276, -3.583026399645078, -3.1365642737297783, -3.1313116763786804, -2.5767003345023625, -2.5166859392930654, -2.492317470553136, -2.1147251299171654, -2.0953606361485844, -1.8469172017934135, -1.821752755066393, -1.622311780623366, -1.6080900413713555, -1.5703742693596467, -1.4588222664336787, -1.449374150004687, -1.3179973700429568, -1.315478184663032, -1.1998384025984763, -1.1979685126545625, -1.10040277988474, -1.1001207382004181, -1.0087967477905626, -1.0085112286383884, -0.9287630440658579, -0.9281983237740603, -0.8598241113528723, -0.854596106341676, -0.7934774951248021, -0.7862610313027735, -0.7291797969764036, -0.7222809558216724, -0.6675850960418769, -0.6554951879953999, -0.603725298967858, -0.5902868386328806, -0.5640482042169381, -0.5390687029469339, -0.5255224004375553, -0.4768756890586223, -0.4639979457919666, -0.41736351474186395, -0.40151631124816356, -0.3554401705428639, -0.3407315595980156, -0.2908200266469902, -0.2690681158823625, -0.20661934454465541, -0.17829526149760186, -0.09474944688144805, -0.05962688936703403, 0.029231068725401, 0.029231068725401, 0.032186444795720644, 0.04605090937587647, 0.0498115823134119, 0.0498115823134119, 0.13995007962930636, 0.1700831439694582, 0.4018212498726666, 0.4422778609257776, 0.4999857286166778, 0.7937790138849468, 0.8463100583450673, 0.9592993095297614, 0.9855954368259942, 1.0405390156128695, 1.0549489150753617, 1.0961373313062346, 1.1082461123923102, 1.1362162080061227, 1.1467771206231572, 1.1683803353226319, 1.1773864909494982, 1.1955968473315794, 1.2050413989754396, 1.226111517506896, 1.23508481342855, 1.2543446379588368, 1.2616932779797192, 1.292102049092333, 1.3043412361299191, 1.3512839574528235, 1.3713932907493784, 1.4486039260684933, 1.4634113903345403, 1.497984931040184, 1.692159022082139, 1.7343337126552865, 1.8263889698010887, 1.8461763422437667, 1.8963541746980512, 1.906194610829513, 1.9448592090944075, 1.9508089621735214, 1.9834478978045205, 1.9863096306338255, 2.0165253264487064, 2.017898588887044, 2.0432539521921353, 2.0437368227772383, 2.065971515657282, 2.0664074095409375, 2.1016402765511373, 2.1037844342588, 2.1650707679723604, 2.1672052540526, 2.45492999121121], \"xaxis\": \"x2\", \"y\": {\"dtype\": \"float64\", \"shape\": [152]}, \"yaxis\": \"y2\", \"type\": \"scatter\", \"uid\": \"6c9b083a-299e-4268-b0a5-b5e326e8139b\"}, {\"line\": {\"color\": \"#69b3a2\", \"dash\": \"dash\"}, \"mode\": \"lines+markers\", \"name\": \"Test Mean\", \"x\": [0.032186444795720644, 0.032186444795720644], \"xaxis\": \"x2\", \"y\": [0, 0.1748601883643168], \"yaxis\": \"y2\", \"type\": \"scatter\", \"uid\": \"accfa6ea-c150-4673-988b-5513e1cdc895\"}, {\"line\": {\"color\": \"#69b3a2\"}, \"mode\": \"lines\", \"name\": \"Test Median\", \"x\": [0.029231068725401, 0.029231068725401], \"xaxis\": \"x2\", \"y\": [0, 0.1752789938358844], \"yaxis\": \"y2\", \"type\": \"scatter\", \"uid\": \"e690f797-50df-4322-b62b-7568d4a40d0c\"}], \"_dom_classes\": [], \"_js2py_layoutDelta\": {}, \"_js2py_pointsCallback\": {}, \"_js2py_relayout\": {}, \"_js2py_restyle\": {}, \"_js2py_traceDeltas\": {}, \"_js2py_update\": {}, \"_layout\": {\"annotations\": [{\"font\": {\"size\": 16}, \"showarrow\": false, \"text\": \"Drift Score (Earth Mover's Distance)\", \"x\": 0.5, \"xanchor\": \"center\", \"xref\": \"paper\", \"y\": 1.0000000000000002, \"yanchor\": \"bottom\", \"yref\": \"paper\"}, {\"font\": {\"size\": 16}, \"showarrow\": false, \"text\": \"Distribution Plot\", \"x\": 0.5, \"xanchor\": \"center\", \"xref\": \"paper\", \"y\": 0.7200000000000001, \"yanchor\": \"bottom\", \"yref\": \"paper\"}], \"bargroupgap\": 0, \"height\": 400, \"legend\": {\"title\": {\"text\": \"Legend\"}, \"y\": 0.6, \"yanchor\": \"top\"}, \"template\": {\"data\": {\"barpolar\": [{\"marker\": {\"line\": {\"color\": \"#E5ECF6\", \"width\": 0.5}, \"pattern\": {\"fillmode\": \"overlay\", \"size\": 10, \"solidity\": 0.2}}, \"type\": \"barpolar\"}], \"bar\": [{\"error_x\": {\"color\": \"#2a3f5f\"}, \"error_y\": {\"color\": \"#2a3f5f\"}, \"marker\": {\"line\": {\"color\": \"#E5ECF6\", \"width\": 0.5}, \"pattern\": {\"fillmode\": \"overlay\", \"size\": 10, \"solidity\": 0.2}}, \"type\": \"bar\"}], \"carpet\": [{\"aaxis\": {\"endlinecolor\": \"#2a3f5f\", \"gridcolor\": \"white\", \"linecolor\": \"white\", \"minorgridcolor\": \"white\", \"startlinecolor\": \"#2a3f5f\"}, \"baxis\": {\"endlinecolor\": \"#2a3f5f\", \"gridcolor\": \"white\", \"linecolor\": \"white\", \"minorgridcolor\": \"white\", \"startlinecolor\": \"#2a3f5f\"}, \"type\": \"carpet\"}], \"choropleth\": [{\"colorbar\": {\"outlinewidth\": 0, \"ticks\": \"\"}, \"type\": \"choropleth\"}], \"contourcarpet\": [{\"colorbar\": {\"outlinewidth\": 0, \"ticks\": \"\"}, \"type\": \"contourcarpet\"}], \"contour\": [{\"colorbar\": {\"outlinewidth\": 0, \"ticks\": \"\"}, \"colorscale\": [[0.0, \"#0d0887\"], [0.1111111111111111, \"#46039f\"], [0.2222222222222222, \"#7201a8\"], [0.3333333333333333, \"#9c179e\"], [0.4444444444444444, \"#bd3786\"], [0.5555555555555556, \"#d8576b\"], [0.6666666666666666, \"#ed7953\"], [0.7777777777777778, \"#fb9f3a\"], [0.8888888888888888, \"#fdca26\"], [1.0, \"#f0f921\"]], \"type\": \"contour\"}], \"heatmapgl\": [{\"colorbar\": {\"outlinewidth\": 0, \"ticks\": \"\"}, \"colorscale\": [[0.0, \"#0d0887\"], [0.1111111111111111, \"#46039f\"], [0.2222222222222222, \"#7201a8\"], [0.3333333333333333, \"#9c179e\"], [0.4444444444444444, \"#bd3786\"], [0.5555555555555556, \"#d8576b\"], [0.6666666666666666, \"#ed7953\"], [0.7777777777777778, \"#fb9f3a\"], [0.8888888888888888, \"#fdca26\"], [1.0, \"#f0f921\"]], \"type\": \"heatmapgl\"}], \"heatmap\": [{\"colorbar\": {\"outlinewidth\": 0, \"ticks\": \"\"}, \"colorscale\": [[0.0, \"#0d0887\"], [0.1111111111111111, \"#46039f\"], [0.2222222222222222, \"#7201a8\"], [0.3333333333333333, \"#9c179e\"], [0.4444444444444444, \"#bd3786\"], [0.5555555555555556, \"#d8576b\"], [0.6666666666666666, \"#ed7953\"], [0.7777777777777778, \"#fb9f3a\"], [0.8888888888888888, \"#fdca26\"], [1.0, \"#f0f921\"]], \"type\": \"heatmap\"}], \"histogram2dcontour\": [{\"colorbar\": {\"outlinewidth\": 0, \"ticks\": \"\"}, \"colorscale\": [[0.0, \"#0d0887\"], [0.1111111111111111, \"#46039f\"], [0.2222222222222222, \"#7201a8\"], [0.3333333333333333, \"#9c179e\"], [0.4444444444444444, \"#bd3786\"], [0.5555555555555556, \"#d8576b\"], [0.6666666666666666, \"#ed7953\"], [0.7777777777777778, \"#fb9f3a\"], [0.8888888888888888, \"#fdca26\"], [1.0, \"#f0f921\"]], \"type\": \"histogram2dcontour\"}], \"histogram2d\": [{\"colorbar\": {\"outlinewidth\": 0, \"ticks\": \"\"}, \"colorscale\": [[0.0, \"#0d0887\"], [0.1111111111111111, \"#46039f\"], [0.2222222222222222, \"#7201a8\"], [0.3333333333333333, \"#9c179e\"], [0.4444444444444444, \"#bd3786\"], [0.5555555555555556, \"#d8576b\"], [0.6666666666666666, \"#ed7953\"], [0.7777777777777778, \"#fb9f3a\"], [0.8888888888888888, \"#fdca26\"], [1.0, \"#f0f921\"]], \"type\": \"histogram2d\"}], \"histogram\": [{\"marker\": {\"pattern\": {\"fillmode\": \"overlay\", \"size\": 10, \"solidity\": 0.2}}, \"type\": \"histogram\"}], \"mesh3d\": [{\"colorbar\": {\"outlinewidth\": 0, \"ticks\": \"\"}, \"type\": \"mesh3d\"}], \"parcoords\": [{\"line\": {\"colorbar\": {\"outlinewidth\": 0, \"ticks\": \"\"}}, \"type\": \"parcoords\"}], \"pie\": [{\"automargin\": true, \"type\": \"pie\"}], \"scatter3d\": [{\"line\": {\"colorbar\": {\"outlinewidth\": 0, \"ticks\": \"\"}}, \"marker\": {\"colorbar\": {\"outlinewidth\": 0, \"ticks\": \"\"}}, \"type\": \"scatter3d\"}], \"scattercarpet\": [{\"marker\": {\"colorbar\": {\"outlinewidth\": 0, \"ticks\": \"\"}}, \"type\": \"scattercarpet\"}], \"scattergeo\": [{\"marker\": {\"colorbar\": {\"outlinewidth\": 0, \"ticks\": \"\"}}, \"type\": \"scattergeo\"}], \"scattergl\": [{\"marker\": {\"colorbar\": {\"outlinewidth\": 0, \"ticks\": \"\"}}, \"type\": \"scattergl\"}], \"scattermapbox\": [{\"marker\": {\"colorbar\": {\"outlinewidth\": 0, \"ticks\": \"\"}}, \"type\": \"scattermapbox\"}], \"scatterpolargl\": [{\"marker\": {\"colorbar\": {\"outlinewidth\": 0, \"ticks\": \"\"}}, \"type\": \"scatterpolargl\"}], \"scatterpolar\": [{\"marker\": {\"colorbar\": {\"outlinewidth\": 0, \"ticks\": \"\"}}, \"type\": \"scatterpolar\"}], \"scatter\": [{\"marker\": {\"colorbar\": {\"outlinewidth\": 0, \"ticks\": \"\"}}, \"type\": \"scatter\"}], \"scatterternary\": [{\"marker\": {\"colorbar\": {\"outlinewidth\": 0, \"ticks\": \"\"}}, \"type\": \"scatterternary\"}], \"surface\": [{\"colorbar\": {\"outlinewidth\": 0, \"ticks\": \"\"}, \"colorscale\": [[0.0, \"#0d0887\"], [0.1111111111111111, \"#46039f\"], [0.2222222222222222, \"#7201a8\"], [0.3333333333333333, \"#9c179e\"], [0.4444444444444444, \"#bd3786\"], [0.5555555555555556, \"#d8576b\"], [0.6666666666666666, \"#ed7953\"], [0.7777777777777778, \"#fb9f3a\"], [0.8888888888888888, \"#fdca26\"], [1.0, \"#f0f921\"]], \"type\": \"surface\"}], \"table\": [{\"cells\": {\"fill\": {\"color\": \"#EBF0F8\"}, \"line\": {\"color\": \"white\"}}, \"header\": {\"fill\": {\"color\": \"#C8D4E3\"}, \"line\": {\"color\": \"white\"}}, \"type\": \"table\"}]}, \"layout\": {\"annotationdefaults\": {\"arrowcolor\": \"#2a3f5f\", \"arrowhead\": 0, \"arrowwidth\": 1}, \"autotypenumbers\": \"strict\", \"coloraxis\": {\"colorbar\": {\"outlinewidth\": 0, \"ticks\": \"\"}}, \"colorscale\": {\"diverging\": [[0, \"#8e0152\"], [0.1, \"#c51b7d\"], [0.2, \"#de77ae\"], [0.3, \"#f1b6da\"], [0.4, \"#fde0ef\"], [0.5, \"#f7f7f7\"], [0.6, \"#e6f5d0\"], [0.7, \"#b8e186\"], [0.8, \"#7fbc41\"], [0.9, \"#4d9221\"], [1, \"#276419\"]], \"sequential\": [[0.0, \"#0d0887\"], [0.1111111111111111, \"#46039f\"], [0.2222222222222222, \"#7201a8\"], [0.3333333333333333, \"#9c179e\"], [0.4444444444444444, \"#bd3786\"], [0.5555555555555556, \"#d8576b\"], [0.6666666666666666, \"#ed7953\"], [0.7777777777777778, \"#fb9f3a\"], [0.8888888888888888, \"#fdca26\"], [1.0, \"#f0f921\"]], \"sequentialminus\": [[0.0, \"#0d0887\"], [0.1111111111111111, \"#46039f\"], [0.2222222222222222, \"#7201a8\"], [0.3333333333333333, \"#9c179e\"], [0.4444444444444444, \"#bd3786\"], [0.5555555555555556, \"#d8576b\"], [0.6666666666666666, \"#ed7953\"], [0.7777777777777778, \"#fb9f3a\"], [0.8888888888888888, \"#fdca26\"], [1.0, \"#f0f921\"]]}, \"colorway\": [\"#636efa\", \"#EF553B\", \"#00cc96\", \"#ab63fa\", \"#FFA15A\", \"#19d3f3\", \"#FF6692\", \"#B6E880\", \"#FF97FF\", \"#FECB52\"], \"font\": {\"color\": \"#2a3f5f\"}, \"geo\": {\"bgcolor\": \"white\", \"lakecolor\": \"white\", \"landcolor\": \"#E5ECF6\", \"showlakes\": true, \"showland\": true, \"subunitcolor\": \"white\"}, \"hoverlabel\": {\"align\": \"left\"}, \"hovermode\": \"closest\", \"mapbox\": {\"style\": \"light\"}, \"paper_bgcolor\": \"white\", \"plot_bgcolor\": \"#E5ECF6\", \"polar\": {\"angularaxis\": {\"gridcolor\": \"white\", \"linecolor\": \"white\", \"ticks\": \"\"}, \"bgcolor\": \"#E5ECF6\", \"radialaxis\": {\"gridcolor\": \"white\", \"linecolor\": \"white\", \"ticks\": \"\"}}, \"scene\": {\"xaxis\": {\"backgroundcolor\": \"#E5ECF6\", \"gridcolor\": \"white\", \"gridwidth\": 2, \"linecolor\": \"white\", \"showbackground\": true, \"ticks\": \"\", \"zerolinecolor\": \"white\"}, \"yaxis\": {\"backgroundcolor\": \"#E5ECF6\", \"gridcolor\": \"white\", \"gridwidth\": 2, \"linecolor\": \"white\", \"showbackground\": true, \"ticks\": \"\", \"zerolinecolor\": \"white\"}, \"zaxis\": {\"backgroundcolor\": \"#E5ECF6\", \"gridcolor\": \"white\", \"gridwidth\": 2, \"linecolor\": \"white\", \"showbackground\": true, \"ticks\": \"\", \"zerolinecolor\": \"white\"}}, \"shapedefaults\": {\"line\": {\"color\": \"#2a3f5f\"}}, \"ternary\": {\"aaxis\": {\"gridcolor\": \"white\", \"linecolor\": \"white\", \"ticks\": \"\"}, \"baxis\": {\"gridcolor\": \"white\", \"linecolor\": \"white\", \"ticks\": \"\"}, \"bgcolor\": \"#E5ECF6\", \"caxis\": {\"gridcolor\": \"white\", \"linecolor\": \"white\", \"ticks\": \"\"}}, \"title\": {\"x\": 0.05}, \"xaxis\": {\"automargin\": true, \"gridcolor\": \"white\", \"linecolor\": \"white\", \"ticks\": \"\", \"title\": {\"standoff\": 15}, \"zerolinecolor\": \"white\", \"zerolinewidth\": 2}, \"yaxis\": {\"automargin\": true, \"gridcolor\": \"white\", \"linecolor\": \"white\", \"ticks\": \"\", \"title\": {\"standoff\": 15}, \"zerolinecolor\": \"white\", \"zerolinewidth\": 2}}}, \"title\": {\"text\": \"v1\", \"x\": 0.5, \"xanchor\": \"center\"}, \"xaxis\": {\"anchor\": \"y\", \"domain\": [0.0, 1.0], \"dtick\": 0.05, \"fixedrange\": true, \"gridcolor\": \"black\", \"linecolor\": \"black\", \"range\": [0, 0.4], \"showgrid\": false}, \"yaxis\": {\"anchor\": \"x\", \"autorange\": true, \"color\": \"black\", \"domain\": [0.9200000000000002, 1.0], \"fixedrange\": true, \"rangemode\": \"normal\", \"showgrid\": false, \"showline\": false, \"showticklabels\": false, \"zeroline\": false}, \"xaxis2\": {\"anchor\": \"y2\", \"domain\": [0.0, 1.0], \"fixedrange\": false, \"range\": [-4.556353253649733, 2.1672052540526], \"title\": {\"text\": \"v1\"}}, \"yaxis2\": {\"anchor\": \"x2\", \"domain\": [0.0, 0.7200000000000001], \"fixedrange\": true, \"title\": {\"text\": \"Probability Density\"}}}, \"_py2js_addTraces\": {}, \"_py2js_animate\": {}, \"_py2js_deleteTraces\": {}, \"_py2js_moveTraces\": {}, \"_py2js_relayout\": {}, \"_py2js_removeLayoutProps\": {}, \"_py2js_removeTraceProps\": {}, \"_py2js_restyle\": {}, \"_py2js_update\": {}, \"_view_count\": 0}, \"buffers\": [{\"encoding\": \"base64\", \"path\": [\"_data\", 1, \"y\", \"buffer\"], \"data\": \"xzCqOoPF4T7g3gMnC/OsPouDABu3SA8+KkKuYCWUBj1QiJMXXVbAPX9VWdafQ4I+aW1WtygX2z79RlXtDKjKPnE9gwjFdlE+73zH74QFiz4pF1qyW7zdPlyGvpT8tcU++Z39IoMLoj7uWaexHHfhPrrURL+glN0+lKOmL/Q87D75B/w+l1biPtI0AkHdCOM+FtrC28Z96T7w+/QJs87QPjqDin+cdvA++aeeN+gE+T4G+rg1eBH5Po4Nm60HehI/VzNUMt5OEz/XA4EpMc4LP6+IQqp6MwE/1eutXwb2Cz8nt0qgIxYQP4Mycu8UwRg/14EnVoHMGD9Gpy10leEmP+0XRE8x7Ck/gdV0wceXLT8aEzwehkg4P60gL0CUwT8/nZDPrXcuST97avJ+EL5RPzrBA2qXDVc/s9QVJWYHYD/B9w3eTYRrPzOJeNiLUXU/oME5b0V4gj/vU3iHWtiCP2nMlSHbGYM/WHinqB4Pkj/nQT7GrROaP7F9zZHYMpo/VEWMMahHpj8OqeEiMrWnP9ar5eXzUag/rlprHpJrsj/sQ2K5XNWyP7tkZWl9Hbk/tLl0fJ/buT+IzNInODfAP3ilRyfQeMA/oJEAZ/IpwT/euT5gFE3DPwF9xpe1fMM/UQUsGbYdxj99AjRlryrGPxn76nOodsg/1KNxH/R/yD9L8VJo7lPKP/ZpU5Q5Vco/9RCd8Nbfyz+bM33g/ODLP83uoNJ0CM0/bmUI7VoKzT8MpQQfj9nNP9lLmzFz580/Z764mYRzzj+5nW+NPIHOP/8MRJeY184/l4awUE3fzj/pq5qx2wbPP31SE0VdCs8/HrogbKADzz9pvtNJGPzOP1+EZCOJ5s4/fHLuCqXJzj8NJGVQmbbOP/lmTdsEX84/p2Dxoe1Czj+BDCAixczNP7fYJ9X7ns0/ISavvrwKzT+VDAYV9dbMP4OhRJfUGMw/AJmcVLK/yz9lVGeEpa7KP0IdyAA4LMo/FU5wEJqeyD/ShfPUHvbHP+T3Ma2gWcY/5PcxraBZxj8CQbndgkzGP/poHU2vD8Y/B/jwnmX/xT8H+PCeZf/FPz3T5ZKwmsQ/D/eeEw81xD88mO+aLcrCPzJmaVs248I/ti17sMA2wz/ALaENM7fHP5ZTHR4C1cg/HIweYYRDyz9skFpFu8/LP0f82sgk6Mw/ocw2VjguzT++764aD+3NP/7DdPhEIs4/b/VlM76Xzj+/GDKIC8LOP7zJvDnuFM8/Y3YfUAE2zz/kR+haKXbPPzIIeV/7lc8/njm1ylbZzz/eFBfNfPTPP3z9RofQFdA/LKVe8sQf0D/2ohr+oUXQP8J0J7NbU9A/RPb2Zvx/0D9QiU15QI/QPyexnKn5tNA/ZDPMBIS40D878FLwSLzQP4ehcj8bYNA/DUj5S4wy0D/NRJWn5lrPP0MFYcUdFc8/MOmSsGtPzj/CXi9FHCXOP2lw47F8c80/4qZ7yolWzT9aabb2ELDMPxA/bYnaoMw/O+0Jgzf6yz/+jKRWYvLLP/z+7JLFXcs/RKQOZN5ayz8sL2hcS9LKPzNMNJKPz8o/5q/CFq7ryT/wL7U3Yd3JPxoffq0lMcg/TPvb/JchyD+zDMrQaTm+Pw==\"}, {\"encoding\": \"base64\", \"path\": [\"_data\", 4, \"y\", \"buffer\"], \"data\": \"K8mIhOcgPCWMU8/8lQWpKZSM8Q2/lKstsBgZdg7WQjG9orjEYuFvNHvpED4htzA3aUjgoEi4hTnoYyoMZXxxOzE8FF6ZcfE89/cK3CaQBT6G1WdZx4OwPtzCg6uZWO8+Ko/8AY9/wj7Egkp/8bDNPo7uP+xWhfk+K5Uv/FYg9D5pAp2A1Wz3PtikfblNE7M++9lz0OeBsj7+ZZcOqi7wPnuTi0n6H/I+7SMVru7p/z5idYiTAwgMP5Lv2OU/0vc+kh1oiXGr5z54CWTOEi7/PnGZT6ph9RI/SzKtNekeEj8CfeGvKg8SP+2xmbk11g0/aH36JjZkEz+xeQhK4ageP/w0+IdeGzA/f67UGT28MD8nIf5eha82P5xhTPSthD8/eO61RGojRT9/c/wdRvNQP8sgIgI3Nlg/SVi5VTwEYj9HqxLE4v5sPzrcXWJZMnU/ccsaRYVtgT+lsa1qqsaBP8Of/QMeBII/TlaJFaGBkj+hZ3z1fTObP4o6LbbUU5s/7aaNHXPUpj9N+5vRhTqoP6LYn1jW06g/83uZZWKAsj9M5JmcF+eyPzwI1R+wCLk/iIgOLdbDuT86SzmPsyfAP+Q+N/3DacA/kc6db7YcwT+jt/YySkrDPwr7oxQpe8M/UIYP2tkyxj+N86K8WUDGP8QCIHsyp8g/L/TXPfawyD8ZfnVwEZ7KP9VDW1tvn8o/yKEKki1BzD+AZXJBZULMP/kYct38e80/9EiiJgF+zT8Hj06XHFrOP+3qdOTdaM4/0aB/jJL9zj/QBmaAHwzPPzh41luRZ88/vmKpG7Rvzz96pMV8N5nPP42v/zLOnM8/TUfIk/6Uzz9vEmeUz4zPP83HuP+Ldc8/w07484NWzz8UZF65GkLPP+Dc+Il/5M4/+iOJrIjGzj/2T+jitEjOPz4baAgGGM4/aFP42KB6zT+2Q5LcuUPNPzDquVhqesw/046hVi0czD+9nVpl+vvKP1UYom+Ncso/U/48WHPQyD+/JmxdpB/IP2S3GcWKb8Y/ZLcZxYpvxj9/1TKT0WHGPxaSPHwwIsY/I9BFgCcRxj8j0EWAJxHGP8kPU8FcnMQ/RnKArTQyxD9w+EdBR7TCP2lAagXFzMI/XEmfpMIgwz/h5Pfhhq/HP6V9P5yaz8g/GW/GgbY/yz8kcvomdsvLP9ofpje14cw/NUoNRvAmzT+D8HxCtuLNP4MjEsfWFs4/eI+6v3+Jzj+GR1jIoLLOP4DQiEzuAs8/I5cXptsizz/2M3h2kmDPP8+A9UcQf88/Apa/ik+/zz/xeTekE9nPP92VrjKSBtA/s0+ApusP0D8myheKLjPQP8GFqwPSP9A/rCfEER5o0D9Sz3SneHXQP1JfpffDk9A/W9kvz+WV0D9xrvqncZbQP1FrYfWsK9A/CO3cMhz4zz8gqdqeCOjOP5LQws6Hoc4/72GveNLazT+08MhhcbDNP4Wbhzru/sw/1TXk6gzizD+CghftLjzMP5uN75UKLcw/DxKE3U+Hyz9uG6j5hn/LP863nzTm68o/2REuRQTpyj8J7/n7c2HKPynZdZe9Xso/OxO5orZ8yT8wf0/2iG7JP2SouXgrxsc/UqUmY8O2xz+f6DS4N5W9Pw==\"}]}, \"9b0d9ad227c447b897f2b277747d70c5\": {\"model_name\": \"FigureModel\", \"model_module\": \"jupyterlab-plotly\", \"model_module_version\": \"^5.5.0\", \"state\": {\"_config\": {\"plotlyServerURL\": \"https://plot.ly\"}, \"_data\": [{\"base\": 0, \"marker\": {\"color\": \"#01B8AA\"}, \"offsetgroup\": \"0\", \"orientation\": \"h\", \"showlegend\": false, \"x\": [0.0026168693562745766], \"xaxis\": \"x\", \"y\": [\"Drift Score\"], \"yaxis\": \"y\", \"type\": \"bar\", \"uid\": \"1848d3ce-7ff7-472e-bdb5-73ee921a4c9c\"}, {\"fill\": \"tozeroy\", \"line\": {\"color\": \"#00008b\", \"shape\": \"spline\"}, \"name\": \"Train Dataset\", \"x\": [-32.9653457595238, -32.10110281682288, -31.236859874121965, -30.37261693142105, -29.50837398872013, -28.644131046019215, -27.779888103318296, -26.91564516061738, -26.05140221791646, -25.187159275215546, -24.32291633251463, -23.45867338981371, -22.594430447112792, -21.730187504411877, -20.86594456171096, -20.001701619010042, -19.137458676309123, -18.273215733608208, -17.408972790907292, -16.544729848206373, -15.680486905505457, -14.816243962804538, -13.952001020103623, -13.087758077402704, -12.223515134701788, -11.35927219200087, -10.495029249299954, -9.630786306599035, -8.76654336389812, -7.9023004211972, -7.038057478496285, -6.1738145357953655, -5.30957159309445, -4.4453286503935345, -3.5810857076926155, -3.090116583700542, -3.064232045605966, -2.7168427649917, -2.517620709344327, -2.5051376557887926, -2.182431603727059, -2.1719274755278777, -1.9400725138988901, -1.938287960382912, -1.852599822290781, -1.77274644754969, -1.771690837342977, -1.650124691112015, -1.64324993790683, -1.517371049195093, -1.5038305232249927, -1.3869184286792497, -1.3597761234790948, -1.2560775975083553, -1.2338017948037359, -1.141954389466304, -1.1254097656172102, -1.0382662762285704, -1.025966934037045, -0.9883568795898654, -0.9151449707750644, -0.9008528640673643, -0.7999483820657255, -0.7867058405972451, -0.6922089350347503, -0.6795555143600527, -0.5930264331991222, -0.5749557248777125, -0.5026969758713598, -0.48444163680368885, -0.41816273888437616, -0.40215656603556466, -0.3408302934051079, -0.32427970847586735, -0.26221025146091725, -0.24694109093774289, -0.18094082158816213, -0.16310708495242607, -0.12411393688894634, -0.10293767097486557, -0.0824768868499509, -0.025436535991858772, -0.006531244203962483, 0.02364414502912119, 0.03415922782478913, 0.05734812574494123, 0.0737677846787843, 0.13103074614556362, 0.14634604679003985, 0.1935095300868035, 0.1935095300868035, 0.208304960611113, 0.208304960611113, 0.2588078098416307, 0.27345926493081113, 0.3110137260077071, 0.323378096384875, 0.37476053229790396, 0.38662102796451553, 0.43943574824393333, 0.4533966699390157, 0.5045722286088935, 0.5173847315724643, 0.5726549890385833, 0.5866163212485722, 0.6361943556782377, 0.6492469632160093, 0.7069932046291614, 0.7185187020177876, 0.7401290058119727, 0.7755009059649391, 0.7881991202201166, 0.8476649293569671, 0.8643729868561628, 0.9177325010550944, 0.9387111785562099, 0.9937541284015292, 1.0086040733399757, 1.0656783584283447, 1.0796350504216699, 1.1434907746333272, 1.1564110679401172, 1.21558233020014, 1.23081762397266, 1.2912818405039241, 1.2996127006128215, 1.3736347452073958, 1.3845689310326421, 1.4621729244570785, 1.4761450303350607, 1.5668091087648917, 1.5750680621410449, 1.6043719485128847, 1.6764355483578424, 1.6851406476931503, 1.8011035298189582, 1.807223662654071, 1.9636420462520048, 1.9764722614755381, 2.169622190714128, 2.189607604488873, 2.4686148912138037, 2.472473953369355, 2.4835606322523067, 3.332857833914723, 4.197100776615642, 5.061343719316554, 5.925586662017473, 6.789829604718392, 7.654072547419311, 8.518315490120223, 9.38255843282114], \"xaxis\": \"x2\", \"y\": {\"dtype\": \"float64\", \"shape\": [152]}, \"yaxis\": \"y2\", \"type\": \"scatter\", \"uid\": \"da732cfb-412e-4154-b0af-eac1e6fbd5a4\"}, {\"line\": {\"color\": \"#00008b\", \"dash\": \"dash\"}, \"mode\": \"lines+markers\", \"name\": \"Train Mean\", \"x\": [0.02364414502912119, 0.02364414502912119], \"xaxis\": \"x2\", \"y\": [0, 0.27329068764001707], \"yaxis\": \"y2\", \"type\": \"scatter\", \"uid\": \"766a1c20-b25f-4f90-b12f-ccfd29cb7a56\"}, {\"line\": {\"color\": \"#00008b\"}, \"mode\": \"lines\", \"name\": \"Train Median\", \"x\": [0.1935095300868035, 0.1935095300868035], \"xaxis\": \"x2\", \"y\": [0, 0.285019482768823], \"yaxis\": \"y2\", \"type\": \"scatter\", \"uid\": \"c4b746f5-04ed-45d8-91c0-a6bc61d10e84\"}, {\"fill\": \"tozeroy\", \"line\": {\"color\": \"#69b3a2\", \"shape\": \"spline\"}, \"name\": \"Test Dataset\", \"x\": [-32.9653457595238, -32.10110281682288, -31.236859874121965, -30.37261693142105, -29.50837398872013, -28.644131046019215, -27.779888103318296, -26.91564516061738, -26.05140221791646, -25.187159275215546, -24.32291633251463, -23.45867338981371, -22.594430447112792, -21.730187504411877, -20.86594456171096, -20.001701619010042, -19.137458676309123, -18.273215733608208, -17.408972790907292, -16.544729848206373, -15.680486905505457, -14.816243962804538, -13.952001020103623, -13.087758077402704, -12.223515134701788, -11.35927219200087, -10.495029249299954, -9.630786306599035, -8.76654336389812, -7.9023004211972, -7.038057478496285, -6.1738145357953655, -5.30957159309445, -4.4453286503935345, -3.5810857076926155, -3.090116583700542, -3.064232045605966, -2.7168427649917, -2.517620709344327, -2.5051376557887926, -2.182431603727059, -2.1719274755278777, -1.9400725138988901, -1.938287960382912, -1.852599822290781, -1.77274644754969, -1.771690837342977, -1.650124691112015, -1.64324993790683, -1.517371049195093, -1.5038305232249927, -1.3869184286792497, -1.3597761234790948, -1.2560775975083553, -1.2338017948037359, -1.141954389466304, -1.1254097656172102, -1.0382662762285704, -1.025966934037045, -0.9883568795898654, -0.9151449707750644, -0.9008528640673643, -0.7999483820657255, -0.7867058405972451, -0.6922089350347503, -0.6795555143600527, -0.5930264331991222, -0.5749557248777125, -0.5026969758713598, -0.48444163680368885, -0.41816273888437616, -0.40215656603556466, -0.3408302934051079, -0.32427970847586735, -0.26221025146091725, -0.24694109093774289, -0.18094082158816213, -0.16310708495242607, -0.12411393688894634, -0.10293767097486557, -0.0824768868499509, -0.025436535991858772, -0.006531244203962483, 0.02364414502912119, 0.03415922782478913, 0.05734812574494123, 0.0737677846787843, 0.13103074614556362, 0.14634604679003985, 0.1935095300868035, 0.1935095300868035, 0.208304960611113, 0.208304960611113, 0.2588078098416307, 0.27345926493081113, 0.3110137260077071, 0.323378096384875, 0.37476053229790396, 0.38662102796451553, 0.43943574824393333, 0.4533966699390157, 0.5045722286088935, 0.5173847315724643, 0.5726549890385833, 0.5866163212485722, 0.6361943556782377, 0.6492469632160093, 0.7069932046291614, 0.7185187020177876, 0.7401290058119727, 0.7755009059649391, 0.7881991202201166, 0.8476649293569671, 0.8643729868561628, 0.9177325010550944, 0.9387111785562099, 0.9937541284015292, 1.0086040733399757, 1.0656783584283447, 1.0796350504216699, 1.1434907746333272, 1.1564110679401172, 1.21558233020014, 1.23081762397266, 1.2912818405039241, 1.2996127006128215, 1.3736347452073958, 1.3845689310326421, 1.4621729244570785, 1.4761450303350607, 1.5668091087648917, 1.5750680621410449, 1.6043719485128847, 1.6764355483578424, 1.6851406476931503, 1.8011035298189582, 1.807223662654071, 1.9636420462520048, 1.9764722614755381, 2.169622190714128, 2.189607604488873, 2.4686148912138037, 2.472473953369355, 2.4835606322523067, 3.332857833914723, 4.197100776615642, 5.061343719316554, 5.925586662017473, 6.789829604718392, 7.654072547419311, 8.518315490120223, 9.38255843282114], \"xaxis\": \"x2\", \"y\": {\"dtype\": \"float64\", \"shape\": [152]}, \"yaxis\": \"y2\", \"type\": \"scatter\", \"uid\": \"559dae03-cd20-4580-ae65-e7821799821b\"}, {\"line\": {\"color\": \"#69b3a2\", \"dash\": \"dash\"}, \"mode\": \"lines+markers\", \"name\": \"Test Mean\", \"x\": [0.03415922782478913, 0.03415922782478913], \"xaxis\": \"x2\", \"y\": [0, 0.2737358013258228], \"yaxis\": \"y2\", \"type\": \"scatter\", \"uid\": \"3370889f-a715-4224-aed5-730ebd9b0da4\"}, {\"line\": {\"color\": \"#69b3a2\"}, \"mode\": \"lines\", \"name\": \"Test Median\", \"x\": [0.208304960611113, 0.208304960611113], \"xaxis\": \"x2\", \"y\": [0, 0.2858773320271882], \"yaxis\": \"y2\", \"type\": \"scatter\", \"uid\": \"960e4fec-8996-4b2f-a6ae-25ab0d70bf45\"}], \"_dom_classes\": [], \"_js2py_layoutDelta\": {}, \"_js2py_pointsCallback\": {}, \"_js2py_relayout\": {}, \"_js2py_restyle\": {}, \"_js2py_traceDeltas\": {}, \"_js2py_update\": {}, \"_layout\": {\"annotations\": [{\"font\": {\"size\": 16}, \"showarrow\": false, \"text\": \"Drift Score (Earth Mover's Distance)\", \"x\": 0.5, \"xanchor\": \"center\", \"xref\": \"paper\", \"y\": 1.0000000000000002, \"yanchor\": \"bottom\", \"yref\": \"paper\"}, {\"font\": {\"size\": 16}, \"showarrow\": false, \"text\": \"Distribution Plot\", \"x\": 0.5, \"xanchor\": \"center\", \"xref\": \"paper\", \"y\": 0.7200000000000001, \"yanchor\": \"bottom\", \"yref\": \"paper\"}], \"bargroupgap\": 0, \"height\": 400, \"legend\": {\"title\": {\"text\": \"Legend\"}, \"y\": 0.6, \"yanchor\": \"top\"}, \"template\": {\"data\": {\"barpolar\": [{\"marker\": {\"line\": {\"color\": \"#E5ECF6\", \"width\": 0.5}, \"pattern\": {\"fillmode\": \"overlay\", \"size\": 10, \"solidity\": 0.2}}, \"type\": \"barpolar\"}], \"bar\": [{\"error_x\": {\"color\": \"#2a3f5f\"}, \"error_y\": {\"color\": \"#2a3f5f\"}, \"marker\": {\"line\": {\"color\": \"#E5ECF6\", \"width\": 0.5}, \"pattern\": {\"fillmode\": \"overlay\", \"size\": 10, \"solidity\": 0.2}}, \"type\": \"bar\"}], \"carpet\": [{\"aaxis\": {\"endlinecolor\": \"#2a3f5f\", \"gridcolor\": \"white\", \"linecolor\": \"white\", \"minorgridcolor\": \"white\", \"startlinecolor\": \"#2a3f5f\"}, \"baxis\": {\"endlinecolor\": \"#2a3f5f\", \"gridcolor\": \"white\", \"linecolor\": \"white\", \"minorgridcolor\": \"white\", \"startlinecolor\": \"#2a3f5f\"}, \"type\": \"carpet\"}], \"choropleth\": [{\"colorbar\": {\"outlinewidth\": 0, \"ticks\": \"\"}, \"type\": \"choropleth\"}], \"contourcarpet\": [{\"colorbar\": {\"outlinewidth\": 0, \"ticks\": \"\"}, \"type\": \"contourcarpet\"}], \"contour\": [{\"colorbar\": {\"outlinewidth\": 0, \"ticks\": \"\"}, \"colorscale\": [[0.0, \"#0d0887\"], [0.1111111111111111, \"#46039f\"], [0.2222222222222222, \"#7201a8\"], [0.3333333333333333, \"#9c179e\"], [0.4444444444444444, \"#bd3786\"], [0.5555555555555556, \"#d8576b\"], [0.6666666666666666, \"#ed7953\"], [0.7777777777777778, \"#fb9f3a\"], [0.8888888888888888, \"#fdca26\"], [1.0, \"#f0f921\"]], \"type\": \"contour\"}], \"heatmapgl\": [{\"colorbar\": {\"outlinewidth\": 0, \"ticks\": \"\"}, \"colorscale\": [[0.0, \"#0d0887\"], [0.1111111111111111, \"#46039f\"], [0.2222222222222222, \"#7201a8\"], [0.3333333333333333, \"#9c179e\"], [0.4444444444444444, \"#bd3786\"], [0.5555555555555556, \"#d8576b\"], [0.6666666666666666, \"#ed7953\"], [0.7777777777777778, \"#fb9f3a\"], [0.8888888888888888, \"#fdca26\"], [1.0, \"#f0f921\"]], \"type\": \"heatmapgl\"}], \"heatmap\": [{\"colorbar\": {\"outlinewidth\": 0, \"ticks\": \"\"}, \"colorscale\": [[0.0, \"#0d0887\"], [0.1111111111111111, \"#46039f\"], [0.2222222222222222, \"#7201a8\"], [0.3333333333333333, \"#9c179e\"], [0.4444444444444444, \"#bd3786\"], [0.5555555555555556, \"#d8576b\"], [0.6666666666666666, \"#ed7953\"], [0.7777777777777778, \"#fb9f3a\"], [0.8888888888888888, \"#fdca26\"], [1.0, \"#f0f921\"]], \"type\": \"heatmap\"}], \"histogram2dcontour\": [{\"colorbar\": {\"outlinewidth\": 0, \"ticks\": \"\"}, \"colorscale\": [[0.0, \"#0d0887\"], [0.1111111111111111, \"#46039f\"], [0.2222222222222222, \"#7201a8\"], [0.3333333333333333, \"#9c179e\"], [0.4444444444444444, \"#bd3786\"], [0.5555555555555556, \"#d8576b\"], [0.6666666666666666, \"#ed7953\"], [0.7777777777777778, \"#fb9f3a\"], [0.8888888888888888, \"#fdca26\"], [1.0, \"#f0f921\"]], \"type\": \"histogram2dcontour\"}], \"histogram2d\": [{\"colorbar\": {\"outlinewidth\": 0, \"ticks\": \"\"}, \"colorscale\": [[0.0, \"#0d0887\"], [0.1111111111111111, \"#46039f\"], [0.2222222222222222, \"#7201a8\"], [0.3333333333333333, \"#9c179e\"], [0.4444444444444444, \"#bd3786\"], [0.5555555555555556, \"#d8576b\"], [0.6666666666666666, \"#ed7953\"], [0.7777777777777778, \"#fb9f3a\"], [0.8888888888888888, \"#fdca26\"], [1.0, \"#f0f921\"]], \"type\": \"histogram2d\"}], \"histogram\": [{\"marker\": {\"pattern\": {\"fillmode\": \"overlay\", \"size\": 10, \"solidity\": 0.2}}, \"type\": \"histogram\"}], \"mesh3d\": [{\"colorbar\": {\"outlinewidth\": 0, \"ticks\": \"\"}, \"type\": \"mesh3d\"}], \"parcoords\": [{\"line\": {\"colorbar\": {\"outlinewidth\": 0, \"ticks\": \"\"}}, \"type\": \"parcoords\"}], \"pie\": [{\"automargin\": true, \"type\": \"pie\"}], \"scatter3d\": [{\"line\": {\"colorbar\": {\"outlinewidth\": 0, \"ticks\": \"\"}}, \"marker\": {\"colorbar\": {\"outlinewidth\": 0, \"ticks\": \"\"}}, \"type\": \"scatter3d\"}], \"scattercarpet\": [{\"marker\": {\"colorbar\": {\"outlinewidth\": 0, \"ticks\": \"\"}}, \"type\": \"scattercarpet\"}], \"scattergeo\": [{\"marker\": {\"colorbar\": {\"outlinewidth\": 0, \"ticks\": \"\"}}, \"type\": \"scattergeo\"}], \"scattergl\": [{\"marker\": {\"colorbar\": {\"outlinewidth\": 0, \"ticks\": \"\"}}, \"type\": \"scattergl\"}], \"scattermapbox\": [{\"marker\": {\"colorbar\": {\"outlinewidth\": 0, \"ticks\": \"\"}}, \"type\": \"scattermapbox\"}], \"scatterpolargl\": [{\"marker\": {\"colorbar\": {\"outlinewidth\": 0, \"ticks\": \"\"}}, \"type\": \"scatterpolargl\"}], \"scatterpolar\": [{\"marker\": {\"colorbar\": {\"outlinewidth\": 0, \"ticks\": \"\"}}, \"type\": \"scatterpolar\"}], \"scatter\": [{\"marker\": {\"colorbar\": {\"outlinewidth\": 0, \"ticks\": \"\"}}, \"type\": \"scatter\"}], \"scatterternary\": [{\"marker\": {\"colorbar\": {\"outlinewidth\": 0, \"ticks\": \"\"}}, \"type\": \"scatterternary\"}], \"surface\": [{\"colorbar\": {\"outlinewidth\": 0, \"ticks\": \"\"}, \"colorscale\": [[0.0, \"#0d0887\"], [0.1111111111111111, \"#46039f\"], [0.2222222222222222, \"#7201a8\"], [0.3333333333333333, \"#9c179e\"], [0.4444444444444444, \"#bd3786\"], [0.5555555555555556, \"#d8576b\"], [0.6666666666666666, \"#ed7953\"], [0.7777777777777778, \"#fb9f3a\"], [0.8888888888888888, \"#fdca26\"], [1.0, \"#f0f921\"]], \"type\": \"surface\"}], \"table\": [{\"cells\": {\"fill\": {\"color\": \"#EBF0F8\"}, \"line\": {\"color\": \"white\"}}, \"header\": {\"fill\": {\"color\": \"#C8D4E3\"}, \"line\": {\"color\": \"white\"}}, \"type\": \"table\"}]}, \"layout\": {\"annotationdefaults\": {\"arrowcolor\": \"#2a3f5f\", \"arrowhead\": 0, \"arrowwidth\": 1}, \"autotypenumbers\": \"strict\", \"coloraxis\": {\"colorbar\": {\"outlinewidth\": 0, \"ticks\": \"\"}}, \"colorscale\": {\"diverging\": [[0, \"#8e0152\"], [0.1, \"#c51b7d\"], [0.2, \"#de77ae\"], [0.3, \"#f1b6da\"], [0.4, \"#fde0ef\"], [0.5, \"#f7f7f7\"], [0.6, \"#e6f5d0\"], [0.7, \"#b8e186\"], [0.8, \"#7fbc41\"], [0.9, \"#4d9221\"], [1, \"#276419\"]], \"sequential\": [[0.0, \"#0d0887\"], [0.1111111111111111, \"#46039f\"], [0.2222222222222222, \"#7201a8\"], [0.3333333333333333, \"#9c179e\"], [0.4444444444444444, \"#bd3786\"], [0.5555555555555556, \"#d8576b\"], [0.6666666666666666, \"#ed7953\"], [0.7777777777777778, \"#fb9f3a\"], [0.8888888888888888, \"#fdca26\"], [1.0, \"#f0f921\"]], \"sequentialminus\": [[0.0, \"#0d0887\"], [0.1111111111111111, \"#46039f\"], [0.2222222222222222, \"#7201a8\"], [0.3333333333333333, \"#9c179e\"], [0.4444444444444444, \"#bd3786\"], [0.5555555555555556, \"#d8576b\"], [0.6666666666666666, \"#ed7953\"], [0.7777777777777778, \"#fb9f3a\"], [0.8888888888888888, \"#fdca26\"], [1.0, \"#f0f921\"]]}, \"colorway\": [\"#636efa\", \"#EF553B\", \"#00cc96\", \"#ab63fa\", \"#FFA15A\", \"#19d3f3\", \"#FF6692\", \"#B6E880\", \"#FF97FF\", \"#FECB52\"], \"font\": {\"color\": \"#2a3f5f\"}, \"geo\": {\"bgcolor\": \"white\", \"lakecolor\": \"white\", \"landcolor\": \"#E5ECF6\", \"showlakes\": true, \"showland\": true, \"subunitcolor\": \"white\"}, \"hoverlabel\": {\"align\": \"left\"}, \"hovermode\": \"closest\", \"mapbox\": {\"style\": \"light\"}, \"paper_bgcolor\": \"white\", \"plot_bgcolor\": \"#E5ECF6\", \"polar\": {\"angularaxis\": {\"gridcolor\": \"white\", \"linecolor\": \"white\", \"ticks\": \"\"}, \"bgcolor\": \"#E5ECF6\", \"radialaxis\": {\"gridcolor\": \"white\", \"linecolor\": \"white\", \"ticks\": \"\"}}, \"scene\": {\"xaxis\": {\"backgroundcolor\": \"#E5ECF6\", \"gridcolor\": \"white\", \"gridwidth\": 2, \"linecolor\": \"white\", \"showbackground\": true, \"ticks\": \"\", \"zerolinecolor\": \"white\"}, \"yaxis\": {\"backgroundcolor\": \"#E5ECF6\", \"gridcolor\": \"white\", \"gridwidth\": 2, \"linecolor\": \"white\", \"showbackground\": true, \"ticks\": \"\", \"zerolinecolor\": \"white\"}, \"zaxis\": {\"backgroundcolor\": \"#E5ECF6\", \"gridcolor\": \"white\", \"gridwidth\": 2, \"linecolor\": \"white\", \"showbackground\": true, \"ticks\": \"\", \"zerolinecolor\": \"white\"}}, \"shapedefaults\": {\"line\": {\"color\": \"#2a3f5f\"}}, \"ternary\": {\"aaxis\": {\"gridcolor\": \"white\", \"linecolor\": \"white\", \"ticks\": \"\"}, \"baxis\": {\"gridcolor\": \"white\", \"linecolor\": \"white\", \"ticks\": \"\"}, \"bgcolor\": \"#E5ECF6\", \"caxis\": {\"gridcolor\": \"white\", \"linecolor\": \"white\", \"ticks\": \"\"}}, \"title\": {\"x\": 0.05}, \"xaxis\": {\"automargin\": true, \"gridcolor\": \"white\", \"linecolor\": \"white\", \"ticks\": \"\", \"title\": {\"standoff\": 15}, \"zerolinecolor\": \"white\", \"zerolinewidth\": 2}, \"yaxis\": {\"automargin\": true, \"gridcolor\": \"white\", \"linecolor\": \"white\", \"ticks\": \"\", \"title\": {\"standoff\": 15}, \"zerolinecolor\": \"white\", \"zerolinewidth\": 2}}}, \"title\": {\"text\": \"v3\", \"x\": 0.5, \"xanchor\": \"center\"}, \"xaxis\": {\"anchor\": \"y\", \"domain\": [0.0, 1.0], \"dtick\": 0.05, \"fixedrange\": true, \"gridcolor\": \"black\", \"linecolor\": \"black\", \"range\": [0, 0.4], \"showgrid\": false}, \"yaxis\": {\"anchor\": \"x\", \"autorange\": true, \"color\": \"black\", \"domain\": [0.9200000000000002, 1.0], \"fixedrange\": true, \"rangemode\": \"normal\", \"showgrid\": false, \"showline\": false, \"showticklabels\": false, \"zeroline\": false}, \"xaxis2\": {\"anchor\": \"y2\", \"domain\": [0.0, 1.0], \"fixedrange\": false, \"range\": [-3.090116583700542, 2.4835606322523067], \"title\": {\"text\": \"v3\"}}, \"yaxis2\": {\"anchor\": \"x2\", \"domain\": [0.0, 0.7200000000000001], \"fixedrange\": true, \"title\": {\"text\": \"Probability Density\"}}}, \"_py2js_addTraces\": {}, \"_py2js_animate\": {}, \"_py2js_deleteTraces\": {}, \"_py2js_moveTraces\": {}, \"_py2js_relayout\": {}, \"_py2js_removeLayoutProps\": {}, \"_py2js_removeTraceProps\": {}, \"_py2js_restyle\": {}, \"_py2js_update\": {}, \"_view_count\": 0}, \"buffers\": [{\"encoding\": \"base64\", \"path\": [\"_data\", 1, \"y\", \"buffer\"], \"data\": \"iQzQjxOi0T7QVXVO8a/vPjF5YyrDJuw+o0TpDNRI4T4zEh97n6/RPi4Seddg0qI+lIq+D6Z05z4J1QNO+dTnPhPfn1x4G7Q+lPJ80N+Mzj5pxWt7oE7mPsvqHg/1Bvg+W6Uo7CQ5+z6adekMx4vpPgEIPzWw/tU+lNWZYX975z4SmNCnzP77PiXXLu/4mQU/PTCFTbtE+T6ucit/8lX+Pok7qfGVBQg/hqbIkuS2Dj/7UqKCdMYRP64hjWcgxhc/siP51//7Gz+1hvuanXEcP3Wgr99wlSI/X2jfaXQLMz86Jgi3IAA4PwXHMGIGTjw/73HmZxQzRT9iScs3omNQP3SxjSJu6Vo/TIn1G283bj8B1dNsgCGKP8vCqIn2mpo/lPSeWoiMmz+3Gu8gjbSlP2EIbuVO+6s/xlZsho9trD+1e3aeKTe1P3cPXyU3e7U/8/6tKe6ruz9OCVyVU7i7P/4QQgZeBL4/d8Qi7S4JwD8p98DljwzAP/0JbRSPfME/gJ9NuwWQwT/rEWgOBNrCP43gXgCn+sI/34DiXCoBxD+/CTBrDzrEPzwUy9kpC8U/1TvO8C43xT8nEsAysu3FP7iOfestD8Y/UVNTpp3Fxj/PV0iTZuDGP6QYL8w7NMc/YHzoVb/gxz9+ApHm+gPIP323l/bmC8k/ahDD6H8wyT8Wr+Xm2EHKPwaO1KrvZ8o/okCb2QF0yz+zx7IiY63LP4nTfjoklsw/a0y26IzRzD8oP2CwOqrNP61Yds2j3s0/+FxEagynzj971kJr6dzOP3YqxFp0pc8/stXoo1XWzz+K2HKnZ1PQP9Wqz1EZb9A/i66bqsiq0D9K6EGzoMrQP0EIlQL26NA/jAQDQeE60T8Xoxp2CVXRPz7GbTmYfdE/DXNgqVqL0T88RpcT9ajRP3cSqWpDvdE/BvTTL1T/0T8EWjFUoA/SP2vBTVvCPdI/a8FNW8I90j9Df6AL5ErSP0N/oAvkStI/6MQp7YNy0j8oD6chcHzSP6Amhod9ktI/Fo9ilqmY0j9CvOxYZKzSP/R8p0STr9I//1vZ6Xm30j8Rpz8q3LfSP+FzuTFHs9I/rS7CV6+w0j9Tf1zdGp/SPxecOIASmdI//xkFHLh+0j8VaLHUi3bSP2SXDkqOTNI/K03wRhRD0j9Y9H32XTDSP81Uc7cnD9I/sutsL3gC0j8yHNa03MHRP68FmeQxrtE/aFDExf5q0T/sXXmavk7RPy0SQI6o/9A//9FyIhPp0D+P04Y2O43QP0j6IbmIddA/E7BMq8MC0D+F5mk9hdTPP4eX3mz16M4/F4tvqlupzj8Ty9w+PaHNP5UxClFpe80/CVCZ5dEczD9sqFX57ubLPxVT2UG6Wso/rbLq+RQRyj/tRjCc2iXIPy2e1uQt+Mc/3HC7ITpVxz+RTbIVqcDFPzjVGDyfj8U/BLJ0gRMGwz9nr+TzN+TCPyCODwt/P78/i6h1uHS8vj9MGLRsnJi3P3Z/zAIS7LY/QhMPzluZrT8v1XCoIGitP+vniN7i26w/nJ3yUdaAgT+gzQfwtSc8P0pH2myUpME+aZaQOfTD7T3BfTl00dumPNZkVJsWkeQ6OHNv4XCJozje+LIqxQ/jNQ==\"}, {\"encoding\": \"base64\", \"path\": [\"_data\", 4, \"y\", \"buffer\"], \"data\": \"IMFJ9CMy9D5UeTuw8s60PltBq0IL+JQ+gW3Iem+O8T7S0BWfmz3PPqf/QZ6WgS0+4S6k9bcSNT4fLPQEATrSPqbvK/EUw/Q+h4GAprWc8T5KIA/zpPyTPmH0a1cvzNA+m+nqTm8r8T7z/GQ04mGXPuqx8ElQju4+MeTYY22UBj+LkJoyxxLlPhwRjcu4m/8+h501nUpaAj9yfd3fkUALP9xaUqSbKAE/VEm0BglL+T5tpl0LI0UWPxAO+jKc4iM/WJQksUuMHD+QrR94xDYSPzohrtJdRxw/TkFdwlxHLz/LWa+dLf81P1dVQYM0mUE/chHHmGQYST/sNSAeeF5TP0F7e117OWE/UrQHHD7ZcD9Yyt5luJ6JP3c6NzuAHpo/6PWBO0wSmz9e4R54J5ylPylk6fnz3as/m3dElgFOrD8PsO+RMtu0PxSezrJwG7U/R+rD7cLzuj/aCRwXh/+6P3XsCxhLML0/5KU4b+Qrvz/0ithTdjK/P/YaxzABBME/FBG+yIQXwT9ToEWB2WjCP3Nsp7zwisI//1cBvuGhwz/eapN4Qd/DPzWTqb7DwcQ/OaKY/lLxxD+weLnqebTFP2VfPjXO18U/YeoAzFaVxj8oEn6lwbDGP1dp06P2Bcc/ppuVtOmyxz/asN2K7dXHP61dLgtX2sg/rN0Hr07+yD/M6gwTAwvKP7/ogGWIMMo/z2vyrbM5yz/ENwFwwnLLP6+6ALFyW8w/S9Y4jyuXzD8FlK28IHLNP2nqWKxZp80/zWkUh7tzzj836l314arOP7pmfJbseM8/iPzVVEurzz8sULTfUkHQP2PO11r9XdA/J1iLlNSb0D9pPejy2bzQPyEX35tR3NA/vfIFUVcx0T/njmnrfkzRP3oJWy+adtE/rxScKuOE0T8/c/v+nqPRP/MmmNOzuNE/lCz5rkv90T/qmACBOA7SP5w9OxooPtI/nD07Gig+0j9RXu5v0EvSP1Fe7m/QS9I/lSq/rxl10j8+dF8ceH/SPwLttOeZltI/jay5aByd0j/QC+ABLLLSPyAy0HymtdI/bL+Ayte+0j89umuBkb/SP5pEgltGvNI/lyKizQS60j8z0IFl/6nSP2yW+kpkpNI/O2kjzq+L0j92Meg+/IPSPxpI8HFJXNI/9Dy0GE9T0j84KOOdkUHSP/zCLJEMItI/OCSvBAAW0j8vDM2zjdjRP1QTcqzRxdE/U0cO466F0T/3QKMCqGrRP7MDIYzDHtE/JL2bUAYJ0T9lyIBGSbDQP/wtQm9NmdA/RyDGj3op0D9lYRcKfxHQP37YXstxO88/8LuDO6j8zj99VT7Ly/bNP5eUiVon0c0/8pnHrdhyzD+0+7i6yzzMPyNqV6D8rco/XlzHW59jyj8IkuRiNXLIP4mzZ4bcQ8g/CBwWIWqexz9djpnVOgPGPyszSnpe0cU/JBoJBEI9wz9vKynW4xrDPz5JMM3rmL8/80YJTtsUvz9YbiQJwOu3P1BaDuxuP7c/0FlyagFBrj/GsnUwgg+uP7RAm1Vygq0/5aEjq25Cgj940ReXR31APw47Mo3E/MM+VGOT6rnA3T1X/Htmx1O8PK0znLEIwvY9QFylKNjOtD41uEn0IzL0Pg==\"}]}, \"80bb5f3b15ba41eab071866a58897e4c\": {\"model_name\": \"HTMLModel\", \"model_module\": \"@jupyter-widgets/controls\", \"model_module_version\": \"1.5.0\", \"state\": {\"_dom_classes\": [], \"layout\": \"IPY_MODEL_8af4095486a94587b9f00e32d488c92d\", \"style\": \"IPY_MODEL_ad841eaabb9c48adb631a5fb8e76ac22\", \"value\": \"<div><p style=\\\"font-size:0.9em;line-height:1;\\\"><i>Note - data sampling: Running on 100000 <b>train</b> data samples out of 224529. Sample size can be controlled with the \\\"n_samples\\\" parameter.</i></p></div>\"}}, \"8af4095486a94587b9f00e32d488c92d\": {\"model_name\": \"LayoutModel\", \"model_module\": \"@jupyter-widgets/base\", \"model_module_version\": \"1.2.0\", \"state\": {}}, \"ad841eaabb9c48adb631a5fb8e76ac22\": {\"model_name\": \"DescriptionStyleModel\", \"model_module\": \"@jupyter-widgets/controls\", \"model_module_version\": \"1.5.0\", \"state\": {}}, \"904cc5ebc1fc4e16b30040c89c5e42cf\": {\"model_name\": \"HTMLModel\", \"model_module\": \"@jupyter-widgets/controls\", \"model_module_version\": \"1.5.0\", \"state\": {\"_dom_classes\": [], \"layout\": \"IPY_MODEL_7522288f145e491a85f609d1a6ab9e15\", \"style\": \"IPY_MODEL_8c6d81e84abb46f895ebdc243c39b4c7\", \"value\": \"<br><a href=\\\"#summary_None-section-Y3S67\\\" style=\\\"font-size: 14px;\\\">Go to top</a>\"}}, \"7522288f145e491a85f609d1a6ab9e15\": {\"model_name\": \"LayoutModel\", \"model_module\": \"@jupyter-widgets/base\", \"model_module_version\": \"1.2.0\", \"state\": {}}, \"8c6d81e84abb46f895ebdc243c39b4c7\": {\"model_name\": \"DescriptionStyleModel\", \"model_module\": \"@jupyter-widgets/controls\", \"model_module_version\": \"1.5.0\", \"state\": {}}, \"a91a5250de8042ef9cb439fce578aeed\": {\"model_name\": \"LayoutModel\", \"model_module\": \"@jupyter-widgets/base\", \"model_module_version\": \"1.2.0\", \"state\": {}}, \"3fc48541ba3941efa46a370a815f24e5\": {\"model_name\": \"LayoutModel\", \"model_module\": \"@jupyter-widgets/base\", \"model_module_version\": \"1.2.0\", \"state\": {}}, \"f892e1c7009b451797cc2a8f1a7f73f3\": {\"model_name\": \"LayoutModel\", \"model_module\": \"@jupyter-widgets/base\", \"model_module_version\": \"1.2.0\", \"state\": {}}, \"8f12e032803248cdabbb60057d461bf4\": {\"model_name\": \"LayoutModel\", \"model_module\": \"@jupyter-widgets/base\", \"model_module_version\": \"1.2.0\", \"state\": {}}, \"8283819926c741d0b281e42ac6035549\": {\"model_name\": \"LayoutModel\", \"model_module\": \"@jupyter-widgets/base\", \"model_module_version\": \"1.2.0\", \"state\": {}}, \"e8fac1003d7b49d88df20f5e92c49bd5\": {\"model_name\": \"VBoxModel\", \"model_module\": \"@jupyter-widgets/controls\", \"model_module_version\": \"1.5.0\", \"state\": {\"_dom_classes\": [], \"children\": [\"IPY_MODEL_6c7d03af6fc2455699b442a2bef41a8f\", \"IPY_MODEL_5496a238c8774f5f9391e266856e61b6\"], \"layout\": \"IPY_MODEL_2feddc97f6ed41a9b6bfaccb9c649edc\"}}, \"6c7d03af6fc2455699b442a2bef41a8f\": {\"model_name\": \"HTMLModel\", \"model_module\": \"@jupyter-widgets/controls\", \"model_module_version\": \"1.5.0\", \"state\": {\"_dom_classes\": [], \"layout\": \"IPY_MODEL_795a4f65a7e043a8be06f3479b2f5b50\", \"style\": \"IPY_MODEL_a07f75ae94c14f6ba6fec6db1d29a471\"}}, \"795a4f65a7e043a8be06f3479b2f5b50\": {\"model_name\": \"LayoutModel\", \"model_module\": \"@jupyter-widgets/base\", \"model_module_version\": \"1.2.0\", \"state\": {}}, \"a07f75ae94c14f6ba6fec6db1d29a471\": {\"model_name\": \"DescriptionStyleModel\", \"model_module\": \"@jupyter-widgets/controls\", \"model_module_version\": \"1.5.0\", \"state\": {}}, \"5496a238c8774f5f9391e266856e61b6\": {\"model_name\": \"AccordionModel\", \"model_module\": \"@jupyter-widgets/controls\", \"model_module_version\": \"1.5.0\", \"state\": {\"_dom_classes\": [\"rendered_html\", \"jp-RenderedHTMLCommon\", \"jp-RenderedHTML\", \"jp-OutputArea-output\"], \"_titles\": {\"0\": \"Other\"}, \"children\": [\"IPY_MODEL_a7b6e997d7d749989851f7239924725c\"], \"layout\": \"IPY_MODEL_56c97e81da144902aa7e1f1b04756717\", \"selected_index\": null}}, \"a7b6e997d7d749989851f7239924725c\": {\"model_name\": \"HTMLModel\", \"model_module\": \"@jupyter-widgets/controls\", \"model_module_version\": \"1.5.0\", \"state\": {\"_dom_classes\": [], \"layout\": \"IPY_MODEL_22b3a8a1e70b486986ea374292196554\", \"style\": \"IPY_MODEL_6e4ded40825b4b8ea56f91c0e7429d91\", \"value\": \"<p>No outputs to show.</p>\"}}, \"22b3a8a1e70b486986ea374292196554\": {\"model_name\": \"LayoutModel\", \"model_module\": \"@jupyter-widgets/base\", \"model_module_version\": \"1.2.0\", \"state\": {}}, \"6e4ded40825b4b8ea56f91c0e7429d91\": {\"model_name\": \"DescriptionStyleModel\", \"model_module\": \"@jupyter-widgets/controls\", \"model_module_version\": \"1.5.0\", \"state\": {}}, \"56c97e81da144902aa7e1f1b04756717\": {\"model_name\": \"LayoutModel\", \"model_module\": \"@jupyter-widgets/base\", \"model_module_version\": \"1.2.0\", \"state\": {}}, \"2feddc97f6ed41a9b6bfaccb9c649edc\": {\"model_name\": \"LayoutModel\", \"model_module\": \"@jupyter-widgets/base\", \"model_module_version\": \"1.2.0\", \"state\": {}}, \"6d2ccb763b354826bdfda0e335f877c8\": {\"model_name\": \"VBoxModel\", \"model_module\": \"@jupyter-widgets/controls\", \"model_module_version\": \"1.5.0\", \"state\": {\"_dom_classes\": [], \"children\": [\"IPY_MODEL_cf0ec26bd76c4ae88d5cc4e03c47ce4e\", \"IPY_MODEL_8acef1fd8f5f441cbfe69ee6a62ff7ba\"], \"layout\": \"IPY_MODEL_5d7a08088b284d919f0e1500e7c0cfca\"}}, \"cf0ec26bd76c4ae88d5cc4e03c47ce4e\": {\"model_name\": \"HTMLModel\", \"model_module\": \"@jupyter-widgets/controls\", \"model_module_version\": \"1.5.0\", \"state\": {\"_dom_classes\": [], \"layout\": \"IPY_MODEL_567007946b7d4a06bfea1fd1e7aa74ac\", \"style\": \"IPY_MODEL_93a14b58810847eb84f699b48590cb75\"}}, \"567007946b7d4a06bfea1fd1e7aa74ac\": {\"model_name\": \"LayoutModel\", \"model_module\": \"@jupyter-widgets/base\", \"model_module_version\": \"1.2.0\", \"state\": {}}, \"93a14b58810847eb84f699b48590cb75\": {\"model_name\": \"DescriptionStyleModel\", \"model_module\": \"@jupyter-widgets/controls\", \"model_module_version\": \"1.5.0\", \"state\": {}}, \"8acef1fd8f5f441cbfe69ee6a62ff7ba\": {\"model_name\": \"AccordionModel\", \"model_module\": \"@jupyter-widgets/controls\", \"model_module_version\": \"1.5.0\", \"state\": {\"_dom_classes\": [\"rendered_html\", \"jp-RenderedHTMLCommon\", \"jp-RenderedHTML\", \"jp-OutputArea-output\"], \"_titles\": {\"0\": \"Didn't Run\"}, \"children\": [\"IPY_MODEL_684968d644444242af42db8fb93d79ae\"], \"layout\": \"IPY_MODEL_295ecd51ef0b43f3b8c9e25b74068dc9\", \"selected_index\": null}}, \"684968d644444242af42db8fb93d79ae\": {\"model_name\": \"HTMLModel\", \"model_module\": \"@jupyter-widgets/controls\", \"model_module_version\": \"1.5.0\", \"state\": {\"_dom_classes\": [], \"layout\": \"IPY_MODEL_e2f65e999e3b49d696c16494444aaffe\", \"style\": \"IPY_MODEL_9e34f9b08e334fa7bbfa373d12911d64\", \"value\": \"<style type=\\\"text/css\\\">\\n#T_40cb5_ table {\\n  text-align: left;\\n  white-space: pre-wrap;\\n}\\n#T_40cb5_ thead {\\n  text-align: left;\\n  white-space: pre-wrap;\\n}\\n#T_40cb5_ tbody {\\n  text-align: left;\\n  white-space: pre-wrap;\\n}\\n#T_40cb5_ th {\\n  text-align: left;\\n  white-space: pre-wrap;\\n}\\n#T_40cb5_ td {\\n  text-align: left;\\n  white-space: pre-wrap;\\n}\\n</style>\\n<table id=\\\"T_40cb5_\\\">\\n  <thead>\\n    <tr>\\n      <th class=\\\"col_heading level0 col0\\\" >Check</th>\\n      <th class=\\\"col_heading level0 col1\\\" >Reason</th>\\n    </tr>\\n  </thead>\\n  <tbody>\\n    <tr>\\n      <td id=\\\"T_40cb5_row0_col0\\\" class=\\\"data row0 col0\\\" >New Label Train Test</td>\\n      <td id=\\\"T_40cb5_row0_col1\\\" class=\\\"data row0 col1\\\" >Dataset does not contain a label column. see <a href=\\\"https://docs.deepchecks.com/0.9/user-guide/tabular/dataset_object.html?html?utm_source=display_output&utm_medium=referral&utm_campaign=check_link\\\" target=\\\"_blank\\\">Dataset docs</a></td>\\n    </tr>\\n    <tr>\\n      <td id=\\\"T_40cb5_row1_col0\\\" class=\\\"data row1 col0\\\" >Date Train Test Leakage Duplicates</td>\\n      <td id=\\\"T_40cb5_row1_col1\\\" class=\\\"data row1 col1\\\" >DatasetValidationError: Dataset does not contain a datetime. see <a href=\\\"https://docs.deepchecks.com/0.9/user-guide/tabular/dataset_object.html?html?utm_source=display_output&utm_medium=referral&utm_campaign=check_link\\\" target=\\\"_blank\\\">Dataset docs</a></td>\\n    </tr>\\n    <tr>\\n      <td id=\\\"T_40cb5_row2_col0\\\" class=\\\"data row2 col0\\\" >Date Train Test Leakage Overlap</td>\\n      <td id=\\\"T_40cb5_row2_col1\\\" class=\\\"data row2 col1\\\" >DatasetValidationError: Dataset does not contain a datetime. see <a href=\\\"https://docs.deepchecks.com/0.9/user-guide/tabular/dataset_object.html?html?utm_source=display_output&utm_medium=referral&utm_campaign=check_link\\\" target=\\\"_blank\\\">Dataset docs</a></td>\\n    </tr>\\n    <tr>\\n      <td id=\\\"T_40cb5_row3_col0\\\" class=\\\"data row3 col0\\\" >Index Train Test Leakage</td>\\n      <td id=\\\"T_40cb5_row3_col1\\\" class=\\\"data row3 col1\\\" >DatasetValidationError: Dataset does not contain an index. see <a href=\\\"https://docs.deepchecks.com/0.9/user-guide/tabular/dataset_object.html?html?utm_source=display_output&utm_medium=referral&utm_campaign=check_link\\\" target=\\\"_blank\\\">Dataset docs</a></td>\\n    </tr>\\n    <tr>\\n      <td id=\\\"T_40cb5_row4_col0\\\" class=\\\"data row4 col0\\\" >Feature Label Correlation Change</td>\\n      <td id=\\\"T_40cb5_row4_col1\\\" class=\\\"data row4 col1\\\" >Dataset does not contain a label column. see <a href=\\\"https://docs.deepchecks.com/0.9/user-guide/tabular/dataset_object.html?html?utm_source=display_output&utm_medium=referral&utm_campaign=check_link\\\" target=\\\"_blank\\\">Dataset docs</a></td>\\n    </tr>\\n    <tr>\\n      <td id=\\\"T_40cb5_row5_col0\\\" class=\\\"data row5 col0\\\" >Train Test Label Drift</td>\\n      <td id=\\\"T_40cb5_row5_col1\\\" class=\\\"data row5 col1\\\" >Dataset does not contain a label column. see <a href=\\\"https://docs.deepchecks.com/0.9/user-guide/tabular/dataset_object.html?html?utm_source=display_output&utm_medium=referral&utm_campaign=check_link\\\" target=\\\"_blank\\\">Dataset docs</a></td>\\n    </tr>\\n  </tbody>\\n</table>\\n\"}}, \"e2f65e999e3b49d696c16494444aaffe\": {\"model_name\": \"LayoutModel\", \"model_module\": \"@jupyter-widgets/base\", \"model_module_version\": \"1.2.0\", \"state\": {}}, \"9e34f9b08e334fa7bbfa373d12911d64\": {\"model_name\": \"DescriptionStyleModel\", \"model_module\": \"@jupyter-widgets/controls\", \"model_module_version\": \"1.5.0\", \"state\": {}}, \"295ecd51ef0b43f3b8c9e25b74068dc9\": {\"model_name\": \"LayoutModel\", \"model_module\": \"@jupyter-widgets/base\", \"model_module_version\": \"1.2.0\", \"state\": {}}, \"5d7a08088b284d919f0e1500e7c0cfca\": {\"model_name\": \"LayoutModel\", \"model_module\": \"@jupyter-widgets/base\", \"model_module_version\": \"1.2.0\", \"state\": {}}, \"5314e1e63dab4472b802a1e850eb41a1\": {\"model_name\": \"LayoutModel\", \"model_module\": \"@jupyter-widgets/base\", \"model_module_version\": \"1.2.0\", \"state\": {}}, \"b025d9a1737d456d8c02231b1c4bd9d0\": {\"model_name\": \"LayoutModel\", \"model_module\": \"@jupyter-widgets/base\", \"model_module_version\": \"1.2.0\", \"state\": {}}}}\n",
       "</script>\n",
       "<script type=\"application/vnd.jupyter.widget-view+json\">\n",
       "{\"version_major\": 2, \"version_minor\": 0, \"model_id\": \"99d211def39240beb34bbe90e626718f\"}\n",
       "</script>\n",
       "\n",
       "</body>\n",
       "</html>"
      ]
     },
     "metadata": {},
     "output_type": "display_data"
    }
   ],
   "source": [
    "from deepchecks.tabular.suites import train_test_validation\n",
    "\n",
    "validation_suite = train_test_validation()\n",
    "suite_result = validation_suite.run(X_train, X_test)\n",
    "# Note: the result can be saved as html using suite_result.save_as_html()\n",
    "# or exported to json using suite_result.to_json()\n",
    "suite_result"
   ]
  },
  {
   "cell_type": "code",
   "execution_count": null,
   "metadata": {
    "id": "UenR5sd7vpnf"
   },
   "outputs": [],
   "source": []
  },
  {
   "cell_type": "code",
   "execution_count": null,
   "metadata": {
    "id": "BA56rif3vpk7"
   },
   "outputs": [],
   "source": []
  },
  {
   "cell_type": "code",
   "execution_count": null,
   "metadata": {
    "id": "k_u-dGtpvpik"
   },
   "outputs": [],
   "source": []
  },
  {
   "cell_type": "code",
   "execution_count": null,
   "metadata": {
    "id": "BSybnEq4vpf1"
   },
   "outputs": [],
   "source": []
  },
  {
   "cell_type": "code",
   "execution_count": null,
   "metadata": {
    "id": "-_mjmBjIvpdG"
   },
   "outputs": [],
   "source": []
  },
  {
   "cell_type": "code",
   "execution_count": null,
   "metadata": {
    "id": "byzVMjDPvpau"
   },
   "outputs": [],
   "source": []
  },
  {
   "cell_type": "code",
   "execution_count": null,
   "metadata": {
    "id": "jCv4onWDq71b"
   },
   "outputs": [],
   "source": []
  },
  {
   "cell_type": "markdown",
   "metadata": {
    "id": "OV28RJBeMuHb"
   },
   "source": [
    "#### Scaling"
   ]
  },
  {
   "cell_type": "code",
   "execution_count": 31,
   "metadata": {
    "colab": {
     "base_uri": "https://localhost:8080/",
     "height": 364
    },
    "executionInfo": {
     "elapsed": 770,
     "status": "ok",
     "timestamp": 1668187455248,
     "user": {
      "displayName": "Ahmet Gültekin",
      "userId": "03706301285824263679"
     },
     "user_tz": -180
    },
    "id": "AuzpxEmKMuHb",
    "outputId": "6b6e113e-06bb-44a8-d1de-cecbd990ce5f"
   },
   "outputs": [
    {
     "data": {
      "text/html": [
       "\n",
       "  <div id=\"df-02a3c59b-9cd8-4d34-b5c7-dd2d87527c1d\">\n",
       "    <div class=\"colab-df-container\">\n",
       "      <div>\n",
       "<style scoped>\n",
       "    .dataframe tbody tr th:only-of-type {\n",
       "        vertical-align: middle;\n",
       "    }\n",
       "\n",
       "    .dataframe tbody tr th {\n",
       "        vertical-align: top;\n",
       "    }\n",
       "\n",
       "    .dataframe thead th {\n",
       "        text-align: right;\n",
       "    }\n",
       "</style>\n",
       "<table border=\"1\" class=\"dataframe\">\n",
       "  <thead>\n",
       "    <tr style=\"text-align: right;\">\n",
       "      <th></th>\n",
       "      <th>time</th>\n",
       "      <th>v1</th>\n",
       "      <th>v2</th>\n",
       "      <th>v3</th>\n",
       "      <th>v4</th>\n",
       "      <th>v5</th>\n",
       "      <th>v6</th>\n",
       "      <th>v7</th>\n",
       "      <th>v8</th>\n",
       "      <th>v9</th>\n",
       "      <th>v10</th>\n",
       "      <th>v11</th>\n",
       "      <th>v12</th>\n",
       "      <th>v13</th>\n",
       "      <th>v14</th>\n",
       "      <th>v15</th>\n",
       "      <th>v16</th>\n",
       "      <th>v17</th>\n",
       "      <th>v18</th>\n",
       "      <th>v19</th>\n",
       "      <th>v20</th>\n",
       "      <th>v21</th>\n",
       "      <th>v22</th>\n",
       "      <th>v23</th>\n",
       "      <th>v24</th>\n",
       "      <th>v25</th>\n",
       "      <th>v26</th>\n",
       "      <th>v27</th>\n",
       "      <th>v28</th>\n",
       "      <th>amount</th>\n",
       "      <th>class</th>\n",
       "    </tr>\n",
       "  </thead>\n",
       "  <tbody>\n",
       "    <tr>\n",
       "      <th>count</th>\n",
       "      <td>280662.000</td>\n",
       "      <td>280662.000</td>\n",
       "      <td>280662.000</td>\n",
       "      <td>280662.000</td>\n",
       "      <td>280662.000</td>\n",
       "      <td>280662.000</td>\n",
       "      <td>280662.000</td>\n",
       "      <td>280662.000</td>\n",
       "      <td>280662.000</td>\n",
       "      <td>280662.000</td>\n",
       "      <td>280662.000</td>\n",
       "      <td>280662.000</td>\n",
       "      <td>280662.000</td>\n",
       "      <td>280662.000</td>\n",
       "      <td>280662.000</td>\n",
       "      <td>280662.000</td>\n",
       "      <td>280662.000</td>\n",
       "      <td>280662.000</td>\n",
       "      <td>280662.000</td>\n",
       "      <td>280662.000</td>\n",
       "      <td>280662.000</td>\n",
       "      <td>280662.000</td>\n",
       "      <td>280662.000</td>\n",
       "      <td>280662.000</td>\n",
       "      <td>280662.000</td>\n",
       "      <td>280662.000</td>\n",
       "      <td>280662.000</td>\n",
       "      <td>280662.000</td>\n",
       "      <td>280662.000</td>\n",
       "      <td>280662.000</td>\n",
       "      <td>280662.000</td>\n",
       "    </tr>\n",
       "    <tr>\n",
       "      <th>mean</th>\n",
       "      <td>94827.560</td>\n",
       "      <td>0.040</td>\n",
       "      <td>0.056</td>\n",
       "      <td>0.028</td>\n",
       "      <td>-0.015</td>\n",
       "      <td>0.037</td>\n",
       "      <td>-0.020</td>\n",
       "      <td>-0.036</td>\n",
       "      <td>0.009</td>\n",
       "      <td>0.002</td>\n",
       "      <td>0.007</td>\n",
       "      <td>-0.001</td>\n",
       "      <td>0.000</td>\n",
       "      <td>0.000</td>\n",
       "      <td>-0.003</td>\n",
       "      <td>0.000</td>\n",
       "      <td>-0.000</td>\n",
       "      <td>-0.000</td>\n",
       "      <td>0.000</td>\n",
       "      <td>0.003</td>\n",
       "      <td>-0.022</td>\n",
       "      <td>-0.007</td>\n",
       "      <td>0.005</td>\n",
       "      <td>0.007</td>\n",
       "      <td>-0.001</td>\n",
       "      <td>0.002</td>\n",
       "      <td>0.000</td>\n",
       "      <td>0.001</td>\n",
       "      <td>-0.000</td>\n",
       "      <td>70.068</td>\n",
       "      <td>0.002</td>\n",
       "    </tr>\n",
       "    <tr>\n",
       "      <th>std</th>\n",
       "      <td>47492.263</td>\n",
       "      <td>1.877</td>\n",
       "      <td>1.453</td>\n",
       "      <td>1.472</td>\n",
       "      <td>1.401</td>\n",
       "      <td>1.257</td>\n",
       "      <td>1.282</td>\n",
       "      <td>1.073</td>\n",
       "      <td>1.164</td>\n",
       "      <td>1.092</td>\n",
       "      <td>1.070</td>\n",
       "      <td>1.018</td>\n",
       "      <td>0.995</td>\n",
       "      <td>0.996</td>\n",
       "      <td>0.952</td>\n",
       "      <td>0.914</td>\n",
       "      <td>0.869</td>\n",
       "      <td>0.843</td>\n",
       "      <td>0.834</td>\n",
       "      <td>0.810</td>\n",
       "      <td>0.616</td>\n",
       "      <td>0.706</td>\n",
       "      <td>0.718</td>\n",
       "      <td>0.501</td>\n",
       "      <td>0.605</td>\n",
       "      <td>0.514</td>\n",
       "      <td>0.481</td>\n",
       "      <td>0.375</td>\n",
       "      <td>0.295</td>\n",
       "      <td>126.449</td>\n",
       "      <td>0.041</td>\n",
       "    </tr>\n",
       "    <tr>\n",
       "      <th>min</th>\n",
       "      <td>0.000</td>\n",
       "      <td>-46.855</td>\n",
       "      <td>-47.430</td>\n",
       "      <td>-33.681</td>\n",
       "      <td>-5.683</td>\n",
       "      <td>-23.670</td>\n",
       "      <td>-23.497</td>\n",
       "      <td>-43.557</td>\n",
       "      <td>-73.217</td>\n",
       "      <td>-13.434</td>\n",
       "      <td>-24.588</td>\n",
       "      <td>-4.797</td>\n",
       "      <td>-18.684</td>\n",
       "      <td>-5.792</td>\n",
       "      <td>-19.214</td>\n",
       "      <td>-4.499</td>\n",
       "      <td>-14.130</td>\n",
       "      <td>-25.163</td>\n",
       "      <td>-9.499</td>\n",
       "      <td>-4.933</td>\n",
       "      <td>-23.420</td>\n",
       "      <td>-34.830</td>\n",
       "      <td>-8.887</td>\n",
       "      <td>-36.666</td>\n",
       "      <td>-2.837</td>\n",
       "      <td>-7.496</td>\n",
       "      <td>-2.069</td>\n",
       "      <td>-22.566</td>\n",
       "      <td>-11.711</td>\n",
       "      <td>0.000</td>\n",
       "      <td>0.000</td>\n",
       "    </tr>\n",
       "    <tr>\n",
       "      <th>25%</th>\n",
       "      <td>54250.000</td>\n",
       "      <td>-0.896</td>\n",
       "      <td>-0.576</td>\n",
       "      <td>-0.859</td>\n",
       "      <td>-0.856</td>\n",
       "      <td>-0.669</td>\n",
       "      <td>-0.773</td>\n",
       "      <td>-0.559</td>\n",
       "      <td>-0.204</td>\n",
       "      <td>-0.639</td>\n",
       "      <td>-0.528</td>\n",
       "      <td>-0.762</td>\n",
       "      <td>-0.403</td>\n",
       "      <td>-0.649</td>\n",
       "      <td>-0.428</td>\n",
       "      <td>-0.581</td>\n",
       "      <td>-0.466</td>\n",
       "      <td>-0.484</td>\n",
       "      <td>-0.497</td>\n",
       "      <td>-0.451</td>\n",
       "      <td>-0.212</td>\n",
       "      <td>-0.229</td>\n",
       "      <td>-0.538</td>\n",
       "      <td>-0.158</td>\n",
       "      <td>-0.355</td>\n",
       "      <td>-0.316</td>\n",
       "      <td>-0.326</td>\n",
       "      <td>-0.069</td>\n",
       "      <td>-0.053</td>\n",
       "      <td>5.460</td>\n",
       "      <td>0.000</td>\n",
       "    </tr>\n",
       "    <tr>\n",
       "      <th>50%</th>\n",
       "      <td>84725.500</td>\n",
       "      <td>0.041</td>\n",
       "      <td>0.075</td>\n",
       "      <td>0.195</td>\n",
       "      <td>-0.030</td>\n",
       "      <td>-0.042</td>\n",
       "      <td>-0.282</td>\n",
       "      <td>0.032</td>\n",
       "      <td>0.025</td>\n",
       "      <td>-0.050</td>\n",
       "      <td>-0.090</td>\n",
       "      <td>-0.033</td>\n",
       "      <td>0.141</td>\n",
       "      <td>-0.013</td>\n",
       "      <td>0.047</td>\n",
       "      <td>0.050</td>\n",
       "      <td>0.067</td>\n",
       "      <td>-0.068</td>\n",
       "      <td>-0.003</td>\n",
       "      <td>0.006</td>\n",
       "      <td>-0.064</td>\n",
       "      <td>-0.032</td>\n",
       "      <td>0.010</td>\n",
       "      <td>-0.010</td>\n",
       "      <td>0.041</td>\n",
       "      <td>0.018</td>\n",
       "      <td>-0.052</td>\n",
       "      <td>0.002</td>\n",
       "      <td>0.011</td>\n",
       "      <td>21.200</td>\n",
       "      <td>0.000</td>\n",
       "    </tr>\n",
       "    <tr>\n",
       "      <th>75%</th>\n",
       "      <td>139320.000</td>\n",
       "      <td>1.323</td>\n",
       "      <td>0.808</td>\n",
       "      <td>1.037</td>\n",
       "      <td>0.727</td>\n",
       "      <td>0.620</td>\n",
       "      <td>0.379</td>\n",
       "      <td>0.554</td>\n",
       "      <td>0.330</td>\n",
       "      <td>0.596</td>\n",
       "      <td>0.458</td>\n",
       "      <td>0.739</td>\n",
       "      <td>0.617</td>\n",
       "      <td>0.663</td>\n",
       "      <td>0.487</td>\n",
       "      <td>0.650</td>\n",
       "      <td>0.521</td>\n",
       "      <td>0.397</td>\n",
       "      <td>0.499</td>\n",
       "      <td>0.460</td>\n",
       "      <td>0.127</td>\n",
       "      <td>0.181</td>\n",
       "      <td>0.531</td>\n",
       "      <td>0.147</td>\n",
       "      <td>0.439</td>\n",
       "      <td>0.351</td>\n",
       "      <td>0.239</td>\n",
       "      <td>0.091</td>\n",
       "      <td>0.076</td>\n",
       "      <td>74.910</td>\n",
       "      <td>0.000</td>\n",
       "    </tr>\n",
       "    <tr>\n",
       "      <th>max</th>\n",
       "      <td>172792.000</td>\n",
       "      <td>2.455</td>\n",
       "      <td>22.058</td>\n",
       "      <td>9.383</td>\n",
       "      <td>13.129</td>\n",
       "      <td>34.099</td>\n",
       "      <td>16.614</td>\n",
       "      <td>15.662</td>\n",
       "      <td>20.007</td>\n",
       "      <td>15.595</td>\n",
       "      <td>23.745</td>\n",
       "      <td>12.019</td>\n",
       "      <td>7.848</td>\n",
       "      <td>4.569</td>\n",
       "      <td>10.527</td>\n",
       "      <td>5.826</td>\n",
       "      <td>6.443</td>\n",
       "      <td>9.254</td>\n",
       "      <td>4.296</td>\n",
       "      <td>5.592</td>\n",
       "      <td>16.756</td>\n",
       "      <td>27.203</td>\n",
       "      <td>10.503</td>\n",
       "      <td>22.084</td>\n",
       "      <td>4.023</td>\n",
       "      <td>7.520</td>\n",
       "      <td>3.517</td>\n",
       "      <td>9.880</td>\n",
       "      <td>22.620</td>\n",
       "      <td>999.900</td>\n",
       "      <td>1.000</td>\n",
       "    </tr>\n",
       "  </tbody>\n",
       "</table>\n",
       "</div>\n",
       "      <button class=\"colab-df-convert\" onclick=\"convertToInteractive('df-02a3c59b-9cd8-4d34-b5c7-dd2d87527c1d')\"\n",
       "              title=\"Convert this dataframe to an interactive table.\"\n",
       "              style=\"display:none;\">\n",
       "        \n",
       "  <svg xmlns=\"http://www.w3.org/2000/svg\" height=\"24px\"viewBox=\"0 0 24 24\"\n",
       "       width=\"24px\">\n",
       "    <path d=\"M0 0h24v24H0V0z\" fill=\"none\"/>\n",
       "    <path d=\"M18.56 5.44l.94 2.06.94-2.06 2.06-.94-2.06-.94-.94-2.06-.94 2.06-2.06.94zm-11 1L8.5 8.5l.94-2.06 2.06-.94-2.06-.94L8.5 2.5l-.94 2.06-2.06.94zm10 10l.94 2.06.94-2.06 2.06-.94-2.06-.94-.94-2.06-.94 2.06-2.06.94z\"/><path d=\"M17.41 7.96l-1.37-1.37c-.4-.4-.92-.59-1.43-.59-.52 0-1.04.2-1.43.59L10.3 9.45l-7.72 7.72c-.78.78-.78 2.05 0 2.83L4 21.41c.39.39.9.59 1.41.59.51 0 1.02-.2 1.41-.59l7.78-7.78 2.81-2.81c.8-.78.8-2.07 0-2.86zM5.41 20L4 18.59l7.72-7.72 1.47 1.35L5.41 20z\"/>\n",
       "  </svg>\n",
       "      </button>\n",
       "      \n",
       "  <style>\n",
       "    .colab-df-container {\n",
       "      display:flex;\n",
       "      flex-wrap:wrap;\n",
       "      gap: 12px;\n",
       "    }\n",
       "\n",
       "    .colab-df-convert {\n",
       "      background-color: #E8F0FE;\n",
       "      border: none;\n",
       "      border-radius: 50%;\n",
       "      cursor: pointer;\n",
       "      display: none;\n",
       "      fill: #1967D2;\n",
       "      height: 32px;\n",
       "      padding: 0 0 0 0;\n",
       "      width: 32px;\n",
       "    }\n",
       "\n",
       "    .colab-df-convert:hover {\n",
       "      background-color: #E2EBFA;\n",
       "      box-shadow: 0px 1px 2px rgba(60, 64, 67, 0.3), 0px 1px 3px 1px rgba(60, 64, 67, 0.15);\n",
       "      fill: #174EA6;\n",
       "    }\n",
       "\n",
       "    [theme=dark] .colab-df-convert {\n",
       "      background-color: #3B4455;\n",
       "      fill: #D2E3FC;\n",
       "    }\n",
       "\n",
       "    [theme=dark] .colab-df-convert:hover {\n",
       "      background-color: #434B5C;\n",
       "      box-shadow: 0px 1px 3px 1px rgba(0, 0, 0, 0.15);\n",
       "      filter: drop-shadow(0px 1px 2px rgba(0, 0, 0, 0.3));\n",
       "      fill: #FFFFFF;\n",
       "    }\n",
       "  </style>\n",
       "\n",
       "      <script>\n",
       "        const buttonEl =\n",
       "          document.querySelector('#df-02a3c59b-9cd8-4d34-b5c7-dd2d87527c1d button.colab-df-convert');\n",
       "        buttonEl.style.display =\n",
       "          google.colab.kernel.accessAllowed ? 'block' : 'none';\n",
       "\n",
       "        async function convertToInteractive(key) {\n",
       "          const element = document.querySelector('#df-02a3c59b-9cd8-4d34-b5c7-dd2d87527c1d');\n",
       "          const dataTable =\n",
       "            await google.colab.kernel.invokeFunction('convertToInteractive',\n",
       "                                                     [key], {});\n",
       "          if (!dataTable) return;\n",
       "\n",
       "          const docLinkHtml = 'Like what you see? Visit the ' +\n",
       "            '<a target=\"_blank\" href=https://colab.research.google.com/notebooks/data_table.ipynb>data table notebook</a>'\n",
       "            + ' to learn more about interactive tables.';\n",
       "          element.innerHTML = '';\n",
       "          dataTable['output_type'] = 'display_data';\n",
       "          await google.colab.output.renderOutput(dataTable, element);\n",
       "          const docLink = document.createElement('div');\n",
       "          docLink.innerHTML = docLinkHtml;\n",
       "          element.appendChild(docLink);\n",
       "        }\n",
       "      </script>\n",
       "    </div>\n",
       "  </div>\n",
       "  "
      ],
      "text/plain": [
       "            time         v1         v2         v3         v4         v5  \\\n",
       "count 280662.000 280662.000 280662.000 280662.000 280662.000 280662.000   \n",
       "mean   94827.560      0.040      0.056      0.028     -0.015      0.037   \n",
       "std    47492.263      1.877      1.453      1.472      1.401      1.257   \n",
       "min        0.000    -46.855    -47.430    -33.681     -5.683    -23.670   \n",
       "25%    54250.000     -0.896     -0.576     -0.859     -0.856     -0.669   \n",
       "50%    84725.500      0.041      0.075      0.195     -0.030     -0.042   \n",
       "75%   139320.000      1.323      0.808      1.037      0.727      0.620   \n",
       "max   172792.000      2.455     22.058      9.383     13.129     34.099   \n",
       "\n",
       "              v6         v7         v8         v9        v10        v11  \\\n",
       "count 280662.000 280662.000 280662.000 280662.000 280662.000 280662.000   \n",
       "mean      -0.020     -0.036      0.009      0.002      0.007     -0.001   \n",
       "std        1.282      1.073      1.164      1.092      1.070      1.018   \n",
       "min      -23.497    -43.557    -73.217    -13.434    -24.588     -4.797   \n",
       "25%       -0.773     -0.559     -0.204     -0.639     -0.528     -0.762   \n",
       "50%       -0.282      0.032      0.025     -0.050     -0.090     -0.033   \n",
       "75%        0.379      0.554      0.330      0.596      0.458      0.739   \n",
       "max       16.614     15.662     20.007     15.595     23.745     12.019   \n",
       "\n",
       "             v12        v13        v14        v15        v16        v17  \\\n",
       "count 280662.000 280662.000 280662.000 280662.000 280662.000 280662.000   \n",
       "mean       0.000      0.000     -0.003      0.000     -0.000     -0.000   \n",
       "std        0.995      0.996      0.952      0.914      0.869      0.843   \n",
       "min      -18.684     -5.792    -19.214     -4.499    -14.130    -25.163   \n",
       "25%       -0.403     -0.649     -0.428     -0.581     -0.466     -0.484   \n",
       "50%        0.141     -0.013      0.047      0.050      0.067     -0.068   \n",
       "75%        0.617      0.663      0.487      0.650      0.521      0.397   \n",
       "max        7.848      4.569     10.527      5.826      6.443      9.254   \n",
       "\n",
       "             v18        v19        v20        v21        v22        v23  \\\n",
       "count 280662.000 280662.000 280662.000 280662.000 280662.000 280662.000   \n",
       "mean       0.000      0.003     -0.022     -0.007      0.005      0.007   \n",
       "std        0.834      0.810      0.616      0.706      0.718      0.501   \n",
       "min       -9.499     -4.933    -23.420    -34.830     -8.887    -36.666   \n",
       "25%       -0.497     -0.451     -0.212     -0.229     -0.538     -0.158   \n",
       "50%       -0.003      0.006     -0.064     -0.032      0.010     -0.010   \n",
       "75%        0.499      0.460      0.127      0.181      0.531      0.147   \n",
       "max        4.296      5.592     16.756     27.203     10.503     22.084   \n",
       "\n",
       "             v24        v25        v26        v27        v28     amount  \\\n",
       "count 280662.000 280662.000 280662.000 280662.000 280662.000 280662.000   \n",
       "mean      -0.001      0.002      0.000      0.001     -0.000     70.068   \n",
       "std        0.605      0.514      0.481      0.375      0.295    126.449   \n",
       "min       -2.837     -7.496     -2.069    -22.566    -11.711      0.000   \n",
       "25%       -0.355     -0.316     -0.326     -0.069     -0.053      5.460   \n",
       "50%        0.041      0.018     -0.052      0.002      0.011     21.200   \n",
       "75%        0.439      0.351      0.239      0.091      0.076     74.910   \n",
       "max        4.023      7.520      3.517      9.880     22.620    999.900   \n",
       "\n",
       "           class  \n",
       "count 280662.000  \n",
       "mean       0.002  \n",
       "std        0.041  \n",
       "min        0.000  \n",
       "25%        0.000  \n",
       "50%        0.000  \n",
       "75%        0.000  \n",
       "max        1.000  "
      ]
     },
     "execution_count": 31,
     "metadata": {},
     "output_type": "execute_result"
    }
   ],
   "source": [
    "df.describe()"
   ]
  },
  {
   "cell_type": "code",
   "execution_count": 32,
   "metadata": {
    "executionInfo": {
     "elapsed": 7,
     "status": "ok",
     "timestamp": 1668187455251,
     "user": {
      "displayName": "Ahmet Gültekin",
      "userId": "03706301285824263679"
     },
     "user_tz": -180
    },
    "id": "PHWTVPrSxHUH"
   },
   "outputs": [],
   "source": [
    "scaler = MinMaxScaler()"
   ]
  },
  {
   "cell_type": "code",
   "execution_count": 33,
   "metadata": {
    "executionInfo": {
     "elapsed": 3,
     "status": "ok",
     "timestamp": 1668187455712,
     "user": {
      "displayName": "Ahmet Gültekin",
      "userId": "03706301285824263679"
     },
     "user_tz": -180
    },
    "id": "2zlM-viuk3lo"
   },
   "outputs": [],
   "source": [
    "X_train_scaled = scaler.fit_transform(X_train)\n",
    "X_test_scaled = scaler.transform(X_test)"
   ]
  },
  {
   "cell_type": "code",
   "execution_count": 33,
   "metadata": {
    "executionInfo": {
     "elapsed": 491,
     "status": "ok",
     "timestamp": 1668187458689,
     "user": {
      "displayName": "Ahmet Gültekin",
      "userId": "03706301285824263679"
     },
     "user_tz": -180
    },
    "id": "fQj5qg5Kk3hx"
   },
   "outputs": [],
   "source": []
  },
  {
   "cell_type": "code",
   "execution_count": 33,
   "metadata": {
    "executionInfo": {
     "elapsed": 2,
     "status": "ok",
     "timestamp": 1668187459265,
     "user": {
      "displayName": "Ahmet Gültekin",
      "userId": "03706301285824263679"
     },
     "user_tz": -180
    },
    "id": "RJZekMCtk3cY"
   },
   "outputs": [],
   "source": []
  },
  {
   "cell_type": "markdown",
   "metadata": {
    "id": "HO4HAIofMuHc"
   },
   "source": [
    "---\n",
    "---\n"
   ]
  },
  {
   "cell_type": "markdown",
   "metadata": {
    "id": "MwQdl4PdJQ0I"
   },
   "source": [
    "## 3. Model Building\n",
    "It was previously stated that you need to make class prediction with three different algorithms. As in this case, different approaches are required to obtain better performance on unbalanced data.\n",
    "\n",
    "This dataset is severely **unbalanced** (most of the transactions are non-fraud). So the algorithms are much more likely to classify new observations to the majority class and high accuracy won't tell us anything. To address the problem of imbalanced dataset, we can use undersampling and oversampling or class weight and optimum thresold techniques. \n",
    "\n",
    "***Note***: \n",
    "\n",
    "- *Do not forget to import the necessary libraries and modules before starting the model building!*\n",
    "\n",
    "- *If you are going to use the cross validation method to be more sure of the performance of your model for unbalanced data, you should make sure that the class distributions in the iterations are equal. For this case, you should use **[StratifiedKFold](https://www.analyseup.com/python-machine-learning/stratified-kfold.html)** instead of regular cross validation method.*"
   ]
  },
  {
   "cell_type": "markdown",
   "metadata": {
    "id": "zKZcwgucJQ0I"
   },
   "source": [
    "### Logistic Regression \n",
    "\n",
    "- The steps you are going to cover for this algorithm are as follows: \n",
    "\n",
    "   *i. Import Libraries*\n",
    "   \n",
    "   *ii. Model Training*\n",
    "   \n",
    "   *iii. Prediction and Model Evaluating (Apply StratifiedKFold) and Tuning*\n",
    "   \n",
    "   *iv. Plot Precision and Recall Curve*"
   ]
  },
  {
   "cell_type": "markdown",
   "metadata": {
    "id": "o48s5BCdMuHd"
   },
   "source": [
    "***i. Import Libraries***"
   ]
  },
  {
   "cell_type": "code",
   "execution_count": 34,
   "metadata": {
    "executionInfo": {
     "elapsed": 4,
     "status": "ok",
     "timestamp": 1668187463131,
     "user": {
      "displayName": "Ahmet Gültekin",
      "userId": "03706301285824263679"
     },
     "user_tz": -180
    },
    "id": "DVuM5S5i4Ii7"
   },
   "outputs": [],
   "source": [
    "from sklearn.linear_model import LogisticRegression\n",
    "from sklearn.metrics import accuracy_score"
   ]
  },
  {
   "cell_type": "code",
   "execution_count": 39,
   "metadata": {
    "executionInfo": {
     "elapsed": 429,
     "status": "ok",
     "timestamp": 1668187533068,
     "user": {
      "displayName": "Ahmet Gültekin",
      "userId": "03706301285824263679"
     },
     "user_tz": -180
    },
    "id": "3G3cx-UjMuHd"
   },
   "outputs": [],
   "source": [
    "import pandas as pd\n",
    "from sklearn.model_selection import StratifiedKFold"
   ]
  },
  {
   "cell_type": "code",
   "execution_count": 36,
   "metadata": {
    "executionInfo": {
     "elapsed": 611,
     "status": "ok",
     "timestamp": 1668187466558,
     "user": {
      "displayName": "Ahmet Gültekin",
      "userId": "03706301285824263679"
     },
     "user_tz": -180
    },
    "id": "IBU647MvAMAq"
   },
   "outputs": [],
   "source": [
    "from sklearn.metrics import classification_report, confusion_matrix, log_loss, recall_score, accuracy_score, precision_score, f1_score, plot_confusion_matrix, roc_auc_score\n",
    "from sklearn.metrics import make_scorer, average_precision_score\n"
   ]
  },
  {
   "cell_type": "code",
   "execution_count": 41,
   "metadata": {
    "colab": {
     "base_uri": "https://localhost:8080/"
    },
    "executionInfo": {
     "elapsed": 754,
     "status": "ok",
     "timestamp": 1668188700362,
     "user": {
      "displayName": "Ahmet Gültekin",
      "userId": "03706301285824263679"
     },
     "user_tz": -180
    },
    "id": "sghaPpVKyLNe",
    "outputId": "5b8e3b93-accd-442e-f398-1d38c002f8f3"
   },
   "outputs": [
    {
     "name": "stdout",
     "output_type": "stream",
     "text": [
      "Class Ratio: 0.0016532341392849763\n"
     ]
    }
   ],
   "source": [
    "print('Class Ratio:',sum(df['class'])/len(df['class']))"
   ]
  },
  {
   "cell_type": "markdown",
   "metadata": {
    "id": "6KD76bc5MuHd"
   },
   "source": [
    "***ii. Model Training***"
   ]
  },
  {
   "cell_type": "code",
   "execution_count": 43,
   "metadata": {
    "executionInfo": {
     "elapsed": 3,
     "status": "ok",
     "timestamp": 1668188710314,
     "user": {
      "displayName": "Ahmet Gültekin",
      "userId": "03706301285824263679"
     },
     "user_tz": -180
    },
    "id": "jdzNdospyNQ4"
   },
   "outputs": [],
   "source": [
    "log_model = LogisticRegression(class_weight='balanced', max_iter=100, random_state=42)"
   ]
  },
  {
   "cell_type": "code",
   "execution_count": 44,
   "metadata": {
    "colab": {
     "base_uri": "https://localhost:8080/"
    },
    "executionInfo": {
     "elapsed": 2937,
     "status": "ok",
     "timestamp": 1668188716716,
     "user": {
      "displayName": "Ahmet Gültekin",
      "userId": "03706301285824263679"
     },
     "user_tz": -180
    },
    "id": "9kQ-gC8oyNN7",
    "outputId": "1b993a3b-2785-40ef-9512-2e4cbe35b16a"
   },
   "outputs": [
    {
     "data": {
      "text/plain": [
       "LogisticRegression(class_weight='balanced', random_state=42)"
      ]
     },
     "execution_count": 44,
     "metadata": {},
     "output_type": "execute_result"
    }
   ],
   "source": [
    "log_model.fit(X_train_scaled, y_train)"
   ]
  },
  {
   "cell_type": "markdown",
   "metadata": {
    "id": "uvKAJVTNMuHd"
   },
   "source": [
    "***iii. Prediction and Model Evaluating (Apply StratifiedKFold) and Tuning***"
   ]
  },
  {
   "cell_type": "code",
   "execution_count": 35,
   "metadata": {
    "executionInfo": {
     "elapsed": 4,
     "status": "ok",
     "timestamp": 1668187464186,
     "user": {
      "displayName": "Ahmet Gültekin",
      "userId": "03706301285824263679"
     },
     "user_tz": -180
    },
    "id": "wNippkERAMEb"
   },
   "outputs": [],
   "source": [
    "def eval_metric(model, X_train, y_train, X_test, y_test):\n",
    "    y_pred_train = model.predict(X_train)\n",
    "    y_pred_test = model.predict(X_test)\n",
    "    \n",
    "    print(\"TEST REPORT\")\n",
    "    print(classification_report(y_test, y_pred_test))\n",
    "    plot_confusion_matrix(model, X_test, y_test);\n",
    "\n",
    "    print(\"\\n\"*3, \"-*\"*30)\n",
    "    print(\"TRAIN REPORT\")\n",
    "    print(classification_report(y_train, y_pred_train))\n",
    "    plot_confusion_matrix(model, X_train, y_train)\n",
    "    plt.show()"
   ]
  },
  {
   "cell_type": "code",
   "execution_count": 46,
   "metadata": {
    "colab": {
     "base_uri": "https://localhost:8080/",
     "height": 1000
    },
    "executionInfo": {
     "elapsed": 1328,
     "status": "ok",
     "timestamp": 1668188741246,
     "user": {
      "displayName": "Ahmet Gültekin",
      "userId": "03706301285824263679"
     },
     "user_tz": -180
    },
    "id": "g7GAK-u3MuHd",
    "outputId": "9d6bfeed-4e31-4a9b-c9d2-056f3556a65b"
   },
   "outputs": [
    {
     "name": "stdout",
     "output_type": "stream",
     "text": [
      "TEST REPORT\n",
      "              precision    recall  f1-score   support\n",
      "\n",
      "           0       1.00      0.97      0.99     56040\n",
      "           1       0.06      0.91      0.11        93\n",
      "\n",
      "    accuracy                           0.97     56133\n",
      "   macro avg       0.53      0.94      0.55     56133\n",
      "weighted avg       1.00      0.97      0.99     56133\n",
      "\n",
      "\n",
      "\n",
      "\n",
      " -*-*-*-*-*-*-*-*-*-*-*-*-*-*-*-*-*-*-*-*-*-*-*-*-*-*-*-*-*-*\n",
      "TRAIN REPORT\n",
      "              precision    recall  f1-score   support\n",
      "\n",
      "           0       1.00      0.98      0.99    224158\n",
      "           1       0.06      0.92      0.11       371\n",
      "\n",
      "    accuracy                           0.98    224529\n",
      "   macro avg       0.53      0.95      0.55    224529\n",
      "weighted avg       1.00      0.98      0.99    224529\n",
      "\n"
     ]
    },
    {
     "data": {
      "image/png": "[encoded data removed]",
      "text/plain": [
       "<Figure size 720x432 with 2 Axes>"
      ]
     },
     "metadata": {},
     "output_type": "display_data"
    },
    {
     "data": {
      "image/png": "[encoded data removed]",
      "text/plain": [
       "<Figure size 720x432 with 2 Axes>"
      ]
     },
     "metadata": {},
     "output_type": "display_data"
    }
   ],
   "source": [
    "eval_metric(log_model, X_train_scaled, y_train, X_test_scaled, y_test)\n"
   ]
  },
  {
   "cell_type": "code",
   "execution_count": 47,
   "metadata": {
    "executionInfo": {
     "elapsed": 4,
     "status": "ok",
     "timestamp": 1668188762816,
     "user": {
      "displayName": "Ahmet Gültekin",
      "userId": "03706301285824263679"
     },
     "user_tz": -180
    },
    "id": "X1gU8I1MyNK3"
   },
   "outputs": [],
   "source": [
    "kfold = StratifiedKFold(n_splits=10, random_state=42, shuffle=True)"
   ]
  },
  {
   "cell_type": "code",
   "execution_count": 48,
   "metadata": {
    "executionInfo": {
     "elapsed": 3,
     "status": "ok",
     "timestamp": 1668188764450,
     "user": {
      "displayName": "Ahmet Gültekin",
      "userId": "03706301285824263679"
     },
     "user_tz": -180
    },
    "id": "YDyt94-VyNF8"
   },
   "outputs": [],
   "source": [
    "scoring = {\"precision_fraud\": make_scorer(precision_score, labels=1),\n",
    "           \"recall_fraud\": make_scorer(recall_score, labels=1),\n",
    "           \"f1_fraud\": make_scorer(f1_score, labels=1)}"
   ]
  },
  {
   "cell_type": "code",
   "execution_count": 50,
   "metadata": {
    "executionInfo": {
     "elapsed": 422,
     "status": "ok",
     "timestamp": 1668188864798,
     "user": {
      "displayName": "Ahmet Gültekin",
      "userId": "03706301285824263679"
     },
     "user_tz": -180
    },
    "id": "ZdMPYmJpzY4F"
   },
   "outputs": [],
   "source": [
    "from sklearn.model_selection import cross_validate"
   ]
  },
  {
   "cell_type": "code",
   "execution_count": 52,
   "metadata": {
    "executionInfo": {
     "elapsed": 4,
     "status": "ok",
     "timestamp": 1668188979631,
     "user": {
      "displayName": "Ahmet Gültekin",
      "userId": "03706301285824263679"
     },
     "user_tz": -180
    },
    "id": "hgoEEO3iAL77"
   },
   "outputs": [],
   "source": [
    "from sklearn.utils import class_weight"
   ]
  },
  {
   "cell_type": "code",
   "execution_count": 51,
   "metadata": {
    "colab": {
     "base_uri": "https://localhost:8080/"
    },
    "executionInfo": {
     "elapsed": 35587,
     "status": "ok",
     "timestamp": 1668188902398,
     "user": {
      "displayName": "Ahmet Gültekin",
      "userId": "03706301285824263679"
     },
     "user_tz": -180
    },
    "id": "m26I9jQ9yfdU",
    "outputId": "12b8b188-0c12-4438-829c-b1df6b9ca97c"
   },
   "outputs": [
    {
     "data": {
      "text/plain": [
       "test_precision_fraud    0.059\n",
       "train_precision_fraud   0.060\n",
       "test_recall_fraud       0.905\n",
       "train_recall_fraud      0.920\n",
       "test_f1_fraud           0.111\n",
       "train_f1_fraud          0.113\n",
       "dtype: float64"
      ]
     },
     "execution_count": 51,
     "metadata": {},
     "output_type": "execute_result"
    }
   ],
   "source": [
    "model = LogisticRegression(class_weight='balanced', max_iter=100, random_state=42)\n",
    "\n",
    "scores = cross_validate(log_model, X_train_scaled, y_train,\n",
    "                         scoring=scoring, cv=kfold, return_train_score=True)\n",
    "df_scores = pd.DataFrame(scores, index=range(1, 11))\n",
    "df_scores.mean()[2:]"
   ]
  },
  {
   "cell_type": "code",
   "execution_count": 40,
   "metadata": {
    "colab": {
     "base_uri": "https://localhost:8080/"
    },
    "executionInfo": {
     "elapsed": 735,
     "status": "ok",
     "timestamp": 1668187536160,
     "user": {
      "displayName": "Ahmet Gültekin",
      "userId": "03706301285824263679"
     },
     "user_tz": -180
    },
    "id": "nXbqxXmT4Ip4",
    "outputId": "fd98e538-199a-4cdc-8b18-e9a86296af2e"
   },
   "outputs": [
    {
     "name": "stdout",
     "output_type": "stream",
     "text": [
      "Class Ratio: 0.0016532341392849763\n"
     ]
    }
   ],
   "source": [
    "print('Class Ratio:',sum(df['class'])/len(df['class']))"
   ]
  },
  {
   "cell_type": "code",
   "execution_count": null,
   "metadata": {
    "id": "rJdTxJGPDxC7"
   },
   "outputs": [],
   "source": []
  },
  {
   "cell_type": "markdown",
   "metadata": {
    "id": "l193OP5fMuHd"
   },
   "source": [
    "\n",
    "You're evaluating \"accuracy score\"? Is your performance metric reflect real success? You may need to use different metrics to evaluate performance on unbalanced data. You should use **[precision and recall metrics](https://scikit-learn.org/stable/auto_examples/model_selection/plot_precision_recall.html#:~:text=The%20precision%2Drecall%20curve%20shows,a%20low%20false%20negative%20rate.)**."
   ]
  },
  {
   "cell_type": "markdown",
   "metadata": {
    "id": "fUDt5voIMuHe"
   },
   "source": [
    "***iv. Plot Precision and Recall Curve***\n"
   ]
  },
  {
   "cell_type": "code",
   "execution_count": 57,
   "metadata": {
    "colab": {
     "base_uri": "https://localhost:8080/",
     "height": 406
    },
    "executionInfo": {
     "elapsed": 10,
     "status": "ok",
     "timestamp": 1668189407368,
     "user": {
      "displayName": "Ahmet Gültekin",
      "userId": "03706301285824263679"
     },
     "user_tz": -180
    },
    "id": "WI0OI9SDMuHe",
    "outputId": "5457da71-003d-4ceb-f917-06ac0b98f8fc"
   },
   "outputs": [
    {
     "data": {
      "text/plain": [
       "<sklearn.metrics._plot.precision_recall_curve.PrecisionRecallDisplay at 0x7fc5954715d0>"
      ]
     },
     "execution_count": 57,
     "metadata": {},
     "output_type": "execute_result"
    },
    {
     "data": {
      "image/png": "[encoded data removed]",
      "text/plain": [
       "<Figure size 720x432 with 1 Axes>"
      ]
     },
     "metadata": {},
     "output_type": "display_data"
    }
   ],
   "source": [
    "from sklearn.metrics import precision_recall_curve, plot_precision_recall_curve, plot_roc_curve, roc_auc_score\n",
    "plot_precision_recall_curve(log_model, X_test_scaled, y_test)"
   ]
  },
  {
   "cell_type": "markdown",
   "metadata": {
    "id": "bwELs8xsJQ0Q"
   },
   "source": [
    "- Didn't the performance of the model you implemented above satisfy you? If your model is biased towards the majority class and minority class matrics is not sufficient, apply \"unbalanced data tecniques\"."
   ]
  },
  {
   "cell_type": "markdown",
   "metadata": {
    "id": "Yo2yUvCsr0-g"
   },
   "source": [
    "***v. Apply Model Evaluation Checks***\n",
    "* link : https://docs.deepchecks.com/stable/user-guide/tabular/auto_quickstarts/plot_quick_model_evaluation.html"
   ]
  },
  {
   "cell_type": "code",
   "execution_count": 58,
   "metadata": {
    "colab": {
     "base_uri": "https://localhost:8080/",
     "height": 244
    },
    "executionInfo": {
     "elapsed": 430,
     "status": "error",
     "timestamp": 1668189456377,
     "user": {
      "displayName": "Ahmet Gültekin",
      "userId": "03706301285824263679"
     },
     "user_tz": -180
    },
    "id": "upFDOCu_sIMF",
    "outputId": "26e73b46-68c0-42a8-befb-f33b6e184695"
   },
   "outputs": [
    {
     "ename": "NameError",
     "evalue": "ignored",
     "output_type": "error",
     "traceback": [
      "\u001b[0;31m---------------------------------------------------------------------------\u001b[0m",
      "\u001b[0;31mNameError\u001b[0m                                 Traceback (most recent call last)",
      "\u001b[0;32m<ipython-input-58-d8c9744116d4>\u001b[0m in \u001b[0;36m<module>\u001b[0;34m\u001b[0m\n\u001b[1;32m      2\u001b[0m \u001b[0;34m\u001b[0m\u001b[0m\n\u001b[1;32m      3\u001b[0m \u001b[0mevaluation_suite\u001b[0m \u001b[0;34m=\u001b[0m \u001b[0mmodel_evaluation\u001b[0m\u001b[0;34m(\u001b[0m\u001b[0;34m)\u001b[0m\u001b[0;34m\u001b[0m\u001b[0;34m\u001b[0m\u001b[0m\n\u001b[0;32m----> 4\u001b[0;31m \u001b[0msuite_result\u001b[0m \u001b[0;34m=\u001b[0m \u001b[0mevaluation_suite\u001b[0m\u001b[0;34m.\u001b[0m\u001b[0mrun\u001b[0m\u001b[0;34m(\u001b[0m\u001b[0mtrain_ds\u001b[0m\u001b[0;34m,\u001b[0m \u001b[0mtest_ds\u001b[0m\u001b[0;34m,\u001b[0m \u001b[0mlog_tuned\u001b[0m\u001b[0;34m)\u001b[0m\u001b[0;34m\u001b[0m\u001b[0;34m\u001b[0m\u001b[0m\n\u001b[0m\u001b[1;32m      5\u001b[0m \u001b[0;31m# Note: the result can be saved as html using suite_result.save_as_html()\u001b[0m\u001b[0;34m\u001b[0m\u001b[0;34m\u001b[0m\u001b[0;34m\u001b[0m\u001b[0m\n\u001b[1;32m      6\u001b[0m \u001b[0;31m# or exported to json using suite_result.to_json()\u001b[0m\u001b[0;34m\u001b[0m\u001b[0;34m\u001b[0m\u001b[0;34m\u001b[0m\u001b[0m\n",
      "\u001b[0;31mNameError\u001b[0m: name 'train_ds' is not defined"
     ]
    }
   ],
   "source": [
    "from deepchecks.tabular.suites import model_evaluation\n",
    "\n",
    "evaluation_suite = model_evaluation()\n",
    "suite_result = evaluation_suite.run(X_train_scaled,X_test_scaled, log_tuned)\n",
    "# Note: the result can be saved as html using suite_result.save_as_html()\n",
    "# or exported to json using suite_result.to_json()\n",
    "suite_result.show()"
   ]
  },
  {
   "cell_type": "code",
   "execution_count": null,
   "metadata": {
    "id": "L0yBN6I91v8H"
   },
   "outputs": [],
   "source": []
  },
  {
   "cell_type": "code",
   "execution_count": null,
   "metadata": {
    "id": "gaa2yoBc1v5o"
   },
   "outputs": [],
   "source": []
  },
  {
   "cell_type": "code",
   "execution_count": null,
   "metadata": {
    "id": "0S9nja1L1v3C"
   },
   "outputs": [],
   "source": []
  },
  {
   "cell_type": "code",
   "execution_count": null,
   "metadata": {
    "id": "Zd5GjH7_1vzE"
   },
   "outputs": [],
   "source": []
  },
  {
   "cell_type": "code",
   "execution_count": null,
   "metadata": {
    "id": "h4w12DBG1vuw"
   },
   "outputs": [],
   "source": []
  },
  {
   "cell_type": "markdown",
   "metadata": {
    "id": "9wvBCEvpJQ0U"
   },
   "source": [
    "### Logistic Regression with Unbalanced Data Techniques\n",
    "\n",
    "- The steps you are going to cover for this algorithm are as follows: \n",
    "\n",
    "   *i. Import Libraries*\n",
    "   \n",
    "   *ii. Model Training*\n",
    "   \n",
    "   *iii. Prediction and Model Evaluating (Apply StratifiedKFold) and Tuning*\n",
    "   \n",
    "   *iv. Plot Precision and Recall Curve*"
   ]
  },
  {
   "cell_type": "markdown",
   "metadata": {
    "id": "IJqXQ_aHMuHf"
   },
   "source": [
    "***i. Train-Test Split (Again)***"
   ]
  },
  {
   "cell_type": "code",
   "execution_count": null,
   "metadata": {
    "id": "Qmc3bUHKMuHf"
   },
   "outputs": [],
   "source": []
  },
  {
   "cell_type": "markdown",
   "metadata": {
    "id": "evc6DLPcMuHf"
   },
   "source": [
    "***ii. Model Training***"
   ]
  },
  {
   "cell_type": "code",
   "execution_count": null,
   "metadata": {
    "id": "hz36IA3EMuHf"
   },
   "outputs": [],
   "source": []
  },
  {
   "cell_type": "markdown",
   "metadata": {
    "id": "kqJHSV5FMuHf"
   },
   "source": [
    "***Prediction and Model Evaluating (Apply StratifiedKFold) and Tuning***"
   ]
  },
  {
   "cell_type": "code",
   "execution_count": null,
   "metadata": {
    "id": "J_lxSdHyMuHg"
   },
   "outputs": [],
   "source": []
  },
  {
   "cell_type": "markdown",
   "metadata": {
    "id": "AFGgLGBqMuHg"
   },
   "source": [
    "***iv.  Plot Precision and Recall Curve***\n"
   ]
  },
  {
   "cell_type": "code",
   "execution_count": null,
   "metadata": {
    "id": "CWdU7r-UMuHg"
   },
   "outputs": [],
   "source": []
  },
  {
   "cell_type": "markdown",
   "metadata": {
    "id": "Akr5mWKhseJ4"
   },
   "source": [
    "***v. Apply Model Evaluation Checks***\n",
    "* link : https://docs.deepchecks.com/stable/user-guide/tabular/auto_quickstarts/plot_quick_model_evaluation.html"
   ]
  },
  {
   "cell_type": "code",
   "execution_count": null,
   "metadata": {
    "id": "KfwffynKsgsa"
   },
   "outputs": [],
   "source": []
  },
  {
   "cell_type": "markdown",
   "metadata": {
    "id": "_3zm70O7JQ0Z"
   },
   "source": [
    "### Random Forest Classifier with Unbalanced Data Techniques\n",
    "\n",
    "- The steps you are going to cover for this algorithm are as follows:\n",
    "\n",
    "   *i. Model Training*\n",
    "   \n",
    "   *ii. Prediction and Model Evaluating (Apply StratifiedKFold) and Tuning*\n",
    "   \n",
    "   *iii. Plot Precision and Recall Curve*\n",
    "   "
   ]
  },
  {
   "cell_type": "markdown",
   "metadata": {
    "id": "sr5U80HbMuHg"
   },
   "source": [
    "***i. Model Training***"
   ]
  },
  {
   "cell_type": "code",
   "execution_count": 62,
   "metadata": {
    "executionInfo": {
     "elapsed": 446,
     "status": "ok",
     "timestamp": 1668189621199,
     "user": {
      "displayName": "Ahmet Gültekin",
      "userId": "03706301285824263679"
     },
     "user_tz": -180
    },
    "id": "t5TNMPYU2X-m"
   },
   "outputs": [],
   "source": [
    "from sklearn.ensemble import  RandomForestClassifier"
   ]
  },
  {
   "cell_type": "code",
   "execution_count": 63,
   "metadata": {
    "executionInfo": {
     "elapsed": 5,
     "status": "ok",
     "timestamp": 1668189623588,
     "user": {
      "displayName": "Ahmet Gültekin",
      "userId": "03706301285824263679"
     },
     "user_tz": -180
    },
    "id": "kuvRr7f3MuHh"
   },
   "outputs": [],
   "source": [
    "rf_w = RandomForestClassifier(class_weight=\"balanced\",\n",
    "                            random_state=42)"
   ]
  },
  {
   "cell_type": "code",
   "execution_count": 64,
   "metadata": {
    "colab": {
     "base_uri": "https://localhost:8080/"
    },
    "executionInfo": {
     "elapsed": 111621,
     "status": "ok",
     "timestamp": 1668189736906,
     "user": {
      "displayName": "Ahmet Gültekin",
      "userId": "03706301285824263679"
     },
     "user_tz": -180
    },
    "id": "u0EtYnd82MVQ",
    "outputId": "ab3a4a23-f2cb-419b-f815-8aa23d32ed93"
   },
   "outputs": [
    {
     "data": {
      "text/plain": [
       "RandomForestClassifier(class_weight='balanced', random_state=42)"
      ]
     },
     "execution_count": 64,
     "metadata": {},
     "output_type": "execute_result"
    }
   ],
   "source": [
    "rf_w.fit(X_train_scaled, y_train)"
   ]
  },
  {
   "cell_type": "code",
   "execution_count": 65,
   "metadata": {
    "colab": {
     "base_uri": "https://localhost:8080/",
     "height": 1000
    },
    "executionInfo": {
     "elapsed": 5399,
     "status": "ok",
     "timestamp": 1668189757416,
     "user": {
      "displayName": "Ahmet Gültekin",
      "userId": "03706301285824263679"
     },
     "user_tz": -180
    },
    "id": "7GrN7OQr2bDb",
    "outputId": "c2f43f21-5eeb-4a81-9b81-ad9132dd4bf3"
   },
   "outputs": [
    {
     "name": "stdout",
     "output_type": "stream",
     "text": [
      "TEST REPORT\n",
      "              precision    recall  f1-score   support\n",
      "\n",
      "           0       1.00      1.00      1.00     56040\n",
      "           1       0.93      0.76      0.84        93\n",
      "\n",
      "    accuracy                           1.00     56133\n",
      "   macro avg       0.97      0.88      0.92     56133\n",
      "weighted avg       1.00      1.00      1.00     56133\n",
      "\n",
      "\n",
      "\n",
      "\n",
      " -*-*-*-*-*-*-*-*-*-*-*-*-*-*-*-*-*-*-*-*-*-*-*-*-*-*-*-*-*-*\n",
      "TRAIN REPORT\n",
      "              precision    recall  f1-score   support\n",
      "\n",
      "           0       1.00      1.00      1.00    224158\n",
      "           1       1.00      0.99      1.00       371\n",
      "\n",
      "    accuracy                           1.00    224529\n",
      "   macro avg       1.00      1.00      1.00    224529\n",
      "weighted avg       1.00      1.00      1.00    224529\n",
      "\n"
     ]
    },
    {
     "data": {
      "image/png": "[encoded data removed]",
      "text/plain": [
       "<Figure size 720x432 with 2 Axes>"
      ]
     },
     "metadata": {},
     "output_type": "display_data"
    },
    {
     "data": {
      "image/png": "[encoded data removed]",
      "text/plain": [
       "<Figure size 720x432 with 2 Axes>"
      ]
     },
     "metadata": {},
     "output_type": "display_data"
    }
   ],
   "source": [
    "eval_metric(rf_w, X_train_scaled, y_train, X_test_scaled, y_test)"
   ]
  },
  {
   "cell_type": "code",
   "execution_count": null,
   "metadata": {
    "id": "JtI9AcGb2a_u"
   },
   "outputs": [],
   "source": []
  },
  {
   "cell_type": "markdown",
   "metadata": {
    "id": "dJ9TJdpmMuHh"
   },
   "source": [
    "***ii. Prediction and Model Evaluating (Apply StratifiedKFold) and Tuning***"
   ]
  },
  {
   "cell_type": "code",
   "execution_count": 66,
   "metadata": {
    "executionInfo": {
     "elapsed": 522,
     "status": "ok",
     "timestamp": 1668189777592,
     "user": {
      "displayName": "Ahmet Gültekin",
      "userId": "03706301285824263679"
     },
     "user_tz": -180
    },
    "id": "BaNd2jTRMuHh"
   },
   "outputs": [],
   "source": [
    "kfold = StratifiedKFold(n_splits=3, random_state=42, shuffle=True)"
   ]
  },
  {
   "cell_type": "code",
   "execution_count": 67,
   "metadata": {
    "colab": {
     "base_uri": "https://localhost:8080/"
    },
    "executionInfo": {
     "elapsed": 197501,
     "status": "ok",
     "timestamp": 1668189975777,
     "user": {
      "displayName": "Ahmet Gültekin",
      "userId": "03706301285824263679"
     },
     "user_tz": -180
    },
    "id": "kHAI2Qgy2jS_",
    "outputId": "2fbd33b4-daed-4128-d988-c917d5bc0b70"
   },
   "outputs": [
    {
     "data": {
      "text/plain": [
       "test_precision_fraud    0.941\n",
       "train_precision_fraud   1.000\n",
       "test_recall_fraud       0.728\n",
       "train_recall_fraud      1.000\n",
       "test_f1_fraud           0.820\n",
       "train_f1_fraud          1.000\n",
       "dtype: float64"
      ]
     },
     "execution_count": 67,
     "metadata": {},
     "output_type": "execute_result"
    }
   ],
   "source": [
    "rf_model = RandomForestClassifier(class_weight=\"balanced\",\n",
    "                           random_state=42)\n",
    "\n",
    "scores = cross_validate(rf_model, X_train_scaled, y_train,\n",
    "                        scoring=scoring, cv=kfold, return_train_score=True)\n",
    "df_scores = pd.DataFrame(scores, index=range(1, 4))\n",
    "df_scores.mean()[2:]"
   ]
  },
  {
   "cell_type": "markdown",
   "metadata": {
    "id": "JqLd3DDbxoeJ"
   },
   "source": [
    "GridSearchCV"
   ]
  },
  {
   "cell_type": "code",
   "execution_count": 68,
   "metadata": {
    "executionInfo": {
     "elapsed": 4,
     "status": "ok",
     "timestamp": 1668190048957,
     "user": {
      "displayName": "Ahmet Gültekin",
      "userId": "03706301285824263679"
     },
     "user_tz": -180
    },
    "id": "hf_DNmn2xoeJ"
   },
   "outputs": [],
   "source": [
    "rf_w_grid = RandomForestClassifier(class_weight=\"balanced\", random_state=42)\n"
   ]
  },
  {
   "cell_type": "code",
   "execution_count": 69,
   "metadata": {
    "colab": {
     "base_uri": "https://localhost:8080/"
    },
    "executionInfo": {
     "elapsed": 513,
     "status": "ok",
     "timestamp": 1668190051836,
     "user": {
      "displayName": "Ahmet Gültekin",
      "userId": "03706301285824263679"
     },
     "user_tz": -180
    },
    "id": "mOK3Zc8WxoeK",
    "outputId": "35f58aa5-3b7b-4490-acc6-93af2d6d7d2e"
   },
   "outputs": [
    {
     "data": {
      "text/plain": [
       "{'bootstrap': True,\n",
       " 'ccp_alpha': 0.0,\n",
       " 'class_weight': 'balanced',\n",
       " 'criterion': 'gini',\n",
       " 'max_depth': None,\n",
       " 'max_features': 'auto',\n",
       " 'max_leaf_nodes': None,\n",
       " 'max_samples': None,\n",
       " 'min_impurity_decrease': 0.0,\n",
       " 'min_samples_leaf': 1,\n",
       " 'min_samples_split': 2,\n",
       " 'min_weight_fraction_leaf': 0.0,\n",
       " 'n_estimators': 100,\n",
       " 'n_jobs': None,\n",
       " 'oob_score': False,\n",
       " 'random_state': 42,\n",
       " 'verbose': 0,\n",
       " 'warm_start': False}"
      ]
     },
     "execution_count": 69,
     "metadata": {},
     "output_type": "execute_result"
    }
   ],
   "source": [
    "rf_w_grid.get_params()"
   ]
  },
  {
   "cell_type": "code",
   "execution_count": 70,
   "metadata": {
    "executionInfo": {
     "elapsed": 427,
     "status": "ok",
     "timestamp": 1668190057805,
     "user": {
      "displayName": "Ahmet Gültekin",
      "userId": "03706301285824263679"
     },
     "user_tz": -180
    },
    "id": "4-EjlG_-xoeK"
   },
   "outputs": [],
   "source": [
    "param_grid = {'n_estimators': [50, 100],\n",
    "              'max_features': ['sqrt', 'log2'],\n",
    "              'max_depth': [5, 7], \n",
    "              'min_samples_split': [2, 3]}\n"
   ]
  },
  {
   "cell_type": "code",
   "execution_count": 72,
   "metadata": {
    "executionInfo": {
     "elapsed": 442,
     "status": "ok",
     "timestamp": 1668190132423,
     "user": {
      "displayName": "Ahmet Gültekin",
      "userId": "03706301285824263679"
     },
     "user_tz": -180
    },
    "id": "C4D4ig964TXe"
   },
   "outputs": [],
   "source": [
    "from sklearn.model_selection import train_test_split, GridSearchCV, cross_val_score, cross_validate"
   ]
  },
  {
   "cell_type": "code",
   "execution_count": 76,
   "metadata": {
    "executionInfo": {
     "elapsed": 528,
     "status": "ok",
     "timestamp": 1668190233399,
     "user": {
      "displayName": "Ahmet Gültekin",
      "userId": "03706301285824263679"
     },
     "user_tz": -180
    },
    "id": "-NCxnm6MxoeK"
   },
   "outputs": [],
   "source": [
    "RF_grid_w = GridSearchCV(estimator=rf_w_grid,\n",
    "                             param_grid=param_grid,\n",
    "                             scoring=\"recall\",\n",
    "                             n_jobs=-1, verbose=2)"
   ]
  },
  {
   "cell_type": "code",
   "execution_count": 77,
   "metadata": {
    "colab": {
     "base_uri": "https://localhost:8080/"
    },
    "executionInfo": {
     "elapsed": 466903,
     "status": "ok",
     "timestamp": 1668190701810,
     "user": {
      "displayName": "Ahmet Gültekin",
      "userId": "03706301285824263679"
     },
     "user_tz": -180
    },
    "id": "A8vKAduuxoeK",
    "outputId": "6bf282cb-c863-425a-e85a-62c961c6f001"
   },
   "outputs": [
    {
     "name": "stdout",
     "output_type": "stream",
     "text": [
      "Fitting 5 folds for each of 16 candidates, totalling 80 fits\n"
     ]
    },
    {
     "data": {
      "text/plain": [
       "GridSearchCV(estimator=RandomForestClassifier(class_weight='balanced',\n",
       "                                              random_state=42),\n",
       "             n_jobs=-1,\n",
       "             param_grid={'max_depth': [5, 7], 'max_features': ['sqrt', 'log2'],\n",
       "                         'min_samples_split': [2, 3],\n",
       "                         'n_estimators': [50, 100]},\n",
       "             scoring='recall', verbose=2)"
      ]
     },
     "execution_count": 77,
     "metadata": {},
     "output_type": "execute_result"
    }
   ],
   "source": [
    "RF_grid_w.fit(X_train_scaled, y_train)"
   ]
  },
  {
   "cell_type": "code",
   "execution_count": 78,
   "metadata": {
    "colab": {
     "base_uri": "https://localhost:8080/"
    },
    "executionInfo": {
     "elapsed": 443,
     "status": "ok",
     "timestamp": 1668190742152,
     "user": {
      "displayName": "Ahmet Gültekin",
      "userId": "03706301285824263679"
     },
     "user_tz": -180
    },
    "id": "0GiKWG78xoeL",
    "outputId": "b253768f-9e76-4b68-c255-57256f6928b0"
   },
   "outputs": [
    {
     "data": {
      "text/plain": [
       "{'max_depth': 5,\n",
       " 'max_features': 'sqrt',\n",
       " 'min_samples_split': 3,\n",
       " 'n_estimators': 50}"
      ]
     },
     "execution_count": 78,
     "metadata": {},
     "output_type": "execute_result"
    }
   ],
   "source": [
    "RF_grid_w.best_params_\n"
   ]
  },
  {
   "cell_type": "code",
   "execution_count": 78,
   "metadata": {
    "executionInfo": {
     "elapsed": 3,
     "status": "ok",
     "timestamp": 1668190744171,
     "user": {
      "displayName": "Ahmet Gültekin",
      "userId": "03706301285824263679"
     },
     "user_tz": -180
    },
    "id": "2ND7o8002jNu"
   },
   "outputs": [],
   "source": []
  },
  {
   "cell_type": "markdown",
   "metadata": {
    "id": "yFBdkSUcxoeL"
   },
   "source": [
    "Tuned Model"
   ]
  },
  {
   "cell_type": "code",
   "execution_count": 79,
   "metadata": {
    "executionInfo": {
     "elapsed": 462,
     "status": "ok",
     "timestamp": 1668190757879,
     "user": {
      "displayName": "Ahmet Gültekin",
      "userId": "03706301285824263679"
     },
     "user_tz": -180
    },
    "id": "GfeY0wflxoeL"
   },
   "outputs": [],
   "source": [
    "rf_w_tuned = RandomForestClassifier(n_estimators=50,\n",
    "                                    max_features='sqrt',\n",
    "                                    max_depth=5,\n",
    "                                    min_samples_split=3)"
   ]
  },
  {
   "cell_type": "code",
   "execution_count": 80,
   "metadata": {
    "colab": {
     "base_uri": "https://localhost:8080/"
    },
    "executionInfo": {
     "elapsed": 32670,
     "status": "ok",
     "timestamp": 1668190793984,
     "user": {
      "displayName": "Ahmet Gültekin",
      "userId": "03706301285824263679"
     },
     "user_tz": -180
    },
    "id": "vWATskJxxoeL",
    "outputId": "e951f860-07c2-4706-820a-f6caf657ffdf"
   },
   "outputs": [
    {
     "data": {
      "text/plain": [
       "RandomForestClassifier(max_depth=5, max_features='sqrt', min_samples_split=3,\n",
       "                       n_estimators=50)"
      ]
     },
     "execution_count": 80,
     "metadata": {},
     "output_type": "execute_result"
    }
   ],
   "source": [
    "rf_w_tuned.fit(X_train_scaled, y_train)"
   ]
  },
  {
   "cell_type": "code",
   "execution_count": 81,
   "metadata": {
    "colab": {
     "base_uri": "https://localhost:8080/",
     "height": 1000
    },
    "executionInfo": {
     "elapsed": 2796,
     "status": "ok",
     "timestamp": 1668190802892,
     "user": {
      "displayName": "Ahmet Gültekin",
      "userId": "03706301285824263679"
     },
     "user_tz": -180
    },
    "id": "SxYYJWXUxoeL",
    "outputId": "895076fd-a361-439f-e50a-e86d24e13065"
   },
   "outputs": [
    {
     "name": "stdout",
     "output_type": "stream",
     "text": [
      "TEST REPORT\n",
      "              precision    recall  f1-score   support\n",
      "\n",
      "           0       1.00      1.00      1.00     56040\n",
      "           1       0.93      0.72      0.81        93\n",
      "\n",
      "    accuracy                           1.00     56133\n",
      "   macro avg       0.97      0.86      0.91     56133\n",
      "weighted avg       1.00      1.00      1.00     56133\n",
      "\n",
      "\n",
      "\n",
      "\n",
      " -*-*-*-*-*-*-*-*-*-*-*-*-*-*-*-*-*-*-*-*-*-*-*-*-*-*-*-*-*-*\n",
      "TRAIN REPORT\n",
      "              precision    recall  f1-score   support\n",
      "\n",
      "           0       1.00      1.00      1.00    224158\n",
      "           1       0.97      0.74      0.84       371\n",
      "\n",
      "    accuracy                           1.00    224529\n",
      "   macro avg       0.98      0.87      0.92    224529\n",
      "weighted avg       1.00      1.00      1.00    224529\n",
      "\n"
     ]
    },
    {
     "data": {
      "image/png": "[encoded data removed]",
      "text/plain": [
       "<Figure size 720x432 with 2 Axes>"
      ]
     },
     "metadata": {},
     "output_type": "display_data"
    },
    {
     "data": {
      "image/png": "[encoded data removed]",
      "text/plain": [
       "<Figure size 720x432 with 2 Axes>"
      ]
     },
     "metadata": {},
     "output_type": "display_data"
    }
   ],
   "source": [
    "eval_metric(rf_w_tuned, X_train_scaled, y_train, X_test_scaled, y_test)"
   ]
  },
  {
   "cell_type": "markdown",
   "metadata": {
    "id": "8bdqEhrdMuHh"
   },
   "source": [
    "***iii. Plot Precision and Recall Curve***\n"
   ]
  },
  {
   "cell_type": "code",
   "execution_count": null,
   "metadata": {
    "id": "smne1OBWMuHh"
   },
   "outputs": [],
   "source": []
  },
  {
   "cell_type": "code",
   "execution_count": 82,
   "metadata": {
    "colab": {
     "base_uri": "https://localhost:8080/",
     "height": 388
    },
    "executionInfo": {
     "elapsed": 1186,
     "status": "ok",
     "timestamp": 1668190818484,
     "user": {
      "displayName": "Ahmet Gültekin",
      "userId": "03706301285824263679"
     },
     "user_tz": -180
    },
    "id": "vnkKqHvD3rX1",
    "outputId": "4ad72080-64a5-4d55-ec8c-445b6875c626"
   },
   "outputs": [
    {
     "data": {
      "image/png": "[encoded data removed]",
      "text/plain": [
       "<Figure size 720x432 with 1 Axes>"
      ]
     },
     "metadata": {},
     "output_type": "display_data"
    }
   ],
   "source": [
    "plot_precision_recall_curve(rf_w_tuned, X_train_scaled, y_train);\n"
   ]
  },
  {
   "cell_type": "markdown",
   "metadata": {
    "id": "f9wLFvm1xoeM"
   },
   "source": [
    "Prediction"
   ]
  },
  {
   "cell_type": "code",
   "execution_count": 83,
   "metadata": {
    "executionInfo": {
     "elapsed": 1393,
     "status": "ok",
     "timestamp": 1668190822819,
     "user": {
      "displayName": "Ahmet Gültekin",
      "userId": "03706301285824263679"
     },
     "user_tz": -180
    },
    "id": "tPDleJ_qxoeM"
   },
   "outputs": [],
   "source": [
    "y_pred = rf_w_tuned.predict(X_test_scaled)\n",
    "y_train_pred = rf_w_tuned.predict(X_train_scaled)\n",
    "\n",
    "rf_w_f1 = f1_score(y_test, y_pred)\n",
    "rf_w_acc = accuracy_score(y_test, y_pred)\n",
    "rf_w_recall = recall_score(y_test, y_pred)\n",
    "rf_w_auc = roc_auc_score(y_test, y_pred)\n",
    "rf_w_precision = precision_score(y_test, y_pred)\n"
   ]
  },
  {
   "cell_type": "markdown",
   "metadata": {
    "id": "pRDWOdB4sjIC"
   },
   "source": [
    "***v. Apply Model Evaluation Checks***\n",
    "* link : https://docs.deepchecks.com/stable/user-guide/tabular/auto_quickstarts/plot_quick_model_evaluation.html"
   ]
  },
  {
   "cell_type": "code",
   "execution_count": 87,
   "metadata": {
    "colab": {
     "base_uri": "https://localhost:8080/",
     "height": 244
    },
    "executionInfo": {
     "elapsed": 519,
     "status": "error",
     "timestamp": 1668190861910,
     "user": {
      "displayName": "Ahmet Gültekin",
      "userId": "03706301285824263679"
     },
     "user_tz": -180
    },
    "id": "G9P58AMGskcY",
    "outputId": "9357e894-f73e-4645-bde2-ecf4c2fa4595"
   },
   "outputs": [
    {
     "ename": "NameError",
     "evalue": "ignored",
     "output_type": "error",
     "traceback": [
      "\u001b[0;31m---------------------------------------------------------------------------\u001b[0m",
      "\u001b[0;31mNameError\u001b[0m                                 Traceback (most recent call last)",
      "\u001b[0;32m<ipython-input-87-8c3e20968d4f>\u001b[0m in \u001b[0;36m<module>\u001b[0;34m\u001b[0m\n\u001b[1;32m      1\u001b[0m \u001b[0;32mfrom\u001b[0m \u001b[0mdeepchecks\u001b[0m\u001b[0;34m.\u001b[0m\u001b[0mtabular\u001b[0m\u001b[0;34m.\u001b[0m\u001b[0msuites\u001b[0m \u001b[0;32mimport\u001b[0m \u001b[0mmodel_evaluation\u001b[0m\u001b[0;34m\u001b[0m\u001b[0;34m\u001b[0m\u001b[0m\n\u001b[1;32m      2\u001b[0m \u001b[0;34m\u001b[0m\u001b[0m\n\u001b[0;32m----> 3\u001b[0;31m \u001b[0mtrain_ds\u001b[0m \u001b[0;34m=\u001b[0m \u001b[0mDataset\u001b[0m\u001b[0;34m(\u001b[0m\u001b[0mX_train_scaled\u001b[0m\u001b[0;34m,\u001b[0m \u001b[0mlabel\u001b[0m\u001b[0;34m=\u001b[0m\u001b[0my_train\u001b[0m\u001b[0;34m,\u001b[0m \u001b[0mcat_features\u001b[0m\u001b[0;34m=\u001b[0m\u001b[0;34m[\u001b[0m\u001b[0;34m]\u001b[0m\u001b[0;34m)\u001b[0m\u001b[0;34m\u001b[0m\u001b[0;34m\u001b[0m\u001b[0m\n\u001b[0m\u001b[1;32m      4\u001b[0m \u001b[0mtest_ds\u001b[0m \u001b[0;34m=\u001b[0m \u001b[0mDataset\u001b[0m\u001b[0;34m(\u001b[0m\u001b[0mX_test_scaled\u001b[0m\u001b[0;34m,\u001b[0m \u001b[0mlabel\u001b[0m\u001b[0;34m=\u001b[0m\u001b[0my_test\u001b[0m\u001b[0;34m,\u001b[0m \u001b[0mcat_features\u001b[0m\u001b[0;34m=\u001b[0m\u001b[0;34m[\u001b[0m\u001b[0;34m]\u001b[0m\u001b[0;34m)\u001b[0m\u001b[0;34m\u001b[0m\u001b[0;34m\u001b[0m\u001b[0m\n\u001b[1;32m      5\u001b[0m \u001b[0;34m\u001b[0m\u001b[0m\n",
      "\u001b[0;31mNameError\u001b[0m: name 'Dataset' is not defined"
     ]
    }
   ],
   "source": [
    "from deepchecks.tabular.suites import model_evaluation\n",
    "\n",
    "train_ds = Dataset(X_train_scaled, label=y_train, cat_features=[])\n",
    "test_ds = Dataset(X_test_scaled, label=y_test, cat_features=[])\n",
    "\n",
    "evaluation_suite = model_evaluation()\n",
    "suite_result = evaluation_suite.run(train_ds, test_ds, rf_w_tuned)\n",
    "# Note: the result can be saved as html using suite_result.save_as_html()\n",
    "# or exported to json using suite_result.to_json()\n",
    "suite_result.show()"
   ]
  },
  {
   "cell_type": "markdown",
   "metadata": {
    "id": "T5IgEAE-T-QR"
   },
   "source": [
    "### XGBoost Classifier with Unbalanced Data Techniques\n",
    "\n",
    "- The steps you are going to cover for this algorithm are as follows:\n",
    "\n",
    "   *i. Model Training*\n",
    "   \n",
    "   *ii. Prediction and Model Evaluating (Apply StratifiedKFold) and Tuning*\n",
    "   \n",
    "   *iii. Plot Precision and Recall Curve*\n",
    "   "
   ]
  },
  {
   "cell_type": "markdown",
   "metadata": {
    "id": "vtl41WAUT-QS"
   },
   "source": [
    "***i. Model Training***"
   ]
  },
  {
   "cell_type": "code",
   "execution_count": 88,
   "metadata": {
    "executionInfo": {
     "elapsed": 481,
     "status": "ok",
     "timestamp": 1668190867089,
     "user": {
      "displayName": "Ahmet Gültekin",
      "userId": "03706301285824263679"
     },
     "user_tz": -180
    },
    "id": "T4dGJYsMT-QT"
   },
   "outputs": [],
   "source": [
    "from xgboost import XGBClassifier\n",
    "import pickle\n",
    "import plotly.express as px\n",
    "import plotly.figure_factory as ff\n",
    "from plotly import tools\n",
    "from plotly.offline import plot, iplot"
   ]
  },
  {
   "cell_type": "code",
   "execution_count": 89,
   "metadata": {
    "executionInfo": {
     "elapsed": 3,
     "status": "ok",
     "timestamp": 1668190869114,
     "user": {
      "displayName": "Ahmet Gültekin",
      "userId": "03706301285824263679"
     },
     "user_tz": -180
    },
    "id": "doWNYI2GwcWP"
   },
   "outputs": [],
   "source": [
    "classes_weights = class_weight.compute_sample_weight(\n",
    "    class_weight='balanced', y=y_train\n",
    ")"
   ]
  },
  {
   "cell_type": "code",
   "execution_count": 91,
   "metadata": {
    "executionInfo": {
     "elapsed": 3,
     "status": "ok",
     "timestamp": 1668190889675,
     "user": {
      "displayName": "Ahmet Gültekin",
      "userId": "03706301285824263679"
     },
     "user_tz": -180
    },
    "id": "ALZB7dkTu60s"
   },
   "outputs": [],
   "source": [
    "xgb = XGBClassifier(sample_weight=classes_weights, random_state=42)"
   ]
  },
  {
   "cell_type": "code",
   "execution_count": 92,
   "metadata": {
    "colab": {
     "base_uri": "https://localhost:8080/"
    },
    "executionInfo": {
     "elapsed": 101610,
     "status": "ok",
     "timestamp": 1668190996521,
     "user": {
      "displayName": "Ahmet Gültekin",
      "userId": "03706301285824263679"
     },
     "user_tz": -180
    },
    "id": "5nN9NwaPu6yo",
    "outputId": "8b5dc50a-6139-4c4f-c2c6-947f81fc1ff2"
   },
   "outputs": [
    {
     "data": {
      "text/plain": [
       "XGBClassifier(random_state=42,\n",
       "              sample_weight=array([0.50082754, 0.50082754, 0.50082754, ..., 0.50082754, 0.50082754,\n",
       "       0.50082754]))"
      ]
     },
     "execution_count": 92,
     "metadata": {},
     "output_type": "execute_result"
    }
   ],
   "source": [
    "xgb.fit(X_train_scaled,y_train)"
   ]
  },
  {
   "cell_type": "code",
   "execution_count": 94,
   "metadata": {
    "colab": {
     "base_uri": "https://localhost:8080/",
     "height": 1000
    },
    "executionInfo": {
     "elapsed": 2880,
     "status": "ok",
     "timestamp": 1668191050945,
     "user": {
      "displayName": "Ahmet Gültekin",
      "userId": "03706301285824263679"
     },
     "user_tz": -180
    },
    "id": "Kks7r4ptu6wB",
    "outputId": "9da85995-a64c-4625-c3cd-2d2b32a3e3a2"
   },
   "outputs": [
    {
     "name": "stdout",
     "output_type": "stream",
     "text": [
      "TEST REPORT\n",
      "              precision    recall  f1-score   support\n",
      "\n",
      "           0       1.00      1.00      1.00     56040\n",
      "           1       0.91      0.84      0.87        93\n",
      "\n",
      "    accuracy                           1.00     56133\n",
      "   macro avg       0.95      0.92      0.94     56133\n",
      "weighted avg       1.00      1.00      1.00     56133\n",
      "\n",
      "\n",
      "\n",
      "\n",
      " -*-*-*-*-*-*-*-*-*-*-*-*-*-*-*-*-*-*-*-*-*-*-*-*-*-*-*-*-*-*\n",
      "TRAIN REPORT\n",
      "              precision    recall  f1-score   support\n",
      "\n",
      "           0       1.00      1.00      1.00    224158\n",
      "           1       0.98      0.82      0.89       371\n",
      "\n",
      "    accuracy                           1.00    224529\n",
      "   macro avg       0.99      0.91      0.95    224529\n",
      "weighted avg       1.00      1.00      1.00    224529\n",
      "\n"
     ]
    },
    {
     "data": {
      "image/png": "[encoded data removed]",
      "text/plain": [
       "<Figure size 720x432 with 2 Axes>"
      ]
     },
     "metadata": {},
     "output_type": "display_data"
    },
    {
     "data": {
      "image/png": "[encoded data removed]",
      "text/plain": [
       "<Figure size 720x432 with 2 Axes>"
      ]
     },
     "metadata": {},
     "output_type": "display_data"
    }
   ],
   "source": [
    "eval_metric(xgb, X_train_scaled, y_train, X_test_scaled, y_test)"
   ]
  },
  {
   "cell_type": "markdown",
   "metadata": {
    "id": "TG4Tb0WuT-QU"
   },
   "source": [
    "***ii. Prediction and Model Evaluating (Apply StratifiedKFold) and Tuning***"
   ]
  },
  {
   "cell_type": "code",
   "execution_count": null,
   "metadata": {
    "id": "NtYBe4FVT-QV"
   },
   "outputs": [],
   "source": [
    "fold = StratifiedKFold(n_splits=3, random_state=42, shuffle=True)"
   ]
  },
  {
   "cell_type": "code",
   "execution_count": null,
   "metadata": {
    "id": "mkGusAYfvAvl"
   },
   "outputs": [],
   "source": [
    "scoring = {\"fraud_precision\": make_scorer(precision_score, labels=1),\n",
    "           \"fraud_recall\": make_scorer(recall_score, labels=1),\n",
    "           \"fraud_f1\": make_scorer(f1_score, labels=1)}"
   ]
  },
  {
   "cell_type": "code",
   "execution_count": null,
   "metadata": {
    "id": "yL2V---mvAtL"
   },
   "outputs": [],
   "source": [
    "model = XGBClassifier(class_weight='balanced', random_state=42)\n",
    "\n",
    "scores = cross_validate(model, X_train_scaled, y_train,\n",
    "                        scoring=scoring, cv=fold, return_train_score=True)\n",
    "df_scores = pd.DataFrame(scores, index=range(1, 4))\n",
    "df_scores.mean()[2:]"
   ]
  },
  {
   "cell_type": "code",
   "execution_count": null,
   "metadata": {
    "id": "hOUGpN7WvAqr"
   },
   "outputs": [],
   "source": [
    "xgb_grid = XGBClassifier(class_weight='balanced', random_state=42)"
   ]
  },
  {
   "cell_type": "code",
   "execution_count": null,
   "metadata": {
    "id": "JSotKoVmvAoK"
   },
   "outputs": [],
   "source": [
    "fraud_recall = make_scorer(recall_score, average=None, labels=1)"
   ]
  },
  {
   "cell_type": "code",
   "execution_count": null,
   "metadata": {
    "id": "cKpmoSD5u__2"
   },
   "outputs": [],
   "source": [
    "grid_xgb = GridSearchCV(estimator= xgb_grid,\n",
    "                         param_grid=param_grid,\n",
    "                         scoring=fraud_recall,\n",
    "                         n_jobs=-1, verbose=2)"
   ]
  },
  {
   "cell_type": "code",
   "execution_count": null,
   "metadata": {
    "id": "zqLxOBtGvH7X"
   },
   "outputs": [],
   "source": [
    "grid_xgb.fit(X_train_scaled, y_train)"
   ]
  },
  {
   "cell_type": "code",
   "execution_count": null,
   "metadata": {
    "id": "nnrcAKtRvH33"
   },
   "outputs": [],
   "source": [
    "grid_xgb.best_params_"
   ]
  },
  {
   "cell_type": "code",
   "execution_count": null,
   "metadata": {
    "id": "eXpa9ovGvL8B"
   },
   "outputs": [],
   "source": [
    "xgb_tuned = XGBClassifier(class_weight='balanced', colsample_bytree=0.8, learning_rate=0.1,\n",
    "                          max_depth=3, n_estimators=50, random_state=101,\n",
    "                          subsample=0.8)"
   ]
  },
  {
   "cell_type": "code",
   "execution_count": null,
   "metadata": {
    "id": "7vXVemeavLz6"
   },
   "outputs": [],
   "source": [
    "xgb_tuned.fit(X_train_scaled, y_train)"
   ]
  },
  {
   "cell_type": "code",
   "execution_count": null,
   "metadata": {
    "id": "qxs7OIGNvLxV"
   },
   "outputs": [],
   "source": [
    "eval_metric(xgb_tuned, X_train_scaled, y_train, X_test_scaled, y_test)"
   ]
  },
  {
   "cell_type": "code",
   "execution_count": null,
   "metadata": {
    "id": "mV8av-uBvLu2"
   },
   "outputs": [],
   "source": [
    "from deepchecks.tabular.suites import model_evaluation\n",
    "\n",
    "train_ds = Dataset(X_train_scaled, label=y_train, cat_features=[])\n",
    "test_ds = Dataset(X_test_scaled, label=y_test, cat_features=[])\n",
    "\n",
    "evaluation_suite = model_evaluation()\n",
    "suite_result = evaluation_suite.run(train_ds, test_ds, xgb)\n",
    "# Note: the result can be saved as html using suite_result.save_as_html()\n",
    "# or exported to json using suite_result.to_json()\n",
    "suite_result.show()"
   ]
  },
  {
   "cell_type": "code",
   "execution_count": null,
   "metadata": {
    "id": "wy-5fSI7vLfK"
   },
   "outputs": [],
   "source": []
  },
  {
   "cell_type": "markdown",
   "metadata": {
    "id": "z9B4_xOpT-QW"
   },
   "source": [
    "***iii. Plot Precision and Recall Curve***\n"
   ]
  },
  {
   "cell_type": "code",
   "execution_count": null,
   "metadata": {
    "id": "BqNbfMguT-QX"
   },
   "outputs": [],
   "source": [
    "plot_precision_recall_curve(xgb_w, X_test_scaled, y_test)"
   ]
  },
  {
   "cell_type": "code",
   "execution_count": null,
   "metadata": {
    "id": "U-fOr2_YvU6n"
   },
   "outputs": [],
   "source": [
    "y_pred = xgb_w.predict(X_test_scaled)\n",
    "y_train_pred = xgb_w.predict(X_train_scaled)"
   ]
  },
  {
   "cell_type": "code",
   "execution_count": null,
   "metadata": {
    "id": "3JBcnOFIvU4H"
   },
   "outputs": [],
   "source": [
    "xgb_f1 = f1_score(y_test, y_pred)\n",
    "xgb_acc = accuracy_score(y_test, y_pred)\n",
    "xgb_recall = recall_score(y_test, y_pred)\n",
    "xgb_auc = roc_auc_score(y_test, y_pred)\n",
    "xgb_precision = precision_score(y_test, y_pred)"
   ]
  },
  {
   "cell_type": "code",
   "execution_count": null,
   "metadata": {
    "id": "V8lNGhFZvU1b"
   },
   "outputs": [],
   "source": [
    "xgb_Pred = {\"Actual\": y_test, \"xgb_Pred\": y_pred}\n",
    "xgb_Pred = pd.DataFrame.from_dict(xgb_Pred)"
   ]
  },
  {
   "cell_type": "code",
   "execution_count": null,
   "metadata": {
    "id": "plJSfZLQvUyu"
   },
   "outputs": [],
   "source": [
    "xgb_Pred.drop(\"Actual\", axis=1, inplace=True)\n",
    "Model_Preds = pd.merge(Model_Preds, xgb_Pred,\n",
    "                       left_index=True, right_index=True)"
   ]
  },
  {
   "cell_type": "code",
   "execution_count": null,
   "metadata": {
    "id": "gqIYmx0ivUv9"
   },
   "outputs": [],
   "source": [
    "Model_Preds.sample(5)"
   ]
  },
  {
   "cell_type": "code",
   "execution_count": null,
   "metadata": {
    "id": "q71md1FkvUte"
   },
   "outputs": [],
   "source": []
  },
  {
   "cell_type": "markdown",
   "metadata": {
    "id": "mFpIISNzsm55"
   },
   "source": [
    "***v. Apply Model Evaluation Checks***\n",
    "* link : https://docs.deepchecks.com/stable/user-guide/tabular/auto_quickstarts/plot_quick_model_evaluation.html"
   ]
  },
  {
   "cell_type": "code",
   "execution_count": null,
   "metadata": {
    "id": "AEbwEKvospoK"
   },
   "outputs": [],
   "source": [
    "from deepchecks.tabular.suites import model_evaluation\n",
    "\n",
    "train_ds = Dataset(X_train_scaled, label=y_train, cat_features=[])\n",
    "test_ds = Dataset(X_test_scaled, label=y_test, cat_features=[])\n",
    "\n",
    "evaluation_suite = model_evaluation()\n",
    "suite_result = evaluation_suite.run(train_ds, test_ds, xgb_w)\n",
    "# Note: the result can be saved as html using suite_result.save_as_html()\n",
    "# or exported to json using suite_result.to_json()\n",
    "suite_result.show()"
   ]
  },
  {
   "cell_type": "markdown",
   "metadata": {
    "id": "ife6NlFRJQ0f"
   },
   "source": [
    "### Neural Network\n",
    "\n",
    "In the final step, you will make classification with Neural Network which is a Deep Learning algorithm. \n",
    "\n",
    "Neural networks are a series of algorithms that mimic the operations of a human brain to recognize relationships between vast amounts of data. They are used in a variety of applications in financial services, from forecasting and marketing research to fraud detection and risk assessment.\n",
    "\n",
    "A neural network contains layers of interconnected nodes. Each node is a perceptron and is similar to a multiple linear regression. The perceptron feeds the signal produced by a multiple linear regression into an activation function that may be nonlinear.\n",
    "\n",
    "In a multi-layered perceptron (MLP), perceptrons are arranged in interconnected layers. The input layer collects input patterns. The output layer has classifications or output signals to which input patterns may map. \n",
    "\n",
    "Hidden layers fine-tune the input weightings until the neural network’s margin of error is minimal. It is hypothesized that hidden layers extrapolate salient features in the input data that have predictive power regarding the outputs.\n",
    "\n",
    "You will discover **[how to create](https://towardsdatascience.com/building-our-first-neural-network-in-keras-bdc8abbc17f5)** your deep learning neural network model in Python using **[Keras](https://keras.io/about/)**. Keras is a powerful and easy-to-use free open source Python library for developing and evaluating deep learning models.\n",
    "\n",
    "- The steps you are going to cover for this algorithm are as follows:\n",
    "\n",
    "   *i. Import Libraries*\n",
    "   \n",
    "   *ii. Define Model*\n",
    "    \n",
    "   *iii. Compile Model*\n",
    "   \n",
    "   *iv. Fit Model*\n",
    "   \n",
    "   *v. Prediction and Model Evaluating*\n",
    "   \n",
    "   *vi. Plot Precision and Recall Curve*"
   ]
  },
  {
   "cell_type": "markdown",
   "metadata": {
    "id": "i9Rl75fpMuHi"
   },
   "source": [
    "***i. Import Libraries***"
   ]
  },
  {
   "cell_type": "code",
   "execution_count": null,
   "metadata": {
    "id": "LhEc3K9KMuHi"
   },
   "outputs": [],
   "source": [
    "import tensorflow as tf\n",
    "from tensorflow.keras.models import Sequential\n",
    "from tensorflow.keras.layers import Dense, Dropout, Activation, BatchNormalization\n",
    "from tensorflow.keras.callbacks import EarlyStopping\n",
    "from keras.wrappers.scikit_learn import KerasClassifier\n",
    "from tensorflow.keras.optimizers import Adam, Adadelta, RMSprop, Nadam\n",
    "from sklearn.utils import class_weight"
   ]
  },
  {
   "cell_type": "markdown",
   "metadata": {
    "id": "gD6Rh1R8MuHi"
   },
   "source": [
    "***ii. Define Model***"
   ]
  },
  {
   "cell_type": "code",
   "execution_count": null,
   "metadata": {
    "id": "4okQmpRpMuHi"
   },
   "outputs": [],
   "source": []
  },
  {
   "cell_type": "code",
   "execution_count": null,
   "metadata": {
    "id": "6LlpY6FtvuIe"
   },
   "outputs": [],
   "source": [
    "X = df[['v14','v10','v12','v17','v11','v16','v3','v4','v9','v18','v7']]\n",
    "y = df['class']"
   ]
  },
  {
   "cell_type": "code",
   "execution_count": null,
   "metadata": {
    "id": "lPk4_K_vcB0m"
   },
   "outputs": [],
   "source": [
    "X_train, X_test, y_train, y_test = train_test_split(X, y, stratify=y, test_size = 0.20, random_state=42)"
   ]
  },
  {
   "cell_type": "code",
   "execution_count": null,
   "metadata": {
    "colab": {
     "base_uri": "https://localhost:8080/"
    },
    "executionInfo": {
     "elapsed": 2,
     "status": "ok",
     "timestamp": 1668165975223,
     "user": {
      "displayName": "Emre Gündoğdu",
      "userId": "08647422312878684367"
     },
     "user_tz": -180
    },
    "id": "9eqFV19EcB3P",
    "outputId": "529ff5a1-c8ef-41eb-e1b1-4ec197d8d72c"
   },
   "outputs": [
    {
     "name": "stdout",
     "output_type": "stream",
     "text": [
      "Train features shape :  (224529, 11)\n",
      "Test features shape  :  (56133, 11)\n"
     ]
    }
   ],
   "source": [
    "print(\"Train features shape : \", X_train.shape)\n",
    "print(\"Test features shape  : \", X_test.shape)"
   ]
  },
  {
   "cell_type": "code",
   "execution_count": null,
   "metadata": {
    "id": "ylS37YX_cB5_"
   },
   "outputs": [],
   "source": [
    "scaler=RobustScaler()"
   ]
  },
  {
   "cell_type": "code",
   "execution_count": null,
   "metadata": {
    "id": "vBd3XstzcB8B"
   },
   "outputs": [],
   "source": [
    "X_train = scaler.fit_transform(X_train)"
   ]
  },
  {
   "cell_type": "code",
   "execution_count": null,
   "metadata": {
    "id": "ARxe0ByecB_R"
   },
   "outputs": [],
   "source": [
    "X_test  = scaler.transform(X_test)"
   ]
  },
  {
   "cell_type": "code",
   "execution_count": null,
   "metadata": {
    "id": "e9ttN25-cQve"
   },
   "outputs": [],
   "source": [
    "tf.random.set_seed(101)\n",
    "\n",
    "model = Sequential()\n",
    "\n",
    "model.add(Dense(64, input_dim = X_train.shape[1]))\n",
    "model.add(BatchNormalization())\n",
    "model.add(Activation('relu'))\n",
    "model.add(Dense(32))\n",
    "model.add(BatchNormalization())\n",
    "model.add(Activation('relu'))\n",
    "model.add(Dense(16))\n",
    "model.add(BatchNormalization())\n",
    "model.add(Activation('relu'))\n",
    "model.add(Dense(1, activation='sigmoid'))"
   ]
  },
  {
   "cell_type": "code",
   "execution_count": null,
   "metadata": {
    "id": "EHP3slqFvnyo"
   },
   "outputs": [],
   "source": []
  },
  {
   "cell_type": "markdown",
   "metadata": {
    "id": "_IQN7--qMuHi"
   },
   "source": [
    "***iii. Compile Model***"
   ]
  },
  {
   "cell_type": "code",
   "execution_count": null,
   "metadata": {
    "id": "f4W96rfHMuHi"
   },
   "outputs": [],
   "source": [
    "opt = Adam(lr = 0.005)\n",
    "model.compile(optimizer=opt, loss='binary_crossentropy', metrics=['Recall'])"
   ]
  },
  {
   "cell_type": "markdown",
   "metadata": {
    "id": "PsM_5PhJMuHi"
   },
   "source": [
    "***iv. Fit Model***"
   ]
  },
  {
   "cell_type": "code",
   "execution_count": null,
   "metadata": {
    "id": "d9_8wOfvv19-"
   },
   "outputs": [],
   "source": [
    "early_stop=EarlyStopping(monitor='val_loss', mode='min', verbose=1, patience=25)"
   ]
  },
  {
   "cell_type": "code",
   "execution_count": null,
   "metadata": {
    "colab": {
     "base_uri": "https://localhost:8080/"
    },
    "executionInfo": {
     "elapsed": 535199,
     "status": "ok",
     "timestamp": 1668166571642,
     "user": {
      "displayName": "Emre Gündoğdu",
      "userId": "08647422312878684367"
     },
     "user_tz": -180
    },
    "id": "IihEFcB0cYi2",
    "outputId": "b0f518fe-40c1-4b22-8324-48d587dd5120"
   },
   "outputs": [
    {
     "name": "stdout",
     "output_type": "stream",
     "text": [
      "Epoch 1/100\n",
      "1492/1492 [==============================] - 12s 6ms/step - loss: 0.0356 - recall: 0.7220 - val_loss: 0.0043 - val_recall: 0.8103\n",
      "Epoch 2/100\n",
      "1492/1492 [==============================] - 10s 7ms/step - loss: 0.0036 - recall: 0.7508 - val_loss: 0.0039 - val_recall: 0.8621\n",
      "Epoch 3/100\n",
      "1492/1492 [==============================] - 10s 6ms/step - loss: 0.0033 - recall: 0.7444 - val_loss: 0.0031 - val_recall: 0.8103\n",
      "Epoch 4/100\n",
      "1492/1492 [==============================] - 9s 6ms/step - loss: 0.0032 - recall: 0.7700 - val_loss: 0.0026 - val_recall: 0.7759\n",
      "Epoch 5/100\n",
      "1492/1492 [==============================] - 12s 8ms/step - loss: 0.0031 - recall: 0.7636 - val_loss: 0.0026 - val_recall: 0.8103\n",
      "Epoch 6/100\n",
      "1492/1492 [==============================] - 10s 7ms/step - loss: 0.0029 - recall: 0.7827 - val_loss: 0.0031 - val_recall: 0.8103\n",
      "Epoch 7/100\n",
      "1492/1492 [==============================] - 9s 6ms/step - loss: 0.0029 - recall: 0.7636 - val_loss: 0.0026 - val_recall: 0.8103\n",
      "Epoch 8/100\n",
      "1492/1492 [==============================] - 9s 6ms/step - loss: 0.0028 - recall: 0.7827 - val_loss: 0.0027 - val_recall: 0.8103\n",
      "Epoch 9/100\n",
      "1492/1492 [==============================] - 10s 7ms/step - loss: 0.0028 - recall: 0.7827 - val_loss: 0.0027 - val_recall: 0.8966\n",
      "Epoch 10/100\n",
      "1492/1492 [==============================] - 14s 9ms/step - loss: 0.0027 - recall: 0.7827 - val_loss: 0.0029 - val_recall: 0.8103\n",
      "Epoch 11/100\n",
      "1492/1492 [==============================] - 9s 6ms/step - loss: 0.0026 - recall: 0.7796 - val_loss: 0.0028 - val_recall: 0.7586\n",
      "Epoch 12/100\n",
      "1492/1492 [==============================] - 8s 6ms/step - loss: 0.0027 - recall: 0.7732 - val_loss: 0.0026 - val_recall: 0.8103\n",
      "Epoch 13/100\n",
      "1492/1492 [==============================] - 8s 6ms/step - loss: 0.0026 - recall: 0.7796 - val_loss: 0.0030 - val_recall: 0.8103\n",
      "Epoch 14/100\n",
      "1492/1492 [==============================] - 9s 6ms/step - loss: 0.0025 - recall: 0.8051 - val_loss: 0.0027 - val_recall: 0.7759\n",
      "Epoch 15/100\n",
      "1492/1492 [==============================] - 9s 6ms/step - loss: 0.0024 - recall: 0.7891 - val_loss: 0.0026 - val_recall: 0.8103\n",
      "Epoch 16/100\n",
      "1492/1492 [==============================] - 11s 8ms/step - loss: 0.0024 - recall: 0.7859 - val_loss: 0.0026 - val_recall: 0.7931\n",
      "Epoch 17/100\n",
      "1492/1492 [==============================] - 9s 6ms/step - loss: 0.0024 - recall: 0.7764 - val_loss: 0.0026 - val_recall: 0.8103\n",
      "Epoch 18/100\n",
      "1492/1492 [==============================] - 9s 6ms/step - loss: 0.0023 - recall: 0.7796 - val_loss: 0.0029 - val_recall: 0.8966\n",
      "Epoch 19/100\n",
      "1492/1492 [==============================] - 8s 6ms/step - loss: 0.0023 - recall: 0.7923 - val_loss: 0.0025 - val_recall: 0.8276\n",
      "Epoch 20/100\n",
      "1492/1492 [==============================] - 9s 6ms/step - loss: 0.0023 - recall: 0.8051 - val_loss: 0.0026 - val_recall: 0.8103\n",
      "Epoch 21/100\n",
      "1492/1492 [==============================] - 9s 6ms/step - loss: 0.0022 - recall: 0.7859 - val_loss: 0.0029 - val_recall: 0.7241\n",
      "Epoch 22/100\n",
      "1492/1492 [==============================] - 10s 6ms/step - loss: 0.0022 - recall: 0.7827 - val_loss: 0.0027 - val_recall: 0.8276\n",
      "Epoch 23/100\n",
      "1492/1492 [==============================] - 8s 6ms/step - loss: 0.0021 - recall: 0.7987 - val_loss: 0.0028 - val_recall: 0.8276\n",
      "Epoch 24/100\n",
      "1492/1492 [==============================] - 9s 6ms/step - loss: 0.0021 - recall: 0.7955 - val_loss: 0.0028 - val_recall: 0.8103\n",
      "Epoch 25/100\n",
      "1492/1492 [==============================] - 8s 6ms/step - loss: 0.0021 - recall: 0.7955 - val_loss: 0.0028 - val_recall: 0.6724\n",
      "Epoch 26/100\n",
      "1492/1492 [==============================] - 9s 6ms/step - loss: 0.0020 - recall: 0.7987 - val_loss: 0.0028 - val_recall: 0.8448\n",
      "Epoch 27/100\n",
      "1492/1492 [==============================] - 9s 6ms/step - loss: 0.0019 - recall: 0.8051 - val_loss: 0.0030 - val_recall: 0.8793\n",
      "Epoch 28/100\n",
      "1492/1492 [==============================] - 9s 6ms/step - loss: 0.0019 - recall: 0.8179 - val_loss: 0.0030 - val_recall: 0.8276\n",
      "Epoch 29/100\n",
      "1492/1492 [==============================] - 9s 6ms/step - loss: 0.0019 - recall: 0.8115 - val_loss: 0.0033 - val_recall: 0.8448\n",
      "Epoch 30/100\n",
      "1492/1492 [==============================] - 8s 6ms/step - loss: 0.0019 - recall: 0.8147 - val_loss: 0.0036 - val_recall: 0.8276\n",
      "Epoch 31/100\n",
      "1492/1492 [==============================] - 8s 6ms/step - loss: 0.0018 - recall: 0.8115 - val_loss: 0.0030 - val_recall: 0.8621\n",
      "Epoch 32/100\n",
      "1492/1492 [==============================] - 9s 6ms/step - loss: 0.0017 - recall: 0.8083 - val_loss: 0.0031 - val_recall: 0.8793\n",
      "Epoch 33/100\n",
      "1492/1492 [==============================] - 8s 6ms/step - loss: 0.0018 - recall: 0.8243 - val_loss: 0.0036 - val_recall: 0.7931\n",
      "Epoch 34/100\n",
      "1492/1492 [==============================] - 9s 6ms/step - loss: 0.0017 - recall: 0.8275 - val_loss: 0.0036 - val_recall: 0.7931\n",
      "Epoch 35/100\n",
      "1492/1492 [==============================] - 9s 6ms/step - loss: 0.0018 - recall: 0.8179 - val_loss: 0.0028 - val_recall: 0.8793\n",
      "Epoch 36/100\n",
      "1492/1492 [==============================] - 9s 6ms/step - loss: 0.0017 - recall: 0.8179 - val_loss: 0.0034 - val_recall: 0.8103\n",
      "Epoch 37/100\n",
      "1492/1492 [==============================] - 9s 6ms/step - loss: 0.0017 - recall: 0.8307 - val_loss: 0.0033 - val_recall: 0.8448\n",
      "Epoch 38/100\n",
      "1492/1492 [==============================] - 9s 6ms/step - loss: 0.0017 - recall: 0.8275 - val_loss: 0.0035 - val_recall: 0.8621\n",
      "Epoch 39/100\n",
      "1492/1492 [==============================] - 8s 6ms/step - loss: 0.0016 - recall: 0.8339 - val_loss: 0.0034 - val_recall: 0.8448\n",
      "Epoch 40/100\n",
      "1492/1492 [==============================] - 9s 6ms/step - loss: 0.0018 - recall: 0.8211 - val_loss: 0.0043 - val_recall: 0.7759\n",
      "Epoch 41/100\n",
      "1492/1492 [==============================] - 9s 6ms/step - loss: 0.0016 - recall: 0.8147 - val_loss: 0.0032 - val_recall: 0.8621\n",
      "Epoch 42/100\n",
      "1492/1492 [==============================] - 9s 6ms/step - loss: 0.0015 - recall: 0.8435 - val_loss: 0.0032 - val_recall: 0.8621\n",
      "Epoch 43/100\n",
      "1492/1492 [==============================] - 10s 7ms/step - loss: 0.0016 - recall: 0.8339 - val_loss: 0.0034 - val_recall: 0.8793\n",
      "Epoch 44/100\n",
      "1492/1492 [==============================] - 8s 6ms/step - loss: 0.0015 - recall: 0.8562 - val_loss: 0.0038 - val_recall: 0.8793\n",
      "Epoch 45/100\n",
      "1492/1492 [==============================] - 9s 6ms/step - loss: 0.0015 - recall: 0.8466 - val_loss: 0.0042 - val_recall: 0.8103\n",
      "Epoch 46/100\n",
      "1492/1492 [==============================] - 8s 6ms/step - loss: 0.0016 - recall: 0.8275 - val_loss: 0.0034 - val_recall: 0.8621\n",
      "Epoch 47/100\n",
      "1492/1492 [==============================] - 8s 6ms/step - loss: 0.0015 - recall: 0.8339 - val_loss: 0.0038 - val_recall: 0.8103\n",
      "Epoch 48/100\n",
      "1492/1492 [==============================] - 9s 6ms/step - loss: 0.0016 - recall: 0.8435 - val_loss: 0.0038 - val_recall: 0.8276\n",
      "Epoch 49/100\n",
      "1492/1492 [==============================] - 9s 6ms/step - loss: 0.0014 - recall: 0.8498 - val_loss: 0.0032 - val_recall: 0.8621\n",
      "Epoch 50/100\n",
      "1492/1492 [==============================] - 9s 6ms/step - loss: 0.0014 - recall: 0.8498 - val_loss: 0.0032 - val_recall: 0.8448\n",
      "Epoch 51/100\n",
      "1492/1492 [==============================] - 8s 6ms/step - loss: 0.0015 - recall: 0.8403 - val_loss: 0.0033 - val_recall: 0.8621\n",
      "Epoch 52/100\n",
      "1492/1492 [==============================] - 8s 6ms/step - loss: 0.0014 - recall: 0.8530 - val_loss: 0.0036 - val_recall: 0.8276\n",
      "Epoch 53/100\n",
      "1492/1492 [==============================] - 8s 6ms/step - loss: 0.0013 - recall: 0.8594 - val_loss: 0.0043 - val_recall: 0.8448\n",
      "Epoch 54/100\n",
      "1492/1492 [==============================] - 8s 6ms/step - loss: 0.0014 - recall: 0.8466 - val_loss: 0.0035 - val_recall: 0.8793\n",
      "Epoch 55/100\n",
      "1492/1492 [==============================] - 8s 6ms/step - loss: 0.0014 - recall: 0.8530 - val_loss: 0.0033 - val_recall: 0.8793\n",
      "Epoch 56/100\n",
      "1492/1492 [==============================] - 8s 6ms/step - loss: 0.0014 - recall: 0.8562 - val_loss: 0.0039 - val_recall: 0.8621\n",
      "Epoch 57/100\n",
      "1492/1492 [==============================] - 8s 6ms/step - loss: 0.0013 - recall: 0.8626 - val_loss: 0.0039 - val_recall: 0.8621\n",
      "Epoch 58/100\n",
      "1492/1492 [==============================] - 8s 6ms/step - loss: 0.0016 - recall: 0.8498 - val_loss: 0.0038 - val_recall: 0.7931\n",
      "Epoch 59/100\n",
      "1492/1492 [==============================] - 8s 5ms/step - loss: 0.0013 - recall: 0.8626 - val_loss: 0.0038 - val_recall: 0.8621\n",
      "Epoch 59: early stopping\n"
     ]
    },
    {
     "data": {
      "text/plain": [
       "<keras.callbacks.History at 0x7f79746ca7d0>"
      ]
     },
     "execution_count": 92,
     "metadata": {},
     "output_type": "execute_result"
    }
   ],
   "source": [
    "model.fit(X_train, y_train, validation_split=0.15, batch_size=128, epochs=100, verbose=1, callbacks=[early_stop])"
   ]
  },
  {
   "cell_type": "markdown",
   "metadata": {
    "id": "InMeP9kgMuHj"
   },
   "source": [
    "***v. Prediction and Model Evaluating***"
   ]
  },
  {
   "cell_type": "code",
   "execution_count": null,
   "metadata": {
    "id": "wRi_uFjIMuHj"
   },
   "outputs": [],
   "source": [
    "loss_df = pd.DataFrame(model.history.history)\n",
    "loss_df.plot()"
   ]
  },
  {
   "cell_type": "code",
   "execution_count": null,
   "metadata": {
    "id": "bT_4bG3av-NO"
   },
   "outputs": [],
   "source": []
  },
  {
   "cell_type": "code",
   "execution_count": null,
   "metadata": {
    "colab": {
     "base_uri": "https://localhost:8080/"
    },
    "executionInfo": {
     "elapsed": 3946,
     "status": "ok",
     "timestamp": 1668167063655,
     "user": {
      "displayName": "Emre Gündoğdu",
      "userId": "08647422312878684367"
     },
     "user_tz": -180
    },
    "id": "YGY1gcMdcggK",
    "outputId": "8cbef6b3-d003-41e7-83bc-f08b2737c6d4"
   },
   "outputs": [
    {
     "name": "stdout",
     "output_type": "stream",
     "text": [
      "loss :  0.0042831567116081715\n",
      "recall :  0.8172042965888977\n"
     ]
    }
   ],
   "source": [
    "loss, recall = model.evaluate(X_test, y_test, verbose=0)\n",
    "print(\"loss : \", loss)\n",
    "print(\"recall : \", recall)"
   ]
  },
  {
   "cell_type": "code",
   "execution_count": null,
   "metadata": {
    "colab": {
     "base_uri": "https://localhost:8080/"
    },
    "executionInfo": {
     "elapsed": 3695,
     "status": "ok",
     "timestamp": 1668167074588,
     "user": {
      "displayName": "Emre Gündoğdu",
      "userId": "08647422312878684367"
     },
     "user_tz": -180
    },
    "id": "F0P-QsK8cgj4",
    "outputId": "59c81036-7ea0-4a09-bb02-2f798515730f"
   },
   "outputs": [
    {
     "name": "stdout",
     "output_type": "stream",
     "text": [
      "1755/1755 [==============================] - 3s 2ms/step\n",
      "[[56021    19]\n",
      " [   17    76]]\n",
      "              precision    recall  f1-score   support\n",
      "\n",
      "           0       1.00      1.00      1.00     56040\n",
      "           1       0.80      0.82      0.81        93\n",
      "\n",
      "    accuracy                           1.00     56133\n",
      "   macro avg       0.90      0.91      0.90     56133\n",
      "weighted avg       1.00      1.00      1.00     56133\n",
      "\n"
     ]
    }
   ],
   "source": [
    "y_pred = model.predict(X_test) > 0.5\n",
    "\n",
    "print(confusion_matrix(y_test, y_pred))\n",
    "print(classification_report(y_test, y_pred))"
   ]
  },
  {
   "cell_type": "code",
   "execution_count": null,
   "metadata": {
    "colab": {
     "base_uri": "https://localhost:8080/"
    },
    "executionInfo": {
     "elapsed": 13436,
     "status": "ok",
     "timestamp": 1668167110580,
     "user": {
      "displayName": "Emre Gündoğdu",
      "userId": "08647422312878684367"
     },
     "user_tz": -180
    },
    "id": "r2GNYFvvcgsE",
    "outputId": "9601974e-f55e-4df9-920a-61f2f5d71aee"
   },
   "outputs": [
    {
     "name": "stdout",
     "output_type": "stream",
     "text": [
      "7017/7017 [==============================] - 12s 2ms/step\n",
      "[[224117     41]\n",
      " [    40    331]]\n",
      "              precision    recall  f1-score   support\n",
      "\n",
      "           0       1.00      1.00      1.00    224158\n",
      "           1       0.89      0.89      0.89       371\n",
      "\n",
      "    accuracy                           1.00    224529\n",
      "   macro avg       0.94      0.95      0.95    224529\n",
      "weighted avg       1.00      1.00      1.00    224529\n",
      "\n"
     ]
    }
   ],
   "source": [
    "y_train_pred = model.predict(X_train) > 0.5\n",
    "\n",
    "print(confusion_matrix(y_train, y_train_pred))\n",
    "print(classification_report(y_train, y_train_pred))"
   ]
  },
  {
   "cell_type": "markdown",
   "metadata": {
    "id": "_JAEDNkjMuHj"
   },
   "source": [
    "***vi. Plot Precision and Recall Curve***"
   ]
  },
  {
   "cell_type": "code",
   "execution_count": null,
   "metadata": {
    "id": "RJWcx-kQstx5"
   },
   "outputs": [],
   "source": [
    "from sklearn.metrics import average_precision_score,precision_recall_curve,plot_precision_recall_curve"
   ]
  },
  {
   "cell_type": "code",
   "execution_count": null,
   "metadata": {
    "colab": {
     "base_uri": "https://localhost:8080/",
     "height": 421
    },
    "executionInfo": {
     "elapsed": 5548,
     "status": "ok",
     "timestamp": 1668167132251,
     "user": {
      "displayName": "Emre Gündoğdu",
      "userId": "08647422312878684367"
     },
     "user_tz": -180
    },
    "id": "ni7huXUPcuZP",
    "outputId": "8b653bcc-86be-4b06-eac8-6d9d41214c18"
   },
   "outputs": [
    {
     "name": "stdout",
     "output_type": "stream",
     "text": [
      "1755/1755 [==============================] - 4s 2ms/step\n"
     ]
    },
    {
     "data": {
      "image/png": "[encoded data removed]",
      "text/plain": [
       "<Figure size 720x432 with 1 Axes>"
      ]
     },
     "metadata": {},
     "output_type": "display_data"
    }
   ],
   "source": [
    "y_pred_proba = model.predict(X_test)\n",
    "precision, recall, thresholds = precision_recall_curve(y_test, y_pred_proba)\n",
    "plt.plot([1,0],[0,1],'k--')\n",
    "plt.plot(recall, precision)\n",
    "plt.xlabel('recall')\n",
    "plt.ylabel('precision')\n",
    "plt.title('Precision-Recall Curve')\n",
    "plt.show() "
   ]
  },
  {
   "cell_type": "code",
   "execution_count": null,
   "metadata": {
    "id": "MGa0MZyHcyeN"
   },
   "outputs": [],
   "source": [
    "average_precision_score(y_test, y_pred_proba)"
   ]
  },
  {
   "cell_type": "code",
   "execution_count": null,
   "metadata": {
    "id": "f8MpdozlwL61"
   },
   "outputs": [],
   "source": []
  },
  {
   "cell_type": "markdown",
   "metadata": {
    "id": "hvAi1Czcsu5f"
   },
   "source": [
    "***v. Apply Model Evaluation Checks***\n",
    "* link : https://docs.deepchecks.com/stable/user-guide/tabular/auto_quickstarts/plot_quick_model_evaluation.html"
   ]
  },
  {
   "cell_type": "code",
   "execution_count": null,
   "metadata": {
    "colab": {
     "base_uri": "https://localhost:8080/",
     "height": 519
    },
    "executionInfo": {
     "elapsed": 4,
     "status": "error",
     "timestamp": 1668167736606,
     "user": {
      "displayName": "Emre Gündoğdu",
      "userId": "08647422312878684367"
     },
     "user_tz": -180
    },
    "id": "c5Ra-RwJwSpE",
    "outputId": "c2f0ab6e-c16f-4b79-83fd-d93a20e9aba1"
   },
   "outputs": [
    {
     "ename": "AssertionError",
     "evalue": "ignored",
     "output_type": "error",
     "traceback": [
      "\u001b[0;31m---------------------------------------------------------------------------\u001b[0m",
      "\u001b[0;31mAssertionError\u001b[0m                            Traceback (most recent call last)",
      "\u001b[0;32m<ipython-input-109-6991313ec6b7>\u001b[0m in \u001b[0;36m<module>\u001b[0;34m\u001b[0m\n\u001b[1;32m      6\u001b[0m \u001b[0;31m# Metadata attributes are optional. Some checks will run only if specific attributes are declared.\u001b[0m\u001b[0;34m\u001b[0m\u001b[0;34m\u001b[0m\u001b[0;34m\u001b[0m\u001b[0m\n\u001b[1;32m      7\u001b[0m \u001b[0;34m\u001b[0m\u001b[0m\n\u001b[0;32m----> 8\u001b[0;31m \u001b[0mtrain_ds\u001b[0m \u001b[0;34m=\u001b[0m \u001b[0mDataset\u001b[0m\u001b[0;34m(\u001b[0m\u001b[0mX_train\u001b[0m\u001b[0;34m,\u001b[0m \u001b[0mlabel\u001b[0m\u001b[0;34m=\u001b[0m\u001b[0my_train\u001b[0m\u001b[0;34m,\u001b[0m \u001b[0mcat_features\u001b[0m\u001b[0;34m=\u001b[0m\u001b[0;34m[\u001b[0m\u001b[0;34m]\u001b[0m\u001b[0;34m)\u001b[0m\u001b[0;34m\u001b[0m\u001b[0;34m\u001b[0m\u001b[0m\n\u001b[0m\u001b[1;32m      9\u001b[0m \u001b[0mtest_ds\u001b[0m \u001b[0;34m=\u001b[0m \u001b[0mDataset\u001b[0m\u001b[0;34m(\u001b[0m\u001b[0mX_test\u001b[0m\u001b[0;34m,\u001b[0m \u001b[0mlabel\u001b[0m\u001b[0;34m=\u001b[0m\u001b[0my_test\u001b[0m\u001b[0;34m,\u001b[0m \u001b[0mcat_features\u001b[0m\u001b[0;34m=\u001b[0m\u001b[0;34m[\u001b[0m\u001b[0;34m]\u001b[0m\u001b[0;34m)\u001b[0m\u001b[0;34m\u001b[0m\u001b[0;34m\u001b[0m\u001b[0m\n",
      "\u001b[0;32m/usr/local/lib/python3.7/dist-packages/deepchecks/tabular/dataset.py\u001b[0m in \u001b[0;36m__init__\u001b[0;34m(self, df, label, features, cat_features, index_name, set_index_from_dataframe_index, datetime_name, set_datetime_from_dataframe_index, convert_datetime, datetime_args, max_categorical_ratio, max_categories, label_type, dataset_name, label_classes)\u001b[0m\n\u001b[1;32m    159\u001b[0m             \u001b[0;32mif\u001b[0m \u001b[0mlabel\u001b[0m\u001b[0;34m.\u001b[0m\u001b[0mshape\u001b[0m\u001b[0;34m[\u001b[0m\u001b[0;36m0\u001b[0m\u001b[0;34m]\u001b[0m \u001b[0;34m!=\u001b[0m \u001b[0mself\u001b[0m\u001b[0;34m.\u001b[0m\u001b[0m_data\u001b[0m\u001b[0;34m.\u001b[0m\u001b[0mshape\u001b[0m\u001b[0;34m[\u001b[0m\u001b[0;36m0\u001b[0m\u001b[0;34m]\u001b[0m\u001b[0;34m:\u001b[0m\u001b[0;34m\u001b[0m\u001b[0;34m\u001b[0m\u001b[0m\n\u001b[1;32m    160\u001b[0m                 \u001b[0;32mraise\u001b[0m \u001b[0mDeepchecksValueError\u001b[0m\u001b[0;34m(\u001b[0m\u001b[0;34m'Number of samples of label and data must be equal'\u001b[0m\u001b[0;34m)\u001b[0m\u001b[0;34m\u001b[0m\u001b[0;34m\u001b[0m\u001b[0m\n\u001b[0;32m--> 161\u001b[0;31m             \u001b[0mpd\u001b[0m\u001b[0;34m.\u001b[0m\u001b[0mtesting\u001b[0m\u001b[0;34m.\u001b[0m\u001b[0massert_index_equal\u001b[0m\u001b[0;34m(\u001b[0m\u001b[0mself\u001b[0m\u001b[0;34m.\u001b[0m\u001b[0m_data\u001b[0m\u001b[0;34m.\u001b[0m\u001b[0mindex\u001b[0m\u001b[0;34m,\u001b[0m \u001b[0mlabel\u001b[0m\u001b[0;34m.\u001b[0m\u001b[0mindex\u001b[0m\u001b[0;34m)\u001b[0m\u001b[0;34m\u001b[0m\u001b[0;34m\u001b[0m\u001b[0m\n\u001b[0m\u001b[1;32m    162\u001b[0m \u001b[0;34m\u001b[0m\u001b[0m\n\u001b[1;32m    163\u001b[0m             \u001b[0mself\u001b[0m\u001b[0;34m.\u001b[0m\u001b[0m_label_name\u001b[0m \u001b[0;34m=\u001b[0m \u001b[0mDEFAULT_LABEL_NAME\u001b[0m \u001b[0;32mif\u001b[0m \u001b[0mlabel\u001b[0m\u001b[0;34m.\u001b[0m\u001b[0mname\u001b[0m \u001b[0;32mis\u001b[0m \u001b[0;32mNone\u001b[0m \u001b[0;32mor\u001b[0m \u001b[0mlabel\u001b[0m\u001b[0;34m.\u001b[0m\u001b[0mname\u001b[0m \u001b[0;34m==\u001b[0m \u001b[0;36m0\u001b[0m \u001b[0;32melse\u001b[0m \u001b[0mlabel\u001b[0m\u001b[0;34m.\u001b[0m\u001b[0mname\u001b[0m\u001b[0;34m\u001b[0m\u001b[0;34m\u001b[0m\u001b[0m\n",
      "\u001b[0;32m/usr/local/lib/python3.7/dist-packages/pandas/_testing/asserters.py\u001b[0m in \u001b[0;36massert_index_equal\u001b[0;34m(left, right, exact, check_names, check_less_precise, check_exact, check_categorical, check_order, rtol, atol, obj)\u001b[0m\n\u001b[1;32m    405\u001b[0m             )\n\u001b[1;32m    406\u001b[0m             \u001b[0mmsg\u001b[0m \u001b[0;34m=\u001b[0m \u001b[0;34mf\"{obj} values are different ({np.round(diff, 5)} %)\"\u001b[0m\u001b[0;34m\u001b[0m\u001b[0;34m\u001b[0m\u001b[0m\n\u001b[0;32m--> 407\u001b[0;31m             \u001b[0mraise_assert_detail\u001b[0m\u001b[0;34m(\u001b[0m\u001b[0mobj\u001b[0m\u001b[0;34m,\u001b[0m \u001b[0mmsg\u001b[0m\u001b[0;34m,\u001b[0m \u001b[0mleft\u001b[0m\u001b[0;34m,\u001b[0m \u001b[0mright\u001b[0m\u001b[0;34m)\u001b[0m\u001b[0;34m\u001b[0m\u001b[0;34m\u001b[0m\u001b[0m\n\u001b[0m\u001b[1;32m    408\u001b[0m     \u001b[0;32melse\u001b[0m\u001b[0;34m:\u001b[0m\u001b[0;34m\u001b[0m\u001b[0;34m\u001b[0m\u001b[0m\n\u001b[1;32m    409\u001b[0m \u001b[0;34m\u001b[0m\u001b[0m\n",
      "\u001b[0;32m/usr/local/lib/python3.7/dist-packages/pandas/_testing/asserters.py\u001b[0m in \u001b[0;36mraise_assert_detail\u001b[0;34m(obj, message, left, right, diff, index_values)\u001b[0m\n\u001b[1;32m    663\u001b[0m         \u001b[0mmsg\u001b[0m \u001b[0;34m+=\u001b[0m \u001b[0;34mf\"\\n[diff]: {diff}\"\u001b[0m\u001b[0;34m\u001b[0m\u001b[0;34m\u001b[0m\u001b[0m\n\u001b[1;32m    664\u001b[0m \u001b[0;34m\u001b[0m\u001b[0m\n\u001b[0;32m--> 665\u001b[0;31m     \u001b[0;32mraise\u001b[0m \u001b[0mAssertionError\u001b[0m\u001b[0;34m(\u001b[0m\u001b[0mmsg\u001b[0m\u001b[0;34m)\u001b[0m\u001b[0;34m\u001b[0m\u001b[0;34m\u001b[0m\u001b[0m\n\u001b[0m\u001b[1;32m    666\u001b[0m \u001b[0;34m\u001b[0m\u001b[0m\n\u001b[1;32m    667\u001b[0m \u001b[0;34m\u001b[0m\u001b[0m\n",
      "\u001b[0;31mAssertionError\u001b[0m: Index are different\n\nIndex values are different (99.99955 %)\n[left]:  RangeIndex(start=0, stop=224529, step=1)\n[right]: Int64Index([ 15948, 255010,  14284,  93567, 188347, 148881, 220653, 117140,\n            267016, 234585,\n            ...\n            116886, 190970,  48339, 162711, 248749, 179971,  63218,  43579,\n            165581, 190409],\n           dtype='int64', length=224529)"
     ]
    }
   ],
   "source": [
    "from deepchecks.tabular import Dataset\n",
    "\n",
    "# Categorical features can be heuristically inferred, however we\n",
    "# recommend to state them explicitly to avoid misclassification.\n",
    "\n",
    "# Metadata attributes are optional. Some checks will run only if specific attributes are declared.\n",
    "\n",
    "train_ds = Dataset(X_train, label=y_train, cat_features=[])\n",
    "test_ds = Dataset(X_test, label=y_test, cat_features=[])"
   ]
  },
  {
   "cell_type": "code",
   "execution_count": null,
   "metadata": {
    "colab": {
     "base_uri": "https://localhost:8080/",
     "height": 235
    },
    "executionInfo": {
     "elapsed": 273,
     "status": "error",
     "timestamp": 1668167745781,
     "user": {
      "displayName": "Emre Gündoğdu",
      "userId": "08647422312878684367"
     },
     "user_tz": -180
    },
    "id": "3DTsHG1Ui4ho",
    "outputId": "fb2f042e-509c-4b8e-9ef3-46d216c0d94c"
   },
   "outputs": [
    {
     "ename": "NameError",
     "evalue": "ignored",
     "output_type": "error",
     "traceback": [
      "\u001b[0;31m---------------------------------------------------------------------------\u001b[0m",
      "\u001b[0;31mNameError\u001b[0m                                 Traceback (most recent call last)",
      "\u001b[0;32m<ipython-input-110-187e8e6d2dde>\u001b[0m in \u001b[0;36m<module>\u001b[0;34m\u001b[0m\n\u001b[1;32m      2\u001b[0m \u001b[0;34m\u001b[0m\u001b[0m\n\u001b[1;32m      3\u001b[0m \u001b[0mevaluation_suite\u001b[0m \u001b[0;34m=\u001b[0m \u001b[0mmodel_evaluation\u001b[0m\u001b[0;34m(\u001b[0m\u001b[0;34m)\u001b[0m\u001b[0;34m\u001b[0m\u001b[0;34m\u001b[0m\u001b[0m\n\u001b[0;32m----> 4\u001b[0;31m \u001b[0msuite_result\u001b[0m \u001b[0;34m=\u001b[0m \u001b[0mevaluation_suite\u001b[0m\u001b[0;34m.\u001b[0m\u001b[0mrun\u001b[0m\u001b[0;34m(\u001b[0m\u001b[0mtrain_ds\u001b[0m\u001b[0;34m,\u001b[0m \u001b[0mtest_ds\u001b[0m\u001b[0;34m,\u001b[0m \u001b[0mgbr\u001b[0m\u001b[0;34m)\u001b[0m\u001b[0;34m\u001b[0m\u001b[0;34m\u001b[0m\u001b[0m\n\u001b[0m\u001b[1;32m      5\u001b[0m \u001b[0;31m# Note: the result can be saved as html using suite_result.save_as_html()\u001b[0m\u001b[0;34m\u001b[0m\u001b[0;34m\u001b[0m\u001b[0;34m\u001b[0m\u001b[0m\n\u001b[1;32m      6\u001b[0m \u001b[0;31m# or exported to json using suite_result.to_json()\u001b[0m\u001b[0;34m\u001b[0m\u001b[0;34m\u001b[0m\u001b[0;34m\u001b[0m\u001b[0m\n",
      "\u001b[0;31mNameError\u001b[0m: name 'train_ds' is not defined"
     ]
    }
   ],
   "source": [
    "from deepchecks.tabular.suites import model_evaluation\n",
    "\n",
    "evaluation_suite = model_evaluation()\n",
    "suite_result = evaluation_suite.run(train_ds, test_ds, gbr)\n",
    "# Note: the result can be saved as html using suite_result.save_as_html()\n",
    "# or exported to json using suite_result.to_json()\n",
    "suite_result.show()"
   ]
  },
  {
   "cell_type": "markdown",
   "metadata": {
    "id": "LpbiGnpIxVK3"
   },
   "source": [
    "## 4. Model Deployement\n",
    "You cooked the food in the kitchen and moved on to the serving stage. The question is how do you showcase your work to others? Model Deployement helps you showcase your work to the world and make better decisions with it. But, deploying a model can get a little tricky at times. Before deploying the model, many things such as data storage, preprocessing, model building and monitoring need to be studied.\n",
    "\n",
    "Deployment of machine learning models, means making your models available to your other business systems. By deploying models, other systems can send data to them and get their predictions, which are in turn populated back into the company systems. Through machine learning model deployment, can begin to take full advantage of the model you built.\n",
    "\n",
    "Data science is concerned with how to build machine learning models, which algorithm is more predictive, how to design features, and what variables to use to make the models more accurate. However, how these models are actually used is often neglected. And yet this is the most important step in the machine learning pipline. Only when a model is fully integrated with the business systems, real values ​​can be extract from its predictions.\n",
    "\n",
    "After doing the following operations in this notebook, jump to a proper IDE and create your web app with Streamlit API."
   ]
  },
  {
   "cell_type": "markdown",
   "metadata": {
    "id": "oCAYcMLEH_7P"
   },
   "source": [
    "### Save and Export the Best Model\n"
   ]
  },
  {
   "cell_type": "code",
   "execution_count": null,
   "metadata": {
    "id": "MqluJ9yvIOex"
   },
   "outputs": [],
   "source": []
  },
  {
   "cell_type": "markdown",
   "metadata": {
    "id": "vaZP1N93IPQi"
   },
   "source": [
    "### Save and Export Variables"
   ]
  },
  {
   "cell_type": "code",
   "execution_count": null,
   "metadata": {
    "id": "q_vA-dJWxfFH"
   },
   "outputs": [],
   "source": []
  },
  {
   "cell_type": "markdown",
   "metadata": {
    "id": "cm9Z__Y7MuHj"
   },
   "source": [
    "___\n",
    "\n",
    "<p style=\"text-align: center;\"><img src=\"https://docs.google.com/uc?id=1lY0Uj5R04yMY3-ZppPWxqCr5pvBLYPnV\" class=\"img-fluid\" alt=\"CLRSWY\"></p>\n",
    "\n",
    "___"
   ]
  }
 ],
 "metadata": {
  "accelerator": "GPU",
  "colab": {
   "collapsed_sections": [],
   "machine_shape": "hm",
   "provenance": [
    {
     "file_id": "11Zf3A_EEtKgiWkiP3SRScray7yHf-23C",
     "timestamp": 1668022389859
    }
   ],
   "toc_visible": true
  },
  "gpuClass": "premium",
  "kernelspec": {
   "display_name": "Python 3 (ipykernel)",
   "language": "python",
   "name": "python3"
  },
  "language_info": {
   "codemirror_mode": {
    "name": "ipython",
    "version": 3
   },
   "file_extension": ".py",
   "mimetype": "text/x-python",
   "name": "python",
   "nbconvert_exporter": "python",
   "pygments_lexer": "ipython3",
   "version": "3.9.12"
  },
  "toc": {
   "base_numbering": 1,
   "nav_menu": {},
   "number_sections": true,
   "sideBar": true,
   "skip_h1_title": false,
   "title_cell": "Table of Contents",
   "title_sidebar": "Contents",
   "toc_cell": false,
   "toc_position": {},
   "toc_section_display": true,
   "toc_window_display": false
  },
  "varInspector": {
   "cols": {
    "lenName": 16,
    "lenType": 16,
    "lenVar": 40
   },
   "kernels_config": {
    "python": {
     "delete_cmd_postfix": "",
     "delete_cmd_prefix": "del ",
     "library": "var_list.py",
     "varRefreshCmd": "print(var_dic_list())"
    },
    "r": {
     "delete_cmd_postfix": ") ",
     "delete_cmd_prefix": "rm(",
     "library": "var_list.r",
     "varRefreshCmd": "cat(var_dic_list()) "
    }
   },
   "types_to_exclude": [
    "module",
    "function",
    "builtin_function_or_method",
    "instance",
    "_Feature"
   ],
   "window_display": false
  },
  "vscode": {
   "interpreter": {
    "hash": "b91502e98c93ec413571a3c4a71c4e7e2f090119475bdef759aa0802c5125d05"
   }
  }
 },
 "nbformat": 4,
 "nbformat_minor": 1
}
